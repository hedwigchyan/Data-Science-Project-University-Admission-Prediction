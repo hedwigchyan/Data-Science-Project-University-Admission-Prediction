{
 "cells": [
  {
   "cell_type": "code",
   "execution_count": 1,
   "id": "9a9b685a-e378-4ab1-85f1-b17bfd6db4ea",
   "metadata": {},
   "outputs": [
    {
     "name": "stdout",
     "output_type": "stream",
     "text": [
      "Requirement already satisfied: pip in d:\\tools\\anaconda3\\lib\\site-packages (22.2.2)\n",
      "Note: you may need to restart the kernel to use updated packages.\n"
     ]
    }
   ],
   "source": [
    "pip install --upgrade pip"
   ]
  },
  {
   "cell_type": "code",
   "execution_count": 2,
   "id": "d44780c0-5bfe-4b02-9ea7-f8e1cb5e988c",
   "metadata": {},
   "outputs": [
    {
     "name": "stdout",
     "output_type": "stream",
     "text": [
      "Collecting imblearn\n",
      "  Using cached imblearn-0.0-py2.py3-none-any.whl (1.9 kB)\n",
      "Collecting imbalanced-learn\n",
      "  Using cached imbalanced_learn-0.9.1-py3-none-any.whl (199 kB)\n",
      "Requirement already satisfied: joblib>=1.0.0 in d:\\tools\\anaconda3\\lib\\site-packages (from imbalanced-learn->imblearn) (1.0.1)\n",
      "Requirement already satisfied: numpy>=1.17.3 in d:\\tools\\anaconda3\\lib\\site-packages (from imbalanced-learn->imblearn) (1.20.1)\n",
      "Requirement already satisfied: scipy>=1.3.2 in d:\\tools\\anaconda3\\lib\\site-packages (from imbalanced-learn->imblearn) (1.6.2)\n",
      "Requirement already satisfied: threadpoolctl>=2.0.0 in d:\\tools\\anaconda3\\lib\\site-packages (from imbalanced-learn->imblearn) (2.1.0)\n",
      "Requirement already satisfied: scikit-learn>=1.1.0 in d:\\tools\\anaconda3\\lib\\site-packages (from imbalanced-learn->imblearn) (1.1.2)\n",
      "Installing collected packages: imbalanced-learn, imblearn\n",
      "Successfully installed imbalanced-learn-0.9.1 imblearn-0.0\n",
      "Note: you may need to restart the kernel to use updated packages.\n"
     ]
    }
   ],
   "source": [
    "pip install imblearn"
   ]
  },
  {
   "cell_type": "code",
   "execution_count": null,
   "id": "0ab0761d-b173-4cd4-9343-aeca963ddf58",
   "metadata": {},
   "outputs": [],
   "source": []
  },
  {
   "cell_type": "markdown",
   "id": "3cfeaf46-4544-43a9-bb55-bcaf69af3203",
   "metadata": {},
   "source": [
    "## This Notebook is for the research question 1: Predict whether the offer holders decide to enroll at the school\n",
    "### 0. Import the library and read the dataframe"
   ]
  },
  {
   "cell_type": "code",
   "execution_count": 1,
   "id": "0c27a4b3-a1a7-430f-8bbd-17f7d4044de8",
   "metadata": {},
   "outputs": [],
   "source": [
    "import pandas as pd\n",
    "import numpy as np\n",
    "import matplotlib.pyplot as plt\n",
    "import seaborn as sns\n",
    "import sklearn\n",
    "import datetime\n",
    "import imblearn\n",
    "from sklearn.preprocessing import scale\n",
    "from sklearn.preprocessing import OneHotEncoder\n",
    "from sklearn.preprocessing import OrdinalEncoder\n",
    "from sklearn.svm import SVC\n",
    "from sklearn.model_selection import StratifiedKFold\n",
    "from sklearn.datasets import make_classification\n",
    "pd.set_option('display.max_columns', 300) # allow us read the full picture of dataframe\n",
    "pd.set_option('display.max_rows', 300) # allow us read the full picture of dataframe"
   ]
  },
  {
   "cell_type": "code",
   "execution_count": 2,
   "id": "25154c6c-bc74-4b6a-8993-6fbff8cdb169",
   "metadata": {},
   "outputs": [
    {
     "data": {
      "text/html": [
       "<div>\n",
       "<style scoped>\n",
       "    .dataframe tbody tr th:only-of-type {\n",
       "        vertical-align: middle;\n",
       "    }\n",
       "\n",
       "    .dataframe tbody tr th {\n",
       "        vertical-align: top;\n",
       "    }\n",
       "\n",
       "    .dataframe thead th {\n",
       "        text-align: right;\n",
       "    }\n",
       "</style>\n",
       "<table border=\"1\" class=\"dataframe\">\n",
       "  <thead>\n",
       "    <tr style=\"text-align: right;\">\n",
       "      <th></th>\n",
       "      <th>Department</th>\n",
       "      <th>Applicant ID</th>\n",
       "      <th>City - Address line 4</th>\n",
       "      <th>Programme</th>\n",
       "      <th>Latest Decision</th>\n",
       "      <th>Latest Decision Date</th>\n",
       "      <th>Country of Birth</th>\n",
       "      <th>Domicile</th>\n",
       "      <th>Nationality</th>\n",
       "      <th>Country of Institution</th>\n",
       "      <th>Grade on application</th>\n",
       "      <th>uob_alum</th>\n",
       "      <th>home_oversea</th>\n",
       "      <th>master_prev</th>\n",
       "      <th>distance</th>\n",
       "      <th>Institution</th>\n",
       "      <th>Institution_app_num</th>\n",
       "      <th>Fee Status</th>\n",
       "      <th>School</th>\n",
       "      <th>A1 Created date</th>\n",
       "      <th>A1 Updated date</th>\n",
       "      <th>A2 Created date</th>\n",
       "      <th>Decision Date</th>\n",
       "      <th>Response Date</th>\n",
       "      <th>Days at Admissions Review</th>\n",
       "      <th>Days in School</th>\n",
       "      <th>Days at Decision Stage</th>\n",
       "      <th>Total Days Admissions</th>\n",
       "      <th>TOTAL Days</th>\n",
       "      <th>Response days</th>\n",
       "      <th>decision_since_Sep01</th>\n",
       "      <th>A1C_since_Sep01</th>\n",
       "      <th>A1U_since_Sep01</th>\n",
       "      <th>A2C_since_Sep01</th>\n",
       "      <th>Response_since_Sep01</th>\n",
       "      <th>funding</th>\n",
       "      <th>Decision_C</th>\n",
       "      <th>Decision_R</th>\n",
       "      <th>Decision_U</th>\n",
       "      <th>Status</th>\n",
       "      <th>Qual_Name</th>\n",
       "      <th>Ielts_Overall</th>\n",
       "      <th>Ielts_Listening</th>\n",
       "      <th>Ielts_Reading</th>\n",
       "      <th>Ielts_Writing</th>\n",
       "      <th>Ielts_Speaking</th>\n",
       "      <th>Toefl_Overall</th>\n",
       "      <th>Toefl_Listening</th>\n",
       "      <th>Toefl_Reading</th>\n",
       "      <th>Toefl_Writing</th>\n",
       "      <th>Toefl_Speaking</th>\n",
       "      <th>PTE_Overall</th>\n",
       "      <th>PTE_Listening</th>\n",
       "      <th>PTE_Reading</th>\n",
       "      <th>PTE_Writing</th>\n",
       "      <th>PTE_Speaking</th>\n",
       "      <th>eng_type</th>\n",
       "      <th>multi_app</th>\n",
       "      <th>Prog Code</th>\n",
       "      <th>Prog Desc</th>\n",
       "      <th>Date Started</th>\n",
       "      <th>offered</th>\n",
       "      <th>offer_num</th>\n",
       "      <th>accepted</th>\n",
       "      <th>Institution_offer_num</th>\n",
       "      <th>Insti_weight</th>\n",
       "    </tr>\n",
       "  </thead>\n",
       "  <tbody>\n",
       "    <tr>\n",
       "      <th>0</th>\n",
       "      <td>COMPUTER SCI</td>\n",
       "      <td>2305538</td>\n",
       "      <td>BENGALURU</td>\n",
       "      <td>MSc Computer Science FT</td>\n",
       "      <td>Conditional Offer - waiting for response</td>\n",
       "      <td>2021-02-25</td>\n",
       "      <td>NaN</td>\n",
       "      <td>NaN</td>\n",
       "      <td>NaN</td>\n",
       "      <td>IndiaIndia</td>\n",
       "      <td>8.4</td>\n",
       "      <td>0</td>\n",
       "      <td>1</td>\n",
       "      <td>0</td>\n",
       "      <td>8000.0</td>\n",
       "      <td>PES University</td>\n",
       "      <td>12.0</td>\n",
       "      <td>O</td>\n",
       "      <td>Computer Science</td>\n",
       "      <td>2020-11-30</td>\n",
       "      <td>2021-01-28</td>\n",
       "      <td>2021-02-05</td>\n",
       "      <td>2021-02-25</td>\n",
       "      <td>NaT</td>\n",
       "      <td>59.0</td>\n",
       "      <td>8.0</td>\n",
       "      <td>20.0</td>\n",
       "      <td>79.0</td>\n",
       "      <td>87.0</td>\n",
       "      <td>0.0</td>\n",
       "      <td>177.0</td>\n",
       "      <td>90.0</td>\n",
       "      <td>149.0</td>\n",
       "      <td>157.0</td>\n",
       "      <td>0.0</td>\n",
       "      <td>0.0</td>\n",
       "      <td>1.0</td>\n",
       "      <td>0.0</td>\n",
       "      <td>0.0</td>\n",
       "      <td>Active</td>\n",
       "      <td>NaN</td>\n",
       "      <td>0.0</td>\n",
       "      <td>0.0</td>\n",
       "      <td>0.0</td>\n",
       "      <td>0.0</td>\n",
       "      <td>0.0</td>\n",
       "      <td>0.0</td>\n",
       "      <td>0.0</td>\n",
       "      <td>0.0</td>\n",
       "      <td>0.0</td>\n",
       "      <td>0.0</td>\n",
       "      <td>0.0</td>\n",
       "      <td>0.0</td>\n",
       "      <td>0.0</td>\n",
       "      <td>0.0</td>\n",
       "      <td>0.0</td>\n",
       "      <td>0</td>\n",
       "      <td>1</td>\n",
       "      <td>NaN</td>\n",
       "      <td>NaN</td>\n",
       "      <td>NaN</td>\n",
       "      <td>1</td>\n",
       "      <td>1.0</td>\n",
       "      <td>0</td>\n",
       "      <td>9.0</td>\n",
       "      <td>0.750000</td>\n",
       "    </tr>\n",
       "    <tr>\n",
       "      <th>1</th>\n",
       "      <td>BUSINESS</td>\n",
       "      <td>2376697</td>\n",
       "      <td>KHAJRANA INDORE</td>\n",
       "      <td>MSc Adv Eng Man (Constr Man)FT</td>\n",
       "      <td>Conditional Offer - waiting for response</td>\n",
       "      <td>2021-06-10</td>\n",
       "      <td>India</td>\n",
       "      <td>India</td>\n",
       "      <td>India</td>\n",
       "      <td>IndiaIndia</td>\n",
       "      <td>7.42 CGPA</td>\n",
       "      <td>0</td>\n",
       "      <td>1</td>\n",
       "      <td>0</td>\n",
       "      <td>8000.0</td>\n",
       "      <td>ACROPOLIS INSTITUTE OF TECHNOLOGY &amp; RESEARCH</td>\n",
       "      <td>1.0</td>\n",
       "      <td>O</td>\n",
       "      <td>Business School</td>\n",
       "      <td>2021-05-24</td>\n",
       "      <td>2021-06-10</td>\n",
       "      <td>2021-02-05</td>\n",
       "      <td>2021-06-10</td>\n",
       "      <td>NaT</td>\n",
       "      <td>17.0</td>\n",
       "      <td>0.0</td>\n",
       "      <td>0.0</td>\n",
       "      <td>17.0</td>\n",
       "      <td>17.0</td>\n",
       "      <td>0.0</td>\n",
       "      <td>282.0</td>\n",
       "      <td>265.0</td>\n",
       "      <td>282.0</td>\n",
       "      <td>0.0</td>\n",
       "      <td>0.0</td>\n",
       "      <td>0.0</td>\n",
       "      <td>1.0</td>\n",
       "      <td>0.0</td>\n",
       "      <td>0.0</td>\n",
       "      <td>Active</td>\n",
       "      <td>IELTS (International English Language Testing ...</td>\n",
       "      <td>8.0</td>\n",
       "      <td>8.0</td>\n",
       "      <td>9.0</td>\n",
       "      <td>6.5</td>\n",
       "      <td>7.5</td>\n",
       "      <td>0.0</td>\n",
       "      <td>0.0</td>\n",
       "      <td>0.0</td>\n",
       "      <td>0.0</td>\n",
       "      <td>0.0</td>\n",
       "      <td>0.0</td>\n",
       "      <td>0.0</td>\n",
       "      <td>0.0</td>\n",
       "      <td>0.0</td>\n",
       "      <td>0.0</td>\n",
       "      <td>1</td>\n",
       "      <td>1</td>\n",
       "      <td>NaN</td>\n",
       "      <td>NaN</td>\n",
       "      <td>NaN</td>\n",
       "      <td>1</td>\n",
       "      <td>1.0</td>\n",
       "      <td>0</td>\n",
       "      <td>1.0</td>\n",
       "      <td>1.000000</td>\n",
       "    </tr>\n",
       "    <tr>\n",
       "      <th>3</th>\n",
       "      <td>EEC ENG</td>\n",
       "      <td>2263436</td>\n",
       "      <td>CHANGCHUN CITY</td>\n",
       "      <td>MSc Elec + Computer Eng FT</td>\n",
       "      <td>Withdrawn</td>\n",
       "      <td>2020-11-06</td>\n",
       "      <td>China</td>\n",
       "      <td>China</td>\n",
       "      <td>China</td>\n",
       "      <td>China</td>\n",
       "      <td>79.13%</td>\n",
       "      <td>0</td>\n",
       "      <td>1</td>\n",
       "      <td>0</td>\n",
       "      <td>8000.0</td>\n",
       "      <td>Guizhou University</td>\n",
       "      <td>5.0</td>\n",
       "      <td>O</td>\n",
       "      <td>Elec Elec and System Eng;Elec Elec and Sys Eng...</td>\n",
       "      <td>2020-10-06</td>\n",
       "      <td>2020-11-06</td>\n",
       "      <td>2021-02-05</td>\n",
       "      <td>2020-11-06</td>\n",
       "      <td>2006-11-20</td>\n",
       "      <td>31.0</td>\n",
       "      <td>0.0</td>\n",
       "      <td>0.0</td>\n",
       "      <td>31.0</td>\n",
       "      <td>31.0</td>\n",
       "      <td>0.0</td>\n",
       "      <td>66.0</td>\n",
       "      <td>35.0</td>\n",
       "      <td>66.0</td>\n",
       "      <td>0.0</td>\n",
       "      <td>66.0</td>\n",
       "      <td>0.0</td>\n",
       "      <td>1.0</td>\n",
       "      <td>0.0</td>\n",
       "      <td>0.0</td>\n",
       "      <td>Withdrawn</td>\n",
       "      <td>NaN</td>\n",
       "      <td>0.0</td>\n",
       "      <td>0.0</td>\n",
       "      <td>0.0</td>\n",
       "      <td>0.0</td>\n",
       "      <td>0.0</td>\n",
       "      <td>0.0</td>\n",
       "      <td>0.0</td>\n",
       "      <td>0.0</td>\n",
       "      <td>0.0</td>\n",
       "      <td>0.0</td>\n",
       "      <td>0.0</td>\n",
       "      <td>0.0</td>\n",
       "      <td>0.0</td>\n",
       "      <td>0.0</td>\n",
       "      <td>0.0</td>\n",
       "      <td>0</td>\n",
       "      <td>1</td>\n",
       "      <td>NaN</td>\n",
       "      <td>NaN</td>\n",
       "      <td>NaN</td>\n",
       "      <td>1</td>\n",
       "      <td>1.0</td>\n",
       "      <td>0</td>\n",
       "      <td>5.0</td>\n",
       "      <td>1.000000</td>\n",
       "    </tr>\n",
       "    <tr>\n",
       "      <th>4</th>\n",
       "      <td>COMPUTER SCI</td>\n",
       "      <td>2295129</td>\n",
       "      <td>WEIHAI, SHANDONG</td>\n",
       "      <td>MSc Artific Int &amp; Mach Lear FT</td>\n",
       "      <td>Conditional Offer - waiting for response</td>\n",
       "      <td>2021-03-18</td>\n",
       "      <td>China</td>\n",
       "      <td>China</td>\n",
       "      <td>China</td>\n",
       "      <td>ChinaChina</td>\n",
       "      <td></td>\n",
       "      <td>0</td>\n",
       "      <td>1</td>\n",
       "      <td>0</td>\n",
       "      <td>8000.0</td>\n",
       "      <td>Shandong University</td>\n",
       "      <td>9.0</td>\n",
       "      <td>O</td>\n",
       "      <td>Computer Science</td>\n",
       "      <td>2020-11-16</td>\n",
       "      <td>2021-02-15</td>\n",
       "      <td>2021-02-15</td>\n",
       "      <td>2021-03-18</td>\n",
       "      <td>2006-11-20</td>\n",
       "      <td>91.0</td>\n",
       "      <td>0.0</td>\n",
       "      <td>31.0</td>\n",
       "      <td>122.0</td>\n",
       "      <td>122.0</td>\n",
       "      <td>0.0</td>\n",
       "      <td>198.0</td>\n",
       "      <td>76.0</td>\n",
       "      <td>167.0</td>\n",
       "      <td>167.0</td>\n",
       "      <td>0.0</td>\n",
       "      <td>0.0</td>\n",
       "      <td>1.0</td>\n",
       "      <td>0.0</td>\n",
       "      <td>0.0</td>\n",
       "      <td>Active</td>\n",
       "      <td>NaN</td>\n",
       "      <td>0.0</td>\n",
       "      <td>0.0</td>\n",
       "      <td>0.0</td>\n",
       "      <td>0.0</td>\n",
       "      <td>0.0</td>\n",
       "      <td>0.0</td>\n",
       "      <td>0.0</td>\n",
       "      <td>0.0</td>\n",
       "      <td>0.0</td>\n",
       "      <td>0.0</td>\n",
       "      <td>0.0</td>\n",
       "      <td>0.0</td>\n",
       "      <td>0.0</td>\n",
       "      <td>0.0</td>\n",
       "      <td>0.0</td>\n",
       "      <td>0</td>\n",
       "      <td>2</td>\n",
       "      <td>NaN</td>\n",
       "      <td>NaN</td>\n",
       "      <td>NaN</td>\n",
       "      <td>1</td>\n",
       "      <td>2.0</td>\n",
       "      <td>0</td>\n",
       "      <td>4.0</td>\n",
       "      <td>0.444444</td>\n",
       "    </tr>\n",
       "    <tr>\n",
       "      <th>5</th>\n",
       "      <td>COMPUTER SCI</td>\n",
       "      <td>2295129</td>\n",
       "      <td>WEIHAI, SHANDONG</td>\n",
       "      <td>MSc Computer Science FT</td>\n",
       "      <td>Withdrawn</td>\n",
       "      <td>NaT</td>\n",
       "      <td>China</td>\n",
       "      <td>China</td>\n",
       "      <td>China</td>\n",
       "      <td>ChinaChina</td>\n",
       "      <td></td>\n",
       "      <td>0</td>\n",
       "      <td>1</td>\n",
       "      <td>0</td>\n",
       "      <td>8000.0</td>\n",
       "      <td>Shandong University</td>\n",
       "      <td>9.0</td>\n",
       "      <td>O</td>\n",
       "      <td>Computer Science</td>\n",
       "      <td>2020-11-16</td>\n",
       "      <td>2021-01-27</td>\n",
       "      <td>2021-02-17</td>\n",
       "      <td>2021-03-18</td>\n",
       "      <td>2006-11-20</td>\n",
       "      <td>72.0</td>\n",
       "      <td>21.0</td>\n",
       "      <td>29.0</td>\n",
       "      <td>101.0</td>\n",
       "      <td>122.0</td>\n",
       "      <td>0.0</td>\n",
       "      <td>0.0</td>\n",
       "      <td>76.0</td>\n",
       "      <td>148.0</td>\n",
       "      <td>169.0</td>\n",
       "      <td>0.0</td>\n",
       "      <td>0.0</td>\n",
       "      <td>1.0</td>\n",
       "      <td>0.0</td>\n",
       "      <td>0.0</td>\n",
       "      <td>Withdrawn</td>\n",
       "      <td>NaN</td>\n",
       "      <td>0.0</td>\n",
       "      <td>0.0</td>\n",
       "      <td>0.0</td>\n",
       "      <td>0.0</td>\n",
       "      <td>0.0</td>\n",
       "      <td>0.0</td>\n",
       "      <td>0.0</td>\n",
       "      <td>0.0</td>\n",
       "      <td>0.0</td>\n",
       "      <td>0.0</td>\n",
       "      <td>0.0</td>\n",
       "      <td>0.0</td>\n",
       "      <td>0.0</td>\n",
       "      <td>0.0</td>\n",
       "      <td>0.0</td>\n",
       "      <td>0</td>\n",
       "      <td>2</td>\n",
       "      <td>NaN</td>\n",
       "      <td>NaN</td>\n",
       "      <td>NaN</td>\n",
       "      <td>1</td>\n",
       "      <td>2.0</td>\n",
       "      <td>0</td>\n",
       "      <td>4.0</td>\n",
       "      <td>0.444444</td>\n",
       "    </tr>\n",
       "  </tbody>\n",
       "</table>\n",
       "</div>"
      ],
      "text/plain": [
       "     Department  Applicant ID City - Address line 4  \\\n",
       "0  COMPUTER SCI       2305538             BENGALURU   \n",
       "1      BUSINESS       2376697       KHAJRANA INDORE   \n",
       "3       EEC ENG       2263436        CHANGCHUN CITY   \n",
       "4  COMPUTER SCI       2295129      WEIHAI, SHANDONG   \n",
       "5  COMPUTER SCI       2295129      WEIHAI, SHANDONG   \n",
       "\n",
       "                        Programme                           Latest Decision  \\\n",
       "0         MSc Computer Science FT  Conditional Offer - waiting for response   \n",
       "1  MSc Adv Eng Man (Constr Man)FT  Conditional Offer - waiting for response   \n",
       "3      MSc Elec + Computer Eng FT                                 Withdrawn   \n",
       "4  MSc Artific Int & Mach Lear FT  Conditional Offer - waiting for response   \n",
       "5         MSc Computer Science FT                                 Withdrawn   \n",
       "\n",
       "  Latest Decision Date Country of Birth Domicile Nationality  \\\n",
       "0           2021-02-25              NaN      NaN         NaN   \n",
       "1           2021-06-10            India    India       India   \n",
       "3           2020-11-06            China    China       China   \n",
       "4           2021-03-18            China    China       China   \n",
       "5                  NaT            China    China       China   \n",
       "\n",
       "  Country of Institution Grade on application  uob_alum  home_oversea  \\\n",
       "0             IndiaIndia                  8.4         0             1   \n",
       "1             IndiaIndia           7.42 CGPA          0             1   \n",
       "3                  China               79.13%         0             1   \n",
       "4             ChinaChina                              0             1   \n",
       "5             ChinaChina                              0             1   \n",
       "\n",
       "   master_prev  distance                                   Institution  \\\n",
       "0            0    8000.0                                PES University   \n",
       "1            0    8000.0  ACROPOLIS INSTITUTE OF TECHNOLOGY & RESEARCH   \n",
       "3            0    8000.0                            Guizhou University   \n",
       "4            0    8000.0                          Shandong University    \n",
       "5            0    8000.0                          Shandong University    \n",
       "\n",
       "   Institution_app_num Fee Status  \\\n",
       "0                 12.0          O   \n",
       "1                  1.0          O   \n",
       "3                  5.0          O   \n",
       "4                  9.0          O   \n",
       "5                  9.0          O   \n",
       "\n",
       "                                              School A1 Created date  \\\n",
       "0                                   Computer Science      2020-11-30   \n",
       "1                                    Business School      2021-05-24   \n",
       "3  Elec Elec and System Eng;Elec Elec and Sys Eng...      2020-10-06   \n",
       "4                                   Computer Science      2020-11-16   \n",
       "5                                   Computer Science      2020-11-16   \n",
       "\n",
       "  A1 Updated date A2 Created date Decision Date Response Date  \\\n",
       "0      2021-01-28      2021-02-05    2021-02-25           NaT   \n",
       "1      2021-06-10      2021-02-05    2021-06-10           NaT   \n",
       "3      2020-11-06      2021-02-05    2020-11-06    2006-11-20   \n",
       "4      2021-02-15      2021-02-15    2021-03-18    2006-11-20   \n",
       "5      2021-01-27      2021-02-17    2021-03-18    2006-11-20   \n",
       "\n",
       "   Days at Admissions Review  Days in School  Days at Decision Stage  \\\n",
       "0                       59.0             8.0                    20.0   \n",
       "1                       17.0             0.0                     0.0   \n",
       "3                       31.0             0.0                     0.0   \n",
       "4                       91.0             0.0                    31.0   \n",
       "5                       72.0            21.0                    29.0   \n",
       "\n",
       "   Total Days Admissions  TOTAL Days  Response days  decision_since_Sep01  \\\n",
       "0                   79.0        87.0            0.0                 177.0   \n",
       "1                   17.0        17.0            0.0                 282.0   \n",
       "3                   31.0        31.0            0.0                  66.0   \n",
       "4                  122.0       122.0            0.0                 198.0   \n",
       "5                  101.0       122.0            0.0                   0.0   \n",
       "\n",
       "   A1C_since_Sep01  A1U_since_Sep01  A2C_since_Sep01  Response_since_Sep01  \\\n",
       "0             90.0            149.0            157.0                   0.0   \n",
       "1            265.0            282.0              0.0                   0.0   \n",
       "3             35.0             66.0              0.0                  66.0   \n",
       "4             76.0            167.0            167.0                   0.0   \n",
       "5             76.0            148.0            169.0                   0.0   \n",
       "\n",
       "   funding  Decision_C  Decision_R  Decision_U     Status  \\\n",
       "0      0.0         1.0         0.0         0.0     Active   \n",
       "1      0.0         1.0         0.0         0.0     Active   \n",
       "3      0.0         1.0         0.0         0.0  Withdrawn   \n",
       "4      0.0         1.0         0.0         0.0     Active   \n",
       "5      0.0         1.0         0.0         0.0  Withdrawn   \n",
       "\n",
       "                                           Qual_Name  Ielts_Overall  \\\n",
       "0                                                NaN            0.0   \n",
       "1  IELTS (International English Language Testing ...            8.0   \n",
       "3                                                NaN            0.0   \n",
       "4                                                NaN            0.0   \n",
       "5                                                NaN            0.0   \n",
       "\n",
       "   Ielts_Listening  Ielts_Reading  Ielts_Writing  Ielts_Speaking  \\\n",
       "0              0.0            0.0            0.0             0.0   \n",
       "1              8.0            9.0            6.5             7.5   \n",
       "3              0.0            0.0            0.0             0.0   \n",
       "4              0.0            0.0            0.0             0.0   \n",
       "5              0.0            0.0            0.0             0.0   \n",
       "\n",
       "   Toefl_Overall  Toefl_Listening  Toefl_Reading  Toefl_Writing  \\\n",
       "0            0.0              0.0            0.0            0.0   \n",
       "1            0.0              0.0            0.0            0.0   \n",
       "3            0.0              0.0            0.0            0.0   \n",
       "4            0.0              0.0            0.0            0.0   \n",
       "5            0.0              0.0            0.0            0.0   \n",
       "\n",
       "   Toefl_Speaking  PTE_Overall  PTE_Listening  PTE_Reading  PTE_Writing  \\\n",
       "0             0.0          0.0            0.0          0.0          0.0   \n",
       "1             0.0          0.0            0.0          0.0          0.0   \n",
       "3             0.0          0.0            0.0          0.0          0.0   \n",
       "4             0.0          0.0            0.0          0.0          0.0   \n",
       "5             0.0          0.0            0.0          0.0          0.0   \n",
       "\n",
       "   PTE_Speaking  eng_type  multi_app Prog Code Prog Desc Date Started  \\\n",
       "0           0.0         0          1       NaN       NaN          NaN   \n",
       "1           0.0         1          1       NaN       NaN          NaN   \n",
       "3           0.0         0          1       NaN       NaN          NaN   \n",
       "4           0.0         0          2       NaN       NaN          NaN   \n",
       "5           0.0         0          2       NaN       NaN          NaN   \n",
       "\n",
       "   offered  offer_num  accepted  Institution_offer_num  Insti_weight  \n",
       "0        1        1.0         0                    9.0      0.750000  \n",
       "1        1        1.0         0                    1.0      1.000000  \n",
       "3        1        1.0         0                    5.0      1.000000  \n",
       "4        1        2.0         0                    4.0      0.444444  \n",
       "5        1        2.0         0                    4.0      0.444444  "
      ]
     },
     "execution_count": 2,
     "metadata": {},
     "output_type": "execute_result"
    }
   ],
   "source": [
    "data = pd.read_pickle(\"df/offer_holder.pkl\") \n",
    "\n",
    "data.head()"
   ]
  },
  {
   "cell_type": "markdown",
   "id": "6e63b474-e516-4890-80c5-2f8358daf220",
   "metadata": {},
   "source": [
    "## 1. Check the dataframe"
   ]
  },
  {
   "cell_type": "code",
   "execution_count": 3,
   "id": "860a8dc5-9424-46f8-99e4-19375f0ee52b",
   "metadata": {},
   "outputs": [
    {
     "data": {
      "text/plain": [
       "Index(['Department', 'Applicant ID', 'City - Address line 4', 'Programme',\n",
       "       'Latest Decision', 'Latest Decision Date', 'Country of Birth',\n",
       "       'Domicile', 'Nationality', 'Country of Institution',\n",
       "       'Grade on application', 'uob_alum', 'home_oversea', 'master_prev',\n",
       "       'distance', 'Institution', 'Institution_app_num', 'Fee Status',\n",
       "       'School', 'A1 Created date', 'A1 Updated date', 'A2 Created date',\n",
       "       'Decision Date', 'Response Date', 'Days at Admissions Review',\n",
       "       'Days in School', 'Days at Decision Stage', 'Total Days Admissions',\n",
       "       'TOTAL Days', 'Response days', 'decision_since_Sep01',\n",
       "       'A1C_since_Sep01', 'A1U_since_Sep01', 'A2C_since_Sep01',\n",
       "       'Response_since_Sep01', 'funding', 'Decision_C', 'Decision_R',\n",
       "       'Decision_U', 'Status', 'Qual_Name', 'Ielts_Overall', 'Ielts_Listening',\n",
       "       'Ielts_Reading', 'Ielts_Writing', 'Ielts_Speaking', 'Toefl_Overall',\n",
       "       'Toefl_Listening', 'Toefl_Reading', 'Toefl_Writing', 'Toefl_Speaking',\n",
       "       'PTE_Overall', 'PTE_Listening', 'PTE_Reading', 'PTE_Writing',\n",
       "       'PTE_Speaking', 'eng_type', 'multi_app', 'Prog Code', 'Prog Desc',\n",
       "       'Date Started', 'offered', 'offer_num', 'accepted',\n",
       "       'Institution_offer_num', 'Insti_weight'],\n",
       "      dtype='object')"
      ]
     },
     "execution_count": 3,
     "metadata": {},
     "output_type": "execute_result"
    }
   ],
   "source": [
    "data.columns"
   ]
  },
  {
   "cell_type": "code",
   "execution_count": 4,
   "id": "18a9c6c2-d653-44a9-8801-7e2db0b3cb6e",
   "metadata": {},
   "outputs": [],
   "source": [
    "# Define the feature set (X) and target variable (Y)\n",
    "X_all = data.copy()\n",
    "\n",
    "X_all['accepted'] = X_all['accepted'].astype('category')\n",
    "\n",
    "X = X_all.loc[:,['School',  'Programme',\n",
    "                 'uob_alum', 'home_oversea', 'master_prev', 'distance', 'funding',                  \n",
    "                 'Days at Admissions Review', 'Days in School', 'Days at Decision Stage', 'Total Days Admissions', 'TOTAL Days', 'Response days', \n",
    "                 'decision_since_Sep01', 'A1C_since_Sep01', 'A1U_since_Sep01', 'A2C_since_Sep01', 'Response_since_Sep01',                  \n",
    "                 'Decision_C', 'Decision_R', 'Decision_U', \n",
    "                 'eng_type', 'Ielts_Overall', 'Ielts_Listening', 'Ielts_Reading', 'Ielts_Writing', 'Ielts_Speaking', \n",
    "                 'Toefl_Overall', 'Toefl_Listening', 'Toefl_Reading', 'Toefl_Writing', 'Toefl_Speaking', \n",
    "                 'PTE_Overall', 'PTE_Listening', 'PTE_Reading', 'PTE_Writing', 'PTE_Speaking', \n",
    "                 'Institution_app_num',  'Institution_offer_num', 'Insti_weight',\n",
    "                 'multi_app', 'offer_num']].copy()\n",
    "\n",
    "X = X.fillna(method=\"ffill\")\n",
    "Y = X_all['accepted']"
   ]
  },
  {
   "cell_type": "code",
   "execution_count": 5,
   "id": "f2975458-6ec1-4bae-873d-1e50ccc9c582",
   "metadata": {},
   "outputs": [
    {
     "data": {
      "text/plain": [
       "count     8912\n",
       "unique       2\n",
       "top          0\n",
       "freq      7584\n",
       "Name: accepted, dtype: int64"
      ]
     },
     "execution_count": 5,
     "metadata": {},
     "output_type": "execute_result"
    }
   ],
   "source": [
    "Y.describe()"
   ]
  },
  {
   "cell_type": "code",
   "execution_count": 6,
   "id": "d909029e-f6c7-4ec1-bd3e-3aab8f5b2589",
   "metadata": {},
   "outputs": [
    {
     "name": "stdout",
     "output_type": "stream",
     "text": [
      "<class 'pandas.core.frame.DataFrame'>\n",
      "Int64Index: 8912 entries, 0 to 15602\n",
      "Data columns (total 42 columns):\n",
      " #   Column                     Non-Null Count  Dtype  \n",
      "---  ------                     --------------  -----  \n",
      " 0   School                     8912 non-null   object \n",
      " 1   Programme                  8912 non-null   object \n",
      " 2   uob_alum                   8912 non-null   int32  \n",
      " 3   home_oversea               8912 non-null   int32  \n",
      " 4   master_prev                8912 non-null   int64  \n",
      " 5   distance                   8912 non-null   float64\n",
      " 6   funding                    8912 non-null   float64\n",
      " 7   Days at Admissions Review  8912 non-null   float64\n",
      " 8   Days in School             8912 non-null   float64\n",
      " 9   Days at Decision Stage     8912 non-null   float64\n",
      " 10  Total Days Admissions      8912 non-null   float64\n",
      " 11  TOTAL Days                 8912 non-null   float64\n",
      " 12  Response days              8912 non-null   float64\n",
      " 13  decision_since_Sep01       8912 non-null   float64\n",
      " 14  A1C_since_Sep01            8912 non-null   float64\n",
      " 15  A1U_since_Sep01            8912 non-null   float64\n",
      " 16  A2C_since_Sep01            8912 non-null   float64\n",
      " 17  Response_since_Sep01       8912 non-null   float64\n",
      " 18  Decision_C                 8912 non-null   float64\n",
      " 19  Decision_R                 8912 non-null   float64\n",
      " 20  Decision_U                 8912 non-null   float64\n",
      " 21  eng_type                   8912 non-null   int64  \n",
      " 22  Ielts_Overall              8912 non-null   float64\n",
      " 23  Ielts_Listening            8912 non-null   float64\n",
      " 24  Ielts_Reading              8912 non-null   float64\n",
      " 25  Ielts_Writing              8912 non-null   float64\n",
      " 26  Ielts_Speaking             8912 non-null   float64\n",
      " 27  Toefl_Overall              8912 non-null   float64\n",
      " 28  Toefl_Listening            8912 non-null   float64\n",
      " 29  Toefl_Reading              8912 non-null   float64\n",
      " 30  Toefl_Writing              8912 non-null   float64\n",
      " 31  Toefl_Speaking             8912 non-null   float64\n",
      " 32  PTE_Overall                8912 non-null   float64\n",
      " 33  PTE_Listening              8912 non-null   float64\n",
      " 34  PTE_Reading                8912 non-null   float64\n",
      " 35  PTE_Writing                8912 non-null   float64\n",
      " 36  PTE_Speaking               8912 non-null   float64\n",
      " 37  Institution_app_num        8912 non-null   float64\n",
      " 38  Institution_offer_num      8912 non-null   float64\n",
      " 39  Insti_weight               8912 non-null   float64\n",
      " 40  multi_app                  8912 non-null   int64  \n",
      " 41  offer_num                  8912 non-null   float64\n",
      "dtypes: float64(35), int32(2), int64(3), object(2)\n",
      "memory usage: 2.9+ MB\n"
     ]
    }
   ],
   "source": [
    "X.info()"
   ]
  },
  {
   "cell_type": "markdown",
   "id": "ce604b60-0f8b-4e0c-a0c4-834344e04e6b",
   "metadata": {},
   "source": [
    "## 2.Process the object type column\n",
    "Here we have the 'School' and 'Programme' columns"
   ]
  },
  {
   "cell_type": "markdown",
   "id": "da7f6d47-425f-4097-a380-a30d569a264e",
   "metadata": {},
   "source": [
    "### 2.1 'School' column\n",
    "Use one hot encoder to create a binary column for each category"
   ]
  },
  {
   "cell_type": "code",
   "execution_count": 7,
   "id": "0473c05e-06b0-4cb6-b9ad-28a294b30e7d",
   "metadata": {},
   "outputs": [
    {
     "data": {
      "text/plain": [
       "12"
      ]
     },
     "execution_count": 7,
     "metadata": {},
     "output_type": "execute_result"
    }
   ],
   "source": [
    "X['School'].nunique()"
   ]
  },
  {
   "cell_type": "code",
   "execution_count": 8,
   "id": "96efc8ac-3e83-4359-b543-723ce64eba8e",
   "metadata": {},
   "outputs": [
    {
     "data": {
      "text/plain": [
       "array(['Computer Science', 'Business School',\n",
       "       'Elec Elec and System Eng;Elec Elec and Sys Engineering',\n",
       "       'Metallurgy and Materials', 'Civil Engineering',\n",
       "       'School of Engineering;Elec Elec and Sys Engineering',\n",
       "       'Mechanical Engineering', 'Physics and Astronomy',\n",
       "       'Chemical Engineering', 'Mathematics', 'Wiley', 'EPS College Hub'],\n",
       "      dtype=object)"
      ]
     },
     "execution_count": 8,
     "metadata": {},
     "output_type": "execute_result"
    }
   ],
   "source": [
    "X['School'].unique()"
   ]
  },
  {
   "cell_type": "code",
   "execution_count": 9,
   "id": "e7588089-f6b9-4ad7-ab1d-1503851c605a",
   "metadata": {},
   "outputs": [
    {
     "name": "stdout",
     "output_type": "stream",
     "text": [
      "['School_Business School' 'School_Chemical Engineering'\n",
      " 'School_Civil Engineering' 'School_Computer Science'\n",
      " 'School_EPS College Hub'\n",
      " 'School_Elec Elec and System Eng;Elec Elec and Sys Engineering'\n",
      " 'School_Mathematics' 'School_Mechanical Engineering'\n",
      " 'School_Metallurgy and Materials' 'School_Physics and Astronomy'\n",
      " 'School_School of Engineering;Elec Elec and Sys Engineering'\n",
      " 'School_Wiley']\n"
     ]
    }
   ],
   "source": [
    "ohe = OneHotEncoder(sparse=False)\n",
    "X[['Computer Science', 'Business School',\n",
    "       'Elec Elec and System Eng;Elec Elec and Sys Engineering',\n",
    "       'Metallurgy and Materials', 'Civil Engineering',\n",
    "       'School of Engineering;Elec Elec and Sys Engineering',\n",
    "       'Mechanical Engineering', 'Physics and Astronomy',\n",
    "       'Chemical Engineering', 'Mathematics', 'Wiley', 'EPS College Hub']] = ohe.fit_transform(X['School'].values.reshape(-1,1))\n",
    "print(ohe.get_feature_names_out(['School']))\n",
    "X = X.drop(['School'], axis=1)"
   ]
  },
  {
   "cell_type": "markdown",
   "id": "b8514f8a-bae7-4a15-8e63-9bc49d2b5368",
   "metadata": {
    "tags": []
   },
   "source": [
    "### 2.2 'Programme' column"
   ]
  },
  {
   "cell_type": "code",
   "execution_count": 10,
   "id": "91baecf6-0a80-47be-b2b6-474942b61b4a",
   "metadata": {
    "tags": []
   },
   "outputs": [
    {
     "data": {
      "text/plain": [
       "101"
      ]
     },
     "execution_count": 10,
     "metadata": {},
     "output_type": "execute_result"
    }
   ],
   "source": [
    "X['Programme'].nunique()"
   ]
  },
  {
   "cell_type": "code",
   "execution_count": 11,
   "id": "b8e3edf7-d906-4654-bcac-e1232468314b",
   "metadata": {},
   "outputs": [
    {
     "data": {
      "text/plain": [
       "array(['MSc Computer Science FT', 'MSc Adv Eng Man (Constr Man)FT',\n",
       "       'MSc Elec + Computer Eng FT', 'MSc Artific Int & Mach Lear FT',\n",
       "       'MSc Human-Computer Interact FT', 'MSc Data Science FT',\n",
       "       'MSc Material Sci + Engineer FT', 'MSc Adv Eng Man (Projec Man)FT',\n",
       "       'MSc Structural Engineering (FT)', 'MSc Electric Power Systems FT',\n",
       "       'MSc Rail Sys Eng+Int w Pre FT', 'MSc Adv Eng Man (Generalist)FT',\n",
       "       'MSc Communications Engineer FT', 'MSc Advanced Mech Eng FT',\n",
       "       'MSc Phys + Tech Nuc React FT', 'MSc Civil Engineering PT Dubai',\n",
       "       'MSc Civil Engineering FT', 'MSc Advanced Chemical Eng FT',\n",
       "       'MSc Cyber Security FT', 'MSc Advanced Computer Sc FT',\n",
       "       'MSc Global Energy Technologies and Systems FT',\n",
       "       'MEng Comp Sci Sof En FT (Dub)', 'BSc Computer Sci FT (Dubai)',\n",
       "       'MSc Applied Mathematics FT', 'MSc MORSE FT', 'MSc Robotics FT',\n",
       "       'MSc Art Int + Comp Sc PT (Dub)', 'MSc Nuclear Decom Waste Man FT',\n",
       "       'PGCert Des Lear Env DL PT', 'BIA Engin Phys Sci 4Yr (Dubai)',\n",
       "       'BSc Art Intel and Comp Sci FT Dubai',\n",
       "       'MSc Adv Eng Man (Operat Man)FT',\n",
       "       'MSc Advanced Chemical Engineering with Energy FT',\n",
       "       'MSc Art Int + Comp Sc FT (Dub)',\n",
       "       'BIA Engineering Physical Sciences 43m Jan Dubai',\n",
       "       'MSc Geotechnical Eng FT', 'MSc Civ Eng and Management FT',\n",
       "       'MSc Computer Science PT (Dub)', 'MSc Geotechnical Eng + Mgt FT',\n",
       "       'MSc Industrial Project Man. PT Blended Learning',\n",
       "       'MSc Advanced Chemical Eng with Bioprocessing FT',\n",
       "       'MSc Food Safety; Hyg + Man FT', 'MSc Financial Engineering FT',\n",
       "       'MSc Formulation Engineering FT', 'MSc Elec Pow Syst w Adv Res FT',\n",
       "       'MSc Computer Science FT(Dubai)', 'MSc Road Mgt + Eng FT',\n",
       "       'MSc Fue Cel + Hyd Tec Blend FT', 'MSc Adv Chem Eng w Form FT',\n",
       "       'PGDip Adv Chem Eng with Healthcare Technology FT',\n",
       "       'BEng Mechanical Eng FT (Dubai)', 'MSc Rail Sys Eng + Int PT DA',\n",
       "       'MSc Civ Eng and Management PT', 'MSc Healthcare Technology FT',\n",
       "       'MSc Structural Engineering PT', 'MSc Rail Safe + Control Sys FT',\n",
       "       'MSc Rail Saf+Con Sys (Flex) DL', 'MSc Rail System Engin Integ DL',\n",
       "       'MSc Adv Eng Man (System Man)FT',\n",
       "       'MSc Civil Engineering Dubai (January) PT',\n",
       "       'MSc Advanced Mech Eng PT', 'MSc Civil Engineering PT',\n",
       "       'MSc Mathematical Finance FT', 'MSc Rail Sys Eng Inte DL Fixed',\n",
       "       'MSc Rail Systems Engin Int FT', 'MSc Civil Engineering FT Dubai',\n",
       "       'PGDip Art In + Com Sc FT (Dub)', 'PGDip Computer Scien FT(Dubai)',\n",
       "       'MSc Civil Engineering Part Time Fixed Duration',\n",
       "       'MSc Advanced Chemical Eng PT', 'MSc Adv Eng Man (Projec Man)PT',\n",
       "       'MSc Road Mgt + Eng PT', 'PGDip Rail Safe + Cont Sys FT',\n",
       "       'MSc Rail Saf+Con Sys DL Fixed', 'MSc Geotechnical Eng PT',\n",
       "       'MSc Adv Eng Man (Constr Man)PT', 'MSc Food Safety, Hyg + Man PT',\n",
       "       'MSc Phys + Tech Nuc React PT', 'PGCert Rail Sa+Co Sy (Flex) DL',\n",
       "       'MSc Advanced Chemical Engineering with Form PT',\n",
       "       'MSc Adv Eng Man (Generalist)PT', 'MSc Fue Cel + Hyd Tec Blend PT',\n",
       "       'MSc Adv Chem Eng with Healthcare Technology FT',\n",
       "       'MSc Rail Safe+Cont Sy w Pre FT', 'PGCert Rail Syst Eng Integ DL',\n",
       "       'PGCert Rail Systems Eng Int FT', 'MSc Civil Enginee FT Jan Dubai',\n",
       "       'MSc Adv Eng Man (Operat Man)PT', 'PGDip Civ Eng & Management FT',\n",
       "       'PGDip Road Mgt + Eng FT',\n",
       "       'MSc Geotechnical Engineering (PT; Fixed Duration)',\n",
       "       'PG MC Fuel Cell + Hyd Tech MC', 'MSc Communications Engineer PT',\n",
       "       'MSc Nuclear Decom Waste Man PT', 'PGDip Healthcare Technology FT',\n",
       "       'MSc Electric Power Systems PT', 'PGDip Rail Systems Eng Int FT',\n",
       "       'MSc Elec + Computer Eng PT', 'PGDip Civil Eng  FT (Dubai)',\n",
       "       'PGDip Art In + Com Sc PT (Dub)', 'PGDip Advanced Chemical Eng FT'],\n",
       "      dtype=object)"
      ]
     },
     "execution_count": 11,
     "metadata": {},
     "output_type": "execute_result"
    }
   ],
   "source": [
    "X['Programme'].unique()"
   ]
  },
  {
   "cell_type": "markdown",
   "id": "33f25d48-8b47-44b5-bdd7-ed0c6145cd97",
   "metadata": {},
   "source": [
    "### We will apply three methods to deal with this column\n",
    "1. drop this column. In the future study, the dataset can be split by programme and build different models for different programmes\n",
    "2. use Ordinal Encoder to encode target labels with value between 0 and n_classes-1. Output: 1 column\n",
    "3. Use One Hot Encoder. Output: n_classes columns. The dimension increase may affect a lot"
   ]
  },
  {
   "cell_type": "markdown",
   "id": "a6b64083-7ee4-4350-a902-1ea2ecda0595",
   "metadata": {},
   "source": [
    "#### 1.Drop the 'programme', the new feature set named X1"
   ]
  },
  {
   "cell_type": "code",
   "execution_count": 12,
   "id": "c7541705-5483-42f1-af54-9665dcf95eaa",
   "metadata": {},
   "outputs": [],
   "source": [
    "X1 = X.copy()\n",
    "X1 = X1.drop(['Programme'], axis=1)"
   ]
  },
  {
   "cell_type": "markdown",
   "id": "773c9510-177a-4412-a79d-759a5682f6ed",
   "metadata": {},
   "source": [
    "#### 2.Ordinal Encoder on the 'programme', the new feature set named X2"
   ]
  },
  {
   "cell_type": "code",
   "execution_count": 13,
   "id": "111cfc9f-4c7b-484b-8d26-66a56b7220de",
   "metadata": {},
   "outputs": [],
   "source": [
    "X2 = X.copy()\n",
    "enc = OrdinalEncoder()\n",
    "X2['Programme'] = enc.fit_transform(X2['Programme'].values.reshape(-1,1))"
   ]
  },
  {
   "cell_type": "code",
   "execution_count": 14,
   "id": "2435242b-e79d-491e-a2ab-07f69887edcc",
   "metadata": {},
   "outputs": [
    {
     "data": {
      "text/plain": [
       "101"
      ]
     },
     "execution_count": 14,
     "metadata": {},
     "output_type": "execute_result"
    }
   ],
   "source": [
    "X2['Programme'].nunique()"
   ]
  },
  {
   "cell_type": "markdown",
   "id": "453d0d8a-73b7-4ace-a307-3852e67d559d",
   "metadata": {},
   "source": [
    "#### 3.One Hot Encoder on the 'programme', the new feature set named X3"
   ]
  },
  {
   "cell_type": "code",
   "execution_count": 15,
   "id": "44fc8010-3f61-4b42-8bc0-0505f524b0ff",
   "metadata": {},
   "outputs": [],
   "source": [
    "ohe = OneHotEncoder(sparse=False)\n",
    "X3 = X.copy()\n",
    "X3[['MSc Computer Science FT', 'MSc Adv Eng Man (Constr Man)FT',\n",
    "       'MSc Elec + Computer Eng FT', 'MSc Artific Int & Mach Lear FT',\n",
    "       'MSc Human-Computer Interact FT', 'MSc Data Science FT',\n",
    "       'MSc Material Sci + Engineer FT', 'MSc Adv Eng Man (Projec Man)FT',\n",
    "       'MSc Structural Engineering (FT)', 'MSc Electric Power Systems FT',\n",
    "       'MSc Rail Sys Eng+Int w Pre FT', 'MSc Adv Eng Man (Generalist)FT',\n",
    "       'MSc Communications Engineer FT', 'MSc Advanced Mech Eng FT',\n",
    "       'MSc Phys + Tech Nuc React FT', 'MSc Civil Engineering PT Dubai',\n",
    "       'MSc Civil Engineering FT', 'MSc Advanced Chemical Eng FT',\n",
    "       'MSc Cyber Security FT', 'MSc Advanced Computer Sc FT',\n",
    "       'MSc Global Energy Technologies and Systems FT',\n",
    "       'MEng Comp Sci Sof En FT (Dub)', 'BSc Computer Sci FT (Dubai)',\n",
    "       'MSc Applied Mathematics FT', 'MSc MORSE FT', 'MSc Robotics FT',\n",
    "       'MSc Art Int + Comp Sc PT (Dub)', 'MSc Nuclear Decom Waste Man FT',\n",
    "       'PGCert Des Lear Env DL PT', 'BIA Engin Phys Sci 4Yr (Dubai)',\n",
    "       'BSc Art Intel and Comp Sci FT Dubai',\n",
    "       'MSc Adv Eng Man (Operat Man)FT',\n",
    "       'MSc Advanced Chemical Engineering with Energy FT',\n",
    "       'MSc Art Int + Comp Sc FT (Dub)',\n",
    "       'BIA Engineering Physical Sciences 43m Jan Dubai',\n",
    "       'MSc Geotechnical Eng FT', 'MSc Civ Eng and Management FT',\n",
    "       'MSc Computer Science PT (Dub)', 'MSc Geotechnical Eng + Mgt FT',\n",
    "       'MSc Industrial Project Man. PT Blended Learning',\n",
    "       'MSc Advanced Chemical Eng with Bioprocessing FT',\n",
    "       'MSc Food Safety; Hyg + Man FT', 'MSc Financial Engineering FT',\n",
    "       'MSc Formulation Engineering FT', 'MSc Elec Pow Syst w Adv Res FT',\n",
    "       'MSc Computer Science FT(Dubai)', 'MSc Road Mgt + Eng FT',\n",
    "       'MSc Fue Cel + Hyd Tec Blend FT', 'MSc Adv Chem Eng w Form FT',\n",
    "       'PGDip Adv Chem Eng with Healthcare Technology FT',\n",
    "       'BEng Mechanical Eng FT (Dubai)', 'MSc Rail Sys Eng + Int PT DA',\n",
    "       'MSc Civ Eng and Management PT', 'MSc Healthcare Technology FT',\n",
    "       'MSc Structural Engineering PT', 'MSc Rail Safe + Control Sys FT',\n",
    "       'MSc Rail Saf+Con Sys (Flex) DL', 'MSc Rail System Engin Integ DL',\n",
    "       'MSc Adv Eng Man (System Man)FT',\n",
    "       'MSc Civil Engineering Dubai (January) PT',\n",
    "       'MSc Advanced Mech Eng PT', 'MSc Civil Engineering PT',\n",
    "       'MSc Mathematical Finance FT', 'MSc Rail Sys Eng Inte DL Fixed',\n",
    "       'MSc Rail Systems Engin Int FT', 'MSc Civil Engineering FT Dubai',\n",
    "       'PGDip Art In + Com Sc FT (Dub)', 'PGDip Computer Scien FT(Dubai)',\n",
    "       'MSc Civil Engineering Part Time Fixed Duration',\n",
    "       'MSc Advanced Chemical Eng PT', 'MSc Adv Eng Man (Projec Man)PT',\n",
    "       'MSc Road Mgt + Eng PT', 'PGDip Rail Safe + Cont Sys FT',\n",
    "       'MSc Rail Saf+Con Sys DL Fixed', 'MSc Geotechnical Eng PT',\n",
    "       'MSc Adv Eng Man (Constr Man)PT', 'MSc Food Safety, Hyg + Man PT',\n",
    "       'MSc Phys + Tech Nuc React PT', 'PGCert Rail Sa+Co Sy (Flex) DL',\n",
    "       'MSc Advanced Chemical Engineering with Form PT',\n",
    "       'MSc Adv Eng Man (Generalist)PT', 'MSc Fue Cel + Hyd Tec Blend PT',\n",
    "       'MSc Adv Chem Eng with Healthcare Technology FT',\n",
    "       'MSc Rail Safe+Cont Sy w Pre FT', 'PGCert Rail Syst Eng Integ DL',\n",
    "       'PGCert Rail Systems Eng Int FT', 'MSc Civil Enginee FT Jan Dubai',\n",
    "       'MSc Adv Eng Man (Operat Man)PT', 'PGDip Civ Eng & Management FT',\n",
    "       'PGDip Road Mgt + Eng FT',\n",
    "       'MSc Geotechnical Engineering (PT; Fixed Duration)',\n",
    "       'PG MC Fuel Cell + Hyd Tech MC', 'MSc Communications Engineer PT',\n",
    "       'MSc Nuclear Decom Waste Man PT', 'PGDip Healthcare Technology FT',\n",
    "       'MSc Electric Power Systems PT', 'PGDip Rail Systems Eng Int FT',\n",
    "       'MSc Elec + Computer Eng PT', 'PGDip Civil Eng  FT (Dubai)',\n",
    "       'PGDip Art In + Com Sc PT (Dub)', 'PGDip Advanced Chemical Eng FT']] = ohe.fit_transform(X3['Programme'].values.reshape(-1,1))\n",
    "\n",
    "X3 = X3.drop(['Programme'], axis=1)"
   ]
  },
  {
   "cell_type": "code",
   "execution_count": 16,
   "id": "c2b5473b-fdfc-48fe-af75-36af527d6633",
   "metadata": {},
   "outputs": [
    {
     "data": {
      "text/plain": [
       "(8912, 52)"
      ]
     },
     "execution_count": 16,
     "metadata": {},
     "output_type": "execute_result"
    }
   ],
   "source": [
    "X1.shape"
   ]
  },
  {
   "cell_type": "code",
   "execution_count": 17,
   "id": "a92c6b46-974c-48c7-bc2e-806c1f5db9b0",
   "metadata": {},
   "outputs": [
    {
     "data": {
      "text/plain": [
       "(8912, 53)"
      ]
     },
     "execution_count": 17,
     "metadata": {},
     "output_type": "execute_result"
    }
   ],
   "source": [
    "X2.shape"
   ]
  },
  {
   "cell_type": "code",
   "execution_count": 18,
   "id": "c5bf4e42-b4e8-4752-9142-011aa9821cfb",
   "metadata": {},
   "outputs": [
    {
     "data": {
      "text/plain": [
       "(8912, 153)"
      ]
     },
     "execution_count": 18,
     "metadata": {},
     "output_type": "execute_result"
    }
   ],
   "source": [
    "X3.shape"
   ]
  },
  {
   "cell_type": "code",
   "execution_count": null,
   "id": "bb9ceacb-25e8-4afa-89c1-7edbe1382158",
   "metadata": {},
   "outputs": [],
   "source": []
  },
  {
   "cell_type": "code",
   "execution_count": null,
   "id": "50a44835-c89c-404b-9e8c-a33f48f00a16",
   "metadata": {},
   "outputs": [],
   "source": []
  },
  {
   "cell_type": "markdown",
   "id": "ff994dc3-edd2-4784-ada9-78f5439398c3",
   "metadata": {},
   "source": [
    "## 3.Normalization\n",
    "Now we have X1 X2 X3 three dataframes. Every method in the following process would be applied on all these 3 dataframes. First is normalization"
   ]
  },
  {
   "cell_type": "code",
   "execution_count": 21,
   "id": "e8e4b127-e681-4df2-9ef6-57f2b100ceef",
   "metadata": {},
   "outputs": [
    {
     "data": {
      "text/html": [
       "<div>\n",
       "<style scoped>\n",
       "    .dataframe tbody tr th:only-of-type {\n",
       "        vertical-align: middle;\n",
       "    }\n",
       "\n",
       "    .dataframe tbody tr th {\n",
       "        vertical-align: top;\n",
       "    }\n",
       "\n",
       "    .dataframe thead th {\n",
       "        text-align: right;\n",
       "    }\n",
       "</style>\n",
       "<table border=\"1\" class=\"dataframe\">\n",
       "  <thead>\n",
       "    <tr style=\"text-align: right;\">\n",
       "      <th></th>\n",
       "      <th>uob_alum</th>\n",
       "      <th>home_oversea</th>\n",
       "      <th>master_prev</th>\n",
       "      <th>distance</th>\n",
       "      <th>funding</th>\n",
       "      <th>Days at Admissions Review</th>\n",
       "      <th>Days in School</th>\n",
       "      <th>Days at Decision Stage</th>\n",
       "      <th>Total Days Admissions</th>\n",
       "      <th>TOTAL Days</th>\n",
       "      <th>Response days</th>\n",
       "      <th>decision_since_Sep01</th>\n",
       "      <th>A1C_since_Sep01</th>\n",
       "      <th>A1U_since_Sep01</th>\n",
       "      <th>A2C_since_Sep01</th>\n",
       "      <th>Response_since_Sep01</th>\n",
       "      <th>Decision_C</th>\n",
       "      <th>Decision_R</th>\n",
       "      <th>Decision_U</th>\n",
       "      <th>eng_type</th>\n",
       "      <th>Ielts_Overall</th>\n",
       "      <th>Ielts_Listening</th>\n",
       "      <th>Ielts_Reading</th>\n",
       "      <th>Ielts_Writing</th>\n",
       "      <th>Ielts_Speaking</th>\n",
       "      <th>Toefl_Overall</th>\n",
       "      <th>Toefl_Listening</th>\n",
       "      <th>Toefl_Reading</th>\n",
       "      <th>Toefl_Writing</th>\n",
       "      <th>Toefl_Speaking</th>\n",
       "      <th>PTE_Overall</th>\n",
       "      <th>PTE_Listening</th>\n",
       "      <th>PTE_Reading</th>\n",
       "      <th>PTE_Writing</th>\n",
       "      <th>PTE_Speaking</th>\n",
       "      <th>Institution_app_num</th>\n",
       "      <th>Institution_offer_num</th>\n",
       "      <th>Insti_weight</th>\n",
       "      <th>multi_app</th>\n",
       "      <th>offer_num</th>\n",
       "      <th>Computer Science</th>\n",
       "      <th>Business School</th>\n",
       "      <th>Elec Elec and System Eng;Elec Elec and Sys Engineering</th>\n",
       "      <th>Metallurgy and Materials</th>\n",
       "      <th>Civil Engineering</th>\n",
       "      <th>School of Engineering;Elec Elec and Sys Engineering</th>\n",
       "      <th>Mechanical Engineering</th>\n",
       "      <th>Physics and Astronomy</th>\n",
       "      <th>Chemical Engineering</th>\n",
       "      <th>Mathematics</th>\n",
       "      <th>Wiley</th>\n",
       "      <th>EPS College Hub</th>\n",
       "    </tr>\n",
       "  </thead>\n",
       "  <tbody>\n",
       "    <tr>\n",
       "      <th>count</th>\n",
       "      <td>8912.000000</td>\n",
       "      <td>8912.000000</td>\n",
       "      <td>8912.000000</td>\n",
       "      <td>8912.000000</td>\n",
       "      <td>8912.000000</td>\n",
       "      <td>8912.000000</td>\n",
       "      <td>8912.000000</td>\n",
       "      <td>8912.000000</td>\n",
       "      <td>8912.000000</td>\n",
       "      <td>8912.000000</td>\n",
       "      <td>8912.000000</td>\n",
       "      <td>8912.000000</td>\n",
       "      <td>8912.000000</td>\n",
       "      <td>8912.000000</td>\n",
       "      <td>8912.000000</td>\n",
       "      <td>8912.000000</td>\n",
       "      <td>8912.000000</td>\n",
       "      <td>8912.000000</td>\n",
       "      <td>8912.000000</td>\n",
       "      <td>8912.000000</td>\n",
       "      <td>8912.000000</td>\n",
       "      <td>8912.000000</td>\n",
       "      <td>8912.000000</td>\n",
       "      <td>8912.000000</td>\n",
       "      <td>8912.000000</td>\n",
       "      <td>8912.000000</td>\n",
       "      <td>8912.000000</td>\n",
       "      <td>8912.000000</td>\n",
       "      <td>8912.000000</td>\n",
       "      <td>8912.000000</td>\n",
       "      <td>8912.000000</td>\n",
       "      <td>8912.000000</td>\n",
       "      <td>8912.000000</td>\n",
       "      <td>8912.000000</td>\n",
       "      <td>8912.000000</td>\n",
       "      <td>8912.000000</td>\n",
       "      <td>8912.000000</td>\n",
       "      <td>8912.000000</td>\n",
       "      <td>8912.000000</td>\n",
       "      <td>8912.000000</td>\n",
       "      <td>8912.000000</td>\n",
       "      <td>8912.000000</td>\n",
       "      <td>8912.000000</td>\n",
       "      <td>8912.000000</td>\n",
       "      <td>8912.000000</td>\n",
       "      <td>8912.000000</td>\n",
       "      <td>8912.000000</td>\n",
       "      <td>8912.000000</td>\n",
       "      <td>8912.000000</td>\n",
       "      <td>8912.000000</td>\n",
       "      <td>8912.000000</td>\n",
       "      <td>8912.000000</td>\n",
       "    </tr>\n",
       "    <tr>\n",
       "      <th>mean</th>\n",
       "      <td>0.010099</td>\n",
       "      <td>0.924372</td>\n",
       "      <td>0.057787</td>\n",
       "      <td>0.443908</td>\n",
       "      <td>0.033214</td>\n",
       "      <td>0.061153</td>\n",
       "      <td>0.020221</td>\n",
       "      <td>0.052169</td>\n",
       "      <td>0.079333</td>\n",
       "      <td>0.091537</td>\n",
       "      <td>0.026635</td>\n",
       "      <td>0.312395</td>\n",
       "      <td>0.185834</td>\n",
       "      <td>0.254126</td>\n",
       "      <td>0.194986</td>\n",
       "      <td>0.162295</td>\n",
       "      <td>0.953770</td>\n",
       "      <td>0.007855</td>\n",
       "      <td>0.038375</td>\n",
       "      <td>0.161355</td>\n",
       "      <td>0.022833</td>\n",
       "      <td>0.035028</td>\n",
       "      <td>0.034763</td>\n",
       "      <td>0.028641</td>\n",
       "      <td>0.029535</td>\n",
       "      <td>0.024027</td>\n",
       "      <td>0.010261</td>\n",
       "      <td>0.010739</td>\n",
       "      <td>0.009612</td>\n",
       "      <td>0.009288</td>\n",
       "      <td>0.002093</td>\n",
       "      <td>0.002225</td>\n",
       "      <td>0.002007</td>\n",
       "      <td>0.002142</td>\n",
       "      <td>0.002136</td>\n",
       "      <td>0.136725</td>\n",
       "      <td>0.111134</td>\n",
       "      <td>0.721747</td>\n",
       "      <td>0.037029</td>\n",
       "      <td>0.028725</td>\n",
       "      <td>0.109964</td>\n",
       "      <td>0.089879</td>\n",
       "      <td>0.108618</td>\n",
       "      <td>0.348294</td>\n",
       "      <td>0.023900</td>\n",
       "      <td>0.105364</td>\n",
       "      <td>0.061490</td>\n",
       "      <td>0.041854</td>\n",
       "      <td>0.042864</td>\n",
       "      <td>0.014699</td>\n",
       "      <td>0.046791</td>\n",
       "      <td>0.006284</td>\n",
       "    </tr>\n",
       "    <tr>\n",
       "      <th>std</th>\n",
       "      <td>0.099989</td>\n",
       "      <td>0.264417</td>\n",
       "      <td>0.233354</td>\n",
       "      <td>0.120211</td>\n",
       "      <td>0.179204</td>\n",
       "      <td>0.053233</td>\n",
       "      <td>0.042268</td>\n",
       "      <td>0.055086</td>\n",
       "      <td>0.059757</td>\n",
       "      <td>0.066538</td>\n",
       "      <td>0.076858</td>\n",
       "      <td>0.139929</td>\n",
       "      <td>0.145178</td>\n",
       "      <td>0.157775</td>\n",
       "      <td>0.188857</td>\n",
       "      <td>0.197542</td>\n",
       "      <td>0.209994</td>\n",
       "      <td>0.088282</td>\n",
       "      <td>0.192111</td>\n",
       "      <td>0.201174</td>\n",
       "      <td>0.045548</td>\n",
       "      <td>0.054960</td>\n",
       "      <td>0.054863</td>\n",
       "      <td>0.045626</td>\n",
       "      <td>0.046485</td>\n",
       "      <td>0.108454</td>\n",
       "      <td>0.048220</td>\n",
       "      <td>0.050130</td>\n",
       "      <td>0.045253</td>\n",
       "      <td>0.043789</td>\n",
       "      <td>0.041229</td>\n",
       "      <td>0.043016</td>\n",
       "      <td>0.038854</td>\n",
       "      <td>0.041420</td>\n",
       "      <td>0.041501</td>\n",
       "      <td>0.185772</td>\n",
       "      <td>0.160715</td>\n",
       "      <td>0.224381</td>\n",
       "      <td>0.108760</td>\n",
       "      <td>0.094689</td>\n",
       "      <td>0.312863</td>\n",
       "      <td>0.286024</td>\n",
       "      <td>0.311176</td>\n",
       "      <td>0.476457</td>\n",
       "      <td>0.152747</td>\n",
       "      <td>0.307039</td>\n",
       "      <td>0.240241</td>\n",
       "      <td>0.200266</td>\n",
       "      <td>0.202561</td>\n",
       "      <td>0.120353</td>\n",
       "      <td>0.211202</td>\n",
       "      <td>0.079025</td>\n",
       "    </tr>\n",
       "    <tr>\n",
       "      <th>min</th>\n",
       "      <td>0.000000</td>\n",
       "      <td>0.000000</td>\n",
       "      <td>0.000000</td>\n",
       "      <td>0.000000</td>\n",
       "      <td>0.000000</td>\n",
       "      <td>0.000000</td>\n",
       "      <td>0.000000</td>\n",
       "      <td>0.000000</td>\n",
       "      <td>0.000000</td>\n",
       "      <td>0.000000</td>\n",
       "      <td>0.000000</td>\n",
       "      <td>0.000000</td>\n",
       "      <td>0.000000</td>\n",
       "      <td>0.000000</td>\n",
       "      <td>0.000000</td>\n",
       "      <td>0.000000</td>\n",
       "      <td>0.000000</td>\n",
       "      <td>0.000000</td>\n",
       "      <td>0.000000</td>\n",
       "      <td>0.000000</td>\n",
       "      <td>0.000000</td>\n",
       "      <td>0.000000</td>\n",
       "      <td>0.000000</td>\n",
       "      <td>0.000000</td>\n",
       "      <td>0.000000</td>\n",
       "      <td>0.000000</td>\n",
       "      <td>0.000000</td>\n",
       "      <td>0.000000</td>\n",
       "      <td>0.000000</td>\n",
       "      <td>0.000000</td>\n",
       "      <td>0.000000</td>\n",
       "      <td>0.000000</td>\n",
       "      <td>0.000000</td>\n",
       "      <td>0.000000</td>\n",
       "      <td>0.000000</td>\n",
       "      <td>0.000000</td>\n",
       "      <td>0.000000</td>\n",
       "      <td>0.000000</td>\n",
       "      <td>0.000000</td>\n",
       "      <td>0.000000</td>\n",
       "      <td>0.000000</td>\n",
       "      <td>0.000000</td>\n",
       "      <td>0.000000</td>\n",
       "      <td>0.000000</td>\n",
       "      <td>0.000000</td>\n",
       "      <td>0.000000</td>\n",
       "      <td>0.000000</td>\n",
       "      <td>0.000000</td>\n",
       "      <td>0.000000</td>\n",
       "      <td>0.000000</td>\n",
       "      <td>0.000000</td>\n",
       "      <td>0.000000</td>\n",
       "    </tr>\n",
       "    <tr>\n",
       "      <th>25%</th>\n",
       "      <td>0.000000</td>\n",
       "      <td>1.000000</td>\n",
       "      <td>0.000000</td>\n",
       "      <td>0.476992</td>\n",
       "      <td>0.000000</td>\n",
       "      <td>0.014805</td>\n",
       "      <td>0.000000</td>\n",
       "      <td>0.000000</td>\n",
       "      <td>0.029451</td>\n",
       "      <td>0.035857</td>\n",
       "      <td>0.000000</td>\n",
       "      <td>0.224615</td>\n",
       "      <td>0.076692</td>\n",
       "      <td>0.132331</td>\n",
       "      <td>0.000000</td>\n",
       "      <td>0.000000</td>\n",
       "      <td>1.000000</td>\n",
       "      <td>0.000000</td>\n",
       "      <td>0.000000</td>\n",
       "      <td>0.000000</td>\n",
       "      <td>0.000000</td>\n",
       "      <td>0.000000</td>\n",
       "      <td>0.000000</td>\n",
       "      <td>0.000000</td>\n",
       "      <td>0.000000</td>\n",
       "      <td>0.000000</td>\n",
       "      <td>0.000000</td>\n",
       "      <td>0.000000</td>\n",
       "      <td>0.000000</td>\n",
       "      <td>0.000000</td>\n",
       "      <td>0.000000</td>\n",
       "      <td>0.000000</td>\n",
       "      <td>0.000000</td>\n",
       "      <td>0.000000</td>\n",
       "      <td>0.000000</td>\n",
       "      <td>0.008547</td>\n",
       "      <td>0.010753</td>\n",
       "      <td>0.565089</td>\n",
       "      <td>0.000000</td>\n",
       "      <td>0.000000</td>\n",
       "      <td>0.000000</td>\n",
       "      <td>0.000000</td>\n",
       "      <td>0.000000</td>\n",
       "      <td>0.000000</td>\n",
       "      <td>0.000000</td>\n",
       "      <td>0.000000</td>\n",
       "      <td>0.000000</td>\n",
       "      <td>0.000000</td>\n",
       "      <td>0.000000</td>\n",
       "      <td>0.000000</td>\n",
       "      <td>0.000000</td>\n",
       "      <td>0.000000</td>\n",
       "    </tr>\n",
       "    <tr>\n",
       "      <th>50%</th>\n",
       "      <td>0.000000</td>\n",
       "      <td>1.000000</td>\n",
       "      <td>0.000000</td>\n",
       "      <td>0.476992</td>\n",
       "      <td>0.000000</td>\n",
       "      <td>0.055182</td>\n",
       "      <td>0.004184</td>\n",
       "      <td>0.045283</td>\n",
       "      <td>0.072289</td>\n",
       "      <td>0.086321</td>\n",
       "      <td>0.000000</td>\n",
       "      <td>0.326154</td>\n",
       "      <td>0.145865</td>\n",
       "      <td>0.255639</td>\n",
       "      <td>0.179054</td>\n",
       "      <td>0.000000</td>\n",
       "      <td>1.000000</td>\n",
       "      <td>0.000000</td>\n",
       "      <td>0.000000</td>\n",
       "      <td>0.000000</td>\n",
       "      <td>0.000000</td>\n",
       "      <td>0.000000</td>\n",
       "      <td>0.000000</td>\n",
       "      <td>0.000000</td>\n",
       "      <td>0.000000</td>\n",
       "      <td>0.000000</td>\n",
       "      <td>0.000000</td>\n",
       "      <td>0.000000</td>\n",
       "      <td>0.000000</td>\n",
       "      <td>0.000000</td>\n",
       "      <td>0.000000</td>\n",
       "      <td>0.000000</td>\n",
       "      <td>0.000000</td>\n",
       "      <td>0.000000</td>\n",
       "      <td>0.000000</td>\n",
       "      <td>0.068376</td>\n",
       "      <td>0.053763</td>\n",
       "      <td>0.702918</td>\n",
       "      <td>0.000000</td>\n",
       "      <td>0.000000</td>\n",
       "      <td>0.000000</td>\n",
       "      <td>0.000000</td>\n",
       "      <td>0.000000</td>\n",
       "      <td>0.000000</td>\n",
       "      <td>0.000000</td>\n",
       "      <td>0.000000</td>\n",
       "      <td>0.000000</td>\n",
       "      <td>0.000000</td>\n",
       "      <td>0.000000</td>\n",
       "      <td>0.000000</td>\n",
       "      <td>0.000000</td>\n",
       "      <td>0.000000</td>\n",
       "    </tr>\n",
       "    <tr>\n",
       "      <th>75%</th>\n",
       "      <td>0.000000</td>\n",
       "      <td>1.000000</td>\n",
       "      <td>0.000000</td>\n",
       "      <td>0.476992</td>\n",
       "      <td>0.000000</td>\n",
       "      <td>0.103634</td>\n",
       "      <td>0.027720</td>\n",
       "      <td>0.090566</td>\n",
       "      <td>0.121821</td>\n",
       "      <td>0.136786</td>\n",
       "      <td>0.009050</td>\n",
       "      <td>0.409231</td>\n",
       "      <td>0.278195</td>\n",
       "      <td>0.360902</td>\n",
       "      <td>0.344595</td>\n",
       "      <td>0.332838</td>\n",
       "      <td>1.000000</td>\n",
       "      <td>0.000000</td>\n",
       "      <td>0.000000</td>\n",
       "      <td>0.333333</td>\n",
       "      <td>0.058252</td>\n",
       "      <td>0.088235</td>\n",
       "      <td>0.088235</td>\n",
       "      <td>0.082192</td>\n",
       "      <td>0.076389</td>\n",
       "      <td>0.000000</td>\n",
       "      <td>0.000000</td>\n",
       "      <td>0.000000</td>\n",
       "      <td>0.000000</td>\n",
       "      <td>0.000000</td>\n",
       "      <td>0.000000</td>\n",
       "      <td>0.000000</td>\n",
       "      <td>0.000000</td>\n",
       "      <td>0.000000</td>\n",
       "      <td>0.000000</td>\n",
       "      <td>0.188034</td>\n",
       "      <td>0.150538</td>\n",
       "      <td>1.000000</td>\n",
       "      <td>0.000000</td>\n",
       "      <td>0.000000</td>\n",
       "      <td>0.000000</td>\n",
       "      <td>0.000000</td>\n",
       "      <td>0.000000</td>\n",
       "      <td>1.000000</td>\n",
       "      <td>0.000000</td>\n",
       "      <td>0.000000</td>\n",
       "      <td>0.000000</td>\n",
       "      <td>0.000000</td>\n",
       "      <td>0.000000</td>\n",
       "      <td>0.000000</td>\n",
       "      <td>0.000000</td>\n",
       "      <td>0.000000</td>\n",
       "    </tr>\n",
       "    <tr>\n",
       "      <th>max</th>\n",
       "      <td>1.000000</td>\n",
       "      <td>1.000000</td>\n",
       "      <td>1.000000</td>\n",
       "      <td>1.000000</td>\n",
       "      <td>1.000000</td>\n",
       "      <td>1.000000</td>\n",
       "      <td>1.000000</td>\n",
       "      <td>1.000000</td>\n",
       "      <td>1.000000</td>\n",
       "      <td>1.000000</td>\n",
       "      <td>1.000000</td>\n",
       "      <td>1.000000</td>\n",
       "      <td>1.000000</td>\n",
       "      <td>1.000000</td>\n",
       "      <td>1.000000</td>\n",
       "      <td>1.000000</td>\n",
       "      <td>1.000000</td>\n",
       "      <td>1.000000</td>\n",
       "      <td>1.000000</td>\n",
       "      <td>1.000000</td>\n",
       "      <td>1.000000</td>\n",
       "      <td>1.000000</td>\n",
       "      <td>1.000000</td>\n",
       "      <td>1.000000</td>\n",
       "      <td>1.000000</td>\n",
       "      <td>1.000000</td>\n",
       "      <td>1.000000</td>\n",
       "      <td>1.000000</td>\n",
       "      <td>1.000000</td>\n",
       "      <td>1.000000</td>\n",
       "      <td>1.000000</td>\n",
       "      <td>1.000000</td>\n",
       "      <td>1.000000</td>\n",
       "      <td>1.000000</td>\n",
       "      <td>1.000000</td>\n",
       "      <td>1.000000</td>\n",
       "      <td>1.000000</td>\n",
       "      <td>1.000000</td>\n",
       "      <td>1.000000</td>\n",
       "      <td>1.000000</td>\n",
       "      <td>1.000000</td>\n",
       "      <td>1.000000</td>\n",
       "      <td>1.000000</td>\n",
       "      <td>1.000000</td>\n",
       "      <td>1.000000</td>\n",
       "      <td>1.000000</td>\n",
       "      <td>1.000000</td>\n",
       "      <td>1.000000</td>\n",
       "      <td>1.000000</td>\n",
       "      <td>1.000000</td>\n",
       "      <td>1.000000</td>\n",
       "      <td>1.000000</td>\n",
       "    </tr>\n",
       "  </tbody>\n",
       "</table>\n",
       "</div>"
      ],
      "text/plain": [
       "          uob_alum  home_oversea  master_prev     distance      funding  \\\n",
       "count  8912.000000   8912.000000  8912.000000  8912.000000  8912.000000   \n",
       "mean      0.010099      0.924372     0.057787     0.443908     0.033214   \n",
       "std       0.099989      0.264417     0.233354     0.120211     0.179204   \n",
       "min       0.000000      0.000000     0.000000     0.000000     0.000000   \n",
       "25%       0.000000      1.000000     0.000000     0.476992     0.000000   \n",
       "50%       0.000000      1.000000     0.000000     0.476992     0.000000   \n",
       "75%       0.000000      1.000000     0.000000     0.476992     0.000000   \n",
       "max       1.000000      1.000000     1.000000     1.000000     1.000000   \n",
       "\n",
       "       Days at Admissions Review  Days in School  Days at Decision Stage  \\\n",
       "count                8912.000000     8912.000000             8912.000000   \n",
       "mean                    0.061153        0.020221                0.052169   \n",
       "std                     0.053233        0.042268                0.055086   \n",
       "min                     0.000000        0.000000                0.000000   \n",
       "25%                     0.014805        0.000000                0.000000   \n",
       "50%                     0.055182        0.004184                0.045283   \n",
       "75%                     0.103634        0.027720                0.090566   \n",
       "max                     1.000000        1.000000                1.000000   \n",
       "\n",
       "       Total Days Admissions   TOTAL Days  Response days  \\\n",
       "count            8912.000000  8912.000000    8912.000000   \n",
       "mean                0.079333     0.091537       0.026635   \n",
       "std                 0.059757     0.066538       0.076858   \n",
       "min                 0.000000     0.000000       0.000000   \n",
       "25%                 0.029451     0.035857       0.000000   \n",
       "50%                 0.072289     0.086321       0.000000   \n",
       "75%                 0.121821     0.136786       0.009050   \n",
       "max                 1.000000     1.000000       1.000000   \n",
       "\n",
       "       decision_since_Sep01  A1C_since_Sep01  A1U_since_Sep01  \\\n",
       "count           8912.000000      8912.000000      8912.000000   \n",
       "mean               0.312395         0.185834         0.254126   \n",
       "std                0.139929         0.145178         0.157775   \n",
       "min                0.000000         0.000000         0.000000   \n",
       "25%                0.224615         0.076692         0.132331   \n",
       "50%                0.326154         0.145865         0.255639   \n",
       "75%                0.409231         0.278195         0.360902   \n",
       "max                1.000000         1.000000         1.000000   \n",
       "\n",
       "       A2C_since_Sep01  Response_since_Sep01   Decision_C   Decision_R  \\\n",
       "count      8912.000000           8912.000000  8912.000000  8912.000000   \n",
       "mean          0.194986              0.162295     0.953770     0.007855   \n",
       "std           0.188857              0.197542     0.209994     0.088282   \n",
       "min           0.000000              0.000000     0.000000     0.000000   \n",
       "25%           0.000000              0.000000     1.000000     0.000000   \n",
       "50%           0.179054              0.000000     1.000000     0.000000   \n",
       "75%           0.344595              0.332838     1.000000     0.000000   \n",
       "max           1.000000              1.000000     1.000000     1.000000   \n",
       "\n",
       "        Decision_U     eng_type  Ielts_Overall  Ielts_Listening  \\\n",
       "count  8912.000000  8912.000000    8912.000000      8912.000000   \n",
       "mean      0.038375     0.161355       0.022833         0.035028   \n",
       "std       0.192111     0.201174       0.045548         0.054960   \n",
       "min       0.000000     0.000000       0.000000         0.000000   \n",
       "25%       0.000000     0.000000       0.000000         0.000000   \n",
       "50%       0.000000     0.000000       0.000000         0.000000   \n",
       "75%       0.000000     0.333333       0.058252         0.088235   \n",
       "max       1.000000     1.000000       1.000000         1.000000   \n",
       "\n",
       "       Ielts_Reading  Ielts_Writing  Ielts_Speaking  Toefl_Overall  \\\n",
       "count    8912.000000    8912.000000     8912.000000    8912.000000   \n",
       "mean        0.034763       0.028641        0.029535       0.024027   \n",
       "std         0.054863       0.045626        0.046485       0.108454   \n",
       "min         0.000000       0.000000        0.000000       0.000000   \n",
       "25%         0.000000       0.000000        0.000000       0.000000   \n",
       "50%         0.000000       0.000000        0.000000       0.000000   \n",
       "75%         0.088235       0.082192        0.076389       0.000000   \n",
       "max         1.000000       1.000000        1.000000       1.000000   \n",
       "\n",
       "       Toefl_Listening  Toefl_Reading  Toefl_Writing  Toefl_Speaking  \\\n",
       "count      8912.000000    8912.000000    8912.000000     8912.000000   \n",
       "mean          0.010261       0.010739       0.009612        0.009288   \n",
       "std           0.048220       0.050130       0.045253        0.043789   \n",
       "min           0.000000       0.000000       0.000000        0.000000   \n",
       "25%           0.000000       0.000000       0.000000        0.000000   \n",
       "50%           0.000000       0.000000       0.000000        0.000000   \n",
       "75%           0.000000       0.000000       0.000000        0.000000   \n",
       "max           1.000000       1.000000       1.000000        1.000000   \n",
       "\n",
       "       PTE_Overall  PTE_Listening  PTE_Reading  PTE_Writing  PTE_Speaking  \\\n",
       "count  8912.000000    8912.000000  8912.000000  8912.000000   8912.000000   \n",
       "mean      0.002093       0.002225     0.002007     0.002142      0.002136   \n",
       "std       0.041229       0.043016     0.038854     0.041420      0.041501   \n",
       "min       0.000000       0.000000     0.000000     0.000000      0.000000   \n",
       "25%       0.000000       0.000000     0.000000     0.000000      0.000000   \n",
       "50%       0.000000       0.000000     0.000000     0.000000      0.000000   \n",
       "75%       0.000000       0.000000     0.000000     0.000000      0.000000   \n",
       "max       1.000000       1.000000     1.000000     1.000000      1.000000   \n",
       "\n",
       "       Institution_app_num  Institution_offer_num  Insti_weight    multi_app  \\\n",
       "count          8912.000000            8912.000000   8912.000000  8912.000000   \n",
       "mean              0.136725               0.111134      0.721747     0.037029   \n",
       "std               0.185772               0.160715      0.224381     0.108760   \n",
       "min               0.000000               0.000000      0.000000     0.000000   \n",
       "25%               0.008547               0.010753      0.565089     0.000000   \n",
       "50%               0.068376               0.053763      0.702918     0.000000   \n",
       "75%               0.188034               0.150538      1.000000     0.000000   \n",
       "max               1.000000               1.000000      1.000000     1.000000   \n",
       "\n",
       "         offer_num  Computer Science  Business School  \\\n",
       "count  8912.000000       8912.000000      8912.000000   \n",
       "mean      0.028725          0.109964         0.089879   \n",
       "std       0.094689          0.312863         0.286024   \n",
       "min       0.000000          0.000000         0.000000   \n",
       "25%       0.000000          0.000000         0.000000   \n",
       "50%       0.000000          0.000000         0.000000   \n",
       "75%       0.000000          0.000000         0.000000   \n",
       "max       1.000000          1.000000         1.000000   \n",
       "\n",
       "       Elec Elec and System Eng;Elec Elec and Sys Engineering  \\\n",
       "count                                        8912.000000        \n",
       "mean                                            0.108618        \n",
       "std                                             0.311176        \n",
       "min                                             0.000000        \n",
       "25%                                             0.000000        \n",
       "50%                                             0.000000        \n",
       "75%                                             0.000000        \n",
       "max                                             1.000000        \n",
       "\n",
       "       Metallurgy and Materials  Civil Engineering  \\\n",
       "count               8912.000000        8912.000000   \n",
       "mean                   0.348294           0.023900   \n",
       "std                    0.476457           0.152747   \n",
       "min                    0.000000           0.000000   \n",
       "25%                    0.000000           0.000000   \n",
       "50%                    0.000000           0.000000   \n",
       "75%                    1.000000           0.000000   \n",
       "max                    1.000000           1.000000   \n",
       "\n",
       "       School of Engineering;Elec Elec and Sys Engineering  \\\n",
       "count                                        8912.000000     \n",
       "mean                                            0.105364     \n",
       "std                                             0.307039     \n",
       "min                                             0.000000     \n",
       "25%                                             0.000000     \n",
       "50%                                             0.000000     \n",
       "75%                                             0.000000     \n",
       "max                                             1.000000     \n",
       "\n",
       "       Mechanical Engineering  Physics and Astronomy  Chemical Engineering  \\\n",
       "count             8912.000000            8912.000000           8912.000000   \n",
       "mean                 0.061490               0.041854              0.042864   \n",
       "std                  0.240241               0.200266              0.202561   \n",
       "min                  0.000000               0.000000              0.000000   \n",
       "25%                  0.000000               0.000000              0.000000   \n",
       "50%                  0.000000               0.000000              0.000000   \n",
       "75%                  0.000000               0.000000              0.000000   \n",
       "max                  1.000000               1.000000              1.000000   \n",
       "\n",
       "       Mathematics        Wiley  EPS College Hub  \n",
       "count  8912.000000  8912.000000      8912.000000  \n",
       "mean      0.014699     0.046791         0.006284  \n",
       "std       0.120353     0.211202         0.079025  \n",
       "min       0.000000     0.000000         0.000000  \n",
       "25%       0.000000     0.000000         0.000000  \n",
       "50%       0.000000     0.000000         0.000000  \n",
       "75%       0.000000     0.000000         0.000000  \n",
       "max       1.000000     1.000000         1.000000  "
      ]
     },
     "execution_count": 21,
     "metadata": {},
     "output_type": "execute_result"
    }
   ],
   "source": [
    "from sklearn.preprocessing import MinMaxScaler\n",
    "X1_normalized = X1.copy()\n",
    "scaler1 = MinMaxScaler() \n",
    "scaled_values = scaler1.fit_transform(X1) \n",
    "X1_normalized.loc[:,:] = scaled_values\n",
    "X1_normalized.to_pickle(\"X1/X1_normalized.pkl\") \n",
    "X1_normalized.describe()"
   ]
  },
  {
   "cell_type": "code",
   "execution_count": 22,
   "id": "74aa6c83-24ab-4ae3-829f-ea6091d7c3ee",
   "metadata": {},
   "outputs": [
    {
     "data": {
      "text/html": [
       "<div>\n",
       "<style scoped>\n",
       "    .dataframe tbody tr th:only-of-type {\n",
       "        vertical-align: middle;\n",
       "    }\n",
       "\n",
       "    .dataframe tbody tr th {\n",
       "        vertical-align: top;\n",
       "    }\n",
       "\n",
       "    .dataframe thead th {\n",
       "        text-align: right;\n",
       "    }\n",
       "</style>\n",
       "<table border=\"1\" class=\"dataframe\">\n",
       "  <thead>\n",
       "    <tr style=\"text-align: right;\">\n",
       "      <th></th>\n",
       "      <th>Programme</th>\n",
       "      <th>uob_alum</th>\n",
       "      <th>home_oversea</th>\n",
       "      <th>master_prev</th>\n",
       "      <th>distance</th>\n",
       "      <th>funding</th>\n",
       "      <th>Days at Admissions Review</th>\n",
       "      <th>Days in School</th>\n",
       "      <th>Days at Decision Stage</th>\n",
       "      <th>Total Days Admissions</th>\n",
       "      <th>TOTAL Days</th>\n",
       "      <th>Response days</th>\n",
       "      <th>decision_since_Sep01</th>\n",
       "      <th>A1C_since_Sep01</th>\n",
       "      <th>A1U_since_Sep01</th>\n",
       "      <th>A2C_since_Sep01</th>\n",
       "      <th>Response_since_Sep01</th>\n",
       "      <th>Decision_C</th>\n",
       "      <th>Decision_R</th>\n",
       "      <th>Decision_U</th>\n",
       "      <th>eng_type</th>\n",
       "      <th>Ielts_Overall</th>\n",
       "      <th>Ielts_Listening</th>\n",
       "      <th>Ielts_Reading</th>\n",
       "      <th>Ielts_Writing</th>\n",
       "      <th>Ielts_Speaking</th>\n",
       "      <th>Toefl_Overall</th>\n",
       "      <th>Toefl_Listening</th>\n",
       "      <th>Toefl_Reading</th>\n",
       "      <th>Toefl_Writing</th>\n",
       "      <th>Toefl_Speaking</th>\n",
       "      <th>PTE_Overall</th>\n",
       "      <th>PTE_Listening</th>\n",
       "      <th>PTE_Reading</th>\n",
       "      <th>PTE_Writing</th>\n",
       "      <th>PTE_Speaking</th>\n",
       "      <th>Institution_app_num</th>\n",
       "      <th>Institution_offer_num</th>\n",
       "      <th>Insti_weight</th>\n",
       "      <th>multi_app</th>\n",
       "      <th>offer_num</th>\n",
       "      <th>Computer Science</th>\n",
       "      <th>Business School</th>\n",
       "      <th>Elec Elec and System Eng;Elec Elec and Sys Engineering</th>\n",
       "      <th>Metallurgy and Materials</th>\n",
       "      <th>Civil Engineering</th>\n",
       "      <th>School of Engineering;Elec Elec and Sys Engineering</th>\n",
       "      <th>Mechanical Engineering</th>\n",
       "      <th>Physics and Astronomy</th>\n",
       "      <th>Chemical Engineering</th>\n",
       "      <th>Mathematics</th>\n",
       "      <th>Wiley</th>\n",
       "      <th>EPS College Hub</th>\n",
       "    </tr>\n",
       "  </thead>\n",
       "  <tbody>\n",
       "    <tr>\n",
       "      <th>count</th>\n",
       "      <td>8912.000000</td>\n",
       "      <td>8912.000000</td>\n",
       "      <td>8912.000000</td>\n",
       "      <td>8912.000000</td>\n",
       "      <td>8912.000000</td>\n",
       "      <td>8912.000000</td>\n",
       "      <td>8912.000000</td>\n",
       "      <td>8912.000000</td>\n",
       "      <td>8912.000000</td>\n",
       "      <td>8912.000000</td>\n",
       "      <td>8912.000000</td>\n",
       "      <td>8912.000000</td>\n",
       "      <td>8912.000000</td>\n",
       "      <td>8912.000000</td>\n",
       "      <td>8912.000000</td>\n",
       "      <td>8912.000000</td>\n",
       "      <td>8912.000000</td>\n",
       "      <td>8912.000000</td>\n",
       "      <td>8912.000000</td>\n",
       "      <td>8912.000000</td>\n",
       "      <td>8912.000000</td>\n",
       "      <td>8912.000000</td>\n",
       "      <td>8912.000000</td>\n",
       "      <td>8912.000000</td>\n",
       "      <td>8912.000000</td>\n",
       "      <td>8912.000000</td>\n",
       "      <td>8912.000000</td>\n",
       "      <td>8912.000000</td>\n",
       "      <td>8912.000000</td>\n",
       "      <td>8912.000000</td>\n",
       "      <td>8912.000000</td>\n",
       "      <td>8912.000000</td>\n",
       "      <td>8912.000000</td>\n",
       "      <td>8912.000000</td>\n",
       "      <td>8912.000000</td>\n",
       "      <td>8912.000000</td>\n",
       "      <td>8912.000000</td>\n",
       "      <td>8912.000000</td>\n",
       "      <td>8912.000000</td>\n",
       "      <td>8912.000000</td>\n",
       "      <td>8912.000000</td>\n",
       "      <td>8912.000000</td>\n",
       "      <td>8912.000000</td>\n",
       "      <td>8912.000000</td>\n",
       "      <td>8912.000000</td>\n",
       "      <td>8912.000000</td>\n",
       "      <td>8912.000000</td>\n",
       "      <td>8912.000000</td>\n",
       "      <td>8912.000000</td>\n",
       "      <td>8912.000000</td>\n",
       "      <td>8912.000000</td>\n",
       "      <td>8912.000000</td>\n",
       "      <td>8912.000000</td>\n",
       "    </tr>\n",
       "    <tr>\n",
       "      <th>mean</th>\n",
       "      <td>0.389613</td>\n",
       "      <td>0.010099</td>\n",
       "      <td>0.924372</td>\n",
       "      <td>0.057787</td>\n",
       "      <td>0.443908</td>\n",
       "      <td>0.033214</td>\n",
       "      <td>0.061153</td>\n",
       "      <td>0.020221</td>\n",
       "      <td>0.052169</td>\n",
       "      <td>0.079333</td>\n",
       "      <td>0.091537</td>\n",
       "      <td>0.026635</td>\n",
       "      <td>0.312395</td>\n",
       "      <td>0.185834</td>\n",
       "      <td>0.254126</td>\n",
       "      <td>0.194986</td>\n",
       "      <td>0.162295</td>\n",
       "      <td>0.953770</td>\n",
       "      <td>0.007855</td>\n",
       "      <td>0.038375</td>\n",
       "      <td>0.161355</td>\n",
       "      <td>0.022833</td>\n",
       "      <td>0.035028</td>\n",
       "      <td>0.034763</td>\n",
       "      <td>0.028641</td>\n",
       "      <td>0.029535</td>\n",
       "      <td>0.024027</td>\n",
       "      <td>0.010261</td>\n",
       "      <td>0.010739</td>\n",
       "      <td>0.009612</td>\n",
       "      <td>0.009288</td>\n",
       "      <td>0.002093</td>\n",
       "      <td>0.002225</td>\n",
       "      <td>0.002007</td>\n",
       "      <td>0.002142</td>\n",
       "      <td>0.002136</td>\n",
       "      <td>0.136725</td>\n",
       "      <td>0.111134</td>\n",
       "      <td>0.721747</td>\n",
       "      <td>0.037029</td>\n",
       "      <td>0.028725</td>\n",
       "      <td>0.109964</td>\n",
       "      <td>0.089879</td>\n",
       "      <td>0.108618</td>\n",
       "      <td>0.348294</td>\n",
       "      <td>0.023900</td>\n",
       "      <td>0.105364</td>\n",
       "      <td>0.061490</td>\n",
       "      <td>0.041854</td>\n",
       "      <td>0.042864</td>\n",
       "      <td>0.014699</td>\n",
       "      <td>0.046791</td>\n",
       "      <td>0.006284</td>\n",
       "    </tr>\n",
       "    <tr>\n",
       "      <th>std</th>\n",
       "      <td>0.208625</td>\n",
       "      <td>0.099989</td>\n",
       "      <td>0.264417</td>\n",
       "      <td>0.233354</td>\n",
       "      <td>0.120211</td>\n",
       "      <td>0.179204</td>\n",
       "      <td>0.053233</td>\n",
       "      <td>0.042268</td>\n",
       "      <td>0.055086</td>\n",
       "      <td>0.059757</td>\n",
       "      <td>0.066538</td>\n",
       "      <td>0.076858</td>\n",
       "      <td>0.139929</td>\n",
       "      <td>0.145178</td>\n",
       "      <td>0.157775</td>\n",
       "      <td>0.188857</td>\n",
       "      <td>0.197542</td>\n",
       "      <td>0.209994</td>\n",
       "      <td>0.088282</td>\n",
       "      <td>0.192111</td>\n",
       "      <td>0.201174</td>\n",
       "      <td>0.045548</td>\n",
       "      <td>0.054960</td>\n",
       "      <td>0.054863</td>\n",
       "      <td>0.045626</td>\n",
       "      <td>0.046485</td>\n",
       "      <td>0.108454</td>\n",
       "      <td>0.048220</td>\n",
       "      <td>0.050130</td>\n",
       "      <td>0.045253</td>\n",
       "      <td>0.043789</td>\n",
       "      <td>0.041229</td>\n",
       "      <td>0.043016</td>\n",
       "      <td>0.038854</td>\n",
       "      <td>0.041420</td>\n",
       "      <td>0.041501</td>\n",
       "      <td>0.185772</td>\n",
       "      <td>0.160715</td>\n",
       "      <td>0.224381</td>\n",
       "      <td>0.108760</td>\n",
       "      <td>0.094689</td>\n",
       "      <td>0.312863</td>\n",
       "      <td>0.286024</td>\n",
       "      <td>0.311176</td>\n",
       "      <td>0.476457</td>\n",
       "      <td>0.152747</td>\n",
       "      <td>0.307039</td>\n",
       "      <td>0.240241</td>\n",
       "      <td>0.200266</td>\n",
       "      <td>0.202561</td>\n",
       "      <td>0.120353</td>\n",
       "      <td>0.211202</td>\n",
       "      <td>0.079025</td>\n",
       "    </tr>\n",
       "    <tr>\n",
       "      <th>min</th>\n",
       "      <td>0.000000</td>\n",
       "      <td>0.000000</td>\n",
       "      <td>0.000000</td>\n",
       "      <td>0.000000</td>\n",
       "      <td>0.000000</td>\n",
       "      <td>0.000000</td>\n",
       "      <td>0.000000</td>\n",
       "      <td>0.000000</td>\n",
       "      <td>0.000000</td>\n",
       "      <td>0.000000</td>\n",
       "      <td>0.000000</td>\n",
       "      <td>0.000000</td>\n",
       "      <td>0.000000</td>\n",
       "      <td>0.000000</td>\n",
       "      <td>0.000000</td>\n",
       "      <td>0.000000</td>\n",
       "      <td>0.000000</td>\n",
       "      <td>0.000000</td>\n",
       "      <td>0.000000</td>\n",
       "      <td>0.000000</td>\n",
       "      <td>0.000000</td>\n",
       "      <td>0.000000</td>\n",
       "      <td>0.000000</td>\n",
       "      <td>0.000000</td>\n",
       "      <td>0.000000</td>\n",
       "      <td>0.000000</td>\n",
       "      <td>0.000000</td>\n",
       "      <td>0.000000</td>\n",
       "      <td>0.000000</td>\n",
       "      <td>0.000000</td>\n",
       "      <td>0.000000</td>\n",
       "      <td>0.000000</td>\n",
       "      <td>0.000000</td>\n",
       "      <td>0.000000</td>\n",
       "      <td>0.000000</td>\n",
       "      <td>0.000000</td>\n",
       "      <td>0.000000</td>\n",
       "      <td>0.000000</td>\n",
       "      <td>0.000000</td>\n",
       "      <td>0.000000</td>\n",
       "      <td>0.000000</td>\n",
       "      <td>0.000000</td>\n",
       "      <td>0.000000</td>\n",
       "      <td>0.000000</td>\n",
       "      <td>0.000000</td>\n",
       "      <td>0.000000</td>\n",
       "      <td>0.000000</td>\n",
       "      <td>0.000000</td>\n",
       "      <td>0.000000</td>\n",
       "      <td>0.000000</td>\n",
       "      <td>0.000000</td>\n",
       "      <td>0.000000</td>\n",
       "      <td>0.000000</td>\n",
       "    </tr>\n",
       "    <tr>\n",
       "      <th>25%</th>\n",
       "      <td>0.230000</td>\n",
       "      <td>0.000000</td>\n",
       "      <td>1.000000</td>\n",
       "      <td>0.000000</td>\n",
       "      <td>0.476992</td>\n",
       "      <td>0.000000</td>\n",
       "      <td>0.014805</td>\n",
       "      <td>0.000000</td>\n",
       "      <td>0.000000</td>\n",
       "      <td>0.029451</td>\n",
       "      <td>0.035857</td>\n",
       "      <td>0.000000</td>\n",
       "      <td>0.224615</td>\n",
       "      <td>0.076692</td>\n",
       "      <td>0.132331</td>\n",
       "      <td>0.000000</td>\n",
       "      <td>0.000000</td>\n",
       "      <td>1.000000</td>\n",
       "      <td>0.000000</td>\n",
       "      <td>0.000000</td>\n",
       "      <td>0.000000</td>\n",
       "      <td>0.000000</td>\n",
       "      <td>0.000000</td>\n",
       "      <td>0.000000</td>\n",
       "      <td>0.000000</td>\n",
       "      <td>0.000000</td>\n",
       "      <td>0.000000</td>\n",
       "      <td>0.000000</td>\n",
       "      <td>0.000000</td>\n",
       "      <td>0.000000</td>\n",
       "      <td>0.000000</td>\n",
       "      <td>0.000000</td>\n",
       "      <td>0.000000</td>\n",
       "      <td>0.000000</td>\n",
       "      <td>0.000000</td>\n",
       "      <td>0.000000</td>\n",
       "      <td>0.008547</td>\n",
       "      <td>0.010753</td>\n",
       "      <td>0.565089</td>\n",
       "      <td>0.000000</td>\n",
       "      <td>0.000000</td>\n",
       "      <td>0.000000</td>\n",
       "      <td>0.000000</td>\n",
       "      <td>0.000000</td>\n",
       "      <td>0.000000</td>\n",
       "      <td>0.000000</td>\n",
       "      <td>0.000000</td>\n",
       "      <td>0.000000</td>\n",
       "      <td>0.000000</td>\n",
       "      <td>0.000000</td>\n",
       "      <td>0.000000</td>\n",
       "      <td>0.000000</td>\n",
       "      <td>0.000000</td>\n",
       "    </tr>\n",
       "    <tr>\n",
       "      <th>50%</th>\n",
       "      <td>0.400000</td>\n",
       "      <td>0.000000</td>\n",
       "      <td>1.000000</td>\n",
       "      <td>0.000000</td>\n",
       "      <td>0.476992</td>\n",
       "      <td>0.000000</td>\n",
       "      <td>0.055182</td>\n",
       "      <td>0.004184</td>\n",
       "      <td>0.045283</td>\n",
       "      <td>0.072289</td>\n",
       "      <td>0.086321</td>\n",
       "      <td>0.000000</td>\n",
       "      <td>0.326154</td>\n",
       "      <td>0.145865</td>\n",
       "      <td>0.255639</td>\n",
       "      <td>0.179054</td>\n",
       "      <td>0.000000</td>\n",
       "      <td>1.000000</td>\n",
       "      <td>0.000000</td>\n",
       "      <td>0.000000</td>\n",
       "      <td>0.000000</td>\n",
       "      <td>0.000000</td>\n",
       "      <td>0.000000</td>\n",
       "      <td>0.000000</td>\n",
       "      <td>0.000000</td>\n",
       "      <td>0.000000</td>\n",
       "      <td>0.000000</td>\n",
       "      <td>0.000000</td>\n",
       "      <td>0.000000</td>\n",
       "      <td>0.000000</td>\n",
       "      <td>0.000000</td>\n",
       "      <td>0.000000</td>\n",
       "      <td>0.000000</td>\n",
       "      <td>0.000000</td>\n",
       "      <td>0.000000</td>\n",
       "      <td>0.000000</td>\n",
       "      <td>0.068376</td>\n",
       "      <td>0.053763</td>\n",
       "      <td>0.702918</td>\n",
       "      <td>0.000000</td>\n",
       "      <td>0.000000</td>\n",
       "      <td>0.000000</td>\n",
       "      <td>0.000000</td>\n",
       "      <td>0.000000</td>\n",
       "      <td>0.000000</td>\n",
       "      <td>0.000000</td>\n",
       "      <td>0.000000</td>\n",
       "      <td>0.000000</td>\n",
       "      <td>0.000000</td>\n",
       "      <td>0.000000</td>\n",
       "      <td>0.000000</td>\n",
       "      <td>0.000000</td>\n",
       "      <td>0.000000</td>\n",
       "    </tr>\n",
       "    <tr>\n",
       "      <th>75%</th>\n",
       "      <td>0.500000</td>\n",
       "      <td>0.000000</td>\n",
       "      <td>1.000000</td>\n",
       "      <td>0.000000</td>\n",
       "      <td>0.476992</td>\n",
       "      <td>0.000000</td>\n",
       "      <td>0.103634</td>\n",
       "      <td>0.027720</td>\n",
       "      <td>0.090566</td>\n",
       "      <td>0.121821</td>\n",
       "      <td>0.136786</td>\n",
       "      <td>0.009050</td>\n",
       "      <td>0.409231</td>\n",
       "      <td>0.278195</td>\n",
       "      <td>0.360902</td>\n",
       "      <td>0.344595</td>\n",
       "      <td>0.332838</td>\n",
       "      <td>1.000000</td>\n",
       "      <td>0.000000</td>\n",
       "      <td>0.000000</td>\n",
       "      <td>0.333333</td>\n",
       "      <td>0.058252</td>\n",
       "      <td>0.088235</td>\n",
       "      <td>0.088235</td>\n",
       "      <td>0.082192</td>\n",
       "      <td>0.076389</td>\n",
       "      <td>0.000000</td>\n",
       "      <td>0.000000</td>\n",
       "      <td>0.000000</td>\n",
       "      <td>0.000000</td>\n",
       "      <td>0.000000</td>\n",
       "      <td>0.000000</td>\n",
       "      <td>0.000000</td>\n",
       "      <td>0.000000</td>\n",
       "      <td>0.000000</td>\n",
       "      <td>0.000000</td>\n",
       "      <td>0.188034</td>\n",
       "      <td>0.150538</td>\n",
       "      <td>1.000000</td>\n",
       "      <td>0.000000</td>\n",
       "      <td>0.000000</td>\n",
       "      <td>0.000000</td>\n",
       "      <td>0.000000</td>\n",
       "      <td>0.000000</td>\n",
       "      <td>1.000000</td>\n",
       "      <td>0.000000</td>\n",
       "      <td>0.000000</td>\n",
       "      <td>0.000000</td>\n",
       "      <td>0.000000</td>\n",
       "      <td>0.000000</td>\n",
       "      <td>0.000000</td>\n",
       "      <td>0.000000</td>\n",
       "      <td>0.000000</td>\n",
       "    </tr>\n",
       "    <tr>\n",
       "      <th>max</th>\n",
       "      <td>1.000000</td>\n",
       "      <td>1.000000</td>\n",
       "      <td>1.000000</td>\n",
       "      <td>1.000000</td>\n",
       "      <td>1.000000</td>\n",
       "      <td>1.000000</td>\n",
       "      <td>1.000000</td>\n",
       "      <td>1.000000</td>\n",
       "      <td>1.000000</td>\n",
       "      <td>1.000000</td>\n",
       "      <td>1.000000</td>\n",
       "      <td>1.000000</td>\n",
       "      <td>1.000000</td>\n",
       "      <td>1.000000</td>\n",
       "      <td>1.000000</td>\n",
       "      <td>1.000000</td>\n",
       "      <td>1.000000</td>\n",
       "      <td>1.000000</td>\n",
       "      <td>1.000000</td>\n",
       "      <td>1.000000</td>\n",
       "      <td>1.000000</td>\n",
       "      <td>1.000000</td>\n",
       "      <td>1.000000</td>\n",
       "      <td>1.000000</td>\n",
       "      <td>1.000000</td>\n",
       "      <td>1.000000</td>\n",
       "      <td>1.000000</td>\n",
       "      <td>1.000000</td>\n",
       "      <td>1.000000</td>\n",
       "      <td>1.000000</td>\n",
       "      <td>1.000000</td>\n",
       "      <td>1.000000</td>\n",
       "      <td>1.000000</td>\n",
       "      <td>1.000000</td>\n",
       "      <td>1.000000</td>\n",
       "      <td>1.000000</td>\n",
       "      <td>1.000000</td>\n",
       "      <td>1.000000</td>\n",
       "      <td>1.000000</td>\n",
       "      <td>1.000000</td>\n",
       "      <td>1.000000</td>\n",
       "      <td>1.000000</td>\n",
       "      <td>1.000000</td>\n",
       "      <td>1.000000</td>\n",
       "      <td>1.000000</td>\n",
       "      <td>1.000000</td>\n",
       "      <td>1.000000</td>\n",
       "      <td>1.000000</td>\n",
       "      <td>1.000000</td>\n",
       "      <td>1.000000</td>\n",
       "      <td>1.000000</td>\n",
       "      <td>1.000000</td>\n",
       "      <td>1.000000</td>\n",
       "    </tr>\n",
       "  </tbody>\n",
       "</table>\n",
       "</div>"
      ],
      "text/plain": [
       "         Programme     uob_alum  home_oversea  master_prev     distance  \\\n",
       "count  8912.000000  8912.000000   8912.000000  8912.000000  8912.000000   \n",
       "mean      0.389613     0.010099      0.924372     0.057787     0.443908   \n",
       "std       0.208625     0.099989      0.264417     0.233354     0.120211   \n",
       "min       0.000000     0.000000      0.000000     0.000000     0.000000   \n",
       "25%       0.230000     0.000000      1.000000     0.000000     0.476992   \n",
       "50%       0.400000     0.000000      1.000000     0.000000     0.476992   \n",
       "75%       0.500000     0.000000      1.000000     0.000000     0.476992   \n",
       "max       1.000000     1.000000      1.000000     1.000000     1.000000   \n",
       "\n",
       "           funding  Days at Admissions Review  Days in School  \\\n",
       "count  8912.000000                8912.000000     8912.000000   \n",
       "mean      0.033214                   0.061153        0.020221   \n",
       "std       0.179204                   0.053233        0.042268   \n",
       "min       0.000000                   0.000000        0.000000   \n",
       "25%       0.000000                   0.014805        0.000000   \n",
       "50%       0.000000                   0.055182        0.004184   \n",
       "75%       0.000000                   0.103634        0.027720   \n",
       "max       1.000000                   1.000000        1.000000   \n",
       "\n",
       "       Days at Decision Stage  Total Days Admissions   TOTAL Days  \\\n",
       "count             8912.000000            8912.000000  8912.000000   \n",
       "mean                 0.052169               0.079333     0.091537   \n",
       "std                  0.055086               0.059757     0.066538   \n",
       "min                  0.000000               0.000000     0.000000   \n",
       "25%                  0.000000               0.029451     0.035857   \n",
       "50%                  0.045283               0.072289     0.086321   \n",
       "75%                  0.090566               0.121821     0.136786   \n",
       "max                  1.000000               1.000000     1.000000   \n",
       "\n",
       "       Response days  decision_since_Sep01  A1C_since_Sep01  A1U_since_Sep01  \\\n",
       "count    8912.000000           8912.000000      8912.000000      8912.000000   \n",
       "mean        0.026635              0.312395         0.185834         0.254126   \n",
       "std         0.076858              0.139929         0.145178         0.157775   \n",
       "min         0.000000              0.000000         0.000000         0.000000   \n",
       "25%         0.000000              0.224615         0.076692         0.132331   \n",
       "50%         0.000000              0.326154         0.145865         0.255639   \n",
       "75%         0.009050              0.409231         0.278195         0.360902   \n",
       "max         1.000000              1.000000         1.000000         1.000000   \n",
       "\n",
       "       A2C_since_Sep01  Response_since_Sep01   Decision_C   Decision_R  \\\n",
       "count      8912.000000           8912.000000  8912.000000  8912.000000   \n",
       "mean          0.194986              0.162295     0.953770     0.007855   \n",
       "std           0.188857              0.197542     0.209994     0.088282   \n",
       "min           0.000000              0.000000     0.000000     0.000000   \n",
       "25%           0.000000              0.000000     1.000000     0.000000   \n",
       "50%           0.179054              0.000000     1.000000     0.000000   \n",
       "75%           0.344595              0.332838     1.000000     0.000000   \n",
       "max           1.000000              1.000000     1.000000     1.000000   \n",
       "\n",
       "        Decision_U     eng_type  Ielts_Overall  Ielts_Listening  \\\n",
       "count  8912.000000  8912.000000    8912.000000      8912.000000   \n",
       "mean      0.038375     0.161355       0.022833         0.035028   \n",
       "std       0.192111     0.201174       0.045548         0.054960   \n",
       "min       0.000000     0.000000       0.000000         0.000000   \n",
       "25%       0.000000     0.000000       0.000000         0.000000   \n",
       "50%       0.000000     0.000000       0.000000         0.000000   \n",
       "75%       0.000000     0.333333       0.058252         0.088235   \n",
       "max       1.000000     1.000000       1.000000         1.000000   \n",
       "\n",
       "       Ielts_Reading  Ielts_Writing  Ielts_Speaking  Toefl_Overall  \\\n",
       "count    8912.000000    8912.000000     8912.000000    8912.000000   \n",
       "mean        0.034763       0.028641        0.029535       0.024027   \n",
       "std         0.054863       0.045626        0.046485       0.108454   \n",
       "min         0.000000       0.000000        0.000000       0.000000   \n",
       "25%         0.000000       0.000000        0.000000       0.000000   \n",
       "50%         0.000000       0.000000        0.000000       0.000000   \n",
       "75%         0.088235       0.082192        0.076389       0.000000   \n",
       "max         1.000000       1.000000        1.000000       1.000000   \n",
       "\n",
       "       Toefl_Listening  Toefl_Reading  Toefl_Writing  Toefl_Speaking  \\\n",
       "count      8912.000000    8912.000000    8912.000000     8912.000000   \n",
       "mean          0.010261       0.010739       0.009612        0.009288   \n",
       "std           0.048220       0.050130       0.045253        0.043789   \n",
       "min           0.000000       0.000000       0.000000        0.000000   \n",
       "25%           0.000000       0.000000       0.000000        0.000000   \n",
       "50%           0.000000       0.000000       0.000000        0.000000   \n",
       "75%           0.000000       0.000000       0.000000        0.000000   \n",
       "max           1.000000       1.000000       1.000000        1.000000   \n",
       "\n",
       "       PTE_Overall  PTE_Listening  PTE_Reading  PTE_Writing  PTE_Speaking  \\\n",
       "count  8912.000000    8912.000000  8912.000000  8912.000000   8912.000000   \n",
       "mean      0.002093       0.002225     0.002007     0.002142      0.002136   \n",
       "std       0.041229       0.043016     0.038854     0.041420      0.041501   \n",
       "min       0.000000       0.000000     0.000000     0.000000      0.000000   \n",
       "25%       0.000000       0.000000     0.000000     0.000000      0.000000   \n",
       "50%       0.000000       0.000000     0.000000     0.000000      0.000000   \n",
       "75%       0.000000       0.000000     0.000000     0.000000      0.000000   \n",
       "max       1.000000       1.000000     1.000000     1.000000      1.000000   \n",
       "\n",
       "       Institution_app_num  Institution_offer_num  Insti_weight    multi_app  \\\n",
       "count          8912.000000            8912.000000   8912.000000  8912.000000   \n",
       "mean              0.136725               0.111134      0.721747     0.037029   \n",
       "std               0.185772               0.160715      0.224381     0.108760   \n",
       "min               0.000000               0.000000      0.000000     0.000000   \n",
       "25%               0.008547               0.010753      0.565089     0.000000   \n",
       "50%               0.068376               0.053763      0.702918     0.000000   \n",
       "75%               0.188034               0.150538      1.000000     0.000000   \n",
       "max               1.000000               1.000000      1.000000     1.000000   \n",
       "\n",
       "         offer_num  Computer Science  Business School  \\\n",
       "count  8912.000000       8912.000000      8912.000000   \n",
       "mean      0.028725          0.109964         0.089879   \n",
       "std       0.094689          0.312863         0.286024   \n",
       "min       0.000000          0.000000         0.000000   \n",
       "25%       0.000000          0.000000         0.000000   \n",
       "50%       0.000000          0.000000         0.000000   \n",
       "75%       0.000000          0.000000         0.000000   \n",
       "max       1.000000          1.000000         1.000000   \n",
       "\n",
       "       Elec Elec and System Eng;Elec Elec and Sys Engineering  \\\n",
       "count                                        8912.000000        \n",
       "mean                                            0.108618        \n",
       "std                                             0.311176        \n",
       "min                                             0.000000        \n",
       "25%                                             0.000000        \n",
       "50%                                             0.000000        \n",
       "75%                                             0.000000        \n",
       "max                                             1.000000        \n",
       "\n",
       "       Metallurgy and Materials  Civil Engineering  \\\n",
       "count               8912.000000        8912.000000   \n",
       "mean                   0.348294           0.023900   \n",
       "std                    0.476457           0.152747   \n",
       "min                    0.000000           0.000000   \n",
       "25%                    0.000000           0.000000   \n",
       "50%                    0.000000           0.000000   \n",
       "75%                    1.000000           0.000000   \n",
       "max                    1.000000           1.000000   \n",
       "\n",
       "       School of Engineering;Elec Elec and Sys Engineering  \\\n",
       "count                                        8912.000000     \n",
       "mean                                            0.105364     \n",
       "std                                             0.307039     \n",
       "min                                             0.000000     \n",
       "25%                                             0.000000     \n",
       "50%                                             0.000000     \n",
       "75%                                             0.000000     \n",
       "max                                             1.000000     \n",
       "\n",
       "       Mechanical Engineering  Physics and Astronomy  Chemical Engineering  \\\n",
       "count             8912.000000            8912.000000           8912.000000   \n",
       "mean                 0.061490               0.041854              0.042864   \n",
       "std                  0.240241               0.200266              0.202561   \n",
       "min                  0.000000               0.000000              0.000000   \n",
       "25%                  0.000000               0.000000              0.000000   \n",
       "50%                  0.000000               0.000000              0.000000   \n",
       "75%                  0.000000               0.000000              0.000000   \n",
       "max                  1.000000               1.000000              1.000000   \n",
       "\n",
       "       Mathematics        Wiley  EPS College Hub  \n",
       "count  8912.000000  8912.000000      8912.000000  \n",
       "mean      0.014699     0.046791         0.006284  \n",
       "std       0.120353     0.211202         0.079025  \n",
       "min       0.000000     0.000000         0.000000  \n",
       "25%       0.000000     0.000000         0.000000  \n",
       "50%       0.000000     0.000000         0.000000  \n",
       "75%       0.000000     0.000000         0.000000  \n",
       "max       1.000000     1.000000         1.000000  "
      ]
     },
     "execution_count": 22,
     "metadata": {},
     "output_type": "execute_result"
    }
   ],
   "source": [
    "from sklearn.preprocessing import MinMaxScaler\n",
    "X2_normalized = X2.copy()\n",
    "scaler2 = MinMaxScaler() \n",
    "scaled_values = scaler2.fit_transform(X2) \n",
    "X2_normalized.loc[:,:] = scaled_values\n",
    "X2_normalized.to_pickle(\"X2/X2_normalized.pkl\") \n",
    "X2_normalized.describe()"
   ]
  },
  {
   "cell_type": "code",
   "execution_count": 23,
   "id": "c86b53c4-e9e3-4f9b-8bd5-56e750abf944",
   "metadata": {},
   "outputs": [
    {
     "data": {
      "text/html": [
       "<div>\n",
       "<style scoped>\n",
       "    .dataframe tbody tr th:only-of-type {\n",
       "        vertical-align: middle;\n",
       "    }\n",
       "\n",
       "    .dataframe tbody tr th {\n",
       "        vertical-align: top;\n",
       "    }\n",
       "\n",
       "    .dataframe thead th {\n",
       "        text-align: right;\n",
       "    }\n",
       "</style>\n",
       "<table border=\"1\" class=\"dataframe\">\n",
       "  <thead>\n",
       "    <tr style=\"text-align: right;\">\n",
       "      <th></th>\n",
       "      <th>uob_alum</th>\n",
       "      <th>home_oversea</th>\n",
       "      <th>master_prev</th>\n",
       "      <th>distance</th>\n",
       "      <th>funding</th>\n",
       "      <th>Days at Admissions Review</th>\n",
       "      <th>Days in School</th>\n",
       "      <th>Days at Decision Stage</th>\n",
       "      <th>Total Days Admissions</th>\n",
       "      <th>TOTAL Days</th>\n",
       "      <th>Response days</th>\n",
       "      <th>decision_since_Sep01</th>\n",
       "      <th>A1C_since_Sep01</th>\n",
       "      <th>A1U_since_Sep01</th>\n",
       "      <th>A2C_since_Sep01</th>\n",
       "      <th>Response_since_Sep01</th>\n",
       "      <th>Decision_C</th>\n",
       "      <th>Decision_R</th>\n",
       "      <th>Decision_U</th>\n",
       "      <th>eng_type</th>\n",
       "      <th>Ielts_Overall</th>\n",
       "      <th>Ielts_Listening</th>\n",
       "      <th>Ielts_Reading</th>\n",
       "      <th>Ielts_Writing</th>\n",
       "      <th>Ielts_Speaking</th>\n",
       "      <th>Toefl_Overall</th>\n",
       "      <th>Toefl_Listening</th>\n",
       "      <th>Toefl_Reading</th>\n",
       "      <th>Toefl_Writing</th>\n",
       "      <th>Toefl_Speaking</th>\n",
       "      <th>PTE_Overall</th>\n",
       "      <th>PTE_Listening</th>\n",
       "      <th>PTE_Reading</th>\n",
       "      <th>PTE_Writing</th>\n",
       "      <th>PTE_Speaking</th>\n",
       "      <th>Institution_app_num</th>\n",
       "      <th>Institution_offer_num</th>\n",
       "      <th>Insti_weight</th>\n",
       "      <th>multi_app</th>\n",
       "      <th>offer_num</th>\n",
       "      <th>Computer Science</th>\n",
       "      <th>Business School</th>\n",
       "      <th>Elec Elec and System Eng;Elec Elec and Sys Engineering</th>\n",
       "      <th>Metallurgy and Materials</th>\n",
       "      <th>Civil Engineering</th>\n",
       "      <th>School of Engineering;Elec Elec and Sys Engineering</th>\n",
       "      <th>Mechanical Engineering</th>\n",
       "      <th>Physics and Astronomy</th>\n",
       "      <th>Chemical Engineering</th>\n",
       "      <th>Mathematics</th>\n",
       "      <th>Wiley</th>\n",
       "      <th>EPS College Hub</th>\n",
       "      <th>MSc Computer Science FT</th>\n",
       "      <th>MSc Adv Eng Man (Constr Man)FT</th>\n",
       "      <th>MSc Elec + Computer Eng FT</th>\n",
       "      <th>MSc Artific Int &amp; Mach Lear FT</th>\n",
       "      <th>MSc Human-Computer Interact FT</th>\n",
       "      <th>MSc Data Science FT</th>\n",
       "      <th>MSc Material Sci + Engineer FT</th>\n",
       "      <th>MSc Adv Eng Man (Projec Man)FT</th>\n",
       "      <th>MSc Structural Engineering (FT)</th>\n",
       "      <th>MSc Electric Power Systems FT</th>\n",
       "      <th>MSc Rail Sys Eng+Int w Pre FT</th>\n",
       "      <th>MSc Adv Eng Man (Generalist)FT</th>\n",
       "      <th>MSc Communications Engineer FT</th>\n",
       "      <th>MSc Advanced Mech Eng FT</th>\n",
       "      <th>MSc Phys + Tech Nuc React FT</th>\n",
       "      <th>MSc Civil Engineering PT Dubai</th>\n",
       "      <th>MSc Civil Engineering FT</th>\n",
       "      <th>MSc Advanced Chemical Eng FT</th>\n",
       "      <th>MSc Cyber Security FT</th>\n",
       "      <th>MSc Advanced Computer Sc FT</th>\n",
       "      <th>MSc Global Energy Technologies and Systems FT</th>\n",
       "      <th>MEng Comp Sci Sof En FT (Dub)</th>\n",
       "      <th>BSc Computer Sci FT (Dubai)</th>\n",
       "      <th>MSc Applied Mathematics FT</th>\n",
       "      <th>MSc MORSE FT</th>\n",
       "      <th>MSc Robotics FT</th>\n",
       "      <th>MSc Art Int + Comp Sc PT (Dub)</th>\n",
       "      <th>MSc Nuclear Decom Waste Man FT</th>\n",
       "      <th>PGCert Des Lear Env DL PT</th>\n",
       "      <th>BIA Engin Phys Sci 4Yr (Dubai)</th>\n",
       "      <th>BSc Art Intel and Comp Sci FT Dubai</th>\n",
       "      <th>MSc Adv Eng Man (Operat Man)FT</th>\n",
       "      <th>MSc Advanced Chemical Engineering with Energy FT</th>\n",
       "      <th>MSc Art Int + Comp Sc FT (Dub)</th>\n",
       "      <th>BIA Engineering Physical Sciences 43m Jan Dubai</th>\n",
       "      <th>MSc Geotechnical Eng FT</th>\n",
       "      <th>MSc Civ Eng and Management FT</th>\n",
       "      <th>MSc Computer Science PT (Dub)</th>\n",
       "      <th>MSc Geotechnical Eng + Mgt FT</th>\n",
       "      <th>MSc Industrial Project Man. PT Blended Learning</th>\n",
       "      <th>MSc Advanced Chemical Eng with Bioprocessing FT</th>\n",
       "      <th>MSc Food Safety; Hyg + Man FT</th>\n",
       "      <th>MSc Financial Engineering FT</th>\n",
       "      <th>MSc Formulation Engineering FT</th>\n",
       "      <th>MSc Elec Pow Syst w Adv Res FT</th>\n",
       "      <th>MSc Computer Science FT(Dubai)</th>\n",
       "      <th>MSc Road Mgt + Eng FT</th>\n",
       "      <th>MSc Fue Cel + Hyd Tec Blend FT</th>\n",
       "      <th>MSc Adv Chem Eng w Form FT</th>\n",
       "      <th>PGDip Adv Chem Eng with Healthcare Technology FT</th>\n",
       "      <th>BEng Mechanical Eng FT (Dubai)</th>\n",
       "      <th>MSc Rail Sys Eng + Int PT DA</th>\n",
       "      <th>MSc Civ Eng and Management PT</th>\n",
       "      <th>MSc Healthcare Technology FT</th>\n",
       "      <th>MSc Structural Engineering PT</th>\n",
       "      <th>MSc Rail Safe + Control Sys FT</th>\n",
       "      <th>MSc Rail Saf+Con Sys (Flex) DL</th>\n",
       "      <th>MSc Rail System Engin Integ DL</th>\n",
       "      <th>MSc Adv Eng Man (System Man)FT</th>\n",
       "      <th>MSc Civil Engineering Dubai (January) PT</th>\n",
       "      <th>MSc Advanced Mech Eng PT</th>\n",
       "      <th>MSc Civil Engineering PT</th>\n",
       "      <th>MSc Mathematical Finance FT</th>\n",
       "      <th>MSc Rail Sys Eng Inte DL Fixed</th>\n",
       "      <th>MSc Rail Systems Engin Int FT</th>\n",
       "      <th>MSc Civil Engineering FT Dubai</th>\n",
       "      <th>PGDip Art In + Com Sc FT (Dub)</th>\n",
       "      <th>PGDip Computer Scien FT(Dubai)</th>\n",
       "      <th>MSc Civil Engineering Part Time Fixed Duration</th>\n",
       "      <th>MSc Advanced Chemical Eng PT</th>\n",
       "      <th>MSc Adv Eng Man (Projec Man)PT</th>\n",
       "      <th>MSc Road Mgt + Eng PT</th>\n",
       "      <th>PGDip Rail Safe + Cont Sys FT</th>\n",
       "      <th>MSc Rail Saf+Con Sys DL Fixed</th>\n",
       "      <th>MSc Geotechnical Eng PT</th>\n",
       "      <th>MSc Adv Eng Man (Constr Man)PT</th>\n",
       "      <th>MSc Food Safety, Hyg + Man PT</th>\n",
       "      <th>MSc Phys + Tech Nuc React PT</th>\n",
       "      <th>PGCert Rail Sa+Co Sy (Flex) DL</th>\n",
       "      <th>MSc Advanced Chemical Engineering with Form PT</th>\n",
       "      <th>MSc Adv Eng Man (Generalist)PT</th>\n",
       "      <th>MSc Fue Cel + Hyd Tec Blend PT</th>\n",
       "      <th>MSc Adv Chem Eng with Healthcare Technology FT</th>\n",
       "      <th>MSc Rail Safe+Cont Sy w Pre FT</th>\n",
       "      <th>PGCert Rail Syst Eng Integ DL</th>\n",
       "      <th>PGCert Rail Systems Eng Int FT</th>\n",
       "      <th>MSc Civil Enginee FT Jan Dubai</th>\n",
       "      <th>MSc Adv Eng Man (Operat Man)PT</th>\n",
       "      <th>PGDip Civ Eng &amp; Management FT</th>\n",
       "      <th>PGDip Road Mgt + Eng FT</th>\n",
       "      <th>MSc Geotechnical Engineering (PT; Fixed Duration)</th>\n",
       "      <th>PG MC Fuel Cell + Hyd Tech MC</th>\n",
       "      <th>MSc Communications Engineer PT</th>\n",
       "      <th>MSc Nuclear Decom Waste Man PT</th>\n",
       "      <th>PGDip Healthcare Technology FT</th>\n",
       "      <th>MSc Electric Power Systems PT</th>\n",
       "      <th>PGDip Rail Systems Eng Int FT</th>\n",
       "      <th>MSc Elec + Computer Eng PT</th>\n",
       "      <th>PGDip Civil Eng  FT (Dubai)</th>\n",
       "      <th>PGDip Art In + Com Sc PT (Dub)</th>\n",
       "      <th>PGDip Advanced Chemical Eng FT</th>\n",
       "    </tr>\n",
       "  </thead>\n",
       "  <tbody>\n",
       "    <tr>\n",
       "      <th>count</th>\n",
       "      <td>8912.000000</td>\n",
       "      <td>8912.000000</td>\n",
       "      <td>8912.000000</td>\n",
       "      <td>8912.000000</td>\n",
       "      <td>8912.000000</td>\n",
       "      <td>8912.000000</td>\n",
       "      <td>8912.000000</td>\n",
       "      <td>8912.000000</td>\n",
       "      <td>8912.000000</td>\n",
       "      <td>8912.000000</td>\n",
       "      <td>8912.000000</td>\n",
       "      <td>8912.000000</td>\n",
       "      <td>8912.000000</td>\n",
       "      <td>8912.000000</td>\n",
       "      <td>8912.000000</td>\n",
       "      <td>8912.000000</td>\n",
       "      <td>8912.000000</td>\n",
       "      <td>8912.000000</td>\n",
       "      <td>8912.000000</td>\n",
       "      <td>8912.000000</td>\n",
       "      <td>8912.000000</td>\n",
       "      <td>8912.000000</td>\n",
       "      <td>8912.000000</td>\n",
       "      <td>8912.000000</td>\n",
       "      <td>8912.000000</td>\n",
       "      <td>8912.000000</td>\n",
       "      <td>8912.000000</td>\n",
       "      <td>8912.000000</td>\n",
       "      <td>8912.000000</td>\n",
       "      <td>8912.000000</td>\n",
       "      <td>8912.000000</td>\n",
       "      <td>8912.000000</td>\n",
       "      <td>8912.000000</td>\n",
       "      <td>8912.000000</td>\n",
       "      <td>8912.000000</td>\n",
       "      <td>8912.000000</td>\n",
       "      <td>8912.000000</td>\n",
       "      <td>8912.000000</td>\n",
       "      <td>8912.000000</td>\n",
       "      <td>8912.000000</td>\n",
       "      <td>8912.000000</td>\n",
       "      <td>8912.000000</td>\n",
       "      <td>8912.000000</td>\n",
       "      <td>8912.000000</td>\n",
       "      <td>8912.000000</td>\n",
       "      <td>8912.000000</td>\n",
       "      <td>8912.000000</td>\n",
       "      <td>8912.000000</td>\n",
       "      <td>8912.000000</td>\n",
       "      <td>8912.000000</td>\n",
       "      <td>8912.000000</td>\n",
       "      <td>8912.000000</td>\n",
       "      <td>8912.000000</td>\n",
       "      <td>8912.000000</td>\n",
       "      <td>8912.000000</td>\n",
       "      <td>8912.000000</td>\n",
       "      <td>8912.000000</td>\n",
       "      <td>8912.000000</td>\n",
       "      <td>8912.000000</td>\n",
       "      <td>8912.000000</td>\n",
       "      <td>8912.000000</td>\n",
       "      <td>8912.000000</td>\n",
       "      <td>8912.000000</td>\n",
       "      <td>8912.000000</td>\n",
       "      <td>8912.000000</td>\n",
       "      <td>8912.000000</td>\n",
       "      <td>8912.000000</td>\n",
       "      <td>8912.000000</td>\n",
       "      <td>8912.000000</td>\n",
       "      <td>8912.000000</td>\n",
       "      <td>8912.000000</td>\n",
       "      <td>8912.000000</td>\n",
       "      <td>8912.000000</td>\n",
       "      <td>8912.000000</td>\n",
       "      <td>8912.000000</td>\n",
       "      <td>8912.000000</td>\n",
       "      <td>8912.000000</td>\n",
       "      <td>8912.000000</td>\n",
       "      <td>8912.000000</td>\n",
       "      <td>8912.000000</td>\n",
       "      <td>8912.000000</td>\n",
       "      <td>8912.000000</td>\n",
       "      <td>8912.000000</td>\n",
       "      <td>8912.000000</td>\n",
       "      <td>8912.000000</td>\n",
       "      <td>8912.000000</td>\n",
       "      <td>8912.000000</td>\n",
       "      <td>8912.000000</td>\n",
       "      <td>8912.000000</td>\n",
       "      <td>8912.000000</td>\n",
       "      <td>8912.000000</td>\n",
       "      <td>8912.000000</td>\n",
       "      <td>8912.000000</td>\n",
       "      <td>8912.000000</td>\n",
       "      <td>8912.000000</td>\n",
       "      <td>8912.000000</td>\n",
       "      <td>8912.000000</td>\n",
       "      <td>8912.000000</td>\n",
       "      <td>8912.000000</td>\n",
       "      <td>8912.000000</td>\n",
       "      <td>8912.000000</td>\n",
       "      <td>8912.000000</td>\n",
       "      <td>8912.000000</td>\n",
       "      <td>8912.000000</td>\n",
       "      <td>8912.000000</td>\n",
       "      <td>8912.000000</td>\n",
       "      <td>8912.000000</td>\n",
       "      <td>8912.000000</td>\n",
       "      <td>8912.000000</td>\n",
       "      <td>8912.000000</td>\n",
       "      <td>8912.000000</td>\n",
       "      <td>8912.000000</td>\n",
       "      <td>8912.000000</td>\n",
       "      <td>8912.000000</td>\n",
       "      <td>8912.000000</td>\n",
       "      <td>8912.000000</td>\n",
       "      <td>8912.000000</td>\n",
       "      <td>8912.000000</td>\n",
       "      <td>8912.000000</td>\n",
       "      <td>8912.000000</td>\n",
       "      <td>8912.000000</td>\n",
       "      <td>8912.000000</td>\n",
       "      <td>8912.000000</td>\n",
       "      <td>8912.000000</td>\n",
       "      <td>8912.000000</td>\n",
       "      <td>8912.000000</td>\n",
       "      <td>8912.000000</td>\n",
       "      <td>8912.000000</td>\n",
       "      <td>8912.000000</td>\n",
       "      <td>8912.000000</td>\n",
       "      <td>8912.000000</td>\n",
       "      <td>8912.000000</td>\n",
       "      <td>8912.000000</td>\n",
       "      <td>8912.000000</td>\n",
       "      <td>8912.000000</td>\n",
       "      <td>8912.000000</td>\n",
       "      <td>8912.000000</td>\n",
       "      <td>8912.000000</td>\n",
       "      <td>8912.000000</td>\n",
       "      <td>8912.000000</td>\n",
       "      <td>8912.000000</td>\n",
       "      <td>8912.000000</td>\n",
       "      <td>8912.000000</td>\n",
       "      <td>8912.000000</td>\n",
       "      <td>8912.000000</td>\n",
       "      <td>8912.000000</td>\n",
       "      <td>8912.000000</td>\n",
       "      <td>8912.000000</td>\n",
       "      <td>8912.000000</td>\n",
       "      <td>8912.000000</td>\n",
       "      <td>8912.000000</td>\n",
       "      <td>8912.000000</td>\n",
       "      <td>8912.000000</td>\n",
       "    </tr>\n",
       "    <tr>\n",
       "      <th>mean</th>\n",
       "      <td>0.010099</td>\n",
       "      <td>0.924372</td>\n",
       "      <td>0.057787</td>\n",
       "      <td>0.443908</td>\n",
       "      <td>0.033214</td>\n",
       "      <td>0.061153</td>\n",
       "      <td>0.020221</td>\n",
       "      <td>0.052169</td>\n",
       "      <td>0.079333</td>\n",
       "      <td>0.091537</td>\n",
       "      <td>0.026635</td>\n",
       "      <td>0.312395</td>\n",
       "      <td>0.185834</td>\n",
       "      <td>0.254126</td>\n",
       "      <td>0.194986</td>\n",
       "      <td>0.162295</td>\n",
       "      <td>0.953770</td>\n",
       "      <td>0.007855</td>\n",
       "      <td>0.038375</td>\n",
       "      <td>0.161355</td>\n",
       "      <td>0.022833</td>\n",
       "      <td>0.035028</td>\n",
       "      <td>0.034763</td>\n",
       "      <td>0.028641</td>\n",
       "      <td>0.029535</td>\n",
       "      <td>0.024027</td>\n",
       "      <td>0.010261</td>\n",
       "      <td>0.010739</td>\n",
       "      <td>0.009612</td>\n",
       "      <td>0.009288</td>\n",
       "      <td>0.002093</td>\n",
       "      <td>0.002225</td>\n",
       "      <td>0.002007</td>\n",
       "      <td>0.002142</td>\n",
       "      <td>0.002136</td>\n",
       "      <td>0.136725</td>\n",
       "      <td>0.111134</td>\n",
       "      <td>0.721747</td>\n",
       "      <td>0.037029</td>\n",
       "      <td>0.028725</td>\n",
       "      <td>0.109964</td>\n",
       "      <td>0.089879</td>\n",
       "      <td>0.108618</td>\n",
       "      <td>0.348294</td>\n",
       "      <td>0.023900</td>\n",
       "      <td>0.105364</td>\n",
       "      <td>0.061490</td>\n",
       "      <td>0.041854</td>\n",
       "      <td>0.042864</td>\n",
       "      <td>0.014699</td>\n",
       "      <td>0.046791</td>\n",
       "      <td>0.006284</td>\n",
       "      <td>0.004601</td>\n",
       "      <td>0.022329</td>\n",
       "      <td>0.001571</td>\n",
       "      <td>0.007181</td>\n",
       "      <td>0.007967</td>\n",
       "      <td>0.005386</td>\n",
       "      <td>0.002244</td>\n",
       "      <td>0.001683</td>\n",
       "      <td>0.025135</td>\n",
       "      <td>0.000224</td>\n",
       "      <td>0.028950</td>\n",
       "      <td>0.000224</td>\n",
       "      <td>0.011445</td>\n",
       "      <td>0.000112</td>\n",
       "      <td>0.035907</td>\n",
       "      <td>0.000112</td>\n",
       "      <td>0.007855</td>\n",
       "      <td>0.024349</td>\n",
       "      <td>0.000337</td>\n",
       "      <td>0.004937</td>\n",
       "      <td>0.007630</td>\n",
       "      <td>0.000112</td>\n",
       "      <td>0.042190</td>\n",
       "      <td>0.037029</td>\n",
       "      <td>0.000224</td>\n",
       "      <td>0.010772</td>\n",
       "      <td>0.008752</td>\n",
       "      <td>0.006957</td>\n",
       "      <td>0.050157</td>\n",
       "      <td>0.019075</td>\n",
       "      <td>0.000449</td>\n",
       "      <td>0.000224</td>\n",
       "      <td>0.000112</td>\n",
       "      <td>0.024237</td>\n",
       "      <td>0.001122</td>\n",
       "      <td>0.000337</td>\n",
       "      <td>0.000224</td>\n",
       "      <td>0.000112</td>\n",
       "      <td>0.046566</td>\n",
       "      <td>0.000112</td>\n",
       "      <td>0.083595</td>\n",
       "      <td>0.007069</td>\n",
       "      <td>0.002469</td>\n",
       "      <td>0.023788</td>\n",
       "      <td>0.073833</td>\n",
       "      <td>0.056777</td>\n",
       "      <td>0.000112</td>\n",
       "      <td>0.005162</td>\n",
       "      <td>0.043088</td>\n",
       "      <td>0.000337</td>\n",
       "      <td>0.013128</td>\n",
       "      <td>0.000337</td>\n",
       "      <td>0.032428</td>\n",
       "      <td>0.000224</td>\n",
       "      <td>0.000449</td>\n",
       "      <td>0.000112</td>\n",
       "      <td>0.002132</td>\n",
       "      <td>0.007742</td>\n",
       "      <td>0.000673</td>\n",
       "      <td>0.000337</td>\n",
       "      <td>0.010548</td>\n",
       "      <td>0.002020</td>\n",
       "      <td>0.016382</td>\n",
       "      <td>0.002020</td>\n",
       "      <td>0.024798</td>\n",
       "      <td>0.042864</td>\n",
       "      <td>0.012792</td>\n",
       "      <td>0.005162</td>\n",
       "      <td>0.000112</td>\n",
       "      <td>0.009313</td>\n",
       "      <td>0.000112</td>\n",
       "      <td>0.000224</td>\n",
       "      <td>0.000449</td>\n",
       "      <td>0.003703</td>\n",
       "      <td>0.000561</td>\n",
       "      <td>0.001795</td>\n",
       "      <td>0.001683</td>\n",
       "      <td>0.006732</td>\n",
       "      <td>0.001459</td>\n",
       "      <td>0.002020</td>\n",
       "      <td>0.009425</td>\n",
       "      <td>0.000449</td>\n",
       "      <td>0.012118</td>\n",
       "      <td>0.021656</td>\n",
       "      <td>0.000449</td>\n",
       "      <td>0.000112</td>\n",
       "      <td>0.006284</td>\n",
       "      <td>0.000224</td>\n",
       "      <td>0.000224</td>\n",
       "      <td>0.000112</td>\n",
       "      <td>0.000112</td>\n",
       "      <td>0.000112</td>\n",
       "      <td>0.000224</td>\n",
       "      <td>0.000112</td>\n",
       "      <td>0.000112</td>\n",
       "      <td>0.000112</td>\n",
       "      <td>0.000112</td>\n",
       "      <td>0.000112</td>\n",
       "      <td>0.000112</td>\n",
       "      <td>0.000112</td>\n",
       "      <td>0.000224</td>\n",
       "    </tr>\n",
       "    <tr>\n",
       "      <th>std</th>\n",
       "      <td>0.099989</td>\n",
       "      <td>0.264417</td>\n",
       "      <td>0.233354</td>\n",
       "      <td>0.120211</td>\n",
       "      <td>0.179204</td>\n",
       "      <td>0.053233</td>\n",
       "      <td>0.042268</td>\n",
       "      <td>0.055086</td>\n",
       "      <td>0.059757</td>\n",
       "      <td>0.066538</td>\n",
       "      <td>0.076858</td>\n",
       "      <td>0.139929</td>\n",
       "      <td>0.145178</td>\n",
       "      <td>0.157775</td>\n",
       "      <td>0.188857</td>\n",
       "      <td>0.197542</td>\n",
       "      <td>0.209994</td>\n",
       "      <td>0.088282</td>\n",
       "      <td>0.192111</td>\n",
       "      <td>0.201174</td>\n",
       "      <td>0.045548</td>\n",
       "      <td>0.054960</td>\n",
       "      <td>0.054863</td>\n",
       "      <td>0.045626</td>\n",
       "      <td>0.046485</td>\n",
       "      <td>0.108454</td>\n",
       "      <td>0.048220</td>\n",
       "      <td>0.050130</td>\n",
       "      <td>0.045253</td>\n",
       "      <td>0.043789</td>\n",
       "      <td>0.041229</td>\n",
       "      <td>0.043016</td>\n",
       "      <td>0.038854</td>\n",
       "      <td>0.041420</td>\n",
       "      <td>0.041501</td>\n",
       "      <td>0.185772</td>\n",
       "      <td>0.160715</td>\n",
       "      <td>0.224381</td>\n",
       "      <td>0.108760</td>\n",
       "      <td>0.094689</td>\n",
       "      <td>0.312863</td>\n",
       "      <td>0.286024</td>\n",
       "      <td>0.311176</td>\n",
       "      <td>0.476457</td>\n",
       "      <td>0.152747</td>\n",
       "      <td>0.307039</td>\n",
       "      <td>0.240241</td>\n",
       "      <td>0.200266</td>\n",
       "      <td>0.202561</td>\n",
       "      <td>0.120353</td>\n",
       "      <td>0.211202</td>\n",
       "      <td>0.079025</td>\n",
       "      <td>0.067675</td>\n",
       "      <td>0.147761</td>\n",
       "      <td>0.039606</td>\n",
       "      <td>0.084443</td>\n",
       "      <td>0.088906</td>\n",
       "      <td>0.073196</td>\n",
       "      <td>0.047322</td>\n",
       "      <td>0.040994</td>\n",
       "      <td>0.156543</td>\n",
       "      <td>0.014980</td>\n",
       "      <td>0.167675</td>\n",
       "      <td>0.014980</td>\n",
       "      <td>0.106374</td>\n",
       "      <td>0.010593</td>\n",
       "      <td>0.186068</td>\n",
       "      <td>0.010593</td>\n",
       "      <td>0.088282</td>\n",
       "      <td>0.154139</td>\n",
       "      <td>0.018345</td>\n",
       "      <td>0.070095</td>\n",
       "      <td>0.087022</td>\n",
       "      <td>0.010593</td>\n",
       "      <td>0.201034</td>\n",
       "      <td>0.188843</td>\n",
       "      <td>0.014980</td>\n",
       "      <td>0.103233</td>\n",
       "      <td>0.093148</td>\n",
       "      <td>0.083122</td>\n",
       "      <td>0.218281</td>\n",
       "      <td>0.136798</td>\n",
       "      <td>0.021182</td>\n",
       "      <td>0.014980</td>\n",
       "      <td>0.010593</td>\n",
       "      <td>0.153793</td>\n",
       "      <td>0.033481</td>\n",
       "      <td>0.018345</td>\n",
       "      <td>0.014980</td>\n",
       "      <td>0.010593</td>\n",
       "      <td>0.210720</td>\n",
       "      <td>0.010593</td>\n",
       "      <td>0.276795</td>\n",
       "      <td>0.083785</td>\n",
       "      <td>0.049626</td>\n",
       "      <td>0.152397</td>\n",
       "      <td>0.261514</td>\n",
       "      <td>0.231430</td>\n",
       "      <td>0.010593</td>\n",
       "      <td>0.071663</td>\n",
       "      <td>0.203067</td>\n",
       "      <td>0.018345</td>\n",
       "      <td>0.113831</td>\n",
       "      <td>0.018345</td>\n",
       "      <td>0.177144</td>\n",
       "      <td>0.014980</td>\n",
       "      <td>0.021182</td>\n",
       "      <td>0.010593</td>\n",
       "      <td>0.046126</td>\n",
       "      <td>0.087654</td>\n",
       "      <td>0.025940</td>\n",
       "      <td>0.018345</td>\n",
       "      <td>0.102164</td>\n",
       "      <td>0.044899</td>\n",
       "      <td>0.126948</td>\n",
       "      <td>0.044899</td>\n",
       "      <td>0.155518</td>\n",
       "      <td>0.202561</td>\n",
       "      <td>0.112381</td>\n",
       "      <td>0.071663</td>\n",
       "      <td>0.010593</td>\n",
       "      <td>0.096060</td>\n",
       "      <td>0.010593</td>\n",
       "      <td>0.014980</td>\n",
       "      <td>0.021182</td>\n",
       "      <td>0.060742</td>\n",
       "      <td>0.023681</td>\n",
       "      <td>0.042336</td>\n",
       "      <td>0.040994</td>\n",
       "      <td>0.081780</td>\n",
       "      <td>0.038167</td>\n",
       "      <td>0.044899</td>\n",
       "      <td>0.096632</td>\n",
       "      <td>0.021182</td>\n",
       "      <td>0.109421</td>\n",
       "      <td>0.145566</td>\n",
       "      <td>0.021182</td>\n",
       "      <td>0.010593</td>\n",
       "      <td>0.079025</td>\n",
       "      <td>0.014980</td>\n",
       "      <td>0.014980</td>\n",
       "      <td>0.010593</td>\n",
       "      <td>0.010593</td>\n",
       "      <td>0.010593</td>\n",
       "      <td>0.014980</td>\n",
       "      <td>0.010593</td>\n",
       "      <td>0.010593</td>\n",
       "      <td>0.010593</td>\n",
       "      <td>0.010593</td>\n",
       "      <td>0.010593</td>\n",
       "      <td>0.010593</td>\n",
       "      <td>0.010593</td>\n",
       "      <td>0.014980</td>\n",
       "    </tr>\n",
       "    <tr>\n",
       "      <th>min</th>\n",
       "      <td>0.000000</td>\n",
       "      <td>0.000000</td>\n",
       "      <td>0.000000</td>\n",
       "      <td>0.000000</td>\n",
       "      <td>0.000000</td>\n",
       "      <td>0.000000</td>\n",
       "      <td>0.000000</td>\n",
       "      <td>0.000000</td>\n",
       "      <td>0.000000</td>\n",
       "      <td>0.000000</td>\n",
       "      <td>0.000000</td>\n",
       "      <td>0.000000</td>\n",
       "      <td>0.000000</td>\n",
       "      <td>0.000000</td>\n",
       "      <td>0.000000</td>\n",
       "      <td>0.000000</td>\n",
       "      <td>0.000000</td>\n",
       "      <td>0.000000</td>\n",
       "      <td>0.000000</td>\n",
       "      <td>0.000000</td>\n",
       "      <td>0.000000</td>\n",
       "      <td>0.000000</td>\n",
       "      <td>0.000000</td>\n",
       "      <td>0.000000</td>\n",
       "      <td>0.000000</td>\n",
       "      <td>0.000000</td>\n",
       "      <td>0.000000</td>\n",
       "      <td>0.000000</td>\n",
       "      <td>0.000000</td>\n",
       "      <td>0.000000</td>\n",
       "      <td>0.000000</td>\n",
       "      <td>0.000000</td>\n",
       "      <td>0.000000</td>\n",
       "      <td>0.000000</td>\n",
       "      <td>0.000000</td>\n",
       "      <td>0.000000</td>\n",
       "      <td>0.000000</td>\n",
       "      <td>0.000000</td>\n",
       "      <td>0.000000</td>\n",
       "      <td>0.000000</td>\n",
       "      <td>0.000000</td>\n",
       "      <td>0.000000</td>\n",
       "      <td>0.000000</td>\n",
       "      <td>0.000000</td>\n",
       "      <td>0.000000</td>\n",
       "      <td>0.000000</td>\n",
       "      <td>0.000000</td>\n",
       "      <td>0.000000</td>\n",
       "      <td>0.000000</td>\n",
       "      <td>0.000000</td>\n",
       "      <td>0.000000</td>\n",
       "      <td>0.000000</td>\n",
       "      <td>0.000000</td>\n",
       "      <td>0.000000</td>\n",
       "      <td>0.000000</td>\n",
       "      <td>0.000000</td>\n",
       "      <td>0.000000</td>\n",
       "      <td>0.000000</td>\n",
       "      <td>0.000000</td>\n",
       "      <td>0.000000</td>\n",
       "      <td>0.000000</td>\n",
       "      <td>0.000000</td>\n",
       "      <td>0.000000</td>\n",
       "      <td>0.000000</td>\n",
       "      <td>0.000000</td>\n",
       "      <td>0.000000</td>\n",
       "      <td>0.000000</td>\n",
       "      <td>0.000000</td>\n",
       "      <td>0.000000</td>\n",
       "      <td>0.000000</td>\n",
       "      <td>0.000000</td>\n",
       "      <td>0.000000</td>\n",
       "      <td>0.000000</td>\n",
       "      <td>0.000000</td>\n",
       "      <td>0.000000</td>\n",
       "      <td>0.000000</td>\n",
       "      <td>0.000000</td>\n",
       "      <td>0.000000</td>\n",
       "      <td>0.000000</td>\n",
       "      <td>0.000000</td>\n",
       "      <td>0.000000</td>\n",
       "      <td>0.000000</td>\n",
       "      <td>0.000000</td>\n",
       "      <td>0.000000</td>\n",
       "      <td>0.000000</td>\n",
       "      <td>0.000000</td>\n",
       "      <td>0.000000</td>\n",
       "      <td>0.000000</td>\n",
       "      <td>0.000000</td>\n",
       "      <td>0.000000</td>\n",
       "      <td>0.000000</td>\n",
       "      <td>0.000000</td>\n",
       "      <td>0.000000</td>\n",
       "      <td>0.000000</td>\n",
       "      <td>0.000000</td>\n",
       "      <td>0.000000</td>\n",
       "      <td>0.000000</td>\n",
       "      <td>0.000000</td>\n",
       "      <td>0.000000</td>\n",
       "      <td>0.000000</td>\n",
       "      <td>0.000000</td>\n",
       "      <td>0.000000</td>\n",
       "      <td>0.000000</td>\n",
       "      <td>0.000000</td>\n",
       "      <td>0.000000</td>\n",
       "      <td>0.000000</td>\n",
       "      <td>0.000000</td>\n",
       "      <td>0.000000</td>\n",
       "      <td>0.000000</td>\n",
       "      <td>0.000000</td>\n",
       "      <td>0.000000</td>\n",
       "      <td>0.000000</td>\n",
       "      <td>0.000000</td>\n",
       "      <td>0.000000</td>\n",
       "      <td>0.000000</td>\n",
       "      <td>0.000000</td>\n",
       "      <td>0.000000</td>\n",
       "      <td>0.000000</td>\n",
       "      <td>0.000000</td>\n",
       "      <td>0.000000</td>\n",
       "      <td>0.000000</td>\n",
       "      <td>0.000000</td>\n",
       "      <td>0.000000</td>\n",
       "      <td>0.000000</td>\n",
       "      <td>0.000000</td>\n",
       "      <td>0.000000</td>\n",
       "      <td>0.000000</td>\n",
       "      <td>0.000000</td>\n",
       "      <td>0.000000</td>\n",
       "      <td>0.000000</td>\n",
       "      <td>0.000000</td>\n",
       "      <td>0.000000</td>\n",
       "      <td>0.000000</td>\n",
       "      <td>0.000000</td>\n",
       "      <td>0.000000</td>\n",
       "      <td>0.000000</td>\n",
       "      <td>0.000000</td>\n",
       "      <td>0.000000</td>\n",
       "      <td>0.000000</td>\n",
       "      <td>0.000000</td>\n",
       "      <td>0.000000</td>\n",
       "      <td>0.000000</td>\n",
       "      <td>0.000000</td>\n",
       "      <td>0.000000</td>\n",
       "      <td>0.000000</td>\n",
       "      <td>0.000000</td>\n",
       "      <td>0.000000</td>\n",
       "      <td>0.000000</td>\n",
       "      <td>0.000000</td>\n",
       "      <td>0.000000</td>\n",
       "      <td>0.000000</td>\n",
       "      <td>0.000000</td>\n",
       "      <td>0.000000</td>\n",
       "    </tr>\n",
       "    <tr>\n",
       "      <th>25%</th>\n",
       "      <td>0.000000</td>\n",
       "      <td>1.000000</td>\n",
       "      <td>0.000000</td>\n",
       "      <td>0.476992</td>\n",
       "      <td>0.000000</td>\n",
       "      <td>0.014805</td>\n",
       "      <td>0.000000</td>\n",
       "      <td>0.000000</td>\n",
       "      <td>0.029451</td>\n",
       "      <td>0.035857</td>\n",
       "      <td>0.000000</td>\n",
       "      <td>0.224615</td>\n",
       "      <td>0.076692</td>\n",
       "      <td>0.132331</td>\n",
       "      <td>0.000000</td>\n",
       "      <td>0.000000</td>\n",
       "      <td>1.000000</td>\n",
       "      <td>0.000000</td>\n",
       "      <td>0.000000</td>\n",
       "      <td>0.000000</td>\n",
       "      <td>0.000000</td>\n",
       "      <td>0.000000</td>\n",
       "      <td>0.000000</td>\n",
       "      <td>0.000000</td>\n",
       "      <td>0.000000</td>\n",
       "      <td>0.000000</td>\n",
       "      <td>0.000000</td>\n",
       "      <td>0.000000</td>\n",
       "      <td>0.000000</td>\n",
       "      <td>0.000000</td>\n",
       "      <td>0.000000</td>\n",
       "      <td>0.000000</td>\n",
       "      <td>0.000000</td>\n",
       "      <td>0.000000</td>\n",
       "      <td>0.000000</td>\n",
       "      <td>0.008547</td>\n",
       "      <td>0.010753</td>\n",
       "      <td>0.565089</td>\n",
       "      <td>0.000000</td>\n",
       "      <td>0.000000</td>\n",
       "      <td>0.000000</td>\n",
       "      <td>0.000000</td>\n",
       "      <td>0.000000</td>\n",
       "      <td>0.000000</td>\n",
       "      <td>0.000000</td>\n",
       "      <td>0.000000</td>\n",
       "      <td>0.000000</td>\n",
       "      <td>0.000000</td>\n",
       "      <td>0.000000</td>\n",
       "      <td>0.000000</td>\n",
       "      <td>0.000000</td>\n",
       "      <td>0.000000</td>\n",
       "      <td>0.000000</td>\n",
       "      <td>0.000000</td>\n",
       "      <td>0.000000</td>\n",
       "      <td>0.000000</td>\n",
       "      <td>0.000000</td>\n",
       "      <td>0.000000</td>\n",
       "      <td>0.000000</td>\n",
       "      <td>0.000000</td>\n",
       "      <td>0.000000</td>\n",
       "      <td>0.000000</td>\n",
       "      <td>0.000000</td>\n",
       "      <td>0.000000</td>\n",
       "      <td>0.000000</td>\n",
       "      <td>0.000000</td>\n",
       "      <td>0.000000</td>\n",
       "      <td>0.000000</td>\n",
       "      <td>0.000000</td>\n",
       "      <td>0.000000</td>\n",
       "      <td>0.000000</td>\n",
       "      <td>0.000000</td>\n",
       "      <td>0.000000</td>\n",
       "      <td>0.000000</td>\n",
       "      <td>0.000000</td>\n",
       "      <td>0.000000</td>\n",
       "      <td>0.000000</td>\n",
       "      <td>0.000000</td>\n",
       "      <td>0.000000</td>\n",
       "      <td>0.000000</td>\n",
       "      <td>0.000000</td>\n",
       "      <td>0.000000</td>\n",
       "      <td>0.000000</td>\n",
       "      <td>0.000000</td>\n",
       "      <td>0.000000</td>\n",
       "      <td>0.000000</td>\n",
       "      <td>0.000000</td>\n",
       "      <td>0.000000</td>\n",
       "      <td>0.000000</td>\n",
       "      <td>0.000000</td>\n",
       "      <td>0.000000</td>\n",
       "      <td>0.000000</td>\n",
       "      <td>0.000000</td>\n",
       "      <td>0.000000</td>\n",
       "      <td>0.000000</td>\n",
       "      <td>0.000000</td>\n",
       "      <td>0.000000</td>\n",
       "      <td>0.000000</td>\n",
       "      <td>0.000000</td>\n",
       "      <td>0.000000</td>\n",
       "      <td>0.000000</td>\n",
       "      <td>0.000000</td>\n",
       "      <td>0.000000</td>\n",
       "      <td>0.000000</td>\n",
       "      <td>0.000000</td>\n",
       "      <td>0.000000</td>\n",
       "      <td>0.000000</td>\n",
       "      <td>0.000000</td>\n",
       "      <td>0.000000</td>\n",
       "      <td>0.000000</td>\n",
       "      <td>0.000000</td>\n",
       "      <td>0.000000</td>\n",
       "      <td>0.000000</td>\n",
       "      <td>0.000000</td>\n",
       "      <td>0.000000</td>\n",
       "      <td>0.000000</td>\n",
       "      <td>0.000000</td>\n",
       "      <td>0.000000</td>\n",
       "      <td>0.000000</td>\n",
       "      <td>0.000000</td>\n",
       "      <td>0.000000</td>\n",
       "      <td>0.000000</td>\n",
       "      <td>0.000000</td>\n",
       "      <td>0.000000</td>\n",
       "      <td>0.000000</td>\n",
       "      <td>0.000000</td>\n",
       "      <td>0.000000</td>\n",
       "      <td>0.000000</td>\n",
       "      <td>0.000000</td>\n",
       "      <td>0.000000</td>\n",
       "      <td>0.000000</td>\n",
       "      <td>0.000000</td>\n",
       "      <td>0.000000</td>\n",
       "      <td>0.000000</td>\n",
       "      <td>0.000000</td>\n",
       "      <td>0.000000</td>\n",
       "      <td>0.000000</td>\n",
       "      <td>0.000000</td>\n",
       "      <td>0.000000</td>\n",
       "      <td>0.000000</td>\n",
       "      <td>0.000000</td>\n",
       "      <td>0.000000</td>\n",
       "      <td>0.000000</td>\n",
       "      <td>0.000000</td>\n",
       "      <td>0.000000</td>\n",
       "      <td>0.000000</td>\n",
       "      <td>0.000000</td>\n",
       "      <td>0.000000</td>\n",
       "      <td>0.000000</td>\n",
       "      <td>0.000000</td>\n",
       "      <td>0.000000</td>\n",
       "      <td>0.000000</td>\n",
       "      <td>0.000000</td>\n",
       "    </tr>\n",
       "    <tr>\n",
       "      <th>50%</th>\n",
       "      <td>0.000000</td>\n",
       "      <td>1.000000</td>\n",
       "      <td>0.000000</td>\n",
       "      <td>0.476992</td>\n",
       "      <td>0.000000</td>\n",
       "      <td>0.055182</td>\n",
       "      <td>0.004184</td>\n",
       "      <td>0.045283</td>\n",
       "      <td>0.072289</td>\n",
       "      <td>0.086321</td>\n",
       "      <td>0.000000</td>\n",
       "      <td>0.326154</td>\n",
       "      <td>0.145865</td>\n",
       "      <td>0.255639</td>\n",
       "      <td>0.179054</td>\n",
       "      <td>0.000000</td>\n",
       "      <td>1.000000</td>\n",
       "      <td>0.000000</td>\n",
       "      <td>0.000000</td>\n",
       "      <td>0.000000</td>\n",
       "      <td>0.000000</td>\n",
       "      <td>0.000000</td>\n",
       "      <td>0.000000</td>\n",
       "      <td>0.000000</td>\n",
       "      <td>0.000000</td>\n",
       "      <td>0.000000</td>\n",
       "      <td>0.000000</td>\n",
       "      <td>0.000000</td>\n",
       "      <td>0.000000</td>\n",
       "      <td>0.000000</td>\n",
       "      <td>0.000000</td>\n",
       "      <td>0.000000</td>\n",
       "      <td>0.000000</td>\n",
       "      <td>0.000000</td>\n",
       "      <td>0.000000</td>\n",
       "      <td>0.068376</td>\n",
       "      <td>0.053763</td>\n",
       "      <td>0.702918</td>\n",
       "      <td>0.000000</td>\n",
       "      <td>0.000000</td>\n",
       "      <td>0.000000</td>\n",
       "      <td>0.000000</td>\n",
       "      <td>0.000000</td>\n",
       "      <td>0.000000</td>\n",
       "      <td>0.000000</td>\n",
       "      <td>0.000000</td>\n",
       "      <td>0.000000</td>\n",
       "      <td>0.000000</td>\n",
       "      <td>0.000000</td>\n",
       "      <td>0.000000</td>\n",
       "      <td>0.000000</td>\n",
       "      <td>0.000000</td>\n",
       "      <td>0.000000</td>\n",
       "      <td>0.000000</td>\n",
       "      <td>0.000000</td>\n",
       "      <td>0.000000</td>\n",
       "      <td>0.000000</td>\n",
       "      <td>0.000000</td>\n",
       "      <td>0.000000</td>\n",
       "      <td>0.000000</td>\n",
       "      <td>0.000000</td>\n",
       "      <td>0.000000</td>\n",
       "      <td>0.000000</td>\n",
       "      <td>0.000000</td>\n",
       "      <td>0.000000</td>\n",
       "      <td>0.000000</td>\n",
       "      <td>0.000000</td>\n",
       "      <td>0.000000</td>\n",
       "      <td>0.000000</td>\n",
       "      <td>0.000000</td>\n",
       "      <td>0.000000</td>\n",
       "      <td>0.000000</td>\n",
       "      <td>0.000000</td>\n",
       "      <td>0.000000</td>\n",
       "      <td>0.000000</td>\n",
       "      <td>0.000000</td>\n",
       "      <td>0.000000</td>\n",
       "      <td>0.000000</td>\n",
       "      <td>0.000000</td>\n",
       "      <td>0.000000</td>\n",
       "      <td>0.000000</td>\n",
       "      <td>0.000000</td>\n",
       "      <td>0.000000</td>\n",
       "      <td>0.000000</td>\n",
       "      <td>0.000000</td>\n",
       "      <td>0.000000</td>\n",
       "      <td>0.000000</td>\n",
       "      <td>0.000000</td>\n",
       "      <td>0.000000</td>\n",
       "      <td>0.000000</td>\n",
       "      <td>0.000000</td>\n",
       "      <td>0.000000</td>\n",
       "      <td>0.000000</td>\n",
       "      <td>0.000000</td>\n",
       "      <td>0.000000</td>\n",
       "      <td>0.000000</td>\n",
       "      <td>0.000000</td>\n",
       "      <td>0.000000</td>\n",
       "      <td>0.000000</td>\n",
       "      <td>0.000000</td>\n",
       "      <td>0.000000</td>\n",
       "      <td>0.000000</td>\n",
       "      <td>0.000000</td>\n",
       "      <td>0.000000</td>\n",
       "      <td>0.000000</td>\n",
       "      <td>0.000000</td>\n",
       "      <td>0.000000</td>\n",
       "      <td>0.000000</td>\n",
       "      <td>0.000000</td>\n",
       "      <td>0.000000</td>\n",
       "      <td>0.000000</td>\n",
       "      <td>0.000000</td>\n",
       "      <td>0.000000</td>\n",
       "      <td>0.000000</td>\n",
       "      <td>0.000000</td>\n",
       "      <td>0.000000</td>\n",
       "      <td>0.000000</td>\n",
       "      <td>0.000000</td>\n",
       "      <td>0.000000</td>\n",
       "      <td>0.000000</td>\n",
       "      <td>0.000000</td>\n",
       "      <td>0.000000</td>\n",
       "      <td>0.000000</td>\n",
       "      <td>0.000000</td>\n",
       "      <td>0.000000</td>\n",
       "      <td>0.000000</td>\n",
       "      <td>0.000000</td>\n",
       "      <td>0.000000</td>\n",
       "      <td>0.000000</td>\n",
       "      <td>0.000000</td>\n",
       "      <td>0.000000</td>\n",
       "      <td>0.000000</td>\n",
       "      <td>0.000000</td>\n",
       "      <td>0.000000</td>\n",
       "      <td>0.000000</td>\n",
       "      <td>0.000000</td>\n",
       "      <td>0.000000</td>\n",
       "      <td>0.000000</td>\n",
       "      <td>0.000000</td>\n",
       "      <td>0.000000</td>\n",
       "      <td>0.000000</td>\n",
       "      <td>0.000000</td>\n",
       "      <td>0.000000</td>\n",
       "      <td>0.000000</td>\n",
       "      <td>0.000000</td>\n",
       "      <td>0.000000</td>\n",
       "      <td>0.000000</td>\n",
       "      <td>0.000000</td>\n",
       "      <td>0.000000</td>\n",
       "      <td>0.000000</td>\n",
       "      <td>0.000000</td>\n",
       "      <td>0.000000</td>\n",
       "      <td>0.000000</td>\n",
       "    </tr>\n",
       "    <tr>\n",
       "      <th>75%</th>\n",
       "      <td>0.000000</td>\n",
       "      <td>1.000000</td>\n",
       "      <td>0.000000</td>\n",
       "      <td>0.476992</td>\n",
       "      <td>0.000000</td>\n",
       "      <td>0.103634</td>\n",
       "      <td>0.027720</td>\n",
       "      <td>0.090566</td>\n",
       "      <td>0.121821</td>\n",
       "      <td>0.136786</td>\n",
       "      <td>0.009050</td>\n",
       "      <td>0.409231</td>\n",
       "      <td>0.278195</td>\n",
       "      <td>0.360902</td>\n",
       "      <td>0.344595</td>\n",
       "      <td>0.332838</td>\n",
       "      <td>1.000000</td>\n",
       "      <td>0.000000</td>\n",
       "      <td>0.000000</td>\n",
       "      <td>0.333333</td>\n",
       "      <td>0.058252</td>\n",
       "      <td>0.088235</td>\n",
       "      <td>0.088235</td>\n",
       "      <td>0.082192</td>\n",
       "      <td>0.076389</td>\n",
       "      <td>0.000000</td>\n",
       "      <td>0.000000</td>\n",
       "      <td>0.000000</td>\n",
       "      <td>0.000000</td>\n",
       "      <td>0.000000</td>\n",
       "      <td>0.000000</td>\n",
       "      <td>0.000000</td>\n",
       "      <td>0.000000</td>\n",
       "      <td>0.000000</td>\n",
       "      <td>0.000000</td>\n",
       "      <td>0.188034</td>\n",
       "      <td>0.150538</td>\n",
       "      <td>1.000000</td>\n",
       "      <td>0.000000</td>\n",
       "      <td>0.000000</td>\n",
       "      <td>0.000000</td>\n",
       "      <td>0.000000</td>\n",
       "      <td>0.000000</td>\n",
       "      <td>1.000000</td>\n",
       "      <td>0.000000</td>\n",
       "      <td>0.000000</td>\n",
       "      <td>0.000000</td>\n",
       "      <td>0.000000</td>\n",
       "      <td>0.000000</td>\n",
       "      <td>0.000000</td>\n",
       "      <td>0.000000</td>\n",
       "      <td>0.000000</td>\n",
       "      <td>0.000000</td>\n",
       "      <td>0.000000</td>\n",
       "      <td>0.000000</td>\n",
       "      <td>0.000000</td>\n",
       "      <td>0.000000</td>\n",
       "      <td>0.000000</td>\n",
       "      <td>0.000000</td>\n",
       "      <td>0.000000</td>\n",
       "      <td>0.000000</td>\n",
       "      <td>0.000000</td>\n",
       "      <td>0.000000</td>\n",
       "      <td>0.000000</td>\n",
       "      <td>0.000000</td>\n",
       "      <td>0.000000</td>\n",
       "      <td>0.000000</td>\n",
       "      <td>0.000000</td>\n",
       "      <td>0.000000</td>\n",
       "      <td>0.000000</td>\n",
       "      <td>0.000000</td>\n",
       "      <td>0.000000</td>\n",
       "      <td>0.000000</td>\n",
       "      <td>0.000000</td>\n",
       "      <td>0.000000</td>\n",
       "      <td>0.000000</td>\n",
       "      <td>0.000000</td>\n",
       "      <td>0.000000</td>\n",
       "      <td>0.000000</td>\n",
       "      <td>0.000000</td>\n",
       "      <td>0.000000</td>\n",
       "      <td>0.000000</td>\n",
       "      <td>0.000000</td>\n",
       "      <td>0.000000</td>\n",
       "      <td>0.000000</td>\n",
       "      <td>0.000000</td>\n",
       "      <td>0.000000</td>\n",
       "      <td>0.000000</td>\n",
       "      <td>0.000000</td>\n",
       "      <td>0.000000</td>\n",
       "      <td>0.000000</td>\n",
       "      <td>0.000000</td>\n",
       "      <td>0.000000</td>\n",
       "      <td>0.000000</td>\n",
       "      <td>0.000000</td>\n",
       "      <td>0.000000</td>\n",
       "      <td>0.000000</td>\n",
       "      <td>0.000000</td>\n",
       "      <td>0.000000</td>\n",
       "      <td>0.000000</td>\n",
       "      <td>0.000000</td>\n",
       "      <td>0.000000</td>\n",
       "      <td>0.000000</td>\n",
       "      <td>0.000000</td>\n",
       "      <td>0.000000</td>\n",
       "      <td>0.000000</td>\n",
       "      <td>0.000000</td>\n",
       "      <td>0.000000</td>\n",
       "      <td>0.000000</td>\n",
       "      <td>0.000000</td>\n",
       "      <td>0.000000</td>\n",
       "      <td>0.000000</td>\n",
       "      <td>0.000000</td>\n",
       "      <td>0.000000</td>\n",
       "      <td>0.000000</td>\n",
       "      <td>0.000000</td>\n",
       "      <td>0.000000</td>\n",
       "      <td>0.000000</td>\n",
       "      <td>0.000000</td>\n",
       "      <td>0.000000</td>\n",
       "      <td>0.000000</td>\n",
       "      <td>0.000000</td>\n",
       "      <td>0.000000</td>\n",
       "      <td>0.000000</td>\n",
       "      <td>0.000000</td>\n",
       "      <td>0.000000</td>\n",
       "      <td>0.000000</td>\n",
       "      <td>0.000000</td>\n",
       "      <td>0.000000</td>\n",
       "      <td>0.000000</td>\n",
       "      <td>0.000000</td>\n",
       "      <td>0.000000</td>\n",
       "      <td>0.000000</td>\n",
       "      <td>0.000000</td>\n",
       "      <td>0.000000</td>\n",
       "      <td>0.000000</td>\n",
       "      <td>0.000000</td>\n",
       "      <td>0.000000</td>\n",
       "      <td>0.000000</td>\n",
       "      <td>0.000000</td>\n",
       "      <td>0.000000</td>\n",
       "      <td>0.000000</td>\n",
       "      <td>0.000000</td>\n",
       "      <td>0.000000</td>\n",
       "      <td>0.000000</td>\n",
       "      <td>0.000000</td>\n",
       "      <td>0.000000</td>\n",
       "      <td>0.000000</td>\n",
       "      <td>0.000000</td>\n",
       "      <td>0.000000</td>\n",
       "      <td>0.000000</td>\n",
       "      <td>0.000000</td>\n",
       "      <td>0.000000</td>\n",
       "    </tr>\n",
       "    <tr>\n",
       "      <th>max</th>\n",
       "      <td>1.000000</td>\n",
       "      <td>1.000000</td>\n",
       "      <td>1.000000</td>\n",
       "      <td>1.000000</td>\n",
       "      <td>1.000000</td>\n",
       "      <td>1.000000</td>\n",
       "      <td>1.000000</td>\n",
       "      <td>1.000000</td>\n",
       "      <td>1.000000</td>\n",
       "      <td>1.000000</td>\n",
       "      <td>1.000000</td>\n",
       "      <td>1.000000</td>\n",
       "      <td>1.000000</td>\n",
       "      <td>1.000000</td>\n",
       "      <td>1.000000</td>\n",
       "      <td>1.000000</td>\n",
       "      <td>1.000000</td>\n",
       "      <td>1.000000</td>\n",
       "      <td>1.000000</td>\n",
       "      <td>1.000000</td>\n",
       "      <td>1.000000</td>\n",
       "      <td>1.000000</td>\n",
       "      <td>1.000000</td>\n",
       "      <td>1.000000</td>\n",
       "      <td>1.000000</td>\n",
       "      <td>1.000000</td>\n",
       "      <td>1.000000</td>\n",
       "      <td>1.000000</td>\n",
       "      <td>1.000000</td>\n",
       "      <td>1.000000</td>\n",
       "      <td>1.000000</td>\n",
       "      <td>1.000000</td>\n",
       "      <td>1.000000</td>\n",
       "      <td>1.000000</td>\n",
       "      <td>1.000000</td>\n",
       "      <td>1.000000</td>\n",
       "      <td>1.000000</td>\n",
       "      <td>1.000000</td>\n",
       "      <td>1.000000</td>\n",
       "      <td>1.000000</td>\n",
       "      <td>1.000000</td>\n",
       "      <td>1.000000</td>\n",
       "      <td>1.000000</td>\n",
       "      <td>1.000000</td>\n",
       "      <td>1.000000</td>\n",
       "      <td>1.000000</td>\n",
       "      <td>1.000000</td>\n",
       "      <td>1.000000</td>\n",
       "      <td>1.000000</td>\n",
       "      <td>1.000000</td>\n",
       "      <td>1.000000</td>\n",
       "      <td>1.000000</td>\n",
       "      <td>1.000000</td>\n",
       "      <td>1.000000</td>\n",
       "      <td>1.000000</td>\n",
       "      <td>1.000000</td>\n",
       "      <td>1.000000</td>\n",
       "      <td>1.000000</td>\n",
       "      <td>1.000000</td>\n",
       "      <td>1.000000</td>\n",
       "      <td>1.000000</td>\n",
       "      <td>1.000000</td>\n",
       "      <td>1.000000</td>\n",
       "      <td>1.000000</td>\n",
       "      <td>1.000000</td>\n",
       "      <td>1.000000</td>\n",
       "      <td>1.000000</td>\n",
       "      <td>1.000000</td>\n",
       "      <td>1.000000</td>\n",
       "      <td>1.000000</td>\n",
       "      <td>1.000000</td>\n",
       "      <td>1.000000</td>\n",
       "      <td>1.000000</td>\n",
       "      <td>1.000000</td>\n",
       "      <td>1.000000</td>\n",
       "      <td>1.000000</td>\n",
       "      <td>1.000000</td>\n",
       "      <td>1.000000</td>\n",
       "      <td>1.000000</td>\n",
       "      <td>1.000000</td>\n",
       "      <td>1.000000</td>\n",
       "      <td>1.000000</td>\n",
       "      <td>1.000000</td>\n",
       "      <td>1.000000</td>\n",
       "      <td>1.000000</td>\n",
       "      <td>1.000000</td>\n",
       "      <td>1.000000</td>\n",
       "      <td>1.000000</td>\n",
       "      <td>1.000000</td>\n",
       "      <td>1.000000</td>\n",
       "      <td>1.000000</td>\n",
       "      <td>1.000000</td>\n",
       "      <td>1.000000</td>\n",
       "      <td>1.000000</td>\n",
       "      <td>1.000000</td>\n",
       "      <td>1.000000</td>\n",
       "      <td>1.000000</td>\n",
       "      <td>1.000000</td>\n",
       "      <td>1.000000</td>\n",
       "      <td>1.000000</td>\n",
       "      <td>1.000000</td>\n",
       "      <td>1.000000</td>\n",
       "      <td>1.000000</td>\n",
       "      <td>1.000000</td>\n",
       "      <td>1.000000</td>\n",
       "      <td>1.000000</td>\n",
       "      <td>1.000000</td>\n",
       "      <td>1.000000</td>\n",
       "      <td>1.000000</td>\n",
       "      <td>1.000000</td>\n",
       "      <td>1.000000</td>\n",
       "      <td>1.000000</td>\n",
       "      <td>1.000000</td>\n",
       "      <td>1.000000</td>\n",
       "      <td>1.000000</td>\n",
       "      <td>1.000000</td>\n",
       "      <td>1.000000</td>\n",
       "      <td>1.000000</td>\n",
       "      <td>1.000000</td>\n",
       "      <td>1.000000</td>\n",
       "      <td>1.000000</td>\n",
       "      <td>1.000000</td>\n",
       "      <td>1.000000</td>\n",
       "      <td>1.000000</td>\n",
       "      <td>1.000000</td>\n",
       "      <td>1.000000</td>\n",
       "      <td>1.000000</td>\n",
       "      <td>1.000000</td>\n",
       "      <td>1.000000</td>\n",
       "      <td>1.000000</td>\n",
       "      <td>1.000000</td>\n",
       "      <td>1.000000</td>\n",
       "      <td>1.000000</td>\n",
       "      <td>1.000000</td>\n",
       "      <td>1.000000</td>\n",
       "      <td>1.000000</td>\n",
       "      <td>1.000000</td>\n",
       "      <td>1.000000</td>\n",
       "      <td>1.000000</td>\n",
       "      <td>1.000000</td>\n",
       "      <td>1.000000</td>\n",
       "      <td>1.000000</td>\n",
       "      <td>1.000000</td>\n",
       "      <td>1.000000</td>\n",
       "      <td>1.000000</td>\n",
       "      <td>1.000000</td>\n",
       "      <td>1.000000</td>\n",
       "      <td>1.000000</td>\n",
       "      <td>1.000000</td>\n",
       "      <td>1.000000</td>\n",
       "      <td>1.000000</td>\n",
       "      <td>1.000000</td>\n",
       "      <td>1.000000</td>\n",
       "    </tr>\n",
       "  </tbody>\n",
       "</table>\n",
       "</div>"
      ],
      "text/plain": [
       "          uob_alum  home_oversea  master_prev     distance      funding  \\\n",
       "count  8912.000000   8912.000000  8912.000000  8912.000000  8912.000000   \n",
       "mean      0.010099      0.924372     0.057787     0.443908     0.033214   \n",
       "std       0.099989      0.264417     0.233354     0.120211     0.179204   \n",
       "min       0.000000      0.000000     0.000000     0.000000     0.000000   \n",
       "25%       0.000000      1.000000     0.000000     0.476992     0.000000   \n",
       "50%       0.000000      1.000000     0.000000     0.476992     0.000000   \n",
       "75%       0.000000      1.000000     0.000000     0.476992     0.000000   \n",
       "max       1.000000      1.000000     1.000000     1.000000     1.000000   \n",
       "\n",
       "       Days at Admissions Review  Days in School  Days at Decision Stage  \\\n",
       "count                8912.000000     8912.000000             8912.000000   \n",
       "mean                    0.061153        0.020221                0.052169   \n",
       "std                     0.053233        0.042268                0.055086   \n",
       "min                     0.000000        0.000000                0.000000   \n",
       "25%                     0.014805        0.000000                0.000000   \n",
       "50%                     0.055182        0.004184                0.045283   \n",
       "75%                     0.103634        0.027720                0.090566   \n",
       "max                     1.000000        1.000000                1.000000   \n",
       "\n",
       "       Total Days Admissions   TOTAL Days  Response days  \\\n",
       "count            8912.000000  8912.000000    8912.000000   \n",
       "mean                0.079333     0.091537       0.026635   \n",
       "std                 0.059757     0.066538       0.076858   \n",
       "min                 0.000000     0.000000       0.000000   \n",
       "25%                 0.029451     0.035857       0.000000   \n",
       "50%                 0.072289     0.086321       0.000000   \n",
       "75%                 0.121821     0.136786       0.009050   \n",
       "max                 1.000000     1.000000       1.000000   \n",
       "\n",
       "       decision_since_Sep01  A1C_since_Sep01  A1U_since_Sep01  \\\n",
       "count           8912.000000      8912.000000      8912.000000   \n",
       "mean               0.312395         0.185834         0.254126   \n",
       "std                0.139929         0.145178         0.157775   \n",
       "min                0.000000         0.000000         0.000000   \n",
       "25%                0.224615         0.076692         0.132331   \n",
       "50%                0.326154         0.145865         0.255639   \n",
       "75%                0.409231         0.278195         0.360902   \n",
       "max                1.000000         1.000000         1.000000   \n",
       "\n",
       "       A2C_since_Sep01  Response_since_Sep01   Decision_C   Decision_R  \\\n",
       "count      8912.000000           8912.000000  8912.000000  8912.000000   \n",
       "mean          0.194986              0.162295     0.953770     0.007855   \n",
       "std           0.188857              0.197542     0.209994     0.088282   \n",
       "min           0.000000              0.000000     0.000000     0.000000   \n",
       "25%           0.000000              0.000000     1.000000     0.000000   \n",
       "50%           0.179054              0.000000     1.000000     0.000000   \n",
       "75%           0.344595              0.332838     1.000000     0.000000   \n",
       "max           1.000000              1.000000     1.000000     1.000000   \n",
       "\n",
       "        Decision_U     eng_type  Ielts_Overall  Ielts_Listening  \\\n",
       "count  8912.000000  8912.000000    8912.000000      8912.000000   \n",
       "mean      0.038375     0.161355       0.022833         0.035028   \n",
       "std       0.192111     0.201174       0.045548         0.054960   \n",
       "min       0.000000     0.000000       0.000000         0.000000   \n",
       "25%       0.000000     0.000000       0.000000         0.000000   \n",
       "50%       0.000000     0.000000       0.000000         0.000000   \n",
       "75%       0.000000     0.333333       0.058252         0.088235   \n",
       "max       1.000000     1.000000       1.000000         1.000000   \n",
       "\n",
       "       Ielts_Reading  Ielts_Writing  Ielts_Speaking  Toefl_Overall  \\\n",
       "count    8912.000000    8912.000000     8912.000000    8912.000000   \n",
       "mean        0.034763       0.028641        0.029535       0.024027   \n",
       "std         0.054863       0.045626        0.046485       0.108454   \n",
       "min         0.000000       0.000000        0.000000       0.000000   \n",
       "25%         0.000000       0.000000        0.000000       0.000000   \n",
       "50%         0.000000       0.000000        0.000000       0.000000   \n",
       "75%         0.088235       0.082192        0.076389       0.000000   \n",
       "max         1.000000       1.000000        1.000000       1.000000   \n",
       "\n",
       "       Toefl_Listening  Toefl_Reading  Toefl_Writing  Toefl_Speaking  \\\n",
       "count      8912.000000    8912.000000    8912.000000     8912.000000   \n",
       "mean          0.010261       0.010739       0.009612        0.009288   \n",
       "std           0.048220       0.050130       0.045253        0.043789   \n",
       "min           0.000000       0.000000       0.000000        0.000000   \n",
       "25%           0.000000       0.000000       0.000000        0.000000   \n",
       "50%           0.000000       0.000000       0.000000        0.000000   \n",
       "75%           0.000000       0.000000       0.000000        0.000000   \n",
       "max           1.000000       1.000000       1.000000        1.000000   \n",
       "\n",
       "       PTE_Overall  PTE_Listening  PTE_Reading  PTE_Writing  PTE_Speaking  \\\n",
       "count  8912.000000    8912.000000  8912.000000  8912.000000   8912.000000   \n",
       "mean      0.002093       0.002225     0.002007     0.002142      0.002136   \n",
       "std       0.041229       0.043016     0.038854     0.041420      0.041501   \n",
       "min       0.000000       0.000000     0.000000     0.000000      0.000000   \n",
       "25%       0.000000       0.000000     0.000000     0.000000      0.000000   \n",
       "50%       0.000000       0.000000     0.000000     0.000000      0.000000   \n",
       "75%       0.000000       0.000000     0.000000     0.000000      0.000000   \n",
       "max       1.000000       1.000000     1.000000     1.000000      1.000000   \n",
       "\n",
       "       Institution_app_num  Institution_offer_num  Insti_weight    multi_app  \\\n",
       "count          8912.000000            8912.000000   8912.000000  8912.000000   \n",
       "mean              0.136725               0.111134      0.721747     0.037029   \n",
       "std               0.185772               0.160715      0.224381     0.108760   \n",
       "min               0.000000               0.000000      0.000000     0.000000   \n",
       "25%               0.008547               0.010753      0.565089     0.000000   \n",
       "50%               0.068376               0.053763      0.702918     0.000000   \n",
       "75%               0.188034               0.150538      1.000000     0.000000   \n",
       "max               1.000000               1.000000      1.000000     1.000000   \n",
       "\n",
       "         offer_num  Computer Science  Business School  \\\n",
       "count  8912.000000       8912.000000      8912.000000   \n",
       "mean      0.028725          0.109964         0.089879   \n",
       "std       0.094689          0.312863         0.286024   \n",
       "min       0.000000          0.000000         0.000000   \n",
       "25%       0.000000          0.000000         0.000000   \n",
       "50%       0.000000          0.000000         0.000000   \n",
       "75%       0.000000          0.000000         0.000000   \n",
       "max       1.000000          1.000000         1.000000   \n",
       "\n",
       "       Elec Elec and System Eng;Elec Elec and Sys Engineering  \\\n",
       "count                                        8912.000000        \n",
       "mean                                            0.108618        \n",
       "std                                             0.311176        \n",
       "min                                             0.000000        \n",
       "25%                                             0.000000        \n",
       "50%                                             0.000000        \n",
       "75%                                             0.000000        \n",
       "max                                             1.000000        \n",
       "\n",
       "       Metallurgy and Materials  Civil Engineering  \\\n",
       "count               8912.000000        8912.000000   \n",
       "mean                   0.348294           0.023900   \n",
       "std                    0.476457           0.152747   \n",
       "min                    0.000000           0.000000   \n",
       "25%                    0.000000           0.000000   \n",
       "50%                    0.000000           0.000000   \n",
       "75%                    1.000000           0.000000   \n",
       "max                    1.000000           1.000000   \n",
       "\n",
       "       School of Engineering;Elec Elec and Sys Engineering  \\\n",
       "count                                        8912.000000     \n",
       "mean                                            0.105364     \n",
       "std                                             0.307039     \n",
       "min                                             0.000000     \n",
       "25%                                             0.000000     \n",
       "50%                                             0.000000     \n",
       "75%                                             0.000000     \n",
       "max                                             1.000000     \n",
       "\n",
       "       Mechanical Engineering  Physics and Astronomy  Chemical Engineering  \\\n",
       "count             8912.000000            8912.000000           8912.000000   \n",
       "mean                 0.061490               0.041854              0.042864   \n",
       "std                  0.240241               0.200266              0.202561   \n",
       "min                  0.000000               0.000000              0.000000   \n",
       "25%                  0.000000               0.000000              0.000000   \n",
       "50%                  0.000000               0.000000              0.000000   \n",
       "75%                  0.000000               0.000000              0.000000   \n",
       "max                  1.000000               1.000000              1.000000   \n",
       "\n",
       "       Mathematics        Wiley  EPS College Hub  MSc Computer Science FT  \\\n",
       "count  8912.000000  8912.000000      8912.000000              8912.000000   \n",
       "mean      0.014699     0.046791         0.006284                 0.004601   \n",
       "std       0.120353     0.211202         0.079025                 0.067675   \n",
       "min       0.000000     0.000000         0.000000                 0.000000   \n",
       "25%       0.000000     0.000000         0.000000                 0.000000   \n",
       "50%       0.000000     0.000000         0.000000                 0.000000   \n",
       "75%       0.000000     0.000000         0.000000                 0.000000   \n",
       "max       1.000000     1.000000         1.000000                 1.000000   \n",
       "\n",
       "       MSc Adv Eng Man (Constr Man)FT  MSc Elec + Computer Eng FT  \\\n",
       "count                     8912.000000                 8912.000000   \n",
       "mean                         0.022329                    0.001571   \n",
       "std                          0.147761                    0.039606   \n",
       "min                          0.000000                    0.000000   \n",
       "25%                          0.000000                    0.000000   \n",
       "50%                          0.000000                    0.000000   \n",
       "75%                          0.000000                    0.000000   \n",
       "max                          1.000000                    1.000000   \n",
       "\n",
       "       MSc Artific Int & Mach Lear FT  MSc Human-Computer Interact FT  \\\n",
       "count                     8912.000000                     8912.000000   \n",
       "mean                         0.007181                        0.007967   \n",
       "std                          0.084443                        0.088906   \n",
       "min                          0.000000                        0.000000   \n",
       "25%                          0.000000                        0.000000   \n",
       "50%                          0.000000                        0.000000   \n",
       "75%                          0.000000                        0.000000   \n",
       "max                          1.000000                        1.000000   \n",
       "\n",
       "       MSc Data Science FT  MSc Material Sci + Engineer FT  \\\n",
       "count          8912.000000                     8912.000000   \n",
       "mean              0.005386                        0.002244   \n",
       "std               0.073196                        0.047322   \n",
       "min               0.000000                        0.000000   \n",
       "25%               0.000000                        0.000000   \n",
       "50%               0.000000                        0.000000   \n",
       "75%               0.000000                        0.000000   \n",
       "max               1.000000                        1.000000   \n",
       "\n",
       "       MSc Adv Eng Man (Projec Man)FT  MSc Structural Engineering (FT)  \\\n",
       "count                     8912.000000                      8912.000000   \n",
       "mean                         0.001683                         0.025135   \n",
       "std                          0.040994                         0.156543   \n",
       "min                          0.000000                         0.000000   \n",
       "25%                          0.000000                         0.000000   \n",
       "50%                          0.000000                         0.000000   \n",
       "75%                          0.000000                         0.000000   \n",
       "max                          1.000000                         1.000000   \n",
       "\n",
       "       MSc Electric Power Systems FT  MSc Rail Sys Eng+Int w Pre FT  \\\n",
       "count                    8912.000000                    8912.000000   \n",
       "mean                        0.000224                       0.028950   \n",
       "std                         0.014980                       0.167675   \n",
       "min                         0.000000                       0.000000   \n",
       "25%                         0.000000                       0.000000   \n",
       "50%                         0.000000                       0.000000   \n",
       "75%                         0.000000                       0.000000   \n",
       "max                         1.000000                       1.000000   \n",
       "\n",
       "       MSc Adv Eng Man (Generalist)FT  MSc Communications Engineer FT  \\\n",
       "count                     8912.000000                     8912.000000   \n",
       "mean                         0.000224                        0.011445   \n",
       "std                          0.014980                        0.106374   \n",
       "min                          0.000000                        0.000000   \n",
       "25%                          0.000000                        0.000000   \n",
       "50%                          0.000000                        0.000000   \n",
       "75%                          0.000000                        0.000000   \n",
       "max                          1.000000                        1.000000   \n",
       "\n",
       "       MSc Advanced Mech Eng FT  MSc Phys + Tech Nuc React FT  \\\n",
       "count               8912.000000                   8912.000000   \n",
       "mean                   0.000112                      0.035907   \n",
       "std                    0.010593                      0.186068   \n",
       "min                    0.000000                      0.000000   \n",
       "25%                    0.000000                      0.000000   \n",
       "50%                    0.000000                      0.000000   \n",
       "75%                    0.000000                      0.000000   \n",
       "max                    1.000000                      1.000000   \n",
       "\n",
       "       MSc Civil Engineering PT Dubai  MSc Civil Engineering FT  \\\n",
       "count                     8912.000000               8912.000000   \n",
       "mean                         0.000112                  0.007855   \n",
       "std                          0.010593                  0.088282   \n",
       "min                          0.000000                  0.000000   \n",
       "25%                          0.000000                  0.000000   \n",
       "50%                          0.000000                  0.000000   \n",
       "75%                          0.000000                  0.000000   \n",
       "max                          1.000000                  1.000000   \n",
       "\n",
       "       MSc Advanced Chemical Eng FT  MSc Cyber Security FT  \\\n",
       "count                   8912.000000            8912.000000   \n",
       "mean                       0.024349               0.000337   \n",
       "std                        0.154139               0.018345   \n",
       "min                        0.000000               0.000000   \n",
       "25%                        0.000000               0.000000   \n",
       "50%                        0.000000               0.000000   \n",
       "75%                        0.000000               0.000000   \n",
       "max                        1.000000               1.000000   \n",
       "\n",
       "       MSc Advanced Computer Sc FT  \\\n",
       "count                  8912.000000   \n",
       "mean                      0.004937   \n",
       "std                       0.070095   \n",
       "min                       0.000000   \n",
       "25%                       0.000000   \n",
       "50%                       0.000000   \n",
       "75%                       0.000000   \n",
       "max                       1.000000   \n",
       "\n",
       "       MSc Global Energy Technologies and Systems FT  \\\n",
       "count                                    8912.000000   \n",
       "mean                                        0.007630   \n",
       "std                                         0.087022   \n",
       "min                                         0.000000   \n",
       "25%                                         0.000000   \n",
       "50%                                         0.000000   \n",
       "75%                                         0.000000   \n",
       "max                                         1.000000   \n",
       "\n",
       "       MEng Comp Sci Sof En FT (Dub)  BSc Computer Sci FT (Dubai)  \\\n",
       "count                    8912.000000                  8912.000000   \n",
       "mean                        0.000112                     0.042190   \n",
       "std                         0.010593                     0.201034   \n",
       "min                         0.000000                     0.000000   \n",
       "25%                         0.000000                     0.000000   \n",
       "50%                         0.000000                     0.000000   \n",
       "75%                         0.000000                     0.000000   \n",
       "max                         1.000000                     1.000000   \n",
       "\n",
       "       MSc Applied Mathematics FT  MSc MORSE FT  MSc Robotics FT  \\\n",
       "count                 8912.000000   8912.000000      8912.000000   \n",
       "mean                     0.037029      0.000224         0.010772   \n",
       "std                      0.188843      0.014980         0.103233   \n",
       "min                      0.000000      0.000000         0.000000   \n",
       "25%                      0.000000      0.000000         0.000000   \n",
       "50%                      0.000000      0.000000         0.000000   \n",
       "75%                      0.000000      0.000000         0.000000   \n",
       "max                      1.000000      1.000000         1.000000   \n",
       "\n",
       "       MSc Art Int + Comp Sc PT (Dub)  MSc Nuclear Decom Waste Man FT  \\\n",
       "count                     8912.000000                     8912.000000   \n",
       "mean                         0.008752                        0.006957   \n",
       "std                          0.093148                        0.083122   \n",
       "min                          0.000000                        0.000000   \n",
       "25%                          0.000000                        0.000000   \n",
       "50%                          0.000000                        0.000000   \n",
       "75%                          0.000000                        0.000000   \n",
       "max                          1.000000                        1.000000   \n",
       "\n",
       "       PGCert Des Lear Env DL PT  BIA Engin Phys Sci 4Yr (Dubai)  \\\n",
       "count                8912.000000                     8912.000000   \n",
       "mean                    0.050157                        0.019075   \n",
       "std                     0.218281                        0.136798   \n",
       "min                     0.000000                        0.000000   \n",
       "25%                     0.000000                        0.000000   \n",
       "50%                     0.000000                        0.000000   \n",
       "75%                     0.000000                        0.000000   \n",
       "max                     1.000000                        1.000000   \n",
       "\n",
       "       BSc Art Intel and Comp Sci FT Dubai  MSc Adv Eng Man (Operat Man)FT  \\\n",
       "count                          8912.000000                     8912.000000   \n",
       "mean                              0.000449                        0.000224   \n",
       "std                               0.021182                        0.014980   \n",
       "min                               0.000000                        0.000000   \n",
       "25%                               0.000000                        0.000000   \n",
       "50%                               0.000000                        0.000000   \n",
       "75%                               0.000000                        0.000000   \n",
       "max                               1.000000                        1.000000   \n",
       "\n",
       "       MSc Advanced Chemical Engineering with Energy FT  \\\n",
       "count                                       8912.000000   \n",
       "mean                                           0.000112   \n",
       "std                                            0.010593   \n",
       "min                                            0.000000   \n",
       "25%                                            0.000000   \n",
       "50%                                            0.000000   \n",
       "75%                                            0.000000   \n",
       "max                                            1.000000   \n",
       "\n",
       "       MSc Art Int + Comp Sc FT (Dub)  \\\n",
       "count                     8912.000000   \n",
       "mean                         0.024237   \n",
       "std                          0.153793   \n",
       "min                          0.000000   \n",
       "25%                          0.000000   \n",
       "50%                          0.000000   \n",
       "75%                          0.000000   \n",
       "max                          1.000000   \n",
       "\n",
       "       BIA Engineering Physical Sciences 43m Jan Dubai  \\\n",
       "count                                      8912.000000   \n",
       "mean                                          0.001122   \n",
       "std                                           0.033481   \n",
       "min                                           0.000000   \n",
       "25%                                           0.000000   \n",
       "50%                                           0.000000   \n",
       "75%                                           0.000000   \n",
       "max                                           1.000000   \n",
       "\n",
       "       MSc Geotechnical Eng FT  MSc Civ Eng and Management FT  \\\n",
       "count              8912.000000                    8912.000000   \n",
       "mean                  0.000337                       0.000224   \n",
       "std                   0.018345                       0.014980   \n",
       "min                   0.000000                       0.000000   \n",
       "25%                   0.000000                       0.000000   \n",
       "50%                   0.000000                       0.000000   \n",
       "75%                   0.000000                       0.000000   \n",
       "max                   1.000000                       1.000000   \n",
       "\n",
       "       MSc Computer Science PT (Dub)  MSc Geotechnical Eng + Mgt FT  \\\n",
       "count                    8912.000000                    8912.000000   \n",
       "mean                        0.000112                       0.046566   \n",
       "std                         0.010593                       0.210720   \n",
       "min                         0.000000                       0.000000   \n",
       "25%                         0.000000                       0.000000   \n",
       "50%                         0.000000                       0.000000   \n",
       "75%                         0.000000                       0.000000   \n",
       "max                         1.000000                       1.000000   \n",
       "\n",
       "       MSc Industrial Project Man. PT Blended Learning  \\\n",
       "count                                      8912.000000   \n",
       "mean                                          0.000112   \n",
       "std                                           0.010593   \n",
       "min                                           0.000000   \n",
       "25%                                           0.000000   \n",
       "50%                                           0.000000   \n",
       "75%                                           0.000000   \n",
       "max                                           1.000000   \n",
       "\n",
       "       MSc Advanced Chemical Eng with Bioprocessing FT  \\\n",
       "count                                      8912.000000   \n",
       "mean                                          0.083595   \n",
       "std                                           0.276795   \n",
       "min                                           0.000000   \n",
       "25%                                           0.000000   \n",
       "50%                                           0.000000   \n",
       "75%                                           0.000000   \n",
       "max                                           1.000000   \n",
       "\n",
       "       MSc Food Safety; Hyg + Man FT  MSc Financial Engineering FT  \\\n",
       "count                    8912.000000                   8912.000000   \n",
       "mean                        0.007069                      0.002469   \n",
       "std                         0.083785                      0.049626   \n",
       "min                         0.000000                      0.000000   \n",
       "25%                         0.000000                      0.000000   \n",
       "50%                         0.000000                      0.000000   \n",
       "75%                         0.000000                      0.000000   \n",
       "max                         1.000000                      1.000000   \n",
       "\n",
       "       MSc Formulation Engineering FT  MSc Elec Pow Syst w Adv Res FT  \\\n",
       "count                     8912.000000                     8912.000000   \n",
       "mean                         0.023788                        0.073833   \n",
       "std                          0.152397                        0.261514   \n",
       "min                          0.000000                        0.000000   \n",
       "25%                          0.000000                        0.000000   \n",
       "50%                          0.000000                        0.000000   \n",
       "75%                          0.000000                        0.000000   \n",
       "max                          1.000000                        1.000000   \n",
       "\n",
       "       MSc Computer Science FT(Dubai)  MSc Road Mgt + Eng FT  \\\n",
       "count                     8912.000000            8912.000000   \n",
       "mean                         0.056777               0.000112   \n",
       "std                          0.231430               0.010593   \n",
       "min                          0.000000               0.000000   \n",
       "25%                          0.000000               0.000000   \n",
       "50%                          0.000000               0.000000   \n",
       "75%                          0.000000               0.000000   \n",
       "max                          1.000000               1.000000   \n",
       "\n",
       "       MSc Fue Cel + Hyd Tec Blend FT  MSc Adv Chem Eng w Form FT  \\\n",
       "count                     8912.000000                 8912.000000   \n",
       "mean                         0.005162                    0.043088   \n",
       "std                          0.071663                    0.203067   \n",
       "min                          0.000000                    0.000000   \n",
       "25%                          0.000000                    0.000000   \n",
       "50%                          0.000000                    0.000000   \n",
       "75%                          0.000000                    0.000000   \n",
       "max                          1.000000                    1.000000   \n",
       "\n",
       "       PGDip Adv Chem Eng with Healthcare Technology FT  \\\n",
       "count                                       8912.000000   \n",
       "mean                                           0.000337   \n",
       "std                                            0.018345   \n",
       "min                                            0.000000   \n",
       "25%                                            0.000000   \n",
       "50%                                            0.000000   \n",
       "75%                                            0.000000   \n",
       "max                                            1.000000   \n",
       "\n",
       "       BEng Mechanical Eng FT (Dubai)  MSc Rail Sys Eng + Int PT DA  \\\n",
       "count                     8912.000000                   8912.000000   \n",
       "mean                         0.013128                      0.000337   \n",
       "std                          0.113831                      0.018345   \n",
       "min                          0.000000                      0.000000   \n",
       "25%                          0.000000                      0.000000   \n",
       "50%                          0.000000                      0.000000   \n",
       "75%                          0.000000                      0.000000   \n",
       "max                          1.000000                      1.000000   \n",
       "\n",
       "       MSc Civ Eng and Management PT  MSc Healthcare Technology FT  \\\n",
       "count                    8912.000000                   8912.000000   \n",
       "mean                        0.032428                      0.000224   \n",
       "std                         0.177144                      0.014980   \n",
       "min                         0.000000                      0.000000   \n",
       "25%                         0.000000                      0.000000   \n",
       "50%                         0.000000                      0.000000   \n",
       "75%                         0.000000                      0.000000   \n",
       "max                         1.000000                      1.000000   \n",
       "\n",
       "       MSc Structural Engineering PT  MSc Rail Safe + Control Sys FT  \\\n",
       "count                    8912.000000                     8912.000000   \n",
       "mean                        0.000449                        0.000112   \n",
       "std                         0.021182                        0.010593   \n",
       "min                         0.000000                        0.000000   \n",
       "25%                         0.000000                        0.000000   \n",
       "50%                         0.000000                        0.000000   \n",
       "75%                         0.000000                        0.000000   \n",
       "max                         1.000000                        1.000000   \n",
       "\n",
       "       MSc Rail Saf+Con Sys (Flex) DL  MSc Rail System Engin Integ DL  \\\n",
       "count                     8912.000000                     8912.000000   \n",
       "mean                         0.002132                        0.007742   \n",
       "std                          0.046126                        0.087654   \n",
       "min                          0.000000                        0.000000   \n",
       "25%                          0.000000                        0.000000   \n",
       "50%                          0.000000                        0.000000   \n",
       "75%                          0.000000                        0.000000   \n",
       "max                          1.000000                        1.000000   \n",
       "\n",
       "       MSc Adv Eng Man (System Man)FT  \\\n",
       "count                     8912.000000   \n",
       "mean                         0.000673   \n",
       "std                          0.025940   \n",
       "min                          0.000000   \n",
       "25%                          0.000000   \n",
       "50%                          0.000000   \n",
       "75%                          0.000000   \n",
       "max                          1.000000   \n",
       "\n",
       "       MSc Civil Engineering Dubai (January) PT  MSc Advanced Mech Eng PT  \\\n",
       "count                               8912.000000               8912.000000   \n",
       "mean                                   0.000337                  0.010548   \n",
       "std                                    0.018345                  0.102164   \n",
       "min                                    0.000000                  0.000000   \n",
       "25%                                    0.000000                  0.000000   \n",
       "50%                                    0.000000                  0.000000   \n",
       "75%                                    0.000000                  0.000000   \n",
       "max                                    1.000000                  1.000000   \n",
       "\n",
       "       MSc Civil Engineering PT  MSc Mathematical Finance FT  \\\n",
       "count               8912.000000                  8912.000000   \n",
       "mean                   0.002020                     0.016382   \n",
       "std                    0.044899                     0.126948   \n",
       "min                    0.000000                     0.000000   \n",
       "25%                    0.000000                     0.000000   \n",
       "50%                    0.000000                     0.000000   \n",
       "75%                    0.000000                     0.000000   \n",
       "max                    1.000000                     1.000000   \n",
       "\n",
       "       MSc Rail Sys Eng Inte DL Fixed  MSc Rail Systems Engin Int FT  \\\n",
       "count                     8912.000000                    8912.000000   \n",
       "mean                         0.002020                       0.024798   \n",
       "std                          0.044899                       0.155518   \n",
       "min                          0.000000                       0.000000   \n",
       "25%                          0.000000                       0.000000   \n",
       "50%                          0.000000                       0.000000   \n",
       "75%                          0.000000                       0.000000   \n",
       "max                          1.000000                       1.000000   \n",
       "\n",
       "       MSc Civil Engineering FT Dubai  PGDip Art In + Com Sc FT (Dub)  \\\n",
       "count                     8912.000000                     8912.000000   \n",
       "mean                         0.042864                        0.012792   \n",
       "std                          0.202561                        0.112381   \n",
       "min                          0.000000                        0.000000   \n",
       "25%                          0.000000                        0.000000   \n",
       "50%                          0.000000                        0.000000   \n",
       "75%                          0.000000                        0.000000   \n",
       "max                          1.000000                        1.000000   \n",
       "\n",
       "       PGDip Computer Scien FT(Dubai)  \\\n",
       "count                     8912.000000   \n",
       "mean                         0.005162   \n",
       "std                          0.071663   \n",
       "min                          0.000000   \n",
       "25%                          0.000000   \n",
       "50%                          0.000000   \n",
       "75%                          0.000000   \n",
       "max                          1.000000   \n",
       "\n",
       "       MSc Civil Engineering Part Time Fixed Duration  \\\n",
       "count                                     8912.000000   \n",
       "mean                                         0.000112   \n",
       "std                                          0.010593   \n",
       "min                                          0.000000   \n",
       "25%                                          0.000000   \n",
       "50%                                          0.000000   \n",
       "75%                                          0.000000   \n",
       "max                                          1.000000   \n",
       "\n",
       "       MSc Advanced Chemical Eng PT  MSc Adv Eng Man (Projec Man)PT  \\\n",
       "count                   8912.000000                     8912.000000   \n",
       "mean                       0.009313                        0.000112   \n",
       "std                        0.096060                        0.010593   \n",
       "min                        0.000000                        0.000000   \n",
       "25%                        0.000000                        0.000000   \n",
       "50%                        0.000000                        0.000000   \n",
       "75%                        0.000000                        0.000000   \n",
       "max                        1.000000                        1.000000   \n",
       "\n",
       "       MSc Road Mgt + Eng PT  PGDip Rail Safe + Cont Sys FT  \\\n",
       "count            8912.000000                    8912.000000   \n",
       "mean                0.000224                       0.000449   \n",
       "std                 0.014980                       0.021182   \n",
       "min                 0.000000                       0.000000   \n",
       "25%                 0.000000                       0.000000   \n",
       "50%                 0.000000                       0.000000   \n",
       "75%                 0.000000                       0.000000   \n",
       "max                 1.000000                       1.000000   \n",
       "\n",
       "       MSc Rail Saf+Con Sys DL Fixed  MSc Geotechnical Eng PT  \\\n",
       "count                    8912.000000              8912.000000   \n",
       "mean                        0.003703                 0.000561   \n",
       "std                         0.060742                 0.023681   \n",
       "min                         0.000000                 0.000000   \n",
       "25%                         0.000000                 0.000000   \n",
       "50%                         0.000000                 0.000000   \n",
       "75%                         0.000000                 0.000000   \n",
       "max                         1.000000                 1.000000   \n",
       "\n",
       "       MSc Adv Eng Man (Constr Man)PT  MSc Food Safety, Hyg + Man PT  \\\n",
       "count                     8912.000000                    8912.000000   \n",
       "mean                         0.001795                       0.001683   \n",
       "std                          0.042336                       0.040994   \n",
       "min                          0.000000                       0.000000   \n",
       "25%                          0.000000                       0.000000   \n",
       "50%                          0.000000                       0.000000   \n",
       "75%                          0.000000                       0.000000   \n",
       "max                          1.000000                       1.000000   \n",
       "\n",
       "       MSc Phys + Tech Nuc React PT  PGCert Rail Sa+Co Sy (Flex) DL  \\\n",
       "count                   8912.000000                     8912.000000   \n",
       "mean                       0.006732                        0.001459   \n",
       "std                        0.081780                        0.038167   \n",
       "min                        0.000000                        0.000000   \n",
       "25%                        0.000000                        0.000000   \n",
       "50%                        0.000000                        0.000000   \n",
       "75%                        0.000000                        0.000000   \n",
       "max                        1.000000                        1.000000   \n",
       "\n",
       "       MSc Advanced Chemical Engineering with Form PT  \\\n",
       "count                                     8912.000000   \n",
       "mean                                         0.002020   \n",
       "std                                          0.044899   \n",
       "min                                          0.000000   \n",
       "25%                                          0.000000   \n",
       "50%                                          0.000000   \n",
       "75%                                          0.000000   \n",
       "max                                          1.000000   \n",
       "\n",
       "       MSc Adv Eng Man (Generalist)PT  MSc Fue Cel + Hyd Tec Blend PT  \\\n",
       "count                     8912.000000                     8912.000000   \n",
       "mean                         0.009425                        0.000449   \n",
       "std                          0.096632                        0.021182   \n",
       "min                          0.000000                        0.000000   \n",
       "25%                          0.000000                        0.000000   \n",
       "50%                          0.000000                        0.000000   \n",
       "75%                          0.000000                        0.000000   \n",
       "max                          1.000000                        1.000000   \n",
       "\n",
       "       MSc Adv Chem Eng with Healthcare Technology FT  \\\n",
       "count                                     8912.000000   \n",
       "mean                                         0.012118   \n",
       "std                                          0.109421   \n",
       "min                                          0.000000   \n",
       "25%                                          0.000000   \n",
       "50%                                          0.000000   \n",
       "75%                                          0.000000   \n",
       "max                                          1.000000   \n",
       "\n",
       "       MSc Rail Safe+Cont Sy w Pre FT  PGCert Rail Syst Eng Integ DL  \\\n",
       "count                     8912.000000                    8912.000000   \n",
       "mean                         0.021656                       0.000449   \n",
       "std                          0.145566                       0.021182   \n",
       "min                          0.000000                       0.000000   \n",
       "25%                          0.000000                       0.000000   \n",
       "50%                          0.000000                       0.000000   \n",
       "75%                          0.000000                       0.000000   \n",
       "max                          1.000000                       1.000000   \n",
       "\n",
       "       PGCert Rail Systems Eng Int FT  MSc Civil Enginee FT Jan Dubai  \\\n",
       "count                     8912.000000                     8912.000000   \n",
       "mean                         0.000112                        0.006284   \n",
       "std                          0.010593                        0.079025   \n",
       "min                          0.000000                        0.000000   \n",
       "25%                          0.000000                        0.000000   \n",
       "50%                          0.000000                        0.000000   \n",
       "75%                          0.000000                        0.000000   \n",
       "max                          1.000000                        1.000000   \n",
       "\n",
       "       MSc Adv Eng Man (Operat Man)PT  PGDip Civ Eng & Management FT  \\\n",
       "count                     8912.000000                    8912.000000   \n",
       "mean                         0.000224                       0.000224   \n",
       "std                          0.014980                       0.014980   \n",
       "min                          0.000000                       0.000000   \n",
       "25%                          0.000000                       0.000000   \n",
       "50%                          0.000000                       0.000000   \n",
       "75%                          0.000000                       0.000000   \n",
       "max                          1.000000                       1.000000   \n",
       "\n",
       "       PGDip Road Mgt + Eng FT  \\\n",
       "count              8912.000000   \n",
       "mean                  0.000112   \n",
       "std                   0.010593   \n",
       "min                   0.000000   \n",
       "25%                   0.000000   \n",
       "50%                   0.000000   \n",
       "75%                   0.000000   \n",
       "max                   1.000000   \n",
       "\n",
       "       MSc Geotechnical Engineering (PT; Fixed Duration)  \\\n",
       "count                                        8912.000000   \n",
       "mean                                            0.000112   \n",
       "std                                             0.010593   \n",
       "min                                             0.000000   \n",
       "25%                                             0.000000   \n",
       "50%                                             0.000000   \n",
       "75%                                             0.000000   \n",
       "max                                             1.000000   \n",
       "\n",
       "       PG MC Fuel Cell + Hyd Tech MC  MSc Communications Engineer PT  \\\n",
       "count                    8912.000000                     8912.000000   \n",
       "mean                        0.000112                        0.000224   \n",
       "std                         0.010593                        0.014980   \n",
       "min                         0.000000                        0.000000   \n",
       "25%                         0.000000                        0.000000   \n",
       "50%                         0.000000                        0.000000   \n",
       "75%                         0.000000                        0.000000   \n",
       "max                         1.000000                        1.000000   \n",
       "\n",
       "       MSc Nuclear Decom Waste Man PT  PGDip Healthcare Technology FT  \\\n",
       "count                     8912.000000                     8912.000000   \n",
       "mean                         0.000112                        0.000112   \n",
       "std                          0.010593                        0.010593   \n",
       "min                          0.000000                        0.000000   \n",
       "25%                          0.000000                        0.000000   \n",
       "50%                          0.000000                        0.000000   \n",
       "75%                          0.000000                        0.000000   \n",
       "max                          1.000000                        1.000000   \n",
       "\n",
       "       MSc Electric Power Systems PT  PGDip Rail Systems Eng Int FT  \\\n",
       "count                    8912.000000                    8912.000000   \n",
       "mean                        0.000112                       0.000112   \n",
       "std                         0.010593                       0.010593   \n",
       "min                         0.000000                       0.000000   \n",
       "25%                         0.000000                       0.000000   \n",
       "50%                         0.000000                       0.000000   \n",
       "75%                         0.000000                       0.000000   \n",
       "max                         1.000000                       1.000000   \n",
       "\n",
       "       MSc Elec + Computer Eng PT  PGDip Civil Eng  FT (Dubai)  \\\n",
       "count                 8912.000000                  8912.000000   \n",
       "mean                     0.000112                     0.000112   \n",
       "std                      0.010593                     0.010593   \n",
       "min                      0.000000                     0.000000   \n",
       "25%                      0.000000                     0.000000   \n",
       "50%                      0.000000                     0.000000   \n",
       "75%                      0.000000                     0.000000   \n",
       "max                      1.000000                     1.000000   \n",
       "\n",
       "       PGDip Art In + Com Sc PT (Dub)  PGDip Advanced Chemical Eng FT  \n",
       "count                     8912.000000                     8912.000000  \n",
       "mean                         0.000112                        0.000224  \n",
       "std                          0.010593                        0.014980  \n",
       "min                          0.000000                        0.000000  \n",
       "25%                          0.000000                        0.000000  \n",
       "50%                          0.000000                        0.000000  \n",
       "75%                          0.000000                        0.000000  \n",
       "max                          1.000000                        1.000000  "
      ]
     },
     "execution_count": 23,
     "metadata": {},
     "output_type": "execute_result"
    }
   ],
   "source": [
    "from sklearn.preprocessing import MinMaxScaler\n",
    "X3_normalized = X3.copy()\n",
    "scaler3 = MinMaxScaler() \n",
    "scaled_values = scaler3.fit_transform(X3) \n",
    "X3_normalized.loc[:,:] = scaled_values\n",
    "X3_normalized.to_pickle(\"X3/X3_normalized.pkl\") \n",
    "X3_normalized.describe()"
   ]
  },
  {
   "cell_type": "markdown",
   "id": "b073d2b6-9c55-490a-a8e2-d03cdb53a181",
   "metadata": {},
   "source": [
    "For the convenience of adapting the other new data to test the model, save the scalers"
   ]
  },
  {
   "cell_type": "code",
   "execution_count": 24,
   "id": "e160be00-0a32-42cd-8d50-6d9ffe900b4c",
   "metadata": {},
   "outputs": [
    {
     "data": {
      "text/plain": [
       "['scaler3.gz']"
      ]
     },
     "execution_count": 24,
     "metadata": {},
     "output_type": "execute_result"
    }
   ],
   "source": [
    "import joblib\n",
    "joblib.dump(scaler1, 'scaler1.gz')\n",
    "joblib.dump(scaler2, 'scaler2.gz')\n",
    "joblib.dump(scaler3, 'scaler3.gz')"
   ]
  },
  {
   "cell_type": "code",
   "execution_count": 33,
   "id": "e5976b4d-2c16-4559-a453-d3f145d86477",
   "metadata": {},
   "outputs": [
    {
     "data": {
      "text/plain": [
       "pandas.core.frame.DataFrame"
      ]
     },
     "execution_count": 33,
     "metadata": {},
     "output_type": "execute_result"
    }
   ],
   "source": []
  },
  {
   "cell_type": "markdown",
   "id": "57f95a86-943d-4bc6-af15-e5c915bce193",
   "metadata": {},
   "source": [
    "## 4.Feature selection"
   ]
  },
  {
   "cell_type": "markdown",
   "id": "efef095e-8c2b-407a-9b29-70966268cc93",
   "metadata": {
    "tags": []
   },
   "source": [
    "### 1)PCA to see how the datasets distribute in the dimensions"
   ]
  },
  {
   "cell_type": "code",
   "execution_count": 44,
   "id": "6bad240d-08e2-4457-b0ae-db82a155e098",
   "metadata": {},
   "outputs": [
    {
     "name": "stdout",
     "output_type": "stream",
     "text": [
      "Explained Variance Ratio (%):\n",
      "[1.77187296e+01 9.66079862e+00 7.43912649e+00 7.25920631e+00\n",
      " 6.66026599e+00 5.15904591e+00 4.71696568e+00 3.96843530e+00\n",
      " 3.74383623e+00 3.51390278e+00 3.31298051e+00 3.13145562e+00\n",
      " 2.95567974e+00 2.86300194e+00 2.45167562e+00 2.34994305e+00\n",
      " 2.13922131e+00 1.79851481e+00 1.63343467e+00 1.36135310e+00\n",
      " 1.14236580e+00 9.63986144e-01 6.99432487e-01 6.45205965e-01\n",
      " 5.94488604e-01 5.19821646e-01 4.50419366e-01 2.69189476e-01\n",
      " 2.55238423e-01 1.49268952e-01 1.24722572e-01 1.02137590e-01\n",
      " 7.85326887e-02 6.04083031e-02 3.60664438e-02 2.68105560e-02\n",
      " 2.42605729e-02 5.30221386e-03 3.34842270e-03 2.43969150e-03\n",
      " 2.08678056e-03 1.99770662e-03 1.50468699e-03 1.41647169e-03\n",
      " 9.31404557e-04 5.09238512e-04 2.96484583e-04 2.38080671e-04\n",
      " 6.07327512e-30 9.23306472e-31 8.97406906e-32 7.30233886e-32]\n",
      "Singular Values:\n",
      "[4.81804894e+01 3.55763535e+01 3.12187773e+01 3.08389432e+01\n",
      " 2.95393344e+01 2.59979805e+01 2.48591501e+01 2.28015605e+01\n",
      " 2.21469201e+01 2.14560508e+01 2.08336017e+01 2.02548041e+01\n",
      " 1.96781200e+01 1.93671510e+01 1.79219979e+01 1.75462207e+01\n",
      " 1.67410532e+01 1.53501254e+01 1.46287023e+01 1.33548899e+01\n",
      " 1.22336912e+01 1.12380333e+01 9.57255385e+00 9.19399164e+00\n",
      " 8.82524325e+00 8.25243472e+00 7.68180795e+00 5.93859839e+00\n",
      " 5.78266381e+00 4.42221303e+00 4.04228981e+00 3.65803385e+00\n",
      " 3.20759960e+00 2.81321702e+00 2.17373490e+00 1.87416502e+00\n",
      " 1.78281157e+00 8.33457652e-01 6.62330960e-01 5.65356480e-01\n",
      " 5.22869500e-01 5.11588499e-01 4.43994920e-01 4.30783308e-01\n",
      " 3.49320519e-01 2.58294726e-01 1.97086091e-01 1.76610690e-01\n",
      " 2.82076168e-14 1.09983581e-14 3.42885896e-15 3.09304265e-15]\n"
     ]
    }
   ],
   "source": [
    "from sklearn.decomposition import PCA\n",
    "pca = PCA()\n",
    "pca_fit = pca.fit(X1_normalized)\n",
    "\n",
    "print('Explained Variance Ratio (%):')\n",
    "print(pca.explained_variance_ratio_*100)\n",
    "print('Singular Values:')\n",
    "print(pca.singular_values_)"
   ]
  },
  {
   "cell_type": "code",
   "execution_count": 45,
   "id": "c1aa7e97-bb62-485f-b21e-48a17ff4b2e2",
   "metadata": {},
   "outputs": [
    {
     "data": {
      "image/png": "[encoded data removed]",
      "text/plain": [
       "<Figure size 648x432 with 1 Axes>"
      ]
     },
     "metadata": {},
     "output_type": "display_data"
    }
   ],
   "source": [
    "sns.set(font_scale=1.5)\n",
    "PC_values1 = np.arange(pca.n_components_) + 1\n",
    "ax1 = sns.relplot(x=PC_values1, y= pca.explained_variance_ratio_, marker='o', kind=\"line\", height=6, aspect=1.5)\n",
    "ax1.set(xlabel='Principal Component',ylabel = 'Variance Explained', title='X1 PCA Scree Plot' )\n",
    "ax1.figure.savefig(\"X1/X1PCA.png\")"
   ]
  },
  {
   "cell_type": "code",
   "execution_count": 46,
   "id": "8d9647bd-e9e9-4eb3-b781-9fa39c68e025",
   "metadata": {},
   "outputs": [
    {
     "name": "stdout",
     "output_type": "stream",
     "text": [
      "                                              Factors  Eigenvector 1\n",
      "43                           Metallurgy and Materials       0.925098\n",
      "14                                    A2C_since_Sep01       0.087441\n",
      "19                                           eng_type       0.033080\n",
      "18                                         Decision_U       0.027776\n",
      "11                               decision_since_Sep01       0.018772\n",
      "25                                      Toefl_Overall       0.018116\n",
      "2                                         master_prev       0.014712\n",
      "12                                    A1C_since_Sep01       0.012940\n",
      "15                               Response_since_Sep01       0.012697\n",
      "35                                Institution_app_num       0.012619\n",
      "7                              Days at Decision Stage       0.012041\n",
      "13                                    A1U_since_Sep01       0.010760\n",
      "38                                          multi_app       0.010484\n",
      "36                              Institution_offer_num       0.009554\n",
      "0                                            uob_alum       0.009314\n",
      "17                                         Decision_R       0.008449\n",
      "27                                      Toefl_Reading       0.007989\n",
      "26                                    Toefl_Listening       0.007551\n",
      "6                                      Days in School       0.007518\n",
      "28                                      Toefl_Writing       0.007073\n",
      "9                                          TOTAL Days       0.007039\n",
      "29                                     Toefl_Speaking       0.006648\n",
      "39                                          offer_num       0.006491\n",
      "21                                    Ielts_Listening       0.004053\n",
      "22                                      Ielts_Reading       0.003613\n",
      "10                                      Response days       0.003416\n",
      "24                                     Ielts_Speaking       0.002980\n",
      "23                                      Ielts_Writing       0.002420\n",
      "20                                      Ielts_Overall       0.002318\n",
      "8                               Total Days Admissions       0.002285\n",
      "31                                      PTE_Listening       0.001381\n",
      "33                                        PTE_Writing       0.001320\n",
      "34                                       PTE_Speaking       0.001282\n",
      "32                                        PTE_Reading       0.001198\n",
      "30                                        PTE_Overall       0.001124\n",
      "5                           Days at Admissions Review      -0.001997\n",
      "51                                    EPS College Hub      -0.003991\n",
      "37                                       Insti_weight      -0.007505\n",
      "49                                        Mathematics      -0.012530\n",
      "4                                             funding      -0.018260\n",
      "44                                  Civil Engineering      -0.027228\n",
      "3                                            distance      -0.028411\n",
      "16                                         Decision_C      -0.036225\n",
      "47                              Physics and Astronomy      -0.044702\n",
      "48                               Chemical Engineering      -0.047837\n",
      "50                                              Wiley      -0.057248\n",
      "1                                        home_oversea      -0.066520\n",
      "46                             Mechanical Engineering      -0.070764\n",
      "41                                    Business School      -0.121465\n",
      "45  School of Engineering;Elec Elec and Sys Engine...      -0.175327\n",
      "42  Elec Elec and System Eng;Elec Elec and Sys Eng...      -0.175990\n",
      "40                                   Computer Science      -0.188016\n"
     ]
    }
   ],
   "source": [
    "# print the factors ranking in the order of Eigenvector \n",
    "factors = pd.DataFrame({'Factors': X1_normalized.columns, 'Eigenvector 1': pca.components_[0]})\n",
    "factors = factors.sort_values(by=['Eigenvector 1'], ascending=False)\n",
    "print(factors)"
   ]
  },
  {
   "cell_type": "code",
   "execution_count": 47,
   "id": "e0efca9f-c929-43ff-80dc-4e1e695313ce",
   "metadata": {},
   "outputs": [
    {
     "name": "stdout",
     "output_type": "stream",
     "text": [
      "Explained Variance Ratio (%):\n",
      "[1.72164115e+01 9.62278208e+00 8.18177394e+00 7.05418793e+00\n",
      " 6.47305320e+00 5.09766425e+00 4.61431170e+00 3.85900733e+00\n",
      " 3.74234301e+00 3.41308438e+00 3.31492014e+00 3.09498119e+00\n",
      " 3.00017007e+00 2.85531957e+00 2.38141606e+00 2.28400668e+00\n",
      " 2.09669261e+00 1.92818228e+00 1.60038196e+00 1.32738209e+00\n",
      " 1.11269886e+00 1.09276424e+00 7.81319165e-01 6.42633445e-01\n",
      " 6.24851455e-01 5.77149530e-01 4.70836433e-01 4.35553762e-01\n",
      " 2.54805232e-01 2.46280174e-01 1.44977032e-01 1.19878151e-01\n",
      " 9.91746868e-02 7.62244954e-02 5.86624974e-02 3.50292606e-02\n",
      " 2.60394709e-02 2.35606812e-02 5.14614778e-03 3.25211314e-03\n",
      " 2.36928611e-03 2.02666859e-03 1.94015020e-03 1.46108251e-03\n",
      " 1.37560865e-03 9.04571810e-04 4.94595534e-04 2.87956961e-04\n",
      " 2.31223842e-04 3.39533850e-30 5.45379970e-31 6.86123221e-32\n",
      " 5.68675006e-32]\n",
      "Singular Values:\n",
      "[4.81904914e+01 3.60280173e+01 3.32210821e+01 3.08470438e+01\n",
      " 2.95491250e+01 2.62225940e+01 2.49484461e+01 2.28153870e+01\n",
      " 2.24678664e+01 2.14567307e+01 2.11459194e+01 2.04323841e+01\n",
      " 2.01169888e+01 1.96253494e+01 1.79228750e+01 1.75524895e+01\n",
      " 1.68173444e+01 1.61273897e+01 1.46927084e+01 1.33809829e+01\n",
      " 1.22512065e+01 1.21409669e+01 1.02660713e+01 9.31047202e+00\n",
      " 9.18075568e+00 8.82336429e+00 7.96938976e+00 7.66497816e+00\n",
      " 5.86265325e+00 5.76374506e+00 4.42221281e+00 4.02124057e+00\n",
      " 3.65755155e+00 3.20654483e+00 2.81300375e+00 2.17372962e+00\n",
      " 1.87415763e+00 1.78272337e+00 8.33165281e-01 6.62327611e-01\n",
      " 5.65325781e-01 5.22855169e-01 5.11573116e-01 4.43943200e-01\n",
      " 4.30762101e-01 3.49310437e-01 2.58294484e-01 1.97085116e-01\n",
      " 1.76606362e-01 2.14008772e-14 8.57708332e-15 3.04222335e-15\n",
      " 2.76963225e-15]\n"
     ]
    }
   ],
   "source": [
    "pca_fit = pca.fit(X2_normalized)\n",
    "\n",
    "print('Explained Variance Ratio (%):')\n",
    "print(pca.explained_variance_ratio_*100)\n",
    "print('Singular Values:')\n",
    "print(pca.singular_values_)"
   ]
  },
  {
   "cell_type": "code",
   "execution_count": 48,
   "id": "6ba1136f-11b0-4900-be70-8e825c859f34",
   "metadata": {},
   "outputs": [
    {
     "data": {
      "image/png": "[encoded data removed]",
      "text/plain": [
       "<Figure size 648x432 with 1 Axes>"
      ]
     },
     "metadata": {},
     "output_type": "display_data"
    }
   ],
   "source": [
    "PC_values2 = np.arange(pca.n_components_) + 1\n",
    "ax2 = sns.relplot(x=PC_values2, y= pca.explained_variance_ratio_, marker='o', kind=\"line\", height=6, aspect=1.5)\n",
    "ax2.set(xlabel='Principal Component',ylabel = 'Variance Explained',title='X2 PCA Scree Plot')\n",
    "ax2.figure.savefig(\"X2/X2PCA.png\")"
   ]
  },
  {
   "cell_type": "code",
   "execution_count": 49,
   "id": "5c975c50-3142-4d2f-b372-78bab7c2b403",
   "metadata": {},
   "outputs": [
    {
     "name": "stdout",
     "output_type": "stream",
     "text": [
      "                                              Factors  Eigenvector 1\n",
      "44                           Metallurgy and Materials       0.925248\n",
      "15                                    A2C_since_Sep01       0.086538\n",
      "20                                           eng_type       0.032873\n",
      "19                                         Decision_U       0.026865\n",
      "12                               decision_since_Sep01       0.018721\n",
      "26                                      Toefl_Overall       0.018068\n",
      "3                                         master_prev       0.014196\n",
      "13                                    A1C_since_Sep01       0.013171\n",
      "36                                Institution_app_num       0.012305\n",
      "16                               Response_since_Sep01       0.012209\n",
      "8                              Days at Decision Stage       0.011821\n",
      "14                                    A1U_since_Sep01       0.010995\n",
      "39                                          multi_app       0.010491\n",
      "37                              Institution_offer_num       0.009289\n",
      "1                                            uob_alum       0.009216\n",
      "18                                         Decision_R       0.008419\n",
      "28                                      Toefl_Reading       0.007967\n",
      "27                                    Toefl_Listening       0.007534\n",
      "7                                      Days in School       0.007335\n",
      "29                                      Toefl_Writing       0.007056\n",
      "10                                         TOTAL Days       0.006850\n",
      "30                                     Toefl_Speaking       0.006634\n",
      "40                                          offer_num       0.006495\n",
      "22                                    Ielts_Listening       0.004061\n",
      "23                                      Ielts_Reading       0.003612\n",
      "11                                      Response days       0.003389\n",
      "25                                     Ielts_Speaking       0.002990\n",
      "24                                      Ielts_Writing       0.002423\n",
      "21                                      Ielts_Overall       0.002320\n",
      "9                               Total Days Admissions       0.002211\n",
      "32                                      PTE_Listening       0.001377\n",
      "34                                        PTE_Writing       0.001317\n",
      "35                                       PTE_Speaking       0.001279\n",
      "33                                        PTE_Reading       0.001193\n",
      "31                                        PTE_Overall       0.001121\n",
      "6                           Days at Admissions Review      -0.001993\n",
      "52                                    EPS College Hub      -0.004321\n",
      "38                                       Insti_weight      -0.006987\n",
      "50                                        Mathematics      -0.012977\n",
      "5                                             funding      -0.018641\n",
      "0                                           Programme      -0.022983\n",
      "45                                  Civil Engineering      -0.026293\n",
      "4                                            distance      -0.027905\n",
      "17                                         Decision_C      -0.035284\n",
      "48                              Physics and Astronomy      -0.043905\n",
      "49                               Chemical Engineering      -0.049007\n",
      "51                                              Wiley      -0.057141\n",
      "2                                        home_oversea      -0.065381\n",
      "47                             Mechanical Engineering      -0.071908\n",
      "42                                    Business School      -0.121332\n",
      "46  School of Engineering;Elec Elec and Sys Engine...      -0.176271\n",
      "43  Elec Elec and System Eng;Elec Elec and Sys Eng...      -0.178937\n",
      "41                                   Computer Science      -0.183157\n"
     ]
    }
   ],
   "source": [
    "factors = pd.DataFrame({'Factors': X2_normalized.columns, 'Eigenvector 1': pca.components_[0]})\n",
    "factors = factors.sort_values(by=['Eigenvector 1'], ascending=False)\n",
    "print(factors)"
   ]
  },
  {
   "cell_type": "code",
   "execution_count": 50,
   "id": "5dbb6056-95d7-4b9d-9e90-c72a439efdd5",
   "metadata": {},
   "outputs": [
    {
     "name": "stdout",
     "output_type": "stream",
     "text": [
      "Explained Variance Ratio (%):\n",
      "[1.26154529e+01 6.35511799e+00 5.95297191e+00 5.24816458e+00\n",
      " 4.95038333e+00 4.12984103e+00 3.78544127e+00 3.46328526e+00\n",
      " 3.20147732e+00 3.15612676e+00 3.07713078e+00 2.50771389e+00\n",
      " 2.29531299e+00 2.27015407e+00 2.05660426e+00 1.98240944e+00\n",
      " 1.92894000e+00 1.86304634e+00 1.66717911e+00 1.48434730e+00\n",
      " 1.44264912e+00 1.35609170e+00 1.33054789e+00 1.19571940e+00\n",
      " 1.13103011e+00 1.09718793e+00 1.07032439e+00 9.48548115e-01\n",
      " 8.64347173e-01 8.60398797e-01 8.00002661e-01 7.82690344e-01\n",
      " 7.70006845e-01 6.86700694e-01 5.89811619e-01 5.68643023e-01\n",
      " 5.59082295e-01 5.34378963e-01 5.17057581e-01 4.97327910e-01\n",
      " 4.63484484e-01 4.33047604e-01 3.90060429e-01 3.75127204e-01\n",
      " 3.57534656e-01 3.56836261e-01 3.49069283e-01 3.27433336e-01\n",
      " 3.16262970e-01 3.01259577e-01 2.90958515e-01 2.90429354e-01\n",
      " 2.81302244e-01 2.77160605e-01 2.70576163e-01 2.60893145e-01\n",
      " 2.52969426e-01 2.32019743e-01 2.25817389e-01 2.03786368e-01\n",
      " 1.80065834e-01 1.54124471e-01 1.22901569e-01 1.11983491e-01\n",
      " 1.06008377e-01 9.47728001e-02 9.01941288e-02 8.72908498e-02\n",
      " 8.57882360e-02 8.18964809e-02 7.46558387e-02 7.10803550e-02\n",
      " 6.99139925e-02 6.27639167e-02 6.15345160e-02 5.45619256e-02\n",
      " 4.74559510e-02 4.67770812e-02 3.65082398e-02 3.07317580e-02\n",
      " 2.50014415e-02 2.19913493e-02 2.13058811e-02 2.07662373e-02\n",
      " 1.84089399e-02 1.82516981e-02 1.81480294e-02 1.71864451e-02\n",
      " 1.61810166e-02 1.55419629e-02 1.46553195e-02 1.46009606e-02\n",
      " 1.37461045e-02 1.35703757e-02 1.26858138e-02 1.20416450e-02\n",
      " 1.07545401e-02 9.87580361e-03 9.82987968e-03 9.35318959e-03\n",
      " 9.20874557e-03 9.19880378e-03 9.18580230e-03 9.17464455e-03\n",
      " 9.14772184e-03 9.09098530e-03 7.66303487e-03 6.09149480e-03\n",
      " 5.41089493e-03 5.38019552e-03 5.12111905e-03 4.61088250e-03\n",
      " 4.60935076e-03 4.60812296e-03 4.60797085e-03 4.60529263e-03\n",
      " 4.60180579e-03 4.59766714e-03 4.59442177e-03 4.59361039e-03\n",
      " 4.58987837e-03 4.57188836e-03 4.56859981e-03 4.54917679e-03\n",
      " 4.53763218e-03 4.47268342e-03 3.16583314e-03 2.01316578e-03\n",
      " 1.45710117e-03 1.25299093e-03 1.19863926e-03 9.05634065e-04\n",
      " 8.50904534e-04 5.52626937e-04 3.06449890e-04 1.78741618e-04\n",
      " 1.43227904e-04 4.36605355e-30 8.27477015e-31 3.92380836e-31\n",
      " 2.54189699e-31 1.75207474e-31 1.70876994e-31 1.55244632e-31\n",
      " 6.86381108e-32 6.24499803e-32 6.05495272e-32 6.05495272e-32\n",
      " 6.05495272e-32 6.05495272e-32 2.09251647e-32 9.41887851e-33\n",
      " 4.50854245e-33]\n",
      "Singular Values:\n",
      "[5.23046190e+01 3.71236294e+01 3.59298609e+01 3.37359033e+01\n",
      " 3.27648387e+01 2.99264558e+01 2.86514678e+01 2.74051859e+01\n",
      " 2.63489816e+01 2.61616926e+01 2.58322121e+01 2.33199499e+01\n",
      " 2.23105140e+01 2.21879044e+01 2.11185446e+01 2.07341052e+01\n",
      " 2.04525743e+01 2.01002032e+01 1.90142741e+01 1.79414023e+01\n",
      " 1.76876028e+01 1.71487768e+01 1.69864989e+01 1.61028689e+01\n",
      " 1.56612241e+01 1.54251406e+01 1.52351359e+01 1.43422835e+01\n",
      " 1.36909230e+01 1.36596168e+01 1.31714727e+01 1.30281757e+01\n",
      " 1.29221838e+01 1.22031616e+01 1.13095489e+01 1.11047421e+01\n",
      " 1.10109931e+01 1.07649817e+01 1.05890762e+01 1.03850845e+01\n",
      " 1.00255041e+01 9.69072880e+00 9.19717746e+00 9.01940523e+00\n",
      " 8.80537167e+00 8.79676742e+00 8.70050452e+00 8.42655513e+00\n",
      " 8.28157219e+00 8.08274822e+00 7.94335835e+00 7.93613184e+00\n",
      " 7.81043492e+00 7.75272483e+00 7.66008143e+00 7.52176835e+00\n",
      " 7.40666389e+00 7.09334512e+00 6.99789321e+00 6.64777305e+00\n",
      " 6.24891012e+00 5.78128554e+00 5.16258641e+00 4.92794239e+00\n",
      " 4.79466991e+00 4.53346718e+00 4.42260094e+00 4.35083867e+00\n",
      " 4.31322872e+00 4.21425916e+00 4.02365290e+00 3.92611859e+00\n",
      " 3.89377338e+00 3.68929717e+00 3.65298606e+00 3.43980215e+00\n",
      " 3.20799705e+00 3.18496878e+00 2.81374066e+00 2.58156059e+00\n",
      " 2.32847267e+00 2.18380853e+00 2.14950455e+00 2.12210821e+00\n",
      " 1.99803462e+00 1.98948312e+00 1.98382499e+00 1.93055264e+00\n",
      " 1.87323180e+00 1.83586843e+00 1.78273284e+00 1.77942355e+00\n",
      " 1.72654714e+00 1.71547564e+00 1.65862339e+00 1.61596343e+00\n",
      " 1.52716000e+00 1.46343973e+00 1.46003316e+00 1.42419182e+00\n",
      " 1.41315193e+00 1.41238890e+00 1.41139042e+00 1.41053298e+00\n",
      " 1.40846187e+00 1.40408726e+00 1.28910716e+00 1.14934539e+00\n",
      " 1.08323621e+00 1.08015890e+00 1.05383121e+00 9.99955440e-01\n",
      " 9.99789333e-01 9.99656167e-01 9.99639667e-01 9.99349122e-01\n",
      " 9.98970729e-01 9.98521413e-01 9.98168936e-01 9.98080794e-01\n",
      " 9.97675272e-01 9.95718161e-01 9.95359987e-01 9.93241889e-01\n",
      " 9.91980795e-01 9.84855920e-01 8.28576536e-01 6.60736639e-01\n",
      " 5.62125740e-01 5.21269823e-01 5.09838782e-01 4.43164532e-01\n",
      " 4.29565148e-01 3.46182129e-01 2.57791358e-01 1.96879937e-01\n",
      " 1.76239170e-01 3.07704005e-14 1.33957363e-14 9.22449318e-15\n",
      " 7.42450652e-15 6.16403269e-15 6.08738006e-15 5.80225640e-15\n",
      " 3.85808046e-15 3.68005893e-15 3.62363126e-15 3.62363126e-15\n",
      " 3.62363126e-15 3.62363126e-15 2.13021316e-15 1.42918424e-15\n",
      " 9.88796001e-16]\n"
     ]
    }
   ],
   "source": [
    "pca_fit = pca.fit(X3_normalized)\n",
    "\n",
    "print('Explained Variance Ratio (%):')\n",
    "print(pca.explained_variance_ratio_*100)\n",
    "print('Singular Values:')\n",
    "print(pca.singular_values_)"
   ]
  },
  {
   "cell_type": "code",
   "execution_count": 51,
   "id": "79f1ea79-44b0-4ae6-9eed-a1df5c814b5d",
   "metadata": {},
   "outputs": [
    {
     "data": {
      "image/png": "[encoded data removed]",
      "text/plain": [
       "<Figure size 648x432 with 1 Axes>"
      ]
     },
     "metadata": {},
     "output_type": "display_data"
    }
   ],
   "source": [
    "PC_values3 = np.arange(pca.n_components_) + 1\n",
    "ax3 = sns.relplot(x=PC_values3, y= pca.explained_variance_ratio_, marker='o', kind=\"line\", height=6, aspect=1.5)\n",
    "ax3.set(xlabel='Principal Component',ylabel = 'Variance Explained',title='X3 PCA Scree Plot')\n",
    "ax3.figure.savefig(\"X3/X3PCA.png\")"
   ]
  },
  {
   "cell_type": "code",
   "execution_count": 52,
   "id": "3e35784c-b9db-485a-87d9-caad02f469e8",
   "metadata": {},
   "outputs": [
    {
     "name": "stdout",
     "output_type": "stream",
     "text": [
      "                                               Factors  Eigenvector 1\n",
      "43                            Metallurgy and Materials       0.847751\n",
      "92     MSc Advanced Chemical Eng with Bioprocessing FT       0.235960\n",
      "96                      MSc Elec Pow Syst w Adv Res FT       0.192959\n",
      "80                           PGCert Des Lear Env DL PT       0.119716\n",
      "74                         BSc Computer Sci FT (Dubai)       0.097086\n",
      "14                                     A2C_since_Sep01       0.081628\n",
      "95                      MSc Formulation Engineering FT       0.051125\n",
      "114                        MSc Mathematical Finance FT       0.034425\n",
      "19                                            eng_type       0.029759\n",
      "18                                          Decision_U       0.028809\n",
      "134     MSc Adv Chem Eng with Healthcare Technology FT       0.025335\n",
      "78                      MSc Art Int + Comp Sc PT (Dub)       0.017557\n",
      "2                                          master_prev       0.016940\n",
      "25                                       Toefl_Overall       0.016086\n",
      "56                      MSc Human-Computer Interact FT       0.015478\n",
      "11                                decision_since_Sep01       0.015228\n",
      "55                      MSc Artific Int & Mach Lear FT       0.014070\n",
      "93                       MSc Food Safety; Hyg + Man FT       0.014051\n",
      "79                      MSc Nuclear Decom Waste Man FT       0.013866\n",
      "35                                 Institution_app_num       0.012743\n",
      "7                               Days at Decision Stage       0.011459\n",
      "57                                 MSc Data Science FT       0.010360\n",
      "15                                Response_since_Sep01       0.010004\n",
      "36                               Institution_offer_num       0.009866\n",
      "38                                           multi_app       0.009598\n",
      "0                                             uob_alum       0.009013\n",
      "17                                          Decision_R       0.008128\n",
      "12                                     A1C_since_Sep01       0.007895\n",
      "6                                       Days in School       0.007444\n",
      "27                                       Toefl_Reading       0.007114\n",
      "9                                           TOTAL Days       0.006751\n",
      "26                                     Toefl_Listening       0.006722\n",
      "28                                       Toefl_Writing       0.006297\n",
      "39                                           offer_num       0.006057\n",
      "29                                      Toefl_Speaking       0.005910\n",
      "13                                     A1U_since_Sep01       0.005669\n",
      "94                        MSc Financial Engineering FT       0.004824\n",
      "21                                     Ielts_Listening       0.003641\n",
      "22                                       Ielts_Reading       0.003255\n",
      "10                                       Response days       0.003000\n",
      "24                                      Ielts_Speaking       0.002632\n",
      "23                                       Ielts_Writing       0.002139\n",
      "8                                Total Days Admissions       0.002041\n",
      "20                                       Ielts_Overall       0.001997\n",
      "31                                       PTE_Listening       0.001142\n",
      "33                                         PTE_Writing       0.001089\n",
      "34                                        PTE_Speaking       0.001059\n",
      "32                                         PTE_Reading       0.000985\n",
      "30                                         PTE_Overall       0.000933\n",
      "144                     MSc Communications Engineer PT       0.000445\n",
      "148                      PGDip Rail Systems Eng Int FT       0.000267\n",
      "145                     MSc Nuclear Decom Waste Man PT       0.000228\n",
      "122                     MSc Adv Eng Man (Projec Man)PT      -0.000034\n",
      "91     MSc Industrial Project Man. PT Blended Learning      -0.000051\n",
      "107                     MSc Rail Safe + Control Sys FT      -0.000056\n",
      "120     MSc Civil Engineering Part Time Fixed Duration      -0.000057\n",
      "73                       MEng Comp Sci Sof En FT (Dub)      -0.000086\n",
      "65                            MSc Advanced Mech Eng FT      -0.000100\n",
      "89                       MSc Computer Science PT (Dub)      -0.000101\n",
      "76                                        MSc MORSE FT      -0.000102\n",
      "98                               MSc Road Mgt + Eng FT      -0.000108\n",
      "137                     PGCert Rail Systems Eng Int FT      -0.000111\n",
      "142  MSc Geotechnical Engineering (PT; Fixed Duration)      -0.000116\n",
      "67                      MSc Civil Engineering PT Dubai      -0.000122\n",
      "149                         MSc Elec + Computer Eng PT      -0.000124\n",
      "141                            PGDip Road Mgt + Eng FT      -0.000134\n",
      "147                      MSc Electric Power Systems PT      -0.000137\n",
      "151                     PGDip Art In + Com Sc PT (Dub)      -0.000138\n",
      "143                      PG MC Fuel Cell + Hyd Tech MC      -0.000142\n",
      "146                     PGDip Healthcare Technology FT      -0.000147\n",
      "140                      PGDip Civ Eng & Management FT      -0.000148\n",
      "150                        PGDip Civil Eng  FT (Dubai)      -0.000149\n",
      "84    MSc Advanced Chemical Engineering with Energy FT      -0.000152\n",
      "61                       MSc Electric Power Systems FT      -0.000220\n",
      "63                      MSc Adv Eng Man (Generalist)FT      -0.000226\n",
      "139                     MSc Adv Eng Man (Operat Man)PT      -0.000230\n",
      "105                       MSc Healthcare Technology FT      -0.000251\n",
      "123                              MSc Road Mgt + Eng PT      -0.000259\n",
      "88                       MSc Civ Eng and Management FT      -0.000263\n",
      "103                       MSc Rail Sys Eng + Int PT DA      -0.000269\n",
      "70                               MSc Cyber Security FT      -0.000275\n",
      "152                     PGDip Advanced Chemical Eng FT      -0.000277\n",
      "111           MSc Civil Engineering Dubai (January) PT      -0.000299\n",
      "83                      MSc Adv Eng Man (Operat Man)FT      -0.000300\n",
      "106                      MSc Structural Engineering PT      -0.000306\n",
      "87                             MSc Geotechnical Eng FT      -0.000346\n",
      "101   PGDip Adv Chem Eng with Healthcare Technology FT      -0.000385\n",
      "82                 BSc Art Intel and Comp Sci FT Dubai      -0.000397\n",
      "136                      PGCert Rail Syst Eng Integ DL      -0.000422\n",
      "133                     MSc Fue Cel + Hyd Tec Blend PT      -0.000428\n",
      "124                      PGDip Rail Safe + Cont Sys FT      -0.000459\n",
      "110                     MSc Adv Eng Man (System Man)FT      -0.000557\n",
      "126                            MSc Geotechnical Eng PT      -0.000764\n",
      "86     BIA Engineering Physical Sciences 43m Jan Dubai      -0.001382\n",
      "54                          MSc Elec + Computer Eng FT      -0.001450\n",
      "130                     PGCert Rail Sa+Co Sy (Flex) DL      -0.001544\n",
      "127                     MSc Adv Eng Man (Constr Man)PT      -0.001699\n",
      "128                      MSc Food Safety, Hyg + Man PT      -0.001753\n",
      "59                      MSc Adv Eng Man (Projec Man)FT      -0.001786\n",
      "115                     MSc Rail Sys Eng Inte DL Fixed      -0.001883\n",
      "5                            Days at Admissions Review      -0.002035\n",
      "113                           MSc Civil Engineering PT      -0.002083\n",
      "131     MSc Advanced Chemical Engineering with Form PT      -0.002437\n",
      "58                      MSc Material Sci + Engineer FT      -0.002553\n",
      "108                     MSc Rail Saf+Con Sys (Flex) DL      -0.002707\n",
      "138                     MSc Civil Enginee FT Jan Dubai      -0.003383\n",
      "51                                     EPS College Hub      -0.003383\n",
      "119                     PGDip Computer Scien FT(Dubai)      -0.003944\n",
      "52                             MSc Computer Science FT      -0.004643\n",
      "125                      MSc Rail Saf+Con Sys DL Fixed      -0.004652\n",
      "71                         MSc Advanced Computer Sc FT      -0.005523\n",
      "121                       MSc Advanced Chemical Eng PT      -0.006872\n",
      "99                      MSc Fue Cel + Hyd Tec Blend FT      -0.007514\n",
      "37                                        Insti_weight      -0.008480\n",
      "129                       MSc Phys + Tech Nuc React PT      -0.008564\n",
      "72       MSc Global Energy Technologies and Systems FT      -0.008690\n",
      "109                     MSc Rail System Engin Integ DL      -0.010126\n",
      "77                                     MSc Robotics FT      -0.010138\n",
      "49                                         Mathematics      -0.010908\n",
      "68                            MSc Civil Engineering FT      -0.011133\n",
      "112                           MSc Advanced Mech Eng PT      -0.011863\n",
      "118                     PGDip Art In + Com Sc FT (Dub)      -0.012178\n",
      "132                     MSc Adv Eng Man (Generalist)PT      -0.012894\n",
      "102                     BEng Mechanical Eng FT (Dubai)      -0.013565\n",
      "4                                              funding      -0.016400\n",
      "64                      MSc Communications Engineer FT      -0.016618\n",
      "53                      MSc Adv Eng Man (Constr Man)FT      -0.023215\n",
      "44                                   Civil Engineering      -0.024664\n",
      "116                      MSc Rail Systems Engin Int FT      -0.026524\n",
      "81                      BIA Engin Phys Sci 4Yr (Dubai)      -0.026976\n",
      "69                        MSc Advanced Chemical Eng FT      -0.028744\n",
      "3                                             distance      -0.028866\n",
      "135                     MSc Rail Safe+Cont Sy w Pre FT      -0.031054\n",
      "85                      MSc Art Int + Comp Sc FT (Dub)      -0.034890\n",
      "16                                          Decision_C      -0.036937\n",
      "75                          MSc Applied Mathematics FT      -0.037756\n",
      "60                     MSc Structural Engineering (FT)      -0.037805\n",
      "104                      MSc Civ Eng and Management PT      -0.041959\n",
      "47                               Physics and Astronomy      -0.042502\n",
      "62                       MSc Rail Sys Eng+Int w Pre FT      -0.044595\n",
      "48                                Chemical Engineering      -0.047329\n",
      "117                     MSc Civil Engineering FT Dubai      -0.047329\n",
      "66                        MSc Phys + Tech Nuc React FT      -0.056359\n",
      "90                       MSc Geotechnical Eng + Mgt FT      -0.057132\n",
      "50                                               Wiley      -0.057291\n",
      "46                              Mechanical Engineering      -0.062406\n",
      "1                                         home_oversea      -0.067320\n",
      "100                         MSc Adv Chem Eng w Form FT      -0.072246\n",
      "97                      MSc Computer Science FT(Dubai)      -0.098343\n",
      "41                                     Business School      -0.106818\n",
      "42   Elec Elec and System Eng;Elec Elec and Sys Eng...      -0.146784\n",
      "40                                    Computer Science      -0.167178\n",
      "45   School of Engineering;Elec Elec and Sys Engine...      -0.178488\n"
     ]
    }
   ],
   "source": [
    "factors = pd.DataFrame({'Factors': X3_normalized.columns, 'Eigenvector 1': pca.components_[0]})\n",
    "factors = factors.sort_values(by=['Eigenvector 1'], ascending=False)\n",
    "print(factors)"
   ]
  },
  {
   "cell_type": "markdown",
   "id": "e406efac-5367-4a84-8da7-3bf7eee89298",
   "metadata": {
    "jp-MarkdownHeadingCollapsed": true,
    "tags": []
   },
   "source": [
    "## 2)Find the most effective features\n",
    "### 2)1) Univariate Selection\n",
    "\n",
    "Statistical tests can be used to select those features that have the strongest relationship with the output variable.\\\n",
    "The scikit-learn library provides the SelectKBest class that can be used with a suite of different statistical tests to select a specific number of features.\\\n",
    "Uses the chi-squared (chi²) statistical test for non-negative features to select 10 of the best features from the Dataset."
   ]
  },
  {
   "cell_type": "markdown",
   "id": "604a2073-3009-43ef-bcf9-e0b1a4d17cc7",
   "metadata": {
    "tags": []
   },
   "source": [
    "#### X1: based on PCA elbow plot, pick the first 10 features"
   ]
  },
  {
   "cell_type": "code",
   "execution_count": 25,
   "id": "a7b6f34d-51d9-496d-9d4e-af15e1aa0e36",
   "metadata": {},
   "outputs": [
    {
     "data": {
      "text/html": [
       "<div>\n",
       "<style scoped>\n",
       "    .dataframe tbody tr th:only-of-type {\n",
       "        vertical-align: middle;\n",
       "    }\n",
       "\n",
       "    .dataframe tbody tr th {\n",
       "        vertical-align: top;\n",
       "    }\n",
       "\n",
       "    .dataframe thead th {\n",
       "        text-align: right;\n",
       "    }\n",
       "</style>\n",
       "<table border=\"1\" class=\"dataframe\">\n",
       "  <thead>\n",
       "    <tr style=\"text-align: right;\">\n",
       "      <th></th>\n",
       "      <th>Feature</th>\n",
       "      <th>Score</th>\n",
       "    </tr>\n",
       "  </thead>\n",
       "  <tbody>\n",
       "    <tr>\n",
       "      <th>17</th>\n",
       "      <td>Decision_R</td>\n",
       "      <td>399.759036</td>\n",
       "    </tr>\n",
       "    <tr>\n",
       "      <th>15</th>\n",
       "      <td>Response_since_Sep01</td>\n",
       "      <td>272.100568</td>\n",
       "    </tr>\n",
       "    <tr>\n",
       "      <th>18</th>\n",
       "      <td>Decision_U</td>\n",
       "      <td>269.140172</td>\n",
       "    </tr>\n",
       "    <tr>\n",
       "      <th>40</th>\n",
       "      <td>Computer Science</td>\n",
       "      <td>146.724728</td>\n",
       "    </tr>\n",
       "    <tr>\n",
       "      <th>0</th>\n",
       "      <td>uob_alum</td>\n",
       "      <td>93.057209</td>\n",
       "    </tr>\n",
       "    <tr>\n",
       "      <th>39</th>\n",
       "      <td>offer_num</td>\n",
       "      <td>57.895919</td>\n",
       "    </tr>\n",
       "    <tr>\n",
       "      <th>1</th>\n",
       "      <td>home_oversea</td>\n",
       "      <td>46.148808</td>\n",
       "    </tr>\n",
       "    <tr>\n",
       "      <th>19</th>\n",
       "      <td>eng_type</td>\n",
       "      <td>43.816719</td>\n",
       "    </tr>\n",
       "    <tr>\n",
       "      <th>44</th>\n",
       "      <td>Civil Engineering</td>\n",
       "      <td>37.297468</td>\n",
       "    </tr>\n",
       "    <tr>\n",
       "      <th>10</th>\n",
       "      <td>Response days</td>\n",
       "      <td>31.857041</td>\n",
       "    </tr>\n",
       "  </tbody>\n",
       "</table>\n",
       "</div>"
      ],
      "text/plain": [
       "                 Feature       Score\n",
       "17            Decision_R  399.759036\n",
       "15  Response_since_Sep01  272.100568\n",
       "18            Decision_U  269.140172\n",
       "40      Computer Science  146.724728\n",
       "0               uob_alum   93.057209\n",
       "39             offer_num   57.895919\n",
       "1           home_oversea   46.148808\n",
       "19              eng_type   43.816719\n",
       "44     Civil Engineering   37.297468\n",
       "10         Response days   31.857041"
      ]
     },
     "execution_count": 25,
     "metadata": {},
     "output_type": "execute_result"
    }
   ],
   "source": [
    "from sklearn.feature_selection import SelectKBest\n",
    "from sklearn.feature_selection import chi2\n",
    "\n",
    "#apply SelectKBest class to extract top 10 best features\n",
    "bestfeatures = SelectKBest(score_func=chi2, k=10)\n",
    "fit1 = bestfeatures.fit(X1_normalized,Y)\n",
    "\n",
    "# save the transformed X1 set\n",
    "X1_corela = bestfeatures.transform(X1_normalized)\n",
    "np.save('X1/X1_corela.npy', X1_corela) # save\n",
    "#X1_corela = np.load('X1/X1_corela.npy') \n",
    "\n",
    "# print the score\n",
    "featureScores1 = pd.DataFrame({'Feature':X1_normalized.columns, 'Score':fit1.scores_}).sort_values(by=['Score'], ascending=False)\n",
    "featureScores1.to_csv('X1/featureScores1.csv')\n",
    "featureScores1.nlargest(10,'Score')"
   ]
  },
  {
   "cell_type": "code",
   "execution_count": 26,
   "id": "d4f6eb58-dcab-4d8e-aeb2-3266e57fcc81",
   "metadata": {},
   "outputs": [
    {
     "name": "stdout",
     "output_type": "stream",
     "text": [
      "['Decision_R', 'Response_since_Sep01', 'Decision_U', 'Computer Science', 'uob_alum', 'offer_num', 'home_oversea', 'eng_type', 'Civil Engineering', 'Response days']\n"
     ]
    }
   ],
   "source": [
    "print(list(featureScores1['Feature'][0:10]))"
   ]
  },
  {
   "cell_type": "markdown",
   "id": "a720813c-f6d6-405c-91c4-fafdc3e4274d",
   "metadata": {},
   "source": [
    "#### X2: based on PCA elbow plot, pick the first 10 features"
   ]
  },
  {
   "cell_type": "code",
   "execution_count": 27,
   "id": "2a89e65a-ef74-4795-a556-3f103d88871d",
   "metadata": {},
   "outputs": [
    {
     "data": {
      "text/html": [
       "<div>\n",
       "<style scoped>\n",
       "    .dataframe tbody tr th:only-of-type {\n",
       "        vertical-align: middle;\n",
       "    }\n",
       "\n",
       "    .dataframe tbody tr th {\n",
       "        vertical-align: top;\n",
       "    }\n",
       "\n",
       "    .dataframe thead th {\n",
       "        text-align: right;\n",
       "    }\n",
       "</style>\n",
       "<table border=\"1\" class=\"dataframe\">\n",
       "  <thead>\n",
       "    <tr style=\"text-align: right;\">\n",
       "      <th></th>\n",
       "      <th>Feature</th>\n",
       "      <th>Score</th>\n",
       "    </tr>\n",
       "  </thead>\n",
       "  <tbody>\n",
       "    <tr>\n",
       "      <th>18</th>\n",
       "      <td>Decision_R</td>\n",
       "      <td>399.759036</td>\n",
       "    </tr>\n",
       "    <tr>\n",
       "      <th>16</th>\n",
       "      <td>Response_since_Sep01</td>\n",
       "      <td>272.100568</td>\n",
       "    </tr>\n",
       "    <tr>\n",
       "      <th>19</th>\n",
       "      <td>Decision_U</td>\n",
       "      <td>269.140172</td>\n",
       "    </tr>\n",
       "    <tr>\n",
       "      <th>41</th>\n",
       "      <td>Computer Science</td>\n",
       "      <td>146.724728</td>\n",
       "    </tr>\n",
       "    <tr>\n",
       "      <th>1</th>\n",
       "      <td>uob_alum</td>\n",
       "      <td>93.057209</td>\n",
       "    </tr>\n",
       "    <tr>\n",
       "      <th>40</th>\n",
       "      <td>offer_num</td>\n",
       "      <td>57.895919</td>\n",
       "    </tr>\n",
       "    <tr>\n",
       "      <th>2</th>\n",
       "      <td>home_oversea</td>\n",
       "      <td>46.148808</td>\n",
       "    </tr>\n",
       "    <tr>\n",
       "      <th>20</th>\n",
       "      <td>eng_type</td>\n",
       "      <td>43.816719</td>\n",
       "    </tr>\n",
       "    <tr>\n",
       "      <th>45</th>\n",
       "      <td>Civil Engineering</td>\n",
       "      <td>37.297468</td>\n",
       "    </tr>\n",
       "    <tr>\n",
       "      <th>11</th>\n",
       "      <td>Response days</td>\n",
       "      <td>31.857041</td>\n",
       "    </tr>\n",
       "  </tbody>\n",
       "</table>\n",
       "</div>"
      ],
      "text/plain": [
       "                 Feature       Score\n",
       "18            Decision_R  399.759036\n",
       "16  Response_since_Sep01  272.100568\n",
       "19            Decision_U  269.140172\n",
       "41      Computer Science  146.724728\n",
       "1               uob_alum   93.057209\n",
       "40             offer_num   57.895919\n",
       "2           home_oversea   46.148808\n",
       "20              eng_type   43.816719\n",
       "45     Civil Engineering   37.297468\n",
       "11         Response days   31.857041"
      ]
     },
     "execution_count": 27,
     "metadata": {},
     "output_type": "execute_result"
    }
   ],
   "source": [
    "#apply SelectKBest class to extract top 10 best features\n",
    "bestfeatures = SelectKBest(score_func=chi2, k=10)\n",
    "fit2 = bestfeatures.fit(X2_normalized,Y)\n",
    "\n",
    "# save the transformed X2 set\n",
    "X2_corela = bestfeatures.transform(X2_normalized)\n",
    "np.save('X2/X2_corela.npy', X2_corela) # save\n",
    "\n",
    "# print the score\n",
    "featureScores2 = pd.DataFrame({'Feature':X2_normalized.columns, 'Score':fit2.scores_}).sort_values(by=['Score'], ascending=False)\n",
    "featureScores2.to_csv('X2/featureScores2.csv')\n",
    "featureScores2.nlargest(10,'Score')"
   ]
  },
  {
   "cell_type": "code",
   "execution_count": 28,
   "id": "37f93708-1632-40ab-9263-a1fad5446249",
   "metadata": {},
   "outputs": [
    {
     "name": "stdout",
     "output_type": "stream",
     "text": [
      "['Decision_R', 'Response_since_Sep01', 'Decision_U', 'Computer Science', 'uob_alum', 'offer_num', 'home_oversea', 'eng_type', 'Civil Engineering', 'Response days']\n"
     ]
    }
   ],
   "source": [
    "print(list(featureScores2['Feature'][0:10]))"
   ]
  },
  {
   "cell_type": "markdown",
   "id": "95e3ecba-d986-4b9e-a50c-46fd9063421a",
   "metadata": {},
   "source": [
    "#### X3: based on PCA elbow plot, pick the first 20 features"
   ]
  },
  {
   "cell_type": "code",
   "execution_count": 29,
   "id": "a236dd67-19f6-4ea2-b3aa-06e1876702f4",
   "metadata": {},
   "outputs": [
    {
     "data": {
      "text/html": [
       "<div>\n",
       "<style scoped>\n",
       "    .dataframe tbody tr th:only-of-type {\n",
       "        vertical-align: middle;\n",
       "    }\n",
       "\n",
       "    .dataframe tbody tr th {\n",
       "        vertical-align: top;\n",
       "    }\n",
       "\n",
       "    .dataframe thead th {\n",
       "        text-align: right;\n",
       "    }\n",
       "</style>\n",
       "<table border=\"1\" class=\"dataframe\">\n",
       "  <thead>\n",
       "    <tr style=\"text-align: right;\">\n",
       "      <th></th>\n",
       "      <th>Feature</th>\n",
       "      <th>Score</th>\n",
       "    </tr>\n",
       "  </thead>\n",
       "  <tbody>\n",
       "    <tr>\n",
       "      <th>17</th>\n",
       "      <td>Decision_R</td>\n",
       "      <td>399.759036</td>\n",
       "    </tr>\n",
       "    <tr>\n",
       "      <th>15</th>\n",
       "      <td>Response_since_Sep01</td>\n",
       "      <td>272.100568</td>\n",
       "    </tr>\n",
       "    <tr>\n",
       "      <th>18</th>\n",
       "      <td>Decision_U</td>\n",
       "      <td>269.140172</td>\n",
       "    </tr>\n",
       "    <tr>\n",
       "      <th>40</th>\n",
       "      <td>Computer Science</td>\n",
       "      <td>146.724728</td>\n",
       "    </tr>\n",
       "    <tr>\n",
       "      <th>0</th>\n",
       "      <td>uob_alum</td>\n",
       "      <td>93.057209</td>\n",
       "    </tr>\n",
       "    <tr>\n",
       "      <th>127</th>\n",
       "      <td>MSc Adv Eng Man (Constr Man)PT</td>\n",
       "      <td>78.444679</td>\n",
       "    </tr>\n",
       "    <tr>\n",
       "      <th>39</th>\n",
       "      <td>offer_num</td>\n",
       "      <td>57.895919</td>\n",
       "    </tr>\n",
       "    <tr>\n",
       "      <th>1</th>\n",
       "      <td>home_oversea</td>\n",
       "      <td>46.148808</td>\n",
       "    </tr>\n",
       "    <tr>\n",
       "      <th>19</th>\n",
       "      <td>eng_type</td>\n",
       "      <td>43.816719</td>\n",
       "    </tr>\n",
       "    <tr>\n",
       "      <th>62</th>\n",
       "      <td>MSc Rail Sys Eng+Int w Pre FT</td>\n",
       "      <td>42.857570</td>\n",
       "    </tr>\n",
       "    <tr>\n",
       "      <th>66</th>\n",
       "      <td>MSc Phys + Tech Nuc React FT</td>\n",
       "      <td>40.789814</td>\n",
       "    </tr>\n",
       "    <tr>\n",
       "      <th>60</th>\n",
       "      <td>MSc Structural Engineering (FT)</td>\n",
       "      <td>39.223629</td>\n",
       "    </tr>\n",
       "    <tr>\n",
       "      <th>44</th>\n",
       "      <td>Civil Engineering</td>\n",
       "      <td>37.297468</td>\n",
       "    </tr>\n",
       "    <tr>\n",
       "      <th>53</th>\n",
       "      <td>MSc Adv Eng Man (Constr Man)FT</td>\n",
       "      <td>34.845992</td>\n",
       "    </tr>\n",
       "    <tr>\n",
       "      <th>10</th>\n",
       "      <td>Response days</td>\n",
       "      <td>31.857041</td>\n",
       "    </tr>\n",
       "    <tr>\n",
       "      <th>92</th>\n",
       "      <td>MSc Advanced Chemical Eng with Bioprocessing FT</td>\n",
       "      <td>29.717619</td>\n",
       "    </tr>\n",
       "    <tr>\n",
       "      <th>46</th>\n",
       "      <td>Mechanical Engineering</td>\n",
       "      <td>28.293494</td>\n",
       "    </tr>\n",
       "    <tr>\n",
       "      <th>16</th>\n",
       "      <td>Decision_C</td>\n",
       "      <td>26.062641</td>\n",
       "    </tr>\n",
       "    <tr>\n",
       "      <th>38</th>\n",
       "      <td>multi_app</td>\n",
       "      <td>24.971234</td>\n",
       "    </tr>\n",
       "    <tr>\n",
       "      <th>36</th>\n",
       "      <td>Institution_offer_num</td>\n",
       "      <td>23.369991</td>\n",
       "    </tr>\n",
       "  </tbody>\n",
       "</table>\n",
       "</div>"
      ],
      "text/plain": [
       "                                             Feature       Score\n",
       "17                                        Decision_R  399.759036\n",
       "15                              Response_since_Sep01  272.100568\n",
       "18                                        Decision_U  269.140172\n",
       "40                                  Computer Science  146.724728\n",
       "0                                           uob_alum   93.057209\n",
       "127                   MSc Adv Eng Man (Constr Man)PT   78.444679\n",
       "39                                         offer_num   57.895919\n",
       "1                                       home_oversea   46.148808\n",
       "19                                          eng_type   43.816719\n",
       "62                     MSc Rail Sys Eng+Int w Pre FT   42.857570\n",
       "66                      MSc Phys + Tech Nuc React FT   40.789814\n",
       "60                   MSc Structural Engineering (FT)   39.223629\n",
       "44                                 Civil Engineering   37.297468\n",
       "53                    MSc Adv Eng Man (Constr Man)FT   34.845992\n",
       "10                                     Response days   31.857041\n",
       "92   MSc Advanced Chemical Eng with Bioprocessing FT   29.717619\n",
       "46                            Mechanical Engineering   28.293494\n",
       "16                                        Decision_C   26.062641\n",
       "38                                         multi_app   24.971234\n",
       "36                             Institution_offer_num   23.369991"
      ]
     },
     "execution_count": 29,
     "metadata": {},
     "output_type": "execute_result"
    }
   ],
   "source": [
    "#apply SelectKBest class to extract top 20 best features\n",
    "bestfeatures = SelectKBest(score_func=chi2, k=20)\n",
    "fit3 = bestfeatures.fit(X3_normalized,Y)\n",
    "\n",
    "# save the transformed X3 set\n",
    "X3_corela = bestfeatures.transform(X3_normalized)\n",
    "np.save('X3/X3_corela.npy', X3_corela) # save\n",
    "\n",
    "# print the score\n",
    "featureScores3 = pd.DataFrame({'Feature':X3_normalized.columns, 'Score':fit3.scores_}).sort_values(by=['Score'], ascending=False)\n",
    "featureScores3.to_csv('X3/featureScores3.csv')\n",
    "featureScores3.nlargest(20,'Score')"
   ]
  },
  {
   "cell_type": "code",
   "execution_count": 30,
   "id": "06a67ca4-00da-46b3-8507-e3c5f6a551e1",
   "metadata": {},
   "outputs": [
    {
     "name": "stdout",
     "output_type": "stream",
     "text": [
      "['Decision_R', 'Response_since_Sep01', 'Decision_U', 'Computer Science', 'uob_alum', 'MSc Adv Eng Man (Constr Man)PT', 'offer_num', 'home_oversea', 'eng_type', 'MSc Rail Sys Eng+Int w Pre FT', 'MSc Phys + Tech Nuc React FT', 'MSc Structural Engineering (FT)', 'Civil Engineering', 'MSc Adv Eng Man (Constr Man)FT', 'Response days', 'MSc Advanced Chemical Eng with Bioprocessing FT', 'Mechanical Engineering', 'Decision_C', 'multi_app', 'Institution_offer_num']\n"
     ]
    }
   ],
   "source": [
    "print(list(featureScores3['Feature'][0:20]))"
   ]
  },
  {
   "cell_type": "markdown",
   "id": "89d0f392-65df-432b-b619-af6004b076ea",
   "metadata": {},
   "source": [
    "### 2)2)Feature Importance with Tree Based Classifiers\n",
    "Tree Based Classifiers implements a meta estimator that fits a number of randomized decision trees (a.k.a. extra-trees) on various sub-samples of the dataset and uses averaging to improve the predictive accuracy and control over-fitting. It can be used to compute impurity-based feature importances.\\\n",
    "Feature importance gives a score for each feature of the data, the higher the score more important or relevant is the feature towards the target variable.\\\n",
    "Here Extra Tree Classifier would extract the top 10 or 20 features for the dataset."
   ]
  },
  {
   "cell_type": "code",
   "execution_count": 31,
   "id": "c662cd2a-5045-443c-9203-ec2548a4960d",
   "metadata": {},
   "outputs": [
    {
     "data": {
      "text/html": [
       "<div>\n",
       "<style scoped>\n",
       "    .dataframe tbody tr th:only-of-type {\n",
       "        vertical-align: middle;\n",
       "    }\n",
       "\n",
       "    .dataframe tbody tr th {\n",
       "        vertical-align: top;\n",
       "    }\n",
       "\n",
       "    .dataframe thead th {\n",
       "        text-align: right;\n",
       "    }\n",
       "</style>\n",
       "<table border=\"1\" class=\"dataframe\">\n",
       "  <thead>\n",
       "    <tr style=\"text-align: right;\">\n",
       "      <th></th>\n",
       "      <th>feature</th>\n",
       "      <th>value</th>\n",
       "    </tr>\n",
       "  </thead>\n",
       "  <tbody>\n",
       "    <tr>\n",
       "      <th>15</th>\n",
       "      <td>Response_since_Sep01</td>\n",
       "      <td>0.133193</td>\n",
       "    </tr>\n",
       "    <tr>\n",
       "      <th>10</th>\n",
       "      <td>Response days</td>\n",
       "      <td>0.064530</td>\n",
       "    </tr>\n",
       "    <tr>\n",
       "      <th>11</th>\n",
       "      <td>decision_since_Sep01</td>\n",
       "      <td>0.038698</td>\n",
       "    </tr>\n",
       "    <tr>\n",
       "      <th>36</th>\n",
       "      <td>Institution_offer_num</td>\n",
       "      <td>0.037712</td>\n",
       "    </tr>\n",
       "    <tr>\n",
       "      <th>12</th>\n",
       "      <td>A1C_since_Sep01</td>\n",
       "      <td>0.037701</td>\n",
       "    </tr>\n",
       "    <tr>\n",
       "      <th>35</th>\n",
       "      <td>Institution_app_num</td>\n",
       "      <td>0.036745</td>\n",
       "    </tr>\n",
       "    <tr>\n",
       "      <th>37</th>\n",
       "      <td>Insti_weight</td>\n",
       "      <td>0.036405</td>\n",
       "    </tr>\n",
       "    <tr>\n",
       "      <th>13</th>\n",
       "      <td>A1U_since_Sep01</td>\n",
       "      <td>0.034828</td>\n",
       "    </tr>\n",
       "    <tr>\n",
       "      <th>1</th>\n",
       "      <td>home_oversea</td>\n",
       "      <td>0.034737</td>\n",
       "    </tr>\n",
       "    <tr>\n",
       "      <th>8</th>\n",
       "      <td>Total Days Admissions</td>\n",
       "      <td>0.034688</td>\n",
       "    </tr>\n",
       "  </tbody>\n",
       "</table>\n",
       "</div>"
      ],
      "text/plain": [
       "                  feature     value\n",
       "15   Response_since_Sep01  0.133193\n",
       "10          Response days  0.064530\n",
       "11   decision_since_Sep01  0.038698\n",
       "36  Institution_offer_num  0.037712\n",
       "12        A1C_since_Sep01  0.037701\n",
       "35    Institution_app_num  0.036745\n",
       "37           Insti_weight  0.036405\n",
       "13        A1U_since_Sep01  0.034828\n",
       "1            home_oversea  0.034737\n",
       "8   Total Days Admissions  0.034688"
      ]
     },
     "execution_count": 31,
     "metadata": {},
     "output_type": "execute_result"
    }
   ],
   "source": [
    "from sklearn.ensemble import ExtraTreesClassifier\n",
    "\n",
    "tree1 = ExtraTreesClassifier()\n",
    "tree1.fit(X1_normalized,Y)\n",
    "\n",
    "feat_importances1 = pd.DataFrame({'feature':X1_normalized.columns, 'value':tree1.feature_importances_}).sort_values(by=['value'], ascending=False)\n",
    "feat_importances1.to_csv('X1/treeset1.csv')\n",
    "\n",
    "X1_tree = X1_normalized[list(feat_importances1['feature'])[0:10]]\n",
    "X1_tree.to_pickle(\"X1/X1_tree.pkl\") \n",
    "\n",
    "feat_importances1.nlargest(10,'value')"
   ]
  },
  {
   "cell_type": "code",
   "execution_count": 32,
   "id": "905ff737-9871-48a6-b49e-9ea94c56358b",
   "metadata": {},
   "outputs": [
    {
     "data": {
      "text/html": [
       "<div>\n",
       "<style scoped>\n",
       "    .dataframe tbody tr th:only-of-type {\n",
       "        vertical-align: middle;\n",
       "    }\n",
       "\n",
       "    .dataframe tbody tr th {\n",
       "        vertical-align: top;\n",
       "    }\n",
       "\n",
       "    .dataframe thead th {\n",
       "        text-align: right;\n",
       "    }\n",
       "</style>\n",
       "<table border=\"1\" class=\"dataframe\">\n",
       "  <thead>\n",
       "    <tr style=\"text-align: right;\">\n",
       "      <th></th>\n",
       "      <th>feature</th>\n",
       "      <th>value</th>\n",
       "    </tr>\n",
       "  </thead>\n",
       "  <tbody>\n",
       "    <tr>\n",
       "      <th>16</th>\n",
       "      <td>Response_since_Sep01</td>\n",
       "      <td>0.134527</td>\n",
       "    </tr>\n",
       "    <tr>\n",
       "      <th>11</th>\n",
       "      <td>Response days</td>\n",
       "      <td>0.062073</td>\n",
       "    </tr>\n",
       "    <tr>\n",
       "      <th>37</th>\n",
       "      <td>Institution_offer_num</td>\n",
       "      <td>0.036775</td>\n",
       "    </tr>\n",
       "    <tr>\n",
       "      <th>12</th>\n",
       "      <td>decision_since_Sep01</td>\n",
       "      <td>0.036331</td>\n",
       "    </tr>\n",
       "    <tr>\n",
       "      <th>13</th>\n",
       "      <td>A1C_since_Sep01</td>\n",
       "      <td>0.036011</td>\n",
       "    </tr>\n",
       "    <tr>\n",
       "      <th>36</th>\n",
       "      <td>Institution_app_num</td>\n",
       "      <td>0.035825</td>\n",
       "    </tr>\n",
       "    <tr>\n",
       "      <th>38</th>\n",
       "      <td>Insti_weight</td>\n",
       "      <td>0.034871</td>\n",
       "    </tr>\n",
       "    <tr>\n",
       "      <th>14</th>\n",
       "      <td>A1U_since_Sep01</td>\n",
       "      <td>0.034110</td>\n",
       "    </tr>\n",
       "    <tr>\n",
       "      <th>17</th>\n",
       "      <td>Decision_C</td>\n",
       "      <td>0.033746</td>\n",
       "    </tr>\n",
       "    <tr>\n",
       "      <th>9</th>\n",
       "      <td>Total Days Admissions</td>\n",
       "      <td>0.033514</td>\n",
       "    </tr>\n",
       "  </tbody>\n",
       "</table>\n",
       "</div>"
      ],
      "text/plain": [
       "                  feature     value\n",
       "16   Response_since_Sep01  0.134527\n",
       "11          Response days  0.062073\n",
       "37  Institution_offer_num  0.036775\n",
       "12   decision_since_Sep01  0.036331\n",
       "13        A1C_since_Sep01  0.036011\n",
       "36    Institution_app_num  0.035825\n",
       "38           Insti_weight  0.034871\n",
       "14        A1U_since_Sep01  0.034110\n",
       "17             Decision_C  0.033746\n",
       "9   Total Days Admissions  0.033514"
      ]
     },
     "execution_count": 32,
     "metadata": {},
     "output_type": "execute_result"
    }
   ],
   "source": [
    "tree2 = ExtraTreesClassifier()\n",
    "tree2.fit(X2_normalized,Y)\n",
    "\n",
    "feat_importances2 = pd.DataFrame({'feature':X2_normalized.columns, 'value':tree2.feature_importances_}).sort_values(by=['value'], ascending=False)\n",
    "\n",
    "feat_importances2.to_csv('X2/treeset2.csv')\n",
    "\n",
    "X2_tree = X2_normalized[list(feat_importances1['feature'])[0:10]]\n",
    "X2_tree.to_pickle(\"X2/X2_tree.pkl\") \n",
    "\n",
    "feat_importances2.nlargest(10,'value')"
   ]
  },
  {
   "cell_type": "code",
   "execution_count": 33,
   "id": "5423932d-edc0-4099-b090-4c499fbb3a26",
   "metadata": {},
   "outputs": [
    {
     "data": {
      "text/html": [
       "<div>\n",
       "<style scoped>\n",
       "    .dataframe tbody tr th:only-of-type {\n",
       "        vertical-align: middle;\n",
       "    }\n",
       "\n",
       "    .dataframe tbody tr th {\n",
       "        vertical-align: top;\n",
       "    }\n",
       "\n",
       "    .dataframe thead th {\n",
       "        text-align: right;\n",
       "    }\n",
       "</style>\n",
       "<table border=\"1\" class=\"dataframe\">\n",
       "  <thead>\n",
       "    <tr style=\"text-align: right;\">\n",
       "      <th></th>\n",
       "      <th>feature</th>\n",
       "      <th>value</th>\n",
       "    </tr>\n",
       "  </thead>\n",
       "  <tbody>\n",
       "    <tr>\n",
       "      <th>16</th>\n",
       "      <td>Response_since_Sep01</td>\n",
       "      <td>0.134527</td>\n",
       "    </tr>\n",
       "    <tr>\n",
       "      <th>11</th>\n",
       "      <td>Response days</td>\n",
       "      <td>0.062073</td>\n",
       "    </tr>\n",
       "    <tr>\n",
       "      <th>37</th>\n",
       "      <td>Institution_offer_num</td>\n",
       "      <td>0.036775</td>\n",
       "    </tr>\n",
       "    <tr>\n",
       "      <th>12</th>\n",
       "      <td>decision_since_Sep01</td>\n",
       "      <td>0.036331</td>\n",
       "    </tr>\n",
       "    <tr>\n",
       "      <th>13</th>\n",
       "      <td>A1C_since_Sep01</td>\n",
       "      <td>0.036011</td>\n",
       "    </tr>\n",
       "    <tr>\n",
       "      <th>36</th>\n",
       "      <td>Institution_app_num</td>\n",
       "      <td>0.035825</td>\n",
       "    </tr>\n",
       "    <tr>\n",
       "      <th>38</th>\n",
       "      <td>Insti_weight</td>\n",
       "      <td>0.034871</td>\n",
       "    </tr>\n",
       "    <tr>\n",
       "      <th>14</th>\n",
       "      <td>A1U_since_Sep01</td>\n",
       "      <td>0.034110</td>\n",
       "    </tr>\n",
       "    <tr>\n",
       "      <th>17</th>\n",
       "      <td>Decision_C</td>\n",
       "      <td>0.033746</td>\n",
       "    </tr>\n",
       "    <tr>\n",
       "      <th>9</th>\n",
       "      <td>Total Days Admissions</td>\n",
       "      <td>0.033514</td>\n",
       "    </tr>\n",
       "    <tr>\n",
       "      <th>0</th>\n",
       "      <td>Programme</td>\n",
       "      <td>0.033235</td>\n",
       "    </tr>\n",
       "    <tr>\n",
       "      <th>10</th>\n",
       "      <td>TOTAL Days</td>\n",
       "      <td>0.033221</td>\n",
       "    </tr>\n",
       "    <tr>\n",
       "      <th>20</th>\n",
       "      <td>eng_type</td>\n",
       "      <td>0.032956</td>\n",
       "    </tr>\n",
       "    <tr>\n",
       "      <th>6</th>\n",
       "      <td>Days at Admissions Review</td>\n",
       "      <td>0.032007</td>\n",
       "    </tr>\n",
       "    <tr>\n",
       "      <th>21</th>\n",
       "      <td>Ielts_Overall</td>\n",
       "      <td>0.030239</td>\n",
       "    </tr>\n",
       "    <tr>\n",
       "      <th>2</th>\n",
       "      <td>home_oversea</td>\n",
       "      <td>0.028708</td>\n",
       "    </tr>\n",
       "    <tr>\n",
       "      <th>15</th>\n",
       "      <td>A2C_since_Sep01</td>\n",
       "      <td>0.026086</td>\n",
       "    </tr>\n",
       "    <tr>\n",
       "      <th>8</th>\n",
       "      <td>Days at Decision Stage</td>\n",
       "      <td>0.025864</td>\n",
       "    </tr>\n",
       "    <tr>\n",
       "      <th>7</th>\n",
       "      <td>Days in School</td>\n",
       "      <td>0.025457</td>\n",
       "    </tr>\n",
       "    <tr>\n",
       "      <th>4</th>\n",
       "      <td>distance</td>\n",
       "      <td>0.020292</td>\n",
       "    </tr>\n",
       "  </tbody>\n",
       "</table>\n",
       "</div>"
      ],
      "text/plain": [
       "                      feature     value\n",
       "16       Response_since_Sep01  0.134527\n",
       "11              Response days  0.062073\n",
       "37      Institution_offer_num  0.036775\n",
       "12       decision_since_Sep01  0.036331\n",
       "13            A1C_since_Sep01  0.036011\n",
       "36        Institution_app_num  0.035825\n",
       "38               Insti_weight  0.034871\n",
       "14            A1U_since_Sep01  0.034110\n",
       "17                 Decision_C  0.033746\n",
       "9       Total Days Admissions  0.033514\n",
       "0                   Programme  0.033235\n",
       "10                 TOTAL Days  0.033221\n",
       "20                   eng_type  0.032956\n",
       "6   Days at Admissions Review  0.032007\n",
       "21              Ielts_Overall  0.030239\n",
       "2                home_oversea  0.028708\n",
       "15            A2C_since_Sep01  0.026086\n",
       "8      Days at Decision Stage  0.025864\n",
       "7              Days in School  0.025457\n",
       "4                    distance  0.020292"
      ]
     },
     "execution_count": 33,
     "metadata": {},
     "output_type": "execute_result"
    }
   ],
   "source": [
    "tree3 = ExtraTreesClassifier()\n",
    "tree3.fit(X3_normalized,Y)\n",
    "\n",
    "feat_importances3 = pd.DataFrame({'feature':X3_normalized.columns, 'value':tree3.feature_importances_}).sort_values(by=['value'], ascending=False)\n",
    "\n",
    "feat_importances3.to_csv('X3/treeset3.csv')\n",
    "\n",
    "X3_tree = X3_normalized[list(feat_importances1['feature'])[0:20]]\n",
    "X3_tree.to_pickle(\"X3/X3_tree.pkl\") \n",
    "\n",
    "feat_importances2.nlargest(20,'value')"
   ]
  },
  {
   "cell_type": "markdown",
   "id": "945cccaa-ede7-4b09-b5c8-b9d4fcede6c5",
   "metadata": {
    "tags": []
   },
   "source": [
    "# **Modelling**\n",
    "In this part, each feature set(X1,X2,X3) would go through combinations of methods in each step, to obtain a series of classifiers. \\\n",
    "The steps are:\n",
    "\n",
    "(1) feature selection\\\n",
    "no selection(X_normalized)\\\n",
    "correlation based(X_corela)\\\n",
    "tree based(X_tree)\\\n",
    "\n",
    "*combine*\n",
    "\n",
    "(2) data balancing\\\n",
    "w/o balancing\\\n",
    "over sample\\\n",
    "under sample\\\n",
    "\n",
    "*combine*\n",
    "\n",
    "(3) modelling\\\n",
    "Logistic Regression\\\n",
    "Naive Bayes\\\n",
    "Random Forest\\\n",
    "Support Vector Machines"
   ]
  },
  {
   "cell_type": "code",
   "execution_count": 34,
   "id": "bef17b54-67d9-43b9-9008-88fa3f3f673d",
   "metadata": {},
   "outputs": [],
   "source": [
    "import joblib\n",
    "# load the feature sets\n",
    "X1_normalized = joblib.load('X1/X1_normalized.pkl')\n",
    "X1_corela = np.load('X1/X1_corela.npy')\n",
    "X1_tree = joblib.load('X1/X1_tree.pkl')\n",
    "\n",
    "\n",
    "X2_normalized = joblib.load('X2/X2_normalized.pkl')\n",
    "X2_corela = np.load('X2/X2_corela.npy')\n",
    "X2_tree = joblib.load('X2/X2_tree.pkl')\n",
    "\n",
    "\n",
    "X3_normalized = joblib.load('X3/X3_normalized.pkl')\n",
    "X3_corela = np.load('X3/X3_corela.npy')\n",
    "X3_tree = joblib.load('X3/X3_tree.pkl')\n"
   ]
  },
  {
   "cell_type": "markdown",
   "id": "f89fd5f7-d12a-44fc-a1c9-7acd038548bf",
   "metadata": {
    "tags": []
   },
   "source": [
    "# **X1**"
   ]
  },
  {
   "cell_type": "markdown",
   "id": "1d378373-2e07-482f-b9ac-2f140be70e12",
   "metadata": {
    "tags": []
   },
   "source": [
    "## **X1_normalized**"
   ]
  },
  {
   "cell_type": "markdown",
   "id": "66cdf395-67ef-4e4f-8df8-af73fbed6236",
   "metadata": {
    "tags": []
   },
   "source": [
    "### Split the training set and testing set"
   ]
  },
  {
   "cell_type": "code",
   "execution_count": 6,
   "id": "4a2570a8-11a1-41af-ae3f-b2e65b5c53cc",
   "metadata": {},
   "outputs": [],
   "source": [
    "from sklearn.model_selection import train_test_split"
   ]
  },
  {
   "cell_type": "code",
   "execution_count": 13,
   "id": "5d6dfe3a-35c4-493b-a376-d0b88a50bc29",
   "metadata": {},
   "outputs": [],
   "source": [
    "# split the data in 70:30 for train:test dataset\n",
    "X_train, X_test, Y_train, Y_test = train_test_split(X1_normalized, Y, test_size = 0.3, random_state = 2, stratify = Y)"
   ]
  },
  {
   "cell_type": "markdown",
   "id": "4f547efc-05d3-4af8-a1c8-e836622cdee2",
   "metadata": {},
   "source": [
    "### Check the distribution of classes of the target variable, to see whether the data balancing is needed"
   ]
  },
  {
   "cell_type": "code",
   "execution_count": 14,
   "id": "6d73730a-9466-458b-94b7-695828b931e1",
   "metadata": {},
   "outputs": [
    {
     "name": "stdout",
     "output_type": "stream",
     "text": [
      "Training target statistics: Counter({0: 5308, 1: 930})\n",
      "Testing target statistics: Counter({0: 2276, 1: 398})\n"
     ]
    }
   ],
   "source": [
    "from collections import Counter\n",
    "print(f\"Training target statistics: {Counter(Y_train)}\")\n",
    "print(f\"Testing target statistics: {Counter(Y_test)}\")"
   ]
  },
  {
   "cell_type": "markdown",
   "id": "19f84a8c-ad3c-4ec8-bb0f-274963ac9a44",
   "metadata": {},
   "source": [
    "It turns out that the datased is unbalanced and need the balancing"
   ]
  },
  {
   "cell_type": "markdown",
   "id": "d3050ef8-02b7-496c-8d84-5a6df60e3bd8",
   "metadata": {},
   "source": [
    "### **Balancing**\n",
    "### 1)Without balancing"
   ]
  },
  {
   "cell_type": "markdown",
   "id": "19d3c701-2616-4ceb-bc10-3d6ef5c694f1",
   "metadata": {},
   "source": [
    "####  Logistic Regression"
   ]
  },
  {
   "cell_type": "code",
   "execution_count": 15,
   "id": "809c0cca-5ee5-47b7-8dfe-5211ec866487",
   "metadata": {},
   "outputs": [
    {
     "name": "stdout",
     "output_type": "stream",
     "text": [
      "              precision    recall  f1-score   support\n",
      "\n",
      "           0       0.89      0.98      0.93      2276\n",
      "           1       0.72      0.32      0.44       398\n",
      "\n",
      "    accuracy                           0.88      2674\n",
      "   macro avg       0.81      0.65      0.69      2674\n",
      "weighted avg       0.87      0.88      0.86      2674\n",
      "\n"
     ]
    }
   ],
   "source": [
    "# Fitting Logistic Regression to the training set\n",
    "from sklearn.linear_model import LogisticRegression\n",
    "classifier1 = LogisticRegression(random_state = 0, max_iter=1000)\n",
    "classifier1.fit(X_train, Y_train)\n",
    "\n",
    "# Predicting result on test set\n",
    "Y_pred = classifier1.predict(X_test)\n",
    "\n",
    "# Report on prediction\n",
    "from sklearn.metrics import classification_report\n",
    "print(classification_report(Y_test, Y_pred))"
   ]
  },
  {
   "cell_type": "code",
   "execution_count": 16,
   "id": "a11e1bb9-ef12-4b31-9136-6911571124c7",
   "metadata": {},
   "outputs": [
    {
     "data": {
      "text/plain": [
       "<AxesSubplot:>"
      ]
     },
     "execution_count": 16,
     "metadata": {},
     "output_type": "execute_result"
    },
    {
     "data": {
      "image/png": "[encoded data removed]",
      "text/plain": [
       "<Figure size 432x288 with 2 Axes>"
      ]
     },
     "metadata": {
      "needs_background": "light"
     },
     "output_type": "display_data"
    }
   ],
   "source": [
    "# Making the Confusion Matrix\n",
    "from sklearn.metrics import confusion_matrix, classification_report\n",
    "cm = confusion_matrix(Y_test, Y_pred)\n",
    "sns.heatmap(cm, annot=True,fmt='d')"
   ]
  },
  {
   "cell_type": "markdown",
   "id": "e123b363-84c0-4f6e-90cb-ab60ccaad1a8",
   "metadata": {},
   "source": [
    "####  Naive Bayes"
   ]
  },
  {
   "cell_type": "code",
   "execution_count": 17,
   "id": "3ae3ed9a-c312-4b65-82d0-cae60db2ba81",
   "metadata": {},
   "outputs": [
    {
     "name": "stdout",
     "output_type": "stream",
     "text": [
      "              precision    recall  f1-score   support\n",
      "\n",
      "           0       0.95      0.59      0.73      2276\n",
      "           1       0.26      0.82      0.40       398\n",
      "\n",
      "    accuracy                           0.63      2674\n",
      "   macro avg       0.61      0.71      0.56      2674\n",
      "weighted avg       0.85      0.63      0.68      2674\n",
      "\n"
     ]
    }
   ],
   "source": [
    "from sklearn.naive_bayes import GaussianNB\n",
    "\n",
    "classifier2 = GaussianNB()\n",
    "classifier2.fit(X_train, Y_train)\n",
    "# Predicting result\n",
    "Y_pred = classifier2.predict(X_test)\n",
    "print(classification_report(Y_test, Y_pred))"
   ]
  },
  {
   "cell_type": "markdown",
   "id": "b6300d7e-9088-41e7-9eb0-ad472d46aa04",
   "metadata": {},
   "source": [
    "### Random Forest"
   ]
  },
  {
   "cell_type": "code",
   "execution_count": 18,
   "id": "bf90fe3e-7080-4f6d-91a0-9317731fe56c",
   "metadata": {},
   "outputs": [
    {
     "name": "stdout",
     "output_type": "stream",
     "text": [
      "              precision    recall  f1-score   support\n",
      "\n",
      "           0       0.85      1.00      0.92      2276\n",
      "           1       0.00      0.00      0.00       398\n",
      "\n",
      "    accuracy                           0.85      2674\n",
      "   macro avg       0.43      0.50      0.46      2674\n",
      "weighted avg       0.72      0.85      0.78      2674\n",
      "\n"
     ]
    },
    {
     "name": "stderr",
     "output_type": "stream",
     "text": [
      "/jupyter/.home/.local/lib/python3.8/site-packages/sklearn/metrics/_classification.py:1334: UndefinedMetricWarning: Precision and F-score are ill-defined and being set to 0.0 in labels with no predicted samples. Use `zero_division` parameter to control this behavior.\n",
      "  _warn_prf(average, modifier, msg_start, len(result))\n",
      "/jupyter/.home/.local/lib/python3.8/site-packages/sklearn/metrics/_classification.py:1334: UndefinedMetricWarning: Precision and F-score are ill-defined and being set to 0.0 in labels with no predicted samples. Use `zero_division` parameter to control this behavior.\n",
      "  _warn_prf(average, modifier, msg_start, len(result))\n",
      "/jupyter/.home/.local/lib/python3.8/site-packages/sklearn/metrics/_classification.py:1334: UndefinedMetricWarning: Precision and F-score are ill-defined and being set to 0.0 in labels with no predicted samples. Use `zero_division` parameter to control this behavior.\n",
      "  _warn_prf(average, modifier, msg_start, len(result))\n"
     ]
    }
   ],
   "source": [
    "from sklearn.ensemble import RandomForestClassifier\n",
    "\n",
    "classifier3 = RandomForestClassifier(max_depth=2, random_state=0)\n",
    "\n",
    "classifier3.fit(X_train, Y_train)\n",
    "# Predicting result\n",
    "Y_pred = classifier3.predict(X_test)\n",
    "print(classification_report(Y_test, Y_pred))"
   ]
  },
  {
   "cell_type": "markdown",
   "id": "ceea3877-07f7-4103-850f-4dc5a791e53d",
   "metadata": {},
   "source": [
    "### Support Vector Machines"
   ]
  },
  {
   "cell_type": "code",
   "execution_count": 20,
   "id": "3bbe5d45-828d-4c33-b660-a4b801e59a47",
   "metadata": {},
   "outputs": [
    {
     "name": "stdout",
     "output_type": "stream",
     "text": [
      "              precision    recall  f1-score   support\n",
      "\n",
      "           0       0.88      0.99      0.93      2276\n",
      "           1       0.79      0.26      0.39       398\n",
      "\n",
      "    accuracy                           0.88      2674\n",
      "   macro avg       0.84      0.62      0.66      2674\n",
      "weighted avg       0.87      0.88      0.85      2674\n",
      "\n"
     ]
    }
   ],
   "source": [
    "from sklearn.svm import SVC\n",
    "classifier4 = SVC(kernel = 'rbf',random_state = 0)\n",
    "classifier4.fit(X_train, Y_train)\n",
    "# Predicting result\n",
    "Y_pred = classifier4.predict(X_test)\n",
    "print(classification_report(Y_test, Y_pred))"
   ]
  },
  {
   "cell_type": "markdown",
   "id": "ceb80aa5-e279-4edb-a283-0a0b0750e7fa",
   "metadata": {},
   "source": [
    "#### Conclusion: since the data is lack of balance, the model is not reliable"
   ]
  },
  {
   "cell_type": "markdown",
   "id": "5523e32f-f504-4261-9a05-beb2b778fb3a",
   "metadata": {
    "tags": []
   },
   "source": [
    "### 2)With Balancing"
   ]
  },
  {
   "cell_type": "markdown",
   "id": "210f887d-3072-471c-97d8-2da6a0c600c9",
   "metadata": {},
   "source": [
    "### 2)1. Oversample the smallest class"
   ]
  },
  {
   "cell_type": "code",
   "execution_count": 21,
   "id": "b296c9f2-1d89-4799-a22d-603ca8f7506b",
   "metadata": {},
   "outputs": [
    {
     "name": "stdout",
     "output_type": "stream",
     "text": [
      "Training target statistics: Counter({0: 5308, 1: 5308})\n",
      "Testing target statistics: Counter({1: 2276, 0: 2276})\n"
     ]
    }
   ],
   "source": [
    "from imblearn.over_sampling import RandomOverSampler\n",
    "over_sampler = RandomOverSampler(random_state=42)\n",
    "X_train_balanced, Y_train_balanced = over_sampler.fit_resample(X_train, Y_train)\n",
    "X_test_balanced, Y_test_balanced = over_sampler.fit_resample(X_test, Y_test)\n",
    "print(f\"Training target statistics: {Counter(Y_train_balanced)}\")\n",
    "print(f\"Testing target statistics: {Counter(Y_test_balanced)}\")"
   ]
  },
  {
   "cell_type": "markdown",
   "id": "955d586c-27d0-4017-b179-ec295e2c7d7f",
   "metadata": {},
   "source": [
    "####  Logistic Regression"
   ]
  },
  {
   "cell_type": "code",
   "execution_count": 22,
   "id": "d587ee14-f6ab-4c74-ad8b-172e388e78a7",
   "metadata": {},
   "outputs": [
    {
     "name": "stdout",
     "output_type": "stream",
     "text": [
      "              precision    recall  f1-score   support\n",
      "\n",
      "           0       0.84      0.79      0.81      2276\n",
      "           1       0.80      0.85      0.83      2276\n",
      "\n",
      "    accuracy                           0.82      4552\n",
      "   macro avg       0.82      0.82      0.82      4552\n",
      "weighted avg       0.82      0.82      0.82      4552\n",
      "\n"
     ]
    }
   ],
   "source": [
    "# Fitting Logistic Regression to the training set\n",
    "from sklearn.linear_model import LogisticRegression\n",
    "classifier1 = LogisticRegression(random_state = 0, max_iter=1000)\n",
    "classifier1.fit(X_train_balanced, Y_train_balanced)\n",
    "\n",
    "# Predicting result on test set\n",
    "Y_pred = classifier1.predict(X_test_balanced)\n",
    "\n",
    "# Report on prediction\n",
    "from sklearn.metrics import classification_report\n",
    "print(classification_report(Y_test_balanced, Y_pred))"
   ]
  },
  {
   "cell_type": "markdown",
   "id": "17b2be69-6822-4633-9624-3992e679c891",
   "metadata": {},
   "source": [
    "#Making the Confusion Matrix\n",
    "from sklearn.metrics import confusion_matrix, classification_report\n",
    "cm = confusion_matrix(Y_test_balanced, Y_pred)\n",
    "sns.heatmap(cm, annot=True,fmt='d')"
   ]
  },
  {
   "cell_type": "markdown",
   "id": "7f992526-c533-43c2-bbb1-ff95f1b456cf",
   "metadata": {
    "tags": []
   },
   "source": [
    "####  Naive Bayes"
   ]
  },
  {
   "cell_type": "code",
   "execution_count": 23,
   "id": "8b8c877d-80ae-46e0-b07a-bff55644cf7e",
   "metadata": {},
   "outputs": [
    {
     "name": "stdout",
     "output_type": "stream",
     "text": [
      "              precision    recall  f1-score   support\n",
      "\n",
      "           0       0.85      0.43      0.58      2276\n",
      "           1       0.62      0.92      0.74      2276\n",
      "\n",
      "    accuracy                           0.68      4552\n",
      "   macro avg       0.73      0.68      0.66      4552\n",
      "weighted avg       0.73      0.68      0.66      4552\n",
      "\n"
     ]
    }
   ],
   "source": [
    "from sklearn.naive_bayes import GaussianNB\n",
    "\n",
    "classifier2 = GaussianNB()\n",
    "classifier2.fit(X_train_balanced, Y_train_balanced)\n",
    "# Predicting result\n",
    "Y_pred = classifier2.predict(X_test_balanced)\n",
    "print(classification_report(Y_test_balanced, Y_pred))"
   ]
  },
  {
   "cell_type": "markdown",
   "id": "c7269f51-0f01-40f6-a48e-8f74edc8496e",
   "metadata": {},
   "source": [
    "#Making the Confusion Matrix \n",
    "cm = confusion_matrix(Y_test_balanced, Y_pred)\n",
    "ax = sns.heatmap(cm, annot=True,fmt='d')\n",
    "#ax.figure.savefig('graph/NB_confusion.png')"
   ]
  },
  {
   "cell_type": "markdown",
   "id": "a9b07d5d-7ed2-4480-bc03-779b20cf9141",
   "metadata": {},
   "source": [
    "####  Random Forest"
   ]
  },
  {
   "cell_type": "code",
   "execution_count": 24,
   "id": "47aa1653-17fc-4ac7-9d78-4947dc36b266",
   "metadata": {},
   "outputs": [
    {
     "name": "stdout",
     "output_type": "stream",
     "text": [
      "              precision    recall  f1-score   support\n",
      "\n",
      "           0       0.83      0.76      0.79      2276\n",
      "           1       0.78      0.85      0.81      2276\n",
      "\n",
      "    accuracy                           0.80      4552\n",
      "   macro avg       0.81      0.80      0.80      4552\n",
      "weighted avg       0.81      0.80      0.80      4552\n",
      "\n"
     ]
    }
   ],
   "source": [
    "from sklearn.ensemble import RandomForestClassifier\n",
    "\n",
    "classifier3 = RandomForestClassifier(max_depth=3, random_state=0)\n",
    "\n",
    "classifier3.fit(X_train_balanced, Y_train_balanced)\n",
    "# Predicting result\n",
    "Y_pred = classifier3.predict(X_test_balanced)\n",
    "print(classification_report(Y_test_balanced, Y_pred))"
   ]
  },
  {
   "cell_type": "markdown",
   "id": "968dcc0b-da1a-4a05-a439-1aba38388076",
   "metadata": {},
   "source": [
    "#Making the Confusion Matrix cm = confusion_matrix(Y_test_balanced, Y_pred)\n",
    "sns.heatmap(cm, annot=True,fmt='d')"
   ]
  },
  {
   "cell_type": "markdown",
   "id": "45e6dcfb-86f6-4c02-8dcf-01cf3be06584",
   "metadata": {
    "tags": []
   },
   "source": [
    "#### Support Vector Machines"
   ]
  },
  {
   "cell_type": "code",
   "execution_count": 25,
   "id": "752813b8-fa85-44a4-ae35-00ec4ee725e6",
   "metadata": {},
   "outputs": [
    {
     "name": "stdout",
     "output_type": "stream",
     "text": [
      "              precision    recall  f1-score   support\n",
      "\n",
      "           0       0.87      0.76      0.81      2276\n",
      "           1       0.79      0.88      0.83      2276\n",
      "\n",
      "    accuracy                           0.82      4552\n",
      "   macro avg       0.83      0.82      0.82      4552\n",
      "weighted avg       0.83      0.82      0.82      4552\n",
      "\n"
     ]
    }
   ],
   "source": [
    "from sklearn.svm import SVC\n",
    "classifier4 = SVC(kernel = 'rbf',random_state = 0)\n",
    "classifier4.fit(X_train_balanced, Y_train_balanced)\n",
    "# Predicting result\n",
    "Y_pred = classifier4.predict(X_test_balanced)\n",
    "print(classification_report(Y_test_balanced, Y_pred))"
   ]
  },
  {
   "cell_type": "markdown",
   "id": "1228df34-a386-4930-8128-9aff4820ce6f",
   "metadata": {},
   "source": [
    "#Making the Confusion Matrix \n",
    "cm = confusion_matrix(Y_test_balanced, Y_pred)\n",
    "ax = sns.heatmap(cm, annot=True,fmt='d')\n",
    "#ax.figure.savefig('graph/SVM_confusion.png')"
   ]
  },
  {
   "cell_type": "markdown",
   "id": "27523ace-1e44-40f2-b016-649982aae61b",
   "metadata": {},
   "source": [
    "### 2)2. Undersample the larger class"
   ]
  },
  {
   "cell_type": "code",
   "execution_count": 26,
   "id": "c997ec8f-e74c-41bc-a77b-14109089bf5a",
   "metadata": {},
   "outputs": [
    {
     "name": "stdout",
     "output_type": "stream",
     "text": [
      "Training target statistics: Counter({0: 930, 1: 930})\n",
      "Testing target statistics: Counter({0: 398, 1: 398})\n"
     ]
    }
   ],
   "source": [
    "from imblearn.under_sampling import RandomUnderSampler\n",
    "under_sampler = RandomUnderSampler(random_state=42)\n",
    "X2_train_balanced, Y2_train_balanced = under_sampler.fit_resample(X_train, Y_train)\n",
    "X2_test_balanced, Y2_test_balanced = under_sampler.fit_resample(X_test, Y_test)\n",
    "\n",
    "print(f\"Training target statistics: {Counter(Y2_train_balanced)}\")\n",
    "print(f\"Testing target statistics: {Counter(Y2_test_balanced)}\")"
   ]
  },
  {
   "cell_type": "markdown",
   "id": "ae196d76-3e28-4913-88e0-ba59a47603aa",
   "metadata": {},
   "source": [
    "####  Logistic Regression"
   ]
  },
  {
   "cell_type": "code",
   "execution_count": 27,
   "id": "0a606c88-8c97-4ea4-aeba-68bcc41b76ea",
   "metadata": {},
   "outputs": [
    {
     "name": "stdout",
     "output_type": "stream",
     "text": [
      "              precision    recall  f1-score   support\n",
      "\n",
      "           0       0.81      0.79      0.80       398\n",
      "           1       0.79      0.81      0.80       398\n",
      "\n",
      "    accuracy                           0.80       796\n",
      "   macro avg       0.80      0.80      0.80       796\n",
      "weighted avg       0.80      0.80      0.80       796\n",
      "\n"
     ]
    }
   ],
   "source": [
    "# Fitting Logistic Regression to the training set\n",
    "from sklearn.linear_model import LogisticRegression\n",
    "classifier1 = LogisticRegression(random_state = 0, max_iter=1000)\n",
    "classifier1.fit(X2_train_balanced, Y2_train_balanced)\n",
    "\n",
    "# Predicting result on test set\n",
    "Y_pred = classifier1.predict(X2_test_balanced)\n",
    "\n",
    "# Report on prediction\n",
    "from sklearn.metrics import classification_report\n",
    "print(classification_report(Y2_test_balanced, Y_pred))"
   ]
  },
  {
   "cell_type": "markdown",
   "id": "87c2c058-fe7c-4822-ae4c-e673e9fd39b8",
   "metadata": {},
   "source": [
    "####  Naive Bayes"
   ]
  },
  {
   "cell_type": "code",
   "execution_count": 28,
   "id": "34c17d1b-ac88-421f-8e2c-3b4c1ab8356a",
   "metadata": {},
   "outputs": [
    {
     "name": "stdout",
     "output_type": "stream",
     "text": [
      "              precision    recall  f1-score   support\n",
      "\n",
      "           0       0.87      0.27      0.42       398\n",
      "           1       0.57      0.96      0.71       398\n",
      "\n",
      "    accuracy                           0.62       796\n",
      "   macro avg       0.72      0.62      0.57       796\n",
      "weighted avg       0.72      0.62      0.57       796\n",
      "\n"
     ]
    }
   ],
   "source": [
    "classifier2 = GaussianNB()\n",
    "classifier2.fit(X2_train_balanced, Y2_train_balanced)\n",
    "# Predicting result\n",
    "Y_pred = classifier2.predict(X2_test_balanced)\n",
    "print(classification_report(Y2_test_balanced, Y_pred))"
   ]
  },
  {
   "cell_type": "markdown",
   "id": "9d79da16-2578-4c0f-b901-a7b694b84873",
   "metadata": {},
   "source": [
    "#### Random Forest"
   ]
  },
  {
   "cell_type": "code",
   "execution_count": 29,
   "id": "13b1b632-1ecf-4b54-8a69-17adba648a86",
   "metadata": {},
   "outputs": [
    {
     "name": "stdout",
     "output_type": "stream",
     "text": [
      "              precision    recall  f1-score   support\n",
      "\n",
      "           0       0.82      0.76      0.79       398\n",
      "           1       0.78      0.83      0.80       398\n",
      "\n",
      "    accuracy                           0.80       796\n",
      "   macro avg       0.80      0.80      0.80       796\n",
      "weighted avg       0.80      0.80      0.80       796\n",
      "\n"
     ]
    }
   ],
   "source": [
    "classifier3 = RandomForestClassifier(max_depth=3, random_state=0)\n",
    "\n",
    "classifier3.fit(X2_train_balanced, Y2_train_balanced)\n",
    "# Predicting result\n",
    "Y_pred = classifier3.predict(X2_test_balanced)\n",
    "print(classification_report(Y2_test_balanced, Y_pred))"
   ]
  },
  {
   "cell_type": "markdown",
   "id": "9026c133-00ca-42ac-8719-ef85b3f7a4f7",
   "metadata": {},
   "source": [
    "#### Support Vector Machines"
   ]
  },
  {
   "cell_type": "code",
   "execution_count": 30,
   "id": "d26cd5ba-712d-4959-a460-25b2aa3be5b6",
   "metadata": {},
   "outputs": [
    {
     "name": "stdout",
     "output_type": "stream",
     "text": [
      "              precision    recall  f1-score   support\n",
      "\n",
      "           0       0.85      0.74      0.79       398\n",
      "           1       0.77      0.87      0.82       398\n",
      "\n",
      "    accuracy                           0.81       796\n",
      "   macro avg       0.81      0.81      0.81       796\n",
      "weighted avg       0.81      0.81      0.81       796\n",
      "\n"
     ]
    }
   ],
   "source": [
    "from sklearn.svm import SVC\n",
    "classifier4 = SVC(kernel = 'rbf',random_state = 0)\n",
    "classifier4.fit(X2_train_balanced, Y2_train_balanced)\n",
    "# Predicting result\n",
    "Y_pred = classifier4.predict(X2_test_balanced)\n",
    "print(classification_report(Y2_test_balanced, Y_pred))"
   ]
  },
  {
   "cell_type": "code",
   "execution_count": null,
   "id": "3cd4ab72-dfe7-4bee-8a20-de4d798112b1",
   "metadata": {},
   "outputs": [],
   "source": []
  },
  {
   "cell_type": "code",
   "execution_count": null,
   "id": "4cfdd15f-bcd0-488c-a67b-b2c6878e1557",
   "metadata": {},
   "outputs": [],
   "source": []
  },
  {
   "cell_type": "code",
   "execution_count": null,
   "id": "696ac8b1-e101-482c-9932-c866c5b2799a",
   "metadata": {},
   "outputs": [],
   "source": []
  },
  {
   "cell_type": "code",
   "execution_count": null,
   "id": "9e17e181-ddb1-47dd-a89a-fe1082bd6c86",
   "metadata": {},
   "outputs": [],
   "source": []
  },
  {
   "cell_type": "markdown",
   "id": "00be7f54-e023-4b7b-82ad-caa085c44875",
   "metadata": {
    "tags": []
   },
   "source": [
    "## **X1_corela**"
   ]
  },
  {
   "cell_type": "markdown",
   "id": "01b06719-4de9-4dbf-b1f0-bd92463a348e",
   "metadata": {},
   "source": [
    "### Split the training set and testing set"
   ]
  },
  {
   "cell_type": "code",
   "execution_count": 31,
   "id": "50c909b9-1232-4d70-aac4-e5fbf50ed67e",
   "metadata": {},
   "outputs": [],
   "source": [
    "from sklearn.model_selection import train_test_split"
   ]
  },
  {
   "cell_type": "code",
   "execution_count": 32,
   "id": "df156ff1-1d67-42bf-85e4-9d498ed4d1c4",
   "metadata": {},
   "outputs": [],
   "source": [
    "# split the data in 70:30 for train:test dataset\n",
    "X_train, X_test, Y_train, Y_test = train_test_split(X1_corela, Y, test_size = 0.3, random_state = 2, stratify = Y)"
   ]
  },
  {
   "cell_type": "markdown",
   "id": "090e2fd8-50ba-4f50-aca1-1623dd8f3ad2",
   "metadata": {},
   "source": [
    "### Without balancing"
   ]
  },
  {
   "cell_type": "code",
   "execution_count": 33,
   "id": "5c1a8313-82ec-4b24-b19c-6acb8de8d867",
   "metadata": {},
   "outputs": [
    {
     "name": "stdout",
     "output_type": "stream",
     "text": [
      "Training target statistics: Counter({0: 5308, 1: 930})\n",
      "Testing target statistics: Counter({0: 2276, 1: 398})\n"
     ]
    }
   ],
   "source": [
    "from collections import Counter\n",
    "print(f\"Training target statistics: {Counter(Y_train)}\")\n",
    "print(f\"Testing target statistics: {Counter(Y_test)}\")"
   ]
  },
  {
   "cell_type": "markdown",
   "id": "5c14e9d7-d4c7-4277-9ae7-3c354f9afb37",
   "metadata": {},
   "source": [
    "#### Applying Logistic Regression"
   ]
  },
  {
   "cell_type": "code",
   "execution_count": 34,
   "id": "f681ccfe-aafd-4538-8257-a301c60ff061",
   "metadata": {},
   "outputs": [
    {
     "name": "stdout",
     "output_type": "stream",
     "text": [
      "              precision    recall  f1-score   support\n",
      "\n",
      "           0       0.89      0.97      0.93      2276\n",
      "           1       0.62      0.30      0.40       398\n",
      "\n",
      "    accuracy                           0.87      2674\n",
      "   macro avg       0.75      0.63      0.66      2674\n",
      "weighted avg       0.85      0.87      0.85      2674\n",
      "\n"
     ]
    }
   ],
   "source": [
    "# Fitting Logistic Regression to the training set\n",
    "from sklearn.linear_model import LogisticRegression\n",
    "classifier = LogisticRegression(random_state = 0, max_iter=1000)\n",
    "classifier.fit(X_train, Y_train)\n",
    "\n",
    "# Predicting result on test set\n",
    "Y_pred = classifier.predict(X_test)\n",
    "\n",
    "# Report on prediction\n",
    "from sklearn.metrics import classification_report\n",
    "print(classification_report(Y_test, Y_pred))"
   ]
  },
  {
   "cell_type": "markdown",
   "id": "3709818f-4227-45a1-9082-0adac3db9cb5",
   "metadata": {},
   "source": [
    "#Making the Confusion Matrix\n",
    "from sklearn.metrics import confusion_matrix, classification_report\n",
    "cm = confusion_matrix(Y_test, Y_pred)\n",
    "sns.heatmap(cm, annot=True,fmt='d')"
   ]
  },
  {
   "cell_type": "code",
   "execution_count": 35,
   "id": "e4ac24e9-6ac7-40c8-917b-a6c39eea9740",
   "metadata": {},
   "outputs": [
    {
     "name": "stdout",
     "output_type": "stream",
     "text": [
      "              precision    recall  f1-score   support\n",
      "\n",
      "           0       0.89      0.93      0.91      2276\n",
      "           1       0.47      0.37      0.42       398\n",
      "\n",
      "    accuracy                           0.84      2674\n",
      "   macro avg       0.68      0.65      0.66      2674\n",
      "weighted avg       0.83      0.84      0.84      2674\n",
      "\n"
     ]
    }
   ],
   "source": [
    "from sklearn.naive_bayes import GaussianNB\n",
    "\n",
    "classifier = GaussianNB()\n",
    "classifier.fit(X_train, Y_train)\n",
    "# Predicting result\n",
    "Y_pred = classifier.predict(X_test)\n",
    "print(classification_report(Y_test, Y_pred))"
   ]
  },
  {
   "cell_type": "markdown",
   "id": "90472504-7863-438e-bcc4-40b27c72bc7b",
   "metadata": {},
   "source": [
    "### Random Forest"
   ]
  },
  {
   "cell_type": "code",
   "execution_count": 36,
   "id": "1dba590e-1034-47a1-a09e-4594943bebf8",
   "metadata": {},
   "outputs": [
    {
     "name": "stdout",
     "output_type": "stream",
     "text": [
      "              precision    recall  f1-score   support\n",
      "\n",
      "           0       0.85      1.00      0.92      2276\n",
      "           1       0.00      0.00      0.00       398\n",
      "\n",
      "    accuracy                           0.85      2674\n",
      "   macro avg       0.43      0.50      0.46      2674\n",
      "weighted avg       0.72      0.85      0.78      2674\n",
      "\n"
     ]
    },
    {
     "name": "stderr",
     "output_type": "stream",
     "text": [
      "/jupyter/.home/.local/lib/python3.8/site-packages/sklearn/metrics/_classification.py:1334: UndefinedMetricWarning: Precision and F-score are ill-defined and being set to 0.0 in labels with no predicted samples. Use `zero_division` parameter to control this behavior.\n",
      "  _warn_prf(average, modifier, msg_start, len(result))\n",
      "/jupyter/.home/.local/lib/python3.8/site-packages/sklearn/metrics/_classification.py:1334: UndefinedMetricWarning: Precision and F-score are ill-defined and being set to 0.0 in labels with no predicted samples. Use `zero_division` parameter to control this behavior.\n",
      "  _warn_prf(average, modifier, msg_start, len(result))\n",
      "/jupyter/.home/.local/lib/python3.8/site-packages/sklearn/metrics/_classification.py:1334: UndefinedMetricWarning: Precision and F-score are ill-defined and being set to 0.0 in labels with no predicted samples. Use `zero_division` parameter to control this behavior.\n",
      "  _warn_prf(average, modifier, msg_start, len(result))\n"
     ]
    }
   ],
   "source": [
    "from sklearn.ensemble import RandomForestClassifier\n",
    "\n",
    "classifier = RandomForestClassifier(max_depth=2, random_state=0)\n",
    "\n",
    "classifier.fit(X_train, Y_train)\n",
    "# Predicting result\n",
    "Y_pred = classifier.predict(X_test)\n",
    "print(classification_report(Y_test, Y_pred))"
   ]
  },
  {
   "cell_type": "markdown",
   "id": "85ea17d3-dd91-4ad9-a842-aa0805cd3578",
   "metadata": {},
   "source": [
    "#### Support Vector Machines"
   ]
  },
  {
   "cell_type": "code",
   "execution_count": 38,
   "id": "f46c1599-5b6c-4a52-9634-3c3b54548c33",
   "metadata": {},
   "outputs": [
    {
     "name": "stdout",
     "output_type": "stream",
     "text": [
      "              precision    recall  f1-score   support\n",
      "\n",
      "           0       0.88      0.99      0.93      2276\n",
      "           1       0.77      0.25      0.38       398\n",
      "\n",
      "    accuracy                           0.88      2674\n",
      "   macro avg       0.83      0.62      0.66      2674\n",
      "weighted avg       0.87      0.88      0.85      2674\n",
      "\n"
     ]
    }
   ],
   "source": [
    "from sklearn.svm import SVC\n",
    "classifier = SVC(kernel = 'rbf',random_state = 0)\n",
    "classifier.fit(X_train, Y_train)\n",
    "# Predicting result\n",
    "Y_pred = classifier.predict(X_test)\n",
    "print(classification_report(Y_test, Y_pred))"
   ]
  },
  {
   "cell_type": "markdown",
   "id": "b2fcf05a-9ae6-4321-ade5-809f04676764",
   "metadata": {},
   "source": [
    "### With Balancing"
   ]
  },
  {
   "cell_type": "markdown",
   "id": "ce009cdb-b708-4c2b-94e6-a6245a83ed17",
   "metadata": {},
   "source": [
    "### 1. Oversample the smallest class"
   ]
  },
  {
   "cell_type": "code",
   "execution_count": 39,
   "id": "bef535ab-e50f-4575-b117-6e69ec47606a",
   "metadata": {},
   "outputs": [
    {
     "name": "stdout",
     "output_type": "stream",
     "text": [
      "Training target statistics: Counter({0: 5308, 1: 5308})\n",
      "Testing target statistics: Counter({1: 2276, 0: 2276})\n"
     ]
    }
   ],
   "source": [
    "from imblearn.over_sampling import RandomOverSampler\n",
    "over_sampler = RandomOverSampler(random_state=42)\n",
    "X_train_balanced, Y_train_balanced = over_sampler.fit_resample(X_train, Y_train)\n",
    "X_test_balanced, Y_test_balanced = over_sampler.fit_resample(X_test, Y_test)\n",
    "print(f\"Training target statistics: {Counter(Y_train_balanced)}\")\n",
    "print(f\"Testing target statistics: {Counter(Y_test_balanced)}\")"
   ]
  },
  {
   "cell_type": "markdown",
   "id": "e9910ad7-c11a-43d8-8ce5-1bb01db52a45",
   "metadata": {},
   "source": [
    "#### Applying Logistic Regression"
   ]
  },
  {
   "cell_type": "code",
   "execution_count": 40,
   "id": "4fe347ca-76be-408a-bc1e-0ca55b046ff1",
   "metadata": {},
   "outputs": [
    {
     "name": "stdout",
     "output_type": "stream",
     "text": [
      "              precision    recall  f1-score   support\n",
      "\n",
      "           0       0.79      0.79      0.79      2276\n",
      "           1       0.79      0.79      0.79      2276\n",
      "\n",
      "    accuracy                           0.79      4552\n",
      "   macro avg       0.79      0.79      0.79      4552\n",
      "weighted avg       0.79      0.79      0.79      4552\n",
      "\n"
     ]
    }
   ],
   "source": [
    "# Fitting Logistic Regression to the training set\n",
    "from sklearn.linear_model import LogisticRegression\n",
    "classifier = LogisticRegression(random_state = 0, max_iter=1000)\n",
    "classifier.fit(X_train_balanced, Y_train_balanced)\n",
    "\n",
    "# Predicting result on test set\n",
    "Y_pred = classifier.predict(X_test_balanced)\n",
    "\n",
    "# Report on prediction\n",
    "from sklearn.metrics import classification_report\n",
    "print(classification_report(Y_test_balanced, Y_pred))"
   ]
  },
  {
   "cell_type": "markdown",
   "id": "3ba1b6c0-f299-457a-9a4e-efb5d5e5f4f1",
   "metadata": {},
   "source": [
    "#Making the Confusion Matrix\n",
    "from sklearn.metrics import confusion_matrix, classification_report\n",
    "cm = confusion_matrix(Y_test_balanced, Y_pred)\n",
    "sns.heatmap(cm, annot=True,fmt='d')"
   ]
  },
  {
   "cell_type": "markdown",
   "id": "e7af92db-a57a-4df5-8f8b-2cd8e8f2c42d",
   "metadata": {},
   "source": [
    "#### Applying Naive Bayes"
   ]
  },
  {
   "cell_type": "code",
   "execution_count": 41,
   "id": "d5e8b516-46a5-4732-b46a-983c10f40637",
   "metadata": {},
   "outputs": [
    {
     "name": "stdout",
     "output_type": "stream",
     "text": [
      "              precision    recall  f1-score   support\n",
      "\n",
      "           0       0.61      0.90      0.73      2276\n",
      "           1       0.82      0.42      0.56      2276\n",
      "\n",
      "    accuracy                           0.66      4552\n",
      "   macro avg       0.71      0.66      0.64      4552\n",
      "weighted avg       0.71      0.66      0.64      4552\n",
      "\n"
     ]
    }
   ],
   "source": [
    "from sklearn.naive_bayes import GaussianNB\n",
    "\n",
    "classifier = GaussianNB()\n",
    "classifier.fit(X_train_balanced, Y_train_balanced)\n",
    "# Predicting result\n",
    "Y_pred = classifier.predict(X_test_balanced)\n",
    "print(classification_report(Y_test_balanced, Y_pred))"
   ]
  },
  {
   "cell_type": "markdown",
   "id": "dd6ca20c-7f84-49fc-8abf-09b0fd790c8d",
   "metadata": {},
   "source": [
    "#Making the Confusion Matrix\n",
    "cm = confusion_matrix(Y_test_balanced, Y_pred)\n",
    "ax = sns.heatmap(cm, annot=True,fmt='d')\n",
    "#ax.figure.savefig('conf_matr/X1_corela_oversam_NB.png')"
   ]
  },
  {
   "cell_type": "markdown",
   "id": "79ee9bfb-c11a-4a2d-80b5-7d549a86e28d",
   "metadata": {},
   "source": [
    "#### Applying RandomForest"
   ]
  },
  {
   "cell_type": "code",
   "execution_count": 42,
   "id": "a053c23d-5988-42d9-9f90-464092532c97",
   "metadata": {},
   "outputs": [
    {
     "name": "stdout",
     "output_type": "stream",
     "text": [
      "              precision    recall  f1-score   support\n",
      "\n",
      "           0       0.89      0.68      0.77      2276\n",
      "           1       0.74      0.92      0.82      2276\n",
      "\n",
      "    accuracy                           0.80      4552\n",
      "   macro avg       0.82      0.80      0.80      4552\n",
      "weighted avg       0.82      0.80      0.80      4552\n",
      "\n"
     ]
    }
   ],
   "source": [
    "from sklearn.ensemble import RandomForestClassifier\n",
    "\n",
    "classifier = RandomForestClassifier(max_depth=3, random_state=0)\n",
    "\n",
    "classifier.fit(X_train_balanced, Y_train_balanced)\n",
    "# Predicting result\n",
    "Y_pred = classifier.predict(X_test_balanced)\n",
    "print(classification_report(Y_test_balanced, Y_pred))"
   ]
  },
  {
   "cell_type": "markdown",
   "id": "39ba9ce9-fcf5-4217-a202-987e1f26915b",
   "metadata": {
    "tags": []
   },
   "source": [
    "#### Applying Support Vector Machines"
   ]
  },
  {
   "cell_type": "code",
   "execution_count": 43,
   "id": "0a346e4a-e88a-49f9-9802-7c778d1be45d",
   "metadata": {},
   "outputs": [
    {
     "name": "stdout",
     "output_type": "stream",
     "text": [
      "              precision    recall  f1-score   support\n",
      "\n",
      "           0       0.88      0.74      0.80      2276\n",
      "           1       0.78      0.90      0.83      2276\n",
      "\n",
      "    accuracy                           0.82      4552\n",
      "   macro avg       0.83      0.82      0.82      4552\n",
      "weighted avg       0.83      0.82      0.82      4552\n",
      "\n"
     ]
    }
   ],
   "source": [
    "from sklearn.svm import SVC\n",
    "classifier = SVC(kernel = 'rbf',random_state = 0)\n",
    "classifier.fit(X_train_balanced, Y_train_balanced)\n",
    "# Predicting result\n",
    "Y_pred = classifier.predict(X_test_balanced)\n",
    "print(classification_report(Y_test_balanced, Y_pred))"
   ]
  },
  {
   "cell_type": "markdown",
   "id": "d9bc4109-71aa-4c07-951d-e10444013216",
   "metadata": {},
   "source": [
    "cm = confusion_matrix(Y_test_balanced, Y_pred)\n",
    "ax = sns.heatmap(cm, annot=True,fmt='d')\n",
    "#ax.figure.savefig('graph/SVM_confusion.png')"
   ]
  },
  {
   "cell_type": "markdown",
   "id": "10f6805e-77c8-46fd-8af5-cf45906ef850",
   "metadata": {},
   "source": [
    "### 2. Undersample the larger class"
   ]
  },
  {
   "cell_type": "code",
   "execution_count": 44,
   "id": "66f282c4-dfd7-4db5-b0c6-ab2af328d08f",
   "metadata": {},
   "outputs": [
    {
     "name": "stdout",
     "output_type": "stream",
     "text": [
      "Training target statistics: Counter({0: 930, 1: 930})\n",
      "Testing target statistics: Counter({0: 398, 1: 398})\n"
     ]
    }
   ],
   "source": [
    "from imblearn.under_sampling import RandomUnderSampler\n",
    "under_sampler = RandomUnderSampler(random_state=42)\n",
    "X2_train_balanced, Y2_train_balanced = under_sampler.fit_resample(X_train, Y_train)\n",
    "X2_test_balanced, Y2_test_balanced = under_sampler.fit_resample(X_test, Y_test)\n",
    "\n",
    "print(f\"Training target statistics: {Counter(Y2_train_balanced)}\")\n",
    "print(f\"Testing target statistics: {Counter(Y2_test_balanced)}\")"
   ]
  },
  {
   "cell_type": "markdown",
   "id": "5a59a8fd-0b79-4efe-8073-a4f989db1bfb",
   "metadata": {},
   "source": [
    "#### Logistic Regression"
   ]
  },
  {
   "cell_type": "code",
   "execution_count": 45,
   "id": "a281f19c-313d-42af-9948-69841d806c70",
   "metadata": {},
   "outputs": [
    {
     "name": "stdout",
     "output_type": "stream",
     "text": [
      "              precision    recall  f1-score   support\n",
      "\n",
      "           0       0.78      0.80      0.79       398\n",
      "           1       0.80      0.77      0.79       398\n",
      "\n",
      "    accuracy                           0.79       796\n",
      "   macro avg       0.79      0.79      0.79       796\n",
      "weighted avg       0.79      0.79      0.79       796\n",
      "\n"
     ]
    }
   ],
   "source": [
    "# Fitting Logistic Regression to the training set\n",
    "from sklearn.linear_model import LogisticRegression\n",
    "classifier = LogisticRegression(random_state = 0, max_iter=1000)\n",
    "classifier.fit(X2_train_balanced, Y2_train_balanced)\n",
    "\n",
    "# Predicting result on test set\n",
    "Y_pred = classifier.predict(X2_test_balanced)\n",
    "\n",
    "# Report on prediction\n",
    "from sklearn.metrics import classification_report\n",
    "print(classification_report(Y2_test_balanced, Y_pred))"
   ]
  },
  {
   "cell_type": "markdown",
   "id": "c384668f-e742-4306-9642-3f94621ebb21",
   "metadata": {},
   "source": [
    "#### Naive Bayes"
   ]
  },
  {
   "cell_type": "code",
   "execution_count": 46,
   "id": "1c3c18b5-bad2-471a-8807-2338fa647213",
   "metadata": {},
   "outputs": [
    {
     "name": "stdout",
     "output_type": "stream",
     "text": [
      "              precision    recall  f1-score   support\n",
      "\n",
      "           0       0.61      0.91      0.73       398\n",
      "           1       0.82      0.41      0.54       398\n",
      "\n",
      "    accuracy                           0.66       796\n",
      "   macro avg       0.71      0.66      0.64       796\n",
      "weighted avg       0.71      0.66      0.64       796\n",
      "\n"
     ]
    }
   ],
   "source": [
    "classifier = GaussianNB()\n",
    "classifier.fit(X2_train_balanced, Y2_train_balanced)\n",
    "# Predicting result\n",
    "Y_pred = classifier.predict(X2_test_balanced)\n",
    "print(classification_report(Y2_test_balanced, Y_pred))"
   ]
  },
  {
   "cell_type": "markdown",
   "id": "65b9bdaf-2068-49d3-84ac-de79f797cae6",
   "metadata": {},
   "source": [
    "#### Random Forest"
   ]
  },
  {
   "cell_type": "code",
   "execution_count": 47,
   "id": "2ec8489d-9d21-4d33-bd98-0cecf2cb9a2f",
   "metadata": {},
   "outputs": [
    {
     "name": "stdout",
     "output_type": "stream",
     "text": [
      "              precision    recall  f1-score   support\n",
      "\n",
      "           0       0.89      0.68      0.77       398\n",
      "           1       0.74      0.91      0.82       398\n",
      "\n",
      "    accuracy                           0.80       796\n",
      "   macro avg       0.81      0.80      0.79       796\n",
      "weighted avg       0.81      0.80      0.79       796\n",
      "\n"
     ]
    }
   ],
   "source": [
    "classifier = RandomForestClassifier(max_depth=3, random_state=0)\n",
    "\n",
    "classifier.fit(X2_train_balanced, Y2_train_balanced)\n",
    "# Predicting result\n",
    "Y_pred = classifier.predict(X2_test_balanced)\n",
    "print(classification_report(Y2_test_balanced, Y_pred))"
   ]
  },
  {
   "cell_type": "markdown",
   "id": "6240d41e-5f9d-4cf6-89db-6ee2b288e1cd",
   "metadata": {},
   "source": [
    "#### Support Vector Machines"
   ]
  },
  {
   "cell_type": "code",
   "execution_count": 48,
   "id": "13343118-6640-47e9-a434-f1f2468adaf6",
   "metadata": {},
   "outputs": [
    {
     "name": "stdout",
     "output_type": "stream",
     "text": [
      "              precision    recall  f1-score   support\n",
      "\n",
      "           0       0.87      0.70      0.78       398\n",
      "           1       0.75      0.90      0.82       398\n",
      "\n",
      "    accuracy                           0.80       796\n",
      "   macro avg       0.81      0.80      0.80       796\n",
      "weighted avg       0.81      0.80      0.80       796\n",
      "\n"
     ]
    }
   ],
   "source": [
    "from sklearn.svm import SVC\n",
    "classifier = SVC(kernel = 'rbf',random_state = 0)\n",
    "classifier.fit(X2_train_balanced, Y2_train_balanced)\n",
    "# Predicting result\n",
    "Y_pred = classifier.predict(X2_test_balanced)\n",
    "print(classification_report(Y2_test_balanced, Y_pred))"
   ]
  },
  {
   "cell_type": "code",
   "execution_count": null,
   "id": "442b61a4-a9e8-4af6-a50d-8cfc02f56eec",
   "metadata": {},
   "outputs": [],
   "source": []
  },
  {
   "cell_type": "code",
   "execution_count": null,
   "id": "4255a345-2c86-4a31-ae71-7ab902bb7300",
   "metadata": {},
   "outputs": [],
   "source": []
  },
  {
   "cell_type": "code",
   "execution_count": null,
   "id": "cd907d3a-fed6-4b53-b32c-2b77ca42fbc3",
   "metadata": {},
   "outputs": [],
   "source": []
  },
  {
   "cell_type": "markdown",
   "id": "44984f37-80c3-4d5e-9095-f828710f8203",
   "metadata": {
    "tags": []
   },
   "source": [
    "## **X1_tree**"
   ]
  },
  {
   "cell_type": "markdown",
   "id": "bb045d1e-449f-4ff5-9cef-b4965e59fb1f",
   "metadata": {},
   "source": [
    "### Split the training set and testing set"
   ]
  },
  {
   "cell_type": "code",
   "execution_count": 49,
   "id": "20cfd0a0-78f7-478e-86b5-bfc1f504c009",
   "metadata": {},
   "outputs": [],
   "source": [
    "from sklearn.model_selection import train_test_split"
   ]
  },
  {
   "cell_type": "code",
   "execution_count": 50,
   "id": "c369a0b8-3485-4c78-ac37-bfe8d00c1dae",
   "metadata": {},
   "outputs": [],
   "source": [
    "# split the data in 70:30 for train:test dataset\n",
    "X_train, X_test, Y_train, Y_test = train_test_split(X1_tree, Y, test_size = 0.3, random_state = 2, stratify = Y)"
   ]
  },
  {
   "cell_type": "markdown",
   "id": "40ae8d63-6fca-4084-bf65-b65a96c37d23",
   "metadata": {},
   "source": [
    "### Without balancing"
   ]
  },
  {
   "cell_type": "code",
   "execution_count": 51,
   "id": "935b99ed-406d-40d5-b734-e6ee1f14f286",
   "metadata": {},
   "outputs": [
    {
     "name": "stdout",
     "output_type": "stream",
     "text": [
      "Training target statistics: Counter({0: 5308, 1: 930})\n",
      "Testing target statistics: Counter({0: 2276, 1: 398})\n"
     ]
    }
   ],
   "source": [
    "from collections import Counter\n",
    "print(f\"Training target statistics: {Counter(Y_train)}\")\n",
    "print(f\"Testing target statistics: {Counter(Y_test)}\")"
   ]
  },
  {
   "cell_type": "markdown",
   "id": "4c260ae8-3da2-4da7-b29d-b4022572d87a",
   "metadata": {},
   "source": [
    "#### Applying Logistic Regression"
   ]
  },
  {
   "cell_type": "code",
   "execution_count": 52,
   "id": "16d2ea08-c163-45d5-a80b-807588d5d6c5",
   "metadata": {},
   "outputs": [
    {
     "name": "stdout",
     "output_type": "stream",
     "text": [
      "              precision    recall  f1-score   support\n",
      "\n",
      "           0       0.86      0.99      0.92      2276\n",
      "           1       0.43      0.06      0.10       398\n",
      "\n",
      "    accuracy                           0.85      2674\n",
      "   macro avg       0.65      0.52      0.51      2674\n",
      "weighted avg       0.79      0.85      0.80      2674\n",
      "\n"
     ]
    }
   ],
   "source": [
    "# Fitting Logistic Regression to the training set\n",
    "from sklearn.linear_model import LogisticRegression\n",
    "classifier = LogisticRegression(random_state = 0, max_iter=1000)\n",
    "classifier.fit(X_train, Y_train)\n",
    "\n",
    "# Predicting result on test set\n",
    "Y_pred = classifier.predict(X_test)\n",
    "\n",
    "# Report on prediction\n",
    "from sklearn.metrics import classification_report\n",
    "print(classification_report(Y_test, Y_pred))"
   ]
  },
  {
   "cell_type": "code",
   "execution_count": 53,
   "id": "44d02e5b-d485-432d-8985-13343070ee57",
   "metadata": {},
   "outputs": [
    {
     "data": {
      "text/plain": [
       "<AxesSubplot:>"
      ]
     },
     "execution_count": 53,
     "metadata": {},
     "output_type": "execute_result"
    },
    {
     "data": {
      "image/png": "[encoded data removed]",
      "text/plain": [
       "<Figure size 432x288 with 2 Axes>"
      ]
     },
     "metadata": {
      "needs_background": "light"
     },
     "output_type": "display_data"
    }
   ],
   "source": [
    "# Making the Confusion Matrix\n",
    "from sklearn.metrics import confusion_matrix, classification_report\n",
    "cm = confusion_matrix(Y_test, Y_pred)\n",
    "sns.heatmap(cm, annot=True,fmt='d')"
   ]
  },
  {
   "cell_type": "code",
   "execution_count": 54,
   "id": "04095eca-b76c-4bb1-8e76-c732a3337f2e",
   "metadata": {},
   "outputs": [
    {
     "name": "stdout",
     "output_type": "stream",
     "text": [
      "              precision    recall  f1-score   support\n",
      "\n",
      "           0       0.88      0.89      0.88      2276\n",
      "           1       0.32      0.29      0.30       398\n",
      "\n",
      "    accuracy                           0.80      2674\n",
      "   macro avg       0.60      0.59      0.59      2674\n",
      "weighted avg       0.79      0.80      0.80      2674\n",
      "\n"
     ]
    }
   ],
   "source": [
    "from sklearn.naive_bayes import GaussianNB\n",
    "\n",
    "classifier = GaussianNB()\n",
    "classifier.fit(X_train, Y_train)\n",
    "# Predicting result\n",
    "Y_pred = classifier.predict(X_test)\n",
    "print(classification_report(Y_test, Y_pred))"
   ]
  },
  {
   "cell_type": "markdown",
   "id": "0eb8b45d-d3bc-434f-aab8-d3a709f715ff",
   "metadata": {},
   "source": [
    "### Random Forest"
   ]
  },
  {
   "cell_type": "code",
   "execution_count": 55,
   "id": "a3477da6-39dd-46ce-bbe6-84e0b16f8189",
   "metadata": {},
   "outputs": [
    {
     "name": "stdout",
     "output_type": "stream",
     "text": [
      "              precision    recall  f1-score   support\n",
      "\n",
      "           0       0.85      1.00      0.92      2276\n",
      "           1       0.00      0.00      0.00       398\n",
      "\n",
      "    accuracy                           0.85      2674\n",
      "   macro avg       0.43      0.50      0.46      2674\n",
      "weighted avg       0.72      0.85      0.78      2674\n",
      "\n"
     ]
    },
    {
     "name": "stderr",
     "output_type": "stream",
     "text": [
      "/jupyter/.home/.local/lib/python3.8/site-packages/sklearn/metrics/_classification.py:1334: UndefinedMetricWarning: Precision and F-score are ill-defined and being set to 0.0 in labels with no predicted samples. Use `zero_division` parameter to control this behavior.\n",
      "  _warn_prf(average, modifier, msg_start, len(result))\n",
      "/jupyter/.home/.local/lib/python3.8/site-packages/sklearn/metrics/_classification.py:1334: UndefinedMetricWarning: Precision and F-score are ill-defined and being set to 0.0 in labels with no predicted samples. Use `zero_division` parameter to control this behavior.\n",
      "  _warn_prf(average, modifier, msg_start, len(result))\n",
      "/jupyter/.home/.local/lib/python3.8/site-packages/sklearn/metrics/_classification.py:1334: UndefinedMetricWarning: Precision and F-score are ill-defined and being set to 0.0 in labels with no predicted samples. Use `zero_division` parameter to control this behavior.\n",
      "  _warn_prf(average, modifier, msg_start, len(result))\n"
     ]
    }
   ],
   "source": [
    "from sklearn.ensemble import RandomForestClassifier\n",
    "\n",
    "classifier = RandomForestClassifier(max_depth=2, random_state=0)\n",
    "\n",
    "classifier.fit(X_train, Y_train)\n",
    "# Predicting result\n",
    "Y_pred = classifier.predict(X_test)\n",
    "print(classification_report(Y_test, Y_pred))"
   ]
  },
  {
   "cell_type": "markdown",
   "id": "87a83d6f-b137-4762-815b-6dd839fcf451",
   "metadata": {},
   "source": [
    "### Support Vector Machines"
   ]
  },
  {
   "cell_type": "code",
   "execution_count": 56,
   "id": "b99369e8-7840-4748-b9dc-538787cc8f4b",
   "metadata": {},
   "outputs": [
    {
     "name": "stdout",
     "output_type": "stream",
     "text": [
      "              precision    recall  f1-score   support\n",
      "\n",
      "           0       0.86      1.00      0.92      2276\n",
      "           1       0.73      0.06      0.10       398\n",
      "\n",
      "    accuracy                           0.86      2674\n",
      "   macro avg       0.80      0.53      0.51      2674\n",
      "weighted avg       0.84      0.86      0.80      2674\n",
      "\n"
     ]
    }
   ],
   "source": [
    "from sklearn.svm import SVC\n",
    "classifier = SVC(kernel = 'rbf',random_state = 0)\n",
    "classifier.fit(X_train, Y_train)\n",
    "# Predicting result\n",
    "Y_pred = classifier.predict(X_test)\n",
    "print(classification_report(Y_test, Y_pred))"
   ]
  },
  {
   "cell_type": "markdown",
   "id": "e574679d-e8f3-4b60-b850-d34e03a06c28",
   "metadata": {},
   "source": [
    "### With Balancing"
   ]
  },
  {
   "cell_type": "markdown",
   "id": "df5be184-8dd2-4b8b-ae7f-3f4f2221e4aa",
   "metadata": {},
   "source": [
    "#### 1. Oversample the smallest class"
   ]
  },
  {
   "cell_type": "code",
   "execution_count": 57,
   "id": "daf8a877-3ee1-4d12-8872-8a4b6ff43947",
   "metadata": {},
   "outputs": [
    {
     "name": "stdout",
     "output_type": "stream",
     "text": [
      "Training target statistics: Counter({0: 5308, 1: 5308})\n",
      "Testing target statistics: Counter({1: 2276, 0: 2276})\n"
     ]
    }
   ],
   "source": [
    "from imblearn.over_sampling import RandomOverSampler\n",
    "over_sampler = RandomOverSampler(random_state=42)\n",
    "X_train_balanced, Y_train_balanced = over_sampler.fit_resample(X_train, Y_train)\n",
    "X_test_balanced, Y_test_balanced = over_sampler.fit_resample(X_test, Y_test)\n",
    "print(f\"Training target statistics: {Counter(Y_train_balanced)}\")\n",
    "print(f\"Testing target statistics: {Counter(Y_test_balanced)}\")"
   ]
  },
  {
   "cell_type": "markdown",
   "id": "12c2ae02-daa3-4829-9dd5-d8cc5f43ebae",
   "metadata": {},
   "source": [
    "#### Applying Logistic Regression"
   ]
  },
  {
   "cell_type": "code",
   "execution_count": 58,
   "id": "259c4ae2-8412-4d5d-8299-8aa1ba646dcf",
   "metadata": {},
   "outputs": [
    {
     "name": "stdout",
     "output_type": "stream",
     "text": [
      "              precision    recall  f1-score   support\n",
      "\n",
      "           0       0.78      0.67      0.72      2276\n",
      "           1       0.71      0.82      0.76      2276\n",
      "\n",
      "    accuracy                           0.74      4552\n",
      "   macro avg       0.75      0.74      0.74      4552\n",
      "weighted avg       0.75      0.74      0.74      4552\n",
      "\n"
     ]
    }
   ],
   "source": [
    "# Fitting Logistic Regression to the training set\n",
    "from sklearn.linear_model import LogisticRegression\n",
    "classifier = LogisticRegression(random_state = 0, max_iter=1000)\n",
    "classifier.fit(X_train_balanced, Y_train_balanced)\n",
    "\n",
    "# Predicting result on test set\n",
    "Y_pred = classifier.predict(X_test_balanced)\n",
    "\n",
    "# Report on prediction\n",
    "from sklearn.metrics import classification_report\n",
    "print(classification_report(Y_test_balanced, Y_pred))"
   ]
  },
  {
   "cell_type": "code",
   "execution_count": 59,
   "id": "febbd04d-a5e6-4ad5-b0ff-8810005010cb",
   "metadata": {},
   "outputs": [
    {
     "data": {
      "text/plain": [
       "<AxesSubplot:>"
      ]
     },
     "execution_count": 59,
     "metadata": {},
     "output_type": "execute_result"
    },
    {
     "data": {
      "image/png": "[encoded data removed]",
      "text/plain": [
       "<Figure size 432x288 with 2 Axes>"
      ]
     },
     "metadata": {
      "needs_background": "light"
     },
     "output_type": "display_data"
    }
   ],
   "source": [
    "# Making the Confusion Matrix\n",
    "from sklearn.metrics import confusion_matrix, classification_report\n",
    "cm = confusion_matrix(Y_test_balanced, Y_pred)\n",
    "sns.heatmap(cm, annot=True,fmt='d')"
   ]
  },
  {
   "cell_type": "markdown",
   "id": "dea6d3f2-fd10-46b2-b6c2-ae67221234f7",
   "metadata": {},
   "source": [
    "#### Applying RandomForest"
   ]
  },
  {
   "cell_type": "code",
   "execution_count": 60,
   "id": "f814a897-ba60-4568-8c30-009f9dcd79d9",
   "metadata": {},
   "outputs": [
    {
     "name": "stdout",
     "output_type": "stream",
     "text": [
      "              precision    recall  f1-score   support\n",
      "\n",
      "           0       0.82      0.62      0.71      2276\n",
      "           1       0.70      0.87      0.77      2276\n",
      "\n",
      "    accuracy                           0.74      4552\n",
      "   macro avg       0.76      0.74      0.74      4552\n",
      "weighted avg       0.76      0.74      0.74      4552\n",
      "\n"
     ]
    }
   ],
   "source": [
    "from sklearn.ensemble import RandomForestClassifier\n",
    "\n",
    "classifier = RandomForestClassifier(max_depth=3, random_state=0)\n",
    "\n",
    "classifier.fit(X_train_balanced, Y_train_balanced)\n",
    "# Predicting result\n",
    "Y_pred = classifier.predict(X_test_balanced)\n",
    "print(classification_report(Y_test_balanced, Y_pred))"
   ]
  },
  {
   "cell_type": "code",
   "execution_count": 61,
   "id": "3ef44deb-3c45-477e-886e-7e703b7c3102",
   "metadata": {},
   "outputs": [
    {
     "data": {
      "text/plain": [
       "<AxesSubplot:>"
      ]
     },
     "execution_count": 61,
     "metadata": {},
     "output_type": "execute_result"
    },
    {
     "data": {
      "image/png": "[encoded data removed]",
      "text/plain": [
       "<Figure size 432x288 with 2 Axes>"
      ]
     },
     "metadata": {
      "needs_background": "light"
     },
     "output_type": "display_data"
    }
   ],
   "source": [
    "cm = confusion_matrix(Y_test_balanced, Y_pred)\n",
    "sns.heatmap(cm, annot=True,fmt='d')"
   ]
  },
  {
   "cell_type": "markdown",
   "id": "5d9f7e14-3005-4099-a223-04415a2c1589",
   "metadata": {
    "tags": []
   },
   "source": [
    "#### Applying SVM"
   ]
  },
  {
   "cell_type": "code",
   "execution_count": 63,
   "id": "2037a9c7-9447-4a6b-bea7-edcdae95cf8d",
   "metadata": {},
   "outputs": [
    {
     "name": "stdout",
     "output_type": "stream",
     "text": [
      "              precision    recall  f1-score   support\n",
      "\n",
      "           0       0.85      0.61      0.71      2276\n",
      "           1       0.70      0.89      0.78      2276\n",
      "\n",
      "    accuracy                           0.75      4552\n",
      "   macro avg       0.77      0.75      0.74      4552\n",
      "weighted avg       0.77      0.75      0.74      4552\n",
      "\n"
     ]
    }
   ],
   "source": [
    "from sklearn.svm import SVC\n",
    "classifier = SVC(kernel = 'rbf',random_state = 0)\n",
    "classifier.fit(X_train_balanced, Y_train_balanced)\n",
    "# Predicting result\n",
    "Y_pred = classifier.predict(X_test_balanced)\n",
    "print(classification_report(Y_test_balanced, Y_pred))"
   ]
  },
  {
   "cell_type": "code",
   "execution_count": 64,
   "id": "94446d33-038d-4326-97b7-8b307cbb3cbd",
   "metadata": {},
   "outputs": [
    {
     "data": {
      "image/png": "[encoded data removed]",
      "text/plain": [
       "<Figure size 432x288 with 2 Axes>"
      ]
     },
     "metadata": {
      "needs_background": "light"
     },
     "output_type": "display_data"
    }
   ],
   "source": [
    "cm = confusion_matrix(Y_test_balanced, Y_pred)\n",
    "ax = sns.heatmap(cm, annot=True,fmt='d')\n",
    "#ax.figure.savefig('graph/SVM_confusion.png')"
   ]
  },
  {
   "cell_type": "markdown",
   "id": "36b55221-2a7a-4607-bdea-41728797c14f",
   "metadata": {},
   "source": [
    "#### Applying Naive Bayes"
   ]
  },
  {
   "cell_type": "code",
   "execution_count": 65,
   "id": "19e0f3ef-ec66-4914-a9cf-4f51bc736916",
   "metadata": {},
   "outputs": [
    {
     "name": "stdout",
     "output_type": "stream",
     "text": [
      "              precision    recall  f1-score   support\n",
      "\n",
      "           0       0.64      0.79      0.71      2276\n",
      "           1       0.73      0.55      0.62      2276\n",
      "\n",
      "    accuracy                           0.67      4552\n",
      "   macro avg       0.68      0.67      0.67      4552\n",
      "weighted avg       0.68      0.67      0.67      4552\n",
      "\n"
     ]
    }
   ],
   "source": [
    "from sklearn.naive_bayes import GaussianNB\n",
    "\n",
    "classifier = GaussianNB()\n",
    "classifier.fit(X_train_balanced, Y_train_balanced)\n",
    "# Predicting result\n",
    "Y_pred = classifier.predict(X_test_balanced)\n",
    "print(classification_report(Y_test_balanced, Y_pred))"
   ]
  },
  {
   "cell_type": "code",
   "execution_count": 66,
   "id": "41d50129-2a79-473f-accc-cf590e5ba1b4",
   "metadata": {},
   "outputs": [
    {
     "data": {
      "image/png": "[encoded data removed]",
      "text/plain": [
       "<Figure size 432x288 with 2 Axes>"
      ]
     },
     "metadata": {
      "needs_background": "light"
     },
     "output_type": "display_data"
    }
   ],
   "source": [
    "cm = confusion_matrix(Y_test_balanced, Y_pred)\n",
    "ax = sns.heatmap(cm, annot=True,fmt='d')\n",
    "#ax.figure.savefig('graph/NB_confusion.png')"
   ]
  },
  {
   "cell_type": "markdown",
   "id": "878e79fb-74f9-43e2-8e97-d5353eb93f95",
   "metadata": {},
   "source": [
    "#### 2. Undersample the larger class"
   ]
  },
  {
   "cell_type": "code",
   "execution_count": 67,
   "id": "033f9386-cadc-499b-b16a-364944815c0a",
   "metadata": {},
   "outputs": [
    {
     "name": "stdout",
     "output_type": "stream",
     "text": [
      "Training target statistics: Counter({0: 930, 1: 930})\n",
      "Testing target statistics: Counter({0: 398, 1: 398})\n"
     ]
    }
   ],
   "source": [
    "from imblearn.under_sampling import RandomUnderSampler\n",
    "under_sampler = RandomUnderSampler(random_state=42)\n",
    "X2_train_balanced, Y2_train_balanced = under_sampler.fit_resample(X_train, Y_train)\n",
    "X2_test_balanced, Y2_test_balanced = under_sampler.fit_resample(X_test, Y_test)\n",
    "\n",
    "print(f\"Training target statistics: {Counter(Y2_train_balanced)}\")\n",
    "print(f\"Testing target statistics: {Counter(Y2_test_balanced)}\")"
   ]
  },
  {
   "cell_type": "markdown",
   "id": "62f9d474-e4e6-426e-a904-792f750a4ddd",
   "metadata": {},
   "source": [
    "Logistic"
   ]
  },
  {
   "cell_type": "code",
   "execution_count": 68,
   "id": "f74f998b-a524-4fb2-acbd-9fba3d5f996c",
   "metadata": {},
   "outputs": [
    {
     "name": "stdout",
     "output_type": "stream",
     "text": [
      "              precision    recall  f1-score   support\n",
      "\n",
      "           0       0.75      0.65      0.70       398\n",
      "           1       0.69      0.78      0.73       398\n",
      "\n",
      "    accuracy                           0.72       796\n",
      "   macro avg       0.72      0.72      0.71       796\n",
      "weighted avg       0.72      0.72      0.71       796\n",
      "\n"
     ]
    }
   ],
   "source": [
    "# Fitting Logistic Regression to the training set\n",
    "from sklearn.linear_model import LogisticRegression\n",
    "classifier = LogisticRegression(random_state = 0, max_iter=1000)\n",
    "classifier.fit(X2_train_balanced, Y2_train_balanced)\n",
    "\n",
    "# Predicting result on test set\n",
    "Y_pred = classifier.predict(X2_test_balanced)\n",
    "\n",
    "# Report on prediction\n",
    "from sklearn.metrics import classification_report\n",
    "print(classification_report(Y2_test_balanced, Y_pred))"
   ]
  },
  {
   "cell_type": "markdown",
   "id": "2e78088f-dadf-42cf-baa7-478b7e5e797b",
   "metadata": {},
   "source": [
    "tree"
   ]
  },
  {
   "cell_type": "code",
   "execution_count": 69,
   "id": "1cef94dd-b251-49c4-aefe-a109c19d04a0",
   "metadata": {},
   "outputs": [
    {
     "ename": "NameError",
     "evalue": "name 'tree' is not defined",
     "output_type": "error",
     "traceback": [
      "\u001b[0;31m---------------------------------------------------------------------------\u001b[0m",
      "\u001b[0;31mNameError\u001b[0m                                 Traceback (most recent call last)",
      "Input \u001b[0;32mIn [69]\u001b[0m, in \u001b[0;36m<cell line: 1>\u001b[0;34m()\u001b[0m\n\u001b[0;32m----> 1\u001b[0m classifier \u001b[38;5;241m=\u001b[39m \u001b[43mtree\u001b[49m\u001b[38;5;241m.\u001b[39mDecisionTreeClassifier()\n\u001b[1;32m      2\u001b[0m classifier\u001b[38;5;241m.\u001b[39mfit(X2_train_balanced, Y2_train_balanced)\n\u001b[1;32m      3\u001b[0m \u001b[38;5;66;03m# Predicting result\u001b[39;00m\n",
      "\u001b[0;31mNameError\u001b[0m: name 'tree' is not defined"
     ]
    }
   ],
   "source": [
    "classifier = tree.DecisionTreeClassifier()\n",
    "classifier.fit(X2_train_balanced, Y2_train_balanced)\n",
    "# Predicting result\n",
    "Y_pred = classifier.predict(X2_test_balanced)\n",
    "print(classification_report(Y2_test_balanced, Y_pred))"
   ]
  },
  {
   "cell_type": "markdown",
   "id": "c757ee99-5bfb-48ec-ab71-3307af376ce1",
   "metadata": {},
   "source": [
    "NB"
   ]
  },
  {
   "cell_type": "code",
   "execution_count": 70,
   "id": "59d01833-93dd-4564-a948-be0c65fb4bcb",
   "metadata": {},
   "outputs": [
    {
     "name": "stdout",
     "output_type": "stream",
     "text": [
      "              precision    recall  f1-score   support\n",
      "\n",
      "           0       0.63      0.77      0.69       398\n",
      "           1       0.70      0.55      0.61       398\n",
      "\n",
      "    accuracy                           0.66       796\n",
      "   macro avg       0.67      0.66      0.65       796\n",
      "weighted avg       0.67      0.66      0.65       796\n",
      "\n"
     ]
    }
   ],
   "source": [
    "classifier = GaussianNB()\n",
    "classifier.fit(X2_train_balanced, Y2_train_balanced)\n",
    "# Predicting result\n",
    "Y_pred = classifier.predict(X2_test_balanced)\n",
    "print(classification_report(Y2_test_balanced, Y_pred))"
   ]
  },
  {
   "cell_type": "markdown",
   "id": "fb700e92-f819-4342-8d56-39324e01c876",
   "metadata": {},
   "source": [
    "RF"
   ]
  },
  {
   "cell_type": "code",
   "execution_count": 71,
   "id": "27d40919-5f65-4758-9b7c-4d932f6e4b72",
   "metadata": {},
   "outputs": [
    {
     "name": "stdout",
     "output_type": "stream",
     "text": [
      "              precision    recall  f1-score   support\n",
      "\n",
      "           0       0.82      0.59      0.69       398\n",
      "           1       0.68      0.87      0.76       398\n",
      "\n",
      "    accuracy                           0.73       796\n",
      "   macro avg       0.75      0.73      0.73       796\n",
      "weighted avg       0.75      0.73      0.73       796\n",
      "\n"
     ]
    }
   ],
   "source": [
    "classifier = RandomForestClassifier(max_depth=3, random_state=0)\n",
    "\n",
    "classifier.fit(X2_train_balanced, Y2_train_balanced)\n",
    "# Predicting result\n",
    "Y_pred = classifier.predict(X2_test_balanced)\n",
    "print(classification_report(Y2_test_balanced, Y_pred))"
   ]
  },
  {
   "cell_type": "markdown",
   "id": "a38c5fd9-c134-44c9-8ab5-01897e43aefa",
   "metadata": {},
   "source": [
    "SVM"
   ]
  },
  {
   "cell_type": "code",
   "execution_count": 72,
   "id": "88d216af-5c76-472e-b1b8-56b4ee5097cc",
   "metadata": {},
   "outputs": [
    {
     "name": "stdout",
     "output_type": "stream",
     "text": [
      "              precision    recall  f1-score   support\n",
      "\n",
      "           0       0.81      0.60      0.69       398\n",
      "           1       0.68      0.86      0.76       398\n",
      "\n",
      "    accuracy                           0.73       796\n",
      "   macro avg       0.74      0.73      0.72       796\n",
      "weighted avg       0.74      0.73      0.72       796\n",
      "\n"
     ]
    }
   ],
   "source": [
    "from sklearn.svm import SVC\n",
    "classifier = SVC(kernel = 'rbf',random_state = 0)\n",
    "classifier.fit(X2_train_balanced, Y2_train_balanced)\n",
    "# Predicting result\n",
    "Y_pred = classifier.predict(X2_test_balanced)\n",
    "print(classification_report(Y2_test_balanced, Y_pred))"
   ]
  },
  {
   "cell_type": "code",
   "execution_count": null,
   "id": "a431698c-9c24-4202-aaa1-6e1851ef3f7d",
   "metadata": {},
   "outputs": [],
   "source": []
  },
  {
   "cell_type": "code",
   "execution_count": null,
   "id": "d4ced842-a82c-4876-92d6-ea16239e6269",
   "metadata": {},
   "outputs": [],
   "source": []
  },
  {
   "cell_type": "code",
   "execution_count": null,
   "id": "7d1772e3-082f-4ce5-828b-7730552a8d84",
   "metadata": {},
   "outputs": [],
   "source": []
  },
  {
   "cell_type": "code",
   "execution_count": null,
   "id": "fb8c512a-60ed-45ca-a677-61f98a7f256d",
   "metadata": {},
   "outputs": [],
   "source": []
  },
  {
   "cell_type": "code",
   "execution_count": null,
   "id": "efe02b86-689c-4dc4-928e-4afb1a94c89c",
   "metadata": {},
   "outputs": [],
   "source": []
  },
  {
   "cell_type": "code",
   "execution_count": null,
   "id": "b5477f68-e2eb-4766-95db-984f1f0ba95d",
   "metadata": {},
   "outputs": [],
   "source": []
  },
  {
   "cell_type": "code",
   "execution_count": null,
   "id": "8b070083-1f04-4797-aaf5-eff718bdbb19",
   "metadata": {},
   "outputs": [],
   "source": []
  },
  {
   "cell_type": "markdown",
   "id": "3bf8f267-9108-4a19-9c75-64e22ed3bd46",
   "metadata": {},
   "source": [
    "# X2"
   ]
  },
  {
   "cell_type": "markdown",
   "id": "a73e1f1b-e46c-4528-8722-6bea70941d35",
   "metadata": {},
   "source": [
    "X2_normalized\\\n",
    "X2_corela\\\n",
    "X2_tree\\\n",
    "\n",
    "*combine\\\n",
    "\n",
    "w/o balancing\\\n",
    "over sample\\\n",
    "under sample\\\n",
    "\n",
    "*combine\\\n",
    "\n",
    "LR\\\n",
    "NB\\\n",
    "RF\\\n",
    "SVM\\"
   ]
  },
  {
   "cell_type": "markdown",
   "id": "dac6d77a-3247-4587-a3fe-31a68010b820",
   "metadata": {},
   "source": [
    "## X2_normalized"
   ]
  },
  {
   "cell_type": "markdown",
   "id": "d5ce9836-2f3b-4aa6-a982-c610738b323f",
   "metadata": {},
   "source": [
    "### Split the training set and testing set"
   ]
  },
  {
   "cell_type": "code",
   "execution_count": 45,
   "id": "a63a8887-b5b5-405a-ae39-4ed82f012d3e",
   "metadata": {},
   "outputs": [],
   "source": [
    "from sklearn.model_selection import train_test_split"
   ]
  },
  {
   "cell_type": "code",
   "execution_count": 73,
   "id": "82be5a74-603e-45f3-8f88-ef6d729bcefd",
   "metadata": {},
   "outputs": [],
   "source": [
    "# split the data in 70:30 for train:test dataset\n",
    "X_train, X_test, Y_train, Y_test = train_test_split(X2_normalized, Y, test_size = 0.3, random_state = 2, stratify = Y)"
   ]
  },
  {
   "cell_type": "markdown",
   "id": "3540bf28-d4b8-417d-a67f-de0ca6dba8b2",
   "metadata": {},
   "source": [
    "## Without balancing"
   ]
  },
  {
   "cell_type": "code",
   "execution_count": 74,
   "id": "afe1af92-ffe6-4517-a4ac-03bd970bbc01",
   "metadata": {},
   "outputs": [
    {
     "name": "stdout",
     "output_type": "stream",
     "text": [
      "Training target statistics: Counter({0: 5308, 1: 930})\n",
      "Testing target statistics: Counter({0: 2276, 1: 398})\n"
     ]
    }
   ],
   "source": [
    "from collections import Counter\n",
    "print(f\"Training target statistics: {Counter(Y_train)}\")\n",
    "print(f\"Testing target statistics: {Counter(Y_test)}\")"
   ]
  },
  {
   "cell_type": "markdown",
   "id": "ce101efa-3175-42a8-b1bd-129433ca7778",
   "metadata": {},
   "source": [
    "#### Applying Logistic Regression"
   ]
  },
  {
   "cell_type": "code",
   "execution_count": 75,
   "id": "37c6a133-eb58-44a1-8623-4f6fe2f9f793",
   "metadata": {},
   "outputs": [
    {
     "name": "stdout",
     "output_type": "stream",
     "text": [
      "              precision    recall  f1-score   support\n",
      "\n",
      "           0       0.89      0.98      0.93      2276\n",
      "           1       0.74      0.32      0.45       398\n",
      "\n",
      "    accuracy                           0.88      2674\n",
      "   macro avg       0.81      0.65      0.69      2674\n",
      "weighted avg       0.87      0.88      0.86      2674\n",
      "\n"
     ]
    }
   ],
   "source": [
    "# Fitting Logistic Regression to the training set\n",
    "from sklearn.linear_model import LogisticRegression\n",
    "classifier = LogisticRegression(random_state = 0, max_iter=1000)\n",
    "classifier.fit(X_train, Y_train)\n",
    "\n",
    "# Predicting result on test set\n",
    "Y_pred = classifier.predict(X_test)\n",
    "\n",
    "# Report on prediction\n",
    "from sklearn.metrics import classification_report\n",
    "print(classification_report(Y_test, Y_pred))"
   ]
  },
  {
   "cell_type": "code",
   "execution_count": 76,
   "id": "c91ca527-71dd-46d0-9af8-35e628013b9b",
   "metadata": {},
   "outputs": [
    {
     "data": {
      "text/plain": [
       "<AxesSubplot:>"
      ]
     },
     "execution_count": 76,
     "metadata": {},
     "output_type": "execute_result"
    },
    {
     "data": {
      "image/png": "[encoded data removed]",
      "text/plain": [
       "<Figure size 432x288 with 2 Axes>"
      ]
     },
     "metadata": {
      "needs_background": "light"
     },
     "output_type": "display_data"
    }
   ],
   "source": [
    "# Making the Confusion Matrix\n",
    "from sklearn.metrics import confusion_matrix, classification_report\n",
    "cm = confusion_matrix(Y_test, Y_pred)\n",
    "sns.heatmap(cm, annot=True,fmt='d')"
   ]
  },
  {
   "cell_type": "code",
   "execution_count": 77,
   "id": "52128452-d9da-4eb0-8e85-5b70f55860ac",
   "metadata": {},
   "outputs": [
    {
     "name": "stdout",
     "output_type": "stream",
     "text": [
      "              precision    recall  f1-score   support\n",
      "\n",
      "           0       0.95      0.58      0.72      2276\n",
      "           1       0.26      0.82      0.39       398\n",
      "\n",
      "    accuracy                           0.62      2674\n",
      "   macro avg       0.60      0.70      0.56      2674\n",
      "weighted avg       0.85      0.62      0.67      2674\n",
      "\n"
     ]
    }
   ],
   "source": [
    "from sklearn.naive_bayes import GaussianNB\n",
    "\n",
    "classifier = GaussianNB()\n",
    "classifier.fit(X_train, Y_train)\n",
    "# Predicting result\n",
    "Y_pred = classifier.predict(X_test)\n",
    "print(classification_report(Y_test, Y_pred))"
   ]
  },
  {
   "cell_type": "markdown",
   "id": "2a6979d1-c0f8-4f5f-bb46-34ac02d1dd61",
   "metadata": {},
   "source": [
    "### Random Forest"
   ]
  },
  {
   "cell_type": "code",
   "execution_count": 78,
   "id": "d4c0ab04-4621-4b67-9797-904186524c12",
   "metadata": {},
   "outputs": [
    {
     "name": "stdout",
     "output_type": "stream",
     "text": [
      "              precision    recall  f1-score   support\n",
      "\n",
      "           0       0.85      1.00      0.92      2276\n",
      "           1       1.00      0.00      0.01       398\n",
      "\n",
      "    accuracy                           0.85      2674\n",
      "   macro avg       0.93      0.50      0.46      2674\n",
      "weighted avg       0.87      0.85      0.78      2674\n",
      "\n"
     ]
    }
   ],
   "source": [
    "from sklearn.ensemble import RandomForestClassifier\n",
    "\n",
    "classifier = RandomForestClassifier(max_depth=2, random_state=0)\n",
    "\n",
    "classifier.fit(X_train, Y_train)\n",
    "# Predicting result\n",
    "Y_pred = classifier.predict(X_test)\n",
    "print(classification_report(Y_test, Y_pred))"
   ]
  },
  {
   "cell_type": "markdown",
   "id": "0d6fafee-46d0-4024-bb83-6294695e3e9d",
   "metadata": {},
   "source": [
    "### SVM"
   ]
  },
  {
   "cell_type": "code",
   "execution_count": 80,
   "id": "f04c80aa-740f-437b-a8a6-63969dbcfef0",
   "metadata": {},
   "outputs": [
    {
     "name": "stdout",
     "output_type": "stream",
     "text": [
      "              precision    recall  f1-score   support\n",
      "\n",
      "           0       0.88      0.99      0.93      2276\n",
      "           1       0.79      0.26      0.39       398\n",
      "\n",
      "    accuracy                           0.88      2674\n",
      "   macro avg       0.84      0.62      0.66      2674\n",
      "weighted avg       0.87      0.88      0.85      2674\n",
      "\n"
     ]
    }
   ],
   "source": [
    "from sklearn.svm import SVC\n",
    "classifier = SVC(kernel = 'rbf',random_state = 0)\n",
    "classifier.fit(X_train, Y_train)\n",
    "# Predicting result\n",
    "Y_pred = classifier.predict(X_test)\n",
    "print(classification_report(Y_test, Y_pred))"
   ]
  },
  {
   "cell_type": "markdown",
   "id": "fb012ee3-ebcb-40ec-a79a-3728ad92bd50",
   "metadata": {},
   "source": [
    "conclusion: since the data is lack of balance, the model is not reliable"
   ]
  },
  {
   "cell_type": "markdown",
   "id": "ba5d39c4-370f-4faf-aaef-ea52654e08f7",
   "metadata": {},
   "source": [
    "## With Balancing"
   ]
  },
  {
   "cell_type": "markdown",
   "id": "a86aff50-bb74-4730-8483-264de393def6",
   "metadata": {},
   "source": [
    "#### 1. Oversample the smallest class"
   ]
  },
  {
   "cell_type": "code",
   "execution_count": 81,
   "id": "074e2910-8325-45dd-84fb-c77e55612986",
   "metadata": {},
   "outputs": [
    {
     "name": "stdout",
     "output_type": "stream",
     "text": [
      "Training target statistics: Counter({0: 5308, 1: 5308})\n",
      "Testing target statistics: Counter({1: 2276, 0: 2276})\n"
     ]
    }
   ],
   "source": [
    "from imblearn.over_sampling import RandomOverSampler\n",
    "over_sampler = RandomOverSampler(random_state=42)\n",
    "X_train_balanced, Y_train_balanced = over_sampler.fit_resample(X_train, Y_train)\n",
    "X_test_balanced, Y_test_balanced = over_sampler.fit_resample(X_test, Y_test)\n",
    "print(f\"Training target statistics: {Counter(Y_train_balanced)}\")\n",
    "print(f\"Testing target statistics: {Counter(Y_test_balanced)}\")"
   ]
  },
  {
   "cell_type": "markdown",
   "id": "241c8975-37a1-4e37-b7e8-0f5e3a86e7e0",
   "metadata": {},
   "source": [
    "#### Applying Logistic Regression"
   ]
  },
  {
   "cell_type": "code",
   "execution_count": 150,
   "id": "d32f6e90-b0c2-4765-b8b7-46ac99cd059c",
   "metadata": {},
   "outputs": [
    {
     "name": "stdout",
     "output_type": "stream",
     "text": [
      "              precision    recall  f1-score   support\n",
      "\n",
      "           0       0.84      0.79      0.81      2276\n",
      "           1       0.80      0.85      0.82      2276\n",
      "\n",
      "    accuracy                           0.82      4552\n",
      "   macro avg       0.82      0.82      0.82      4552\n",
      "weighted avg       0.82      0.82      0.82      4552\n",
      "\n"
     ]
    }
   ],
   "source": [
    "# Fitting Logistic Regression to the training set\n",
    "from sklearn.linear_model import LogisticRegression\n",
    "classifier = LogisticRegression(random_state = 0, max_iter=1000)\n",
    "classifier.fit(X_train_balanced, Y_train_balanced)\n",
    "\n",
    "# Predicting result on test set\n",
    "Y_pred = classifier.predict(X_test_balanced)\n",
    "\n",
    "# Report on prediction\n",
    "from sklearn.metrics import classification_report\n",
    "print(classification_report(Y_test_balanced, Y_pred))"
   ]
  },
  {
   "cell_type": "code",
   "execution_count": 151,
   "id": "9514b050-256b-4ece-af2e-bcbaf2d28819",
   "metadata": {},
   "outputs": [
    {
     "data": {
      "text/plain": [
       "<AxesSubplot:>"
      ]
     },
     "execution_count": 151,
     "metadata": {},
     "output_type": "execute_result"
    },
    {
     "data": {
      "image/png": "[encoded data removed]",
      "text/plain": [
       "<Figure size 432x288 with 2 Axes>"
      ]
     },
     "metadata": {
      "needs_background": "light"
     },
     "output_type": "display_data"
    }
   ],
   "source": [
    "# Making the Confusion Matrix\n",
    "from sklearn.metrics import confusion_matrix, classification_report\n",
    "cm = confusion_matrix(Y_test_balanced, Y_pred)\n",
    "sns.heatmap(cm, annot=True,fmt='d')"
   ]
  },
  {
   "cell_type": "markdown",
   "id": "b04f8151-deba-4315-920d-d3d80fd845dd",
   "metadata": {},
   "source": [
    "#### Applying RandomForest"
   ]
  },
  {
   "cell_type": "code",
   "execution_count": 152,
   "id": "4e2faa01-42be-4ccf-8fbc-2e9c10e35421",
   "metadata": {},
   "outputs": [
    {
     "name": "stdout",
     "output_type": "stream",
     "text": [
      "              precision    recall  f1-score   support\n",
      "\n",
      "           0       0.90      0.71      0.80      2276\n",
      "           1       0.76      0.92      0.84      2276\n",
      "\n",
      "    accuracy                           0.82      4552\n",
      "   macro avg       0.83      0.82      0.82      4552\n",
      "weighted avg       0.83      0.82      0.82      4552\n",
      "\n"
     ]
    }
   ],
   "source": [
    "from sklearn.ensemble import RandomForestClassifier\n",
    "\n",
    "classifier = RandomForestClassifier(max_depth=3, random_state=0)\n",
    "\n",
    "classifier.fit(X_train_balanced, Y_train_balanced)\n",
    "# Predicting result\n",
    "Y_pred = classifier.predict(X_test_balanced)\n",
    "print(classification_report(Y_test_balanced, Y_pred))"
   ]
  },
  {
   "cell_type": "code",
   "execution_count": 153,
   "id": "1a6331bc-3c42-48c5-a6f0-22805ea7474a",
   "metadata": {},
   "outputs": [
    {
     "data": {
      "text/plain": [
       "<AxesSubplot:>"
      ]
     },
     "execution_count": 153,
     "metadata": {},
     "output_type": "execute_result"
    },
    {
     "data": {
      "image/png": "[encoded data removed]",
      "text/plain": [
       "<Figure size 432x288 with 2 Axes>"
      ]
     },
     "metadata": {
      "needs_background": "light"
     },
     "output_type": "display_data"
    }
   ],
   "source": [
    "cm = confusion_matrix(Y_test_balanced, Y_pred)\n",
    "sns.heatmap(cm, annot=True,fmt='d')"
   ]
  },
  {
   "cell_type": "markdown",
   "id": "8dc05d50-ca5e-4559-aa5e-b12fd97b5c6d",
   "metadata": {
    "tags": []
   },
   "source": [
    "#### Applying SVM"
   ]
  },
  {
   "cell_type": "code",
   "execution_count": 155,
   "id": "d63bd534-6445-454b-867c-b715313b0f67",
   "metadata": {},
   "outputs": [
    {
     "name": "stdout",
     "output_type": "stream",
     "text": [
      "              precision    recall  f1-score   support\n",
      "\n",
      "           0       0.86      0.76      0.81      2276\n",
      "           1       0.79      0.87      0.83      2276\n",
      "\n",
      "    accuracy                           0.82      4552\n",
      "   macro avg       0.82      0.82      0.82      4552\n",
      "weighted avg       0.82      0.82      0.82      4552\n",
      "\n"
     ]
    }
   ],
   "source": [
    "from sklearn.svm import SVC\n",
    "classifier = SVC(kernel = 'rbf',random_state = 0)\n",
    "classifier.fit(X_train_balanced, Y_train_balanced)\n",
    "# Predicting result\n",
    "Y_pred = classifier.predict(X_test_balanced)\n",
    "print(classification_report(Y_test_balanced, Y_pred))"
   ]
  },
  {
   "cell_type": "code",
   "execution_count": 156,
   "id": "43ace6f9-5aae-42fb-9794-e955280e11db",
   "metadata": {},
   "outputs": [
    {
     "data": {
      "image/png": "[encoded data removed]",
      "text/plain": [
       "<Figure size 432x288 with 2 Axes>"
      ]
     },
     "metadata": {
      "needs_background": "light"
     },
     "output_type": "display_data"
    }
   ],
   "source": [
    "cm = confusion_matrix(Y_test_balanced, Y_pred)\n",
    "ax = sns.heatmap(cm, annot=True,fmt='d')\n",
    "#ax.figure.savefig('graph/SVM_confusion.png')"
   ]
  },
  {
   "cell_type": "markdown",
   "id": "feb70a94-aca0-4558-8787-36a60dd0af78",
   "metadata": {},
   "source": [
    "#### Applying Naive Bayes"
   ]
  },
  {
   "cell_type": "code",
   "execution_count": 157,
   "id": "f1c96a7c-8b07-42ce-9576-f3c7b458f77a",
   "metadata": {},
   "outputs": [
    {
     "name": "stdout",
     "output_type": "stream",
     "text": [
      "              precision    recall  f1-score   support\n",
      "\n",
      "           0       0.85      0.43      0.58      2276\n",
      "           1       0.62      0.92      0.74      2276\n",
      "\n",
      "    accuracy                           0.68      4552\n",
      "   macro avg       0.74      0.68      0.66      4552\n",
      "weighted avg       0.74      0.68      0.66      4552\n",
      "\n"
     ]
    }
   ],
   "source": [
    "from sklearn.naive_bayes import GaussianNB\n",
    "\n",
    "classifier = GaussianNB()\n",
    "classifier.fit(X_train_balanced, Y_train_balanced)\n",
    "# Predicting result\n",
    "Y_pred = classifier.predict(X_test_balanced)\n",
    "print(classification_report(Y_test_balanced, Y_pred))"
   ]
  },
  {
   "cell_type": "code",
   "execution_count": 158,
   "id": "70d3d2b6-4cd7-4475-86e3-2366887d4d20",
   "metadata": {},
   "outputs": [
    {
     "data": {
      "image/png": "[encoded data removed]",
      "text/plain": [
       "<Figure size 432x288 with 2 Axes>"
      ]
     },
     "metadata": {
      "needs_background": "light"
     },
     "output_type": "display_data"
    }
   ],
   "source": [
    "cm = confusion_matrix(Y_test_balanced, Y_pred)\n",
    "ax = sns.heatmap(cm, annot=True,fmt='d')\n",
    "#ax.figure.savefig('graph/NB_confusion.png')"
   ]
  },
  {
   "cell_type": "markdown",
   "id": "c3c98b4c-a74f-491e-bdb9-09a67ca72ba7",
   "metadata": {},
   "source": [
    "#### 2. Undersample the larger class"
   ]
  },
  {
   "cell_type": "code",
   "execution_count": 159,
   "id": "901bf0c2-bfcd-43f8-9bd4-5c7be4ed1df6",
   "metadata": {},
   "outputs": [
    {
     "name": "stdout",
     "output_type": "stream",
     "text": [
      "Training target statistics: Counter({0: 930, 1: 930})\n",
      "Testing target statistics: Counter({0: 398, 1: 398})\n"
     ]
    }
   ],
   "source": [
    "from imblearn.under_sampling import RandomUnderSampler\n",
    "under_sampler = RandomUnderSampler(random_state=42)\n",
    "X2_train_balanced, Y2_train_balanced = under_sampler.fit_resample(X_train, Y_train)\n",
    "X2_test_balanced, Y2_test_balanced = under_sampler.fit_resample(X_test, Y_test)\n",
    "\n",
    "print(f\"Training target statistics: {Counter(Y2_train_balanced)}\")\n",
    "print(f\"Testing target statistics: {Counter(Y2_test_balanced)}\")"
   ]
  },
  {
   "cell_type": "markdown",
   "id": "e50398a7-82f9-4a44-889d-65bf1dac1839",
   "metadata": {},
   "source": [
    "Logistic"
   ]
  },
  {
   "cell_type": "code",
   "execution_count": 160,
   "id": "64dc3525-9c96-4103-8b94-7c931d362970",
   "metadata": {},
   "outputs": [
    {
     "name": "stdout",
     "output_type": "stream",
     "text": [
      "              precision    recall  f1-score   support\n",
      "\n",
      "           0       0.82      0.79      0.80       398\n",
      "           1       0.80      0.82      0.81       398\n",
      "\n",
      "    accuracy                           0.81       796\n",
      "   macro avg       0.81      0.81      0.81       796\n",
      "weighted avg       0.81      0.81      0.81       796\n",
      "\n"
     ]
    }
   ],
   "source": [
    "# Fitting Logistic Regression to the training set\n",
    "from sklearn.linear_model import LogisticRegression\n",
    "classifier = LogisticRegression(random_state = 0, max_iter=1000)\n",
    "classifier.fit(X2_train_balanced, Y2_train_balanced)\n",
    "\n",
    "# Predicting result on test set\n",
    "Y_pred = classifier.predict(X2_test_balanced)\n",
    "\n",
    "# Report on prediction\n",
    "from sklearn.metrics import classification_report\n",
    "print(classification_report(Y2_test_balanced, Y_pred))"
   ]
  },
  {
   "cell_type": "markdown",
   "id": "bdba0645-94ce-48ab-81df-1813e325dca1",
   "metadata": {},
   "source": [
    "tree"
   ]
  },
  {
   "cell_type": "code",
   "execution_count": 161,
   "id": "1b466f49-6df4-4ac3-a417-1f2a990c9ea5",
   "metadata": {},
   "outputs": [
    {
     "name": "stdout",
     "output_type": "stream",
     "text": [
      "              precision    recall  f1-score   support\n",
      "\n",
      "           0       0.78      0.80      0.79       398\n",
      "           1       0.80      0.78      0.79       398\n",
      "\n",
      "    accuracy                           0.79       796\n",
      "   macro avg       0.79      0.79      0.79       796\n",
      "weighted avg       0.79      0.79      0.79       796\n",
      "\n"
     ]
    }
   ],
   "source": [
    "classifier = tree.DecisionTreeClassifier()\n",
    "classifier.fit(X2_train_balanced, Y2_train_balanced)\n",
    "# Predicting result\n",
    "Y_pred = classifier.predict(X2_test_balanced)\n",
    "print(classification_report(Y2_test_balanced, Y_pred))"
   ]
  },
  {
   "cell_type": "markdown",
   "id": "157d5a4c-588d-4e9e-b62c-7bffe65bdc87",
   "metadata": {},
   "source": [
    "NB"
   ]
  },
  {
   "cell_type": "code",
   "execution_count": 162,
   "id": "1eae14a2-462b-4153-b091-36717e13a4a6",
   "metadata": {},
   "outputs": [
    {
     "name": "stdout",
     "output_type": "stream",
     "text": [
      "              precision    recall  f1-score   support\n",
      "\n",
      "           0       0.87      0.27      0.42       398\n",
      "           1       0.57      0.96      0.71       398\n",
      "\n",
      "    accuracy                           0.62       796\n",
      "   macro avg       0.72      0.62      0.57       796\n",
      "weighted avg       0.72      0.62      0.57       796\n",
      "\n"
     ]
    }
   ],
   "source": [
    "classifier = GaussianNB()\n",
    "classifier.fit(X2_train_balanced, Y2_train_balanced)\n",
    "# Predicting result\n",
    "Y_pred = classifier.predict(X2_test_balanced)\n",
    "print(classification_report(Y2_test_balanced, Y_pred))"
   ]
  },
  {
   "cell_type": "markdown",
   "id": "882c6e66-dce1-4da7-82b7-49e530b2804a",
   "metadata": {},
   "source": [
    "RF"
   ]
  },
  {
   "cell_type": "code",
   "execution_count": 163,
   "id": "b44a7dea-397d-42ca-819b-2d6d5ea4c01c",
   "metadata": {},
   "outputs": [
    {
     "name": "stdout",
     "output_type": "stream",
     "text": [
      "              precision    recall  f1-score   support\n",
      "\n",
      "           0       0.88      0.71      0.79       398\n",
      "           1       0.76      0.90      0.82       398\n",
      "\n",
      "    accuracy                           0.81       796\n",
      "   macro avg       0.82      0.81      0.80       796\n",
      "weighted avg       0.82      0.81      0.80       796\n",
      "\n"
     ]
    }
   ],
   "source": [
    "classifier = RandomForestClassifier(max_depth=3, random_state=0)\n",
    "\n",
    "classifier.fit(X2_train_balanced, Y2_train_balanced)\n",
    "# Predicting result\n",
    "Y_pred = classifier.predict(X2_test_balanced)\n",
    "print(classification_report(Y2_test_balanced, Y_pred))"
   ]
  },
  {
   "cell_type": "markdown",
   "id": "d9621d98-2823-4744-b255-682f840cca90",
   "metadata": {},
   "source": [
    "SVM"
   ]
  },
  {
   "cell_type": "code",
   "execution_count": 164,
   "id": "bcf0c055-5cc6-4f0e-82ee-187cb881bed5",
   "metadata": {},
   "outputs": [
    {
     "name": "stdout",
     "output_type": "stream",
     "text": [
      "              precision    recall  f1-score   support\n",
      "\n",
      "           0       0.85      0.74      0.79       398\n",
      "           1       0.77      0.87      0.82       398\n",
      "\n",
      "    accuracy                           0.80       796\n",
      "   macro avg       0.81      0.80      0.80       796\n",
      "weighted avg       0.81      0.80      0.80       796\n",
      "\n"
     ]
    }
   ],
   "source": [
    "from sklearn.svm import SVC\n",
    "classifier = SVC(kernel = 'rbf',random_state = 0)\n",
    "classifier.fit(X2_train_balanced, Y2_train_balanced)\n",
    "# Predicting result\n",
    "Y_pred = classifier.predict(X2_test_balanced)\n",
    "print(classification_report(Y2_test_balanced, Y_pred))"
   ]
  },
  {
   "cell_type": "code",
   "execution_count": null,
   "id": "85f01e10-75c6-42a3-8541-28c8c7ffda32",
   "metadata": {},
   "outputs": [],
   "source": []
  },
  {
   "cell_type": "code",
   "execution_count": null,
   "id": "441dc814-d7e3-4c57-8620-9cb10e7ad8b5",
   "metadata": {},
   "outputs": [],
   "source": []
  },
  {
   "cell_type": "code",
   "execution_count": null,
   "id": "78f33fa6-1cf9-4dd3-a830-b9b22f60e2b3",
   "metadata": {},
   "outputs": [],
   "source": []
  },
  {
   "cell_type": "code",
   "execution_count": null,
   "id": "bb5d10ef-8a0d-4427-8036-08466b2ab52a",
   "metadata": {},
   "outputs": [],
   "source": []
  },
  {
   "cell_type": "markdown",
   "id": "493e8493-3023-434b-985b-29e604ef8b83",
   "metadata": {},
   "source": [
    "## X2_corela"
   ]
  },
  {
   "cell_type": "markdown",
   "id": "02f0539f-095b-4ddd-b63d-bbd21f76aaa7",
   "metadata": {},
   "source": [
    "### Split the training set and testing set"
   ]
  },
  {
   "cell_type": "code",
   "execution_count": 165,
   "id": "a183c14c-3c75-4924-9457-6dcbc5f5d79d",
   "metadata": {},
   "outputs": [],
   "source": [
    "from sklearn.model_selection import train_test_split"
   ]
  },
  {
   "cell_type": "code",
   "execution_count": 82,
   "id": "8f4fce47-5aa9-442f-b61f-9aa749ed5bae",
   "metadata": {},
   "outputs": [],
   "source": [
    "# split the data in 70:30 for train:test dataset\n",
    "X_train, X_test, Y_train, Y_test = train_test_split(X2_corela, Y, test_size = 0.3, random_state = 2, stratify = Y)"
   ]
  },
  {
   "cell_type": "markdown",
   "id": "06f0cab7-3fe8-40da-8fe6-5640cd238db1",
   "metadata": {},
   "source": [
    "## Without balancing"
   ]
  },
  {
   "cell_type": "code",
   "execution_count": 83,
   "id": "166ac3b3-5bb2-4758-887d-5e36ef8cc490",
   "metadata": {},
   "outputs": [
    {
     "name": "stdout",
     "output_type": "stream",
     "text": [
      "Training target statistics: Counter({0: 5308, 1: 930})\n",
      "Testing target statistics: Counter({0: 2276, 1: 398})\n"
     ]
    }
   ],
   "source": [
    "from collections import Counter\n",
    "print(f\"Training target statistics: {Counter(Y_train)}\")\n",
    "print(f\"Testing target statistics: {Counter(Y_test)}\")"
   ]
  },
  {
   "cell_type": "markdown",
   "id": "a4052ed3-3ee2-404a-85fd-7f2a40cd37d4",
   "metadata": {},
   "source": [
    "#### Applying Logistic Regression"
   ]
  },
  {
   "cell_type": "code",
   "execution_count": 84,
   "id": "6b0cf2db-54ce-453f-adf4-1759ae63bd80",
   "metadata": {},
   "outputs": [
    {
     "name": "stdout",
     "output_type": "stream",
     "text": [
      "              precision    recall  f1-score   support\n",
      "\n",
      "           0       0.89      0.97      0.93      2276\n",
      "           1       0.62      0.30      0.40       398\n",
      "\n",
      "    accuracy                           0.87      2674\n",
      "   macro avg       0.75      0.63      0.66      2674\n",
      "weighted avg       0.85      0.87      0.85      2674\n",
      "\n"
     ]
    }
   ],
   "source": [
    "# Fitting Logistic Regression to the training set\n",
    "from sklearn.linear_model import LogisticRegression\n",
    "classifier = LogisticRegression(random_state = 0, max_iter=1000)\n",
    "classifier.fit(X_train, Y_train)\n",
    "\n",
    "# Predicting result on test set\n",
    "Y_pred = classifier.predict(X_test)\n",
    "\n",
    "# Report on prediction\n",
    "from sklearn.metrics import classification_report\n",
    "print(classification_report(Y_test, Y_pred))"
   ]
  },
  {
   "cell_type": "code",
   "execution_count": 85,
   "id": "8ff48959-2aca-4f4a-a13f-901d3098137c",
   "metadata": {},
   "outputs": [
    {
     "data": {
      "text/plain": [
       "<AxesSubplot:>"
      ]
     },
     "execution_count": 85,
     "metadata": {},
     "output_type": "execute_result"
    },
    {
     "data": {
      "image/png": "[encoded data removed]",
      "text/plain": [
       "<Figure size 432x288 with 2 Axes>"
      ]
     },
     "metadata": {
      "needs_background": "light"
     },
     "output_type": "display_data"
    }
   ],
   "source": [
    "# Making the Confusion Matrix\n",
    "from sklearn.metrics import confusion_matrix, classification_report\n",
    "cm = confusion_matrix(Y_test, Y_pred)\n",
    "sns.heatmap(cm, annot=True,fmt='d')"
   ]
  },
  {
   "cell_type": "code",
   "execution_count": 86,
   "id": "49278af4-6e53-45be-ade2-7db333fc5a32",
   "metadata": {},
   "outputs": [
    {
     "name": "stdout",
     "output_type": "stream",
     "text": [
      "              precision    recall  f1-score   support\n",
      "\n",
      "           0       0.89      0.93      0.91      2276\n",
      "           1       0.47      0.37      0.42       398\n",
      "\n",
      "    accuracy                           0.84      2674\n",
      "   macro avg       0.68      0.65      0.66      2674\n",
      "weighted avg       0.83      0.84      0.84      2674\n",
      "\n"
     ]
    }
   ],
   "source": [
    "from sklearn.naive_bayes import GaussianNB\n",
    "\n",
    "classifier = GaussianNB()\n",
    "classifier.fit(X_train, Y_train)\n",
    "# Predicting result\n",
    "Y_pred = classifier.predict(X_test)\n",
    "print(classification_report(Y_test, Y_pred))"
   ]
  },
  {
   "cell_type": "markdown",
   "id": "d2bdc17a-00e5-47dc-97a2-4026d56173f6",
   "metadata": {},
   "source": [
    "### Random Forest"
   ]
  },
  {
   "cell_type": "code",
   "execution_count": 87,
   "id": "ada55a33-38d0-4867-8dab-49faffc0b73b",
   "metadata": {},
   "outputs": [
    {
     "name": "stdout",
     "output_type": "stream",
     "text": [
      "              precision    recall  f1-score   support\n",
      "\n",
      "           0       0.85      1.00      0.92      2276\n",
      "           1       0.00      0.00      0.00       398\n",
      "\n",
      "    accuracy                           0.85      2674\n",
      "   macro avg       0.43      0.50      0.46      2674\n",
      "weighted avg       0.72      0.85      0.78      2674\n",
      "\n"
     ]
    },
    {
     "name": "stderr",
     "output_type": "stream",
     "text": [
      "/jupyter/.home/.local/lib/python3.8/site-packages/sklearn/metrics/_classification.py:1334: UndefinedMetricWarning: Precision and F-score are ill-defined and being set to 0.0 in labels with no predicted samples. Use `zero_division` parameter to control this behavior.\n",
      "  _warn_prf(average, modifier, msg_start, len(result))\n",
      "/jupyter/.home/.local/lib/python3.8/site-packages/sklearn/metrics/_classification.py:1334: UndefinedMetricWarning: Precision and F-score are ill-defined and being set to 0.0 in labels with no predicted samples. Use `zero_division` parameter to control this behavior.\n",
      "  _warn_prf(average, modifier, msg_start, len(result))\n",
      "/jupyter/.home/.local/lib/python3.8/site-packages/sklearn/metrics/_classification.py:1334: UndefinedMetricWarning: Precision and F-score are ill-defined and being set to 0.0 in labels with no predicted samples. Use `zero_division` parameter to control this behavior.\n",
      "  _warn_prf(average, modifier, msg_start, len(result))\n"
     ]
    }
   ],
   "source": [
    "from sklearn.ensemble import RandomForestClassifier\n",
    "\n",
    "classifier = RandomForestClassifier(max_depth=2, random_state=0)\n",
    "\n",
    "classifier.fit(X_train, Y_train)\n",
    "# Predicting result\n",
    "Y_pred = classifier.predict(X_test)\n",
    "print(classification_report(Y_test, Y_pred))"
   ]
  },
  {
   "cell_type": "markdown",
   "id": "04b051c3-8f29-4d52-a192-6af0b2aa658b",
   "metadata": {},
   "source": [
    "### SVM"
   ]
  },
  {
   "cell_type": "code",
   "execution_count": 88,
   "id": "98272a35-b606-4594-a51c-17abda1a8abf",
   "metadata": {},
   "outputs": [
    {
     "name": "stdout",
     "output_type": "stream",
     "text": [
      "              precision    recall  f1-score   support\n",
      "\n",
      "           0       0.88      0.99      0.93      2276\n",
      "           1       0.77      0.25      0.38       398\n",
      "\n",
      "    accuracy                           0.88      2674\n",
      "   macro avg       0.83      0.62      0.66      2674\n",
      "weighted avg       0.87      0.88      0.85      2674\n",
      "\n"
     ]
    }
   ],
   "source": [
    "from sklearn.svm import SVC\n",
    "classifier = SVC(kernel = 'rbf',random_state = 0)\n",
    "classifier.fit(X_train, Y_train)\n",
    "# Predicting result\n",
    "Y_pred = classifier.predict(X_test)\n",
    "print(classification_report(Y_test, Y_pred))"
   ]
  },
  {
   "cell_type": "markdown",
   "id": "9ee07682-89a5-4064-883c-e2e0284c77cd",
   "metadata": {},
   "source": [
    "conclusion: since the data is lack of balance, the model is not reliable"
   ]
  },
  {
   "cell_type": "markdown",
   "id": "1feafbe5-4e83-4325-bbcb-3b7310ee1f93",
   "metadata": {},
   "source": [
    "## With Balancing"
   ]
  },
  {
   "cell_type": "markdown",
   "id": "22dfe628-d616-484a-8d2a-ff578922432c",
   "metadata": {},
   "source": [
    "#### 1. Oversample the smallest class"
   ]
  },
  {
   "cell_type": "code",
   "execution_count": null,
   "id": "cea05d35-97d2-4928-af13-4527fa679c1b",
   "metadata": {},
   "outputs": [],
   "source": [
    "from imblearn.over_sampling import RandomOverSampler\n",
    "over_sampler = RandomOverSampler(random_state=42)\n",
    "X_train_balanced, Y_train_balanced = over_sampler.fit_resample(X_train, Y_train)\n",
    "X_test_balanced, Y_test_balanced = over_sampler.fit_resample(X_test, Y_test)\n",
    "print(f\"Training target statistics: {Counter(Y_train_balanced)}\")\n",
    "print(f\"Testing target statistics: {Counter(Y_test_balanced)}\")"
   ]
  },
  {
   "cell_type": "markdown",
   "id": "e9be932f-d678-4800-8b57-3e4720817570",
   "metadata": {},
   "source": [
    "#### Applying Logistic Regression"
   ]
  },
  {
   "cell_type": "code",
   "execution_count": 173,
   "id": "35e47318-2db8-496a-a895-a90e621aa21c",
   "metadata": {},
   "outputs": [
    {
     "name": "stdout",
     "output_type": "stream",
     "text": [
      "              precision    recall  f1-score   support\n",
      "\n",
      "           0       0.84      0.79      0.81      2276\n",
      "           1       0.80      0.85      0.82      2276\n",
      "\n",
      "    accuracy                           0.82      4552\n",
      "   macro avg       0.82      0.82      0.82      4552\n",
      "weighted avg       0.82      0.82      0.82      4552\n",
      "\n"
     ]
    }
   ],
   "source": [
    "# Fitting Logistic Regression to the training set\n",
    "from sklearn.linear_model import LogisticRegression\n",
    "classifier = LogisticRegression(random_state = 0, max_iter=1000)\n",
    "classifier.fit(X_train_balanced, Y_train_balanced)\n",
    "\n",
    "# Predicting result on test set\n",
    "Y_pred = classifier.predict(X_test_balanced)\n",
    "\n",
    "# Report on prediction\n",
    "from sklearn.metrics import classification_report\n",
    "print(classification_report(Y_test_balanced, Y_pred))"
   ]
  },
  {
   "cell_type": "code",
   "execution_count": 174,
   "id": "9b3b904d-9402-495f-9d25-be48a3780fc6",
   "metadata": {},
   "outputs": [
    {
     "data": {
      "text/plain": [
       "<AxesSubplot:>"
      ]
     },
     "execution_count": 174,
     "metadata": {},
     "output_type": "execute_result"
    },
    {
     "data": {
      "image/png": "[encoded data removed]",
      "text/plain": [
       "<Figure size 432x288 with 2 Axes>"
      ]
     },
     "metadata": {
      "needs_background": "light"
     },
     "output_type": "display_data"
    }
   ],
   "source": [
    "# Making the Confusion Matrix\n",
    "from sklearn.metrics import confusion_matrix, classification_report\n",
    "cm = confusion_matrix(Y_test_balanced, Y_pred)\n",
    "sns.heatmap(cm, annot=True,fmt='d')"
   ]
  },
  {
   "cell_type": "markdown",
   "id": "acd4c82d-7bf5-477b-a9c1-4d7b824d0c32",
   "metadata": {},
   "source": [
    "#### Applying RandomForest"
   ]
  },
  {
   "cell_type": "code",
   "execution_count": 175,
   "id": "c3a2db1d-9662-47b7-9084-a04fff645934",
   "metadata": {},
   "outputs": [
    {
     "name": "stdout",
     "output_type": "stream",
     "text": [
      "              precision    recall  f1-score   support\n",
      "\n",
      "           0       0.90      0.71      0.80      2276\n",
      "           1       0.76      0.92      0.84      2276\n",
      "\n",
      "    accuracy                           0.82      4552\n",
      "   macro avg       0.83      0.82      0.82      4552\n",
      "weighted avg       0.83      0.82      0.82      4552\n",
      "\n"
     ]
    }
   ],
   "source": [
    "from sklearn.ensemble import RandomForestClassifier\n",
    "\n",
    "classifier = RandomForestClassifier(max_depth=3, random_state=0)\n",
    "\n",
    "classifier.fit(X_train_balanced, Y_train_balanced)\n",
    "# Predicting result\n",
    "Y_pred = classifier.predict(X_test_balanced)\n",
    "print(classification_report(Y_test_balanced, Y_pred))"
   ]
  },
  {
   "cell_type": "code",
   "execution_count": 176,
   "id": "6ab6457c-bd7c-4758-9c70-0a7c738bf595",
   "metadata": {},
   "outputs": [
    {
     "data": {
      "text/plain": [
       "<AxesSubplot:>"
      ]
     },
     "execution_count": 176,
     "metadata": {},
     "output_type": "execute_result"
    },
    {
     "data": {
      "image/png": "[encoded data removed]",
      "text/plain": [
       "<Figure size 432x288 with 2 Axes>"
      ]
     },
     "metadata": {
      "needs_background": "light"
     },
     "output_type": "display_data"
    }
   ],
   "source": [
    "cm = confusion_matrix(Y_test_balanced, Y_pred)\n",
    "sns.heatmap(cm, annot=True,fmt='d')"
   ]
  },
  {
   "cell_type": "markdown",
   "id": "ba6c98d4-b052-4b68-bd4f-92086faa16bf",
   "metadata": {
    "tags": []
   },
   "source": [
    "#### Applying SVM"
   ]
  },
  {
   "cell_type": "code",
   "execution_count": 178,
   "id": "7514288c-ba46-4406-8730-502954e3e6d1",
   "metadata": {},
   "outputs": [
    {
     "name": "stdout",
     "output_type": "stream",
     "text": [
      "              precision    recall  f1-score   support\n",
      "\n",
      "           0       0.86      0.76      0.81      2276\n",
      "           1       0.79      0.87      0.83      2276\n",
      "\n",
      "    accuracy                           0.82      4552\n",
      "   macro avg       0.82      0.82      0.82      4552\n",
      "weighted avg       0.82      0.82      0.82      4552\n",
      "\n"
     ]
    }
   ],
   "source": [
    "from sklearn.svm import SVC\n",
    "classifier = SVC(kernel = 'rbf',random_state = 0)\n",
    "classifier.fit(X_train_balanced, Y_train_balanced)\n",
    "# Predicting result\n",
    "Y_pred = classifier.predict(X_test_balanced)\n",
    "print(classification_report(Y_test_balanced, Y_pred))"
   ]
  },
  {
   "cell_type": "code",
   "execution_count": 179,
   "id": "d5741a66-2e5f-43ee-9281-ce720bc8a74a",
   "metadata": {},
   "outputs": [
    {
     "data": {
      "image/png": "[encoded data removed]",
      "text/plain": [
       "<Figure size 432x288 with 2 Axes>"
      ]
     },
     "metadata": {
      "needs_background": "light"
     },
     "output_type": "display_data"
    }
   ],
   "source": [
    "cm = confusion_matrix(Y_test_balanced, Y_pred)\n",
    "ax = sns.heatmap(cm, annot=True,fmt='d')\n",
    "#ax.figure.savefig('graph/SVM_confusion.png')"
   ]
  },
  {
   "cell_type": "markdown",
   "id": "7fc370e9-7304-4e50-b3fb-548afabf0df3",
   "metadata": {},
   "source": [
    "#### Applying Naive Bayes"
   ]
  },
  {
   "cell_type": "code",
   "execution_count": 180,
   "id": "d8ce6d01-10f9-416d-8830-c55be7da7922",
   "metadata": {},
   "outputs": [
    {
     "name": "stdout",
     "output_type": "stream",
     "text": [
      "              precision    recall  f1-score   support\n",
      "\n",
      "           0       0.85      0.43      0.58      2276\n",
      "           1       0.62      0.92      0.74      2276\n",
      "\n",
      "    accuracy                           0.68      4552\n",
      "   macro avg       0.74      0.68      0.66      4552\n",
      "weighted avg       0.74      0.68      0.66      4552\n",
      "\n"
     ]
    }
   ],
   "source": [
    "from sklearn.naive_bayes import GaussianNB\n",
    "\n",
    "classifier = GaussianNB()\n",
    "classifier.fit(X_train_balanced, Y_train_balanced)\n",
    "# Predicting result\n",
    "Y_pred = classifier.predict(X_test_balanced)\n",
    "print(classification_report(Y_test_balanced, Y_pred))"
   ]
  },
  {
   "cell_type": "code",
   "execution_count": 181,
   "id": "e85615eb-da5f-44e9-ac51-678e0ad1f6c3",
   "metadata": {},
   "outputs": [
    {
     "data": {
      "image/png": "[encoded data removed]",
      "text/plain": [
       "<Figure size 432x288 with 2 Axes>"
      ]
     },
     "metadata": {
      "needs_background": "light"
     },
     "output_type": "display_data"
    }
   ],
   "source": [
    "cm = confusion_matrix(Y_test_balanced, Y_pred)\n",
    "ax = sns.heatmap(cm, annot=True,fmt='d')\n",
    "#ax.figure.savefig('graph/NB_confusion.png')"
   ]
  },
  {
   "cell_type": "markdown",
   "id": "02e78c15-6419-423f-8dc1-bcc3467ec3cc",
   "metadata": {},
   "source": [
    "#### 2. Undersample the larger class"
   ]
  },
  {
   "cell_type": "code",
   "execution_count": 182,
   "id": "9014ff11-f08d-4ec3-be02-5f5011ea1818",
   "metadata": {},
   "outputs": [
    {
     "name": "stdout",
     "output_type": "stream",
     "text": [
      "Training target statistics: Counter({0: 930, 1: 930})\n",
      "Testing target statistics: Counter({0: 398, 1: 398})\n"
     ]
    }
   ],
   "source": [
    "from imblearn.under_sampling import RandomUnderSampler\n",
    "under_sampler = RandomUnderSampler(random_state=42)\n",
    "X2_train_balanced, Y2_train_balanced = under_sampler.fit_resample(X_train, Y_train)\n",
    "X2_test_balanced, Y2_test_balanced = under_sampler.fit_resample(X_test, Y_test)\n",
    "\n",
    "print(f\"Training target statistics: {Counter(Y2_train_balanced)}\")\n",
    "print(f\"Testing target statistics: {Counter(Y2_test_balanced)}\")"
   ]
  },
  {
   "cell_type": "markdown",
   "id": "b06b3b0f-5311-4d4a-b1cd-6934caeee0c3",
   "metadata": {},
   "source": [
    "Logistic"
   ]
  },
  {
   "cell_type": "code",
   "execution_count": 183,
   "id": "672f40a8-2214-4958-9506-cc49c09d1d37",
   "metadata": {},
   "outputs": [
    {
     "name": "stdout",
     "output_type": "stream",
     "text": [
      "              precision    recall  f1-score   support\n",
      "\n",
      "           0       0.78      0.80      0.79       398\n",
      "           1       0.80      0.77      0.79       398\n",
      "\n",
      "    accuracy                           0.79       796\n",
      "   macro avg       0.79      0.79      0.79       796\n",
      "weighted avg       0.79      0.79      0.79       796\n",
      "\n"
     ]
    }
   ],
   "source": [
    "# Fitting Logistic Regression to the training set\n",
    "from sklearn.linear_model import LogisticRegression\n",
    "classifier = LogisticRegression(random_state = 0, max_iter=1000)\n",
    "classifier.fit(X2_train_balanced, Y2_train_balanced)\n",
    "\n",
    "# Predicting result on test set\n",
    "Y_pred = classifier.predict(X2_test_balanced)\n",
    "\n",
    "# Report on prediction\n",
    "from sklearn.metrics import classification_report\n",
    "print(classification_report(Y2_test_balanced, Y_pred))"
   ]
  },
  {
   "cell_type": "markdown",
   "id": "cfd5da95-6010-47d6-b6ac-4abd45652a66",
   "metadata": {},
   "source": [
    "tree"
   ]
  },
  {
   "cell_type": "code",
   "execution_count": 184,
   "id": "508e8e5c-359b-43b0-b937-3b1845380779",
   "metadata": {},
   "outputs": [
    {
     "name": "stdout",
     "output_type": "stream",
     "text": [
      "              precision    recall  f1-score   support\n",
      "\n",
      "           0       0.74      0.79      0.76       398\n",
      "           1       0.77      0.72      0.74       398\n",
      "\n",
      "    accuracy                           0.75       796\n",
      "   macro avg       0.75      0.75      0.75       796\n",
      "weighted avg       0.75      0.75      0.75       796\n",
      "\n"
     ]
    }
   ],
   "source": [
    "classifier = tree.DecisionTreeClassifier()\n",
    "classifier.fit(X2_train_balanced, Y2_train_balanced)\n",
    "# Predicting result\n",
    "Y_pred = classifier.predict(X2_test_balanced)\n",
    "print(classification_report(Y2_test_balanced, Y_pred))"
   ]
  },
  {
   "cell_type": "markdown",
   "id": "d89cde5e-3254-4939-9d6b-8ca9246e6f7d",
   "metadata": {},
   "source": [
    "NB"
   ]
  },
  {
   "cell_type": "code",
   "execution_count": 185,
   "id": "674cd85c-0d29-407e-9d87-bbb75a8db030",
   "metadata": {},
   "outputs": [
    {
     "name": "stdout",
     "output_type": "stream",
     "text": [
      "              precision    recall  f1-score   support\n",
      "\n",
      "           0       0.61      0.91      0.73       398\n",
      "           1       0.82      0.41      0.54       398\n",
      "\n",
      "    accuracy                           0.66       796\n",
      "   macro avg       0.71      0.66      0.64       796\n",
      "weighted avg       0.71      0.66      0.64       796\n",
      "\n"
     ]
    }
   ],
   "source": [
    "classifier = GaussianNB()\n",
    "classifier.fit(X2_train_balanced, Y2_train_balanced)\n",
    "# Predicting result\n",
    "Y_pred = classifier.predict(X2_test_balanced)\n",
    "print(classification_report(Y2_test_balanced, Y_pred))"
   ]
  },
  {
   "cell_type": "markdown",
   "id": "80d31ed5-7176-4ee7-8012-c28c314ce4f0",
   "metadata": {},
   "source": [
    "RF"
   ]
  },
  {
   "cell_type": "code",
   "execution_count": 186,
   "id": "fc34ee4d-5fbf-45f7-97b8-ab14a35c9dac",
   "metadata": {},
   "outputs": [
    {
     "name": "stdout",
     "output_type": "stream",
     "text": [
      "              precision    recall  f1-score   support\n",
      "\n",
      "           0       0.89      0.68      0.77       398\n",
      "           1       0.74      0.91      0.82       398\n",
      "\n",
      "    accuracy                           0.80       796\n",
      "   macro avg       0.81      0.80      0.79       796\n",
      "weighted avg       0.81      0.80      0.79       796\n",
      "\n"
     ]
    }
   ],
   "source": [
    "classifier = RandomForestClassifier(max_depth=3, random_state=0)\n",
    "\n",
    "classifier.fit(X2_train_balanced, Y2_train_balanced)\n",
    "# Predicting result\n",
    "Y_pred = classifier.predict(X2_test_balanced)\n",
    "print(classification_report(Y2_test_balanced, Y_pred))"
   ]
  },
  {
   "cell_type": "markdown",
   "id": "60abc21c-630e-470e-a5fb-b3a62de3d2ad",
   "metadata": {},
   "source": [
    "SVM"
   ]
  },
  {
   "cell_type": "code",
   "execution_count": 187,
   "id": "bda8968c-d4d8-454b-b519-03444e9274b3",
   "metadata": {},
   "outputs": [
    {
     "name": "stdout",
     "output_type": "stream",
     "text": [
      "              precision    recall  f1-score   support\n",
      "\n",
      "           0       0.87      0.70      0.78       398\n",
      "           1       0.75      0.90      0.82       398\n",
      "\n",
      "    accuracy                           0.80       796\n",
      "   macro avg       0.81      0.80      0.80       796\n",
      "weighted avg       0.81      0.80      0.80       796\n",
      "\n"
     ]
    }
   ],
   "source": [
    "from sklearn.svm import SVC\n",
    "classifier = SVC(kernel = 'rbf',random_state = 0)\n",
    "classifier.fit(X2_train_balanced, Y2_train_balanced)\n",
    "# Predicting result\n",
    "Y_pred = classifier.predict(X2_test_balanced)\n",
    "print(classification_report(Y2_test_balanced, Y_pred))"
   ]
  },
  {
   "cell_type": "code",
   "execution_count": null,
   "id": "e73e7bfb-189d-4caa-9980-25b83d808bd4",
   "metadata": {},
   "outputs": [],
   "source": []
  },
  {
   "cell_type": "code",
   "execution_count": null,
   "id": "37a60cbc-087e-47c3-bf13-d7d2e7632640",
   "metadata": {},
   "outputs": [],
   "source": []
  },
  {
   "cell_type": "code",
   "execution_count": null,
   "id": "da1dd327-1e0b-441f-af31-d45f94629ad4",
   "metadata": {},
   "outputs": [],
   "source": []
  },
  {
   "cell_type": "markdown",
   "id": "4f6ca946-e022-4417-a5e7-25bfd3b76040",
   "metadata": {},
   "source": [
    "## X2_tree"
   ]
  },
  {
   "cell_type": "markdown",
   "id": "06f81ae8-0191-42c3-a0ae-929f9bf030c3",
   "metadata": {},
   "source": [
    "### Split the training set and testing set"
   ]
  },
  {
   "cell_type": "code",
   "execution_count": 188,
   "id": "994d40e3-3185-4378-a009-49867b6a72d5",
   "metadata": {},
   "outputs": [],
   "source": [
    "from sklearn.model_selection import train_test_split"
   ]
  },
  {
   "cell_type": "code",
   "execution_count": 89,
   "id": "829c9192-4ed2-4d59-893f-727cb89df2cd",
   "metadata": {},
   "outputs": [],
   "source": [
    "# split the data in 70:30 for train:test dataset\n",
    "X_train, X_test, Y_train, Y_test = train_test_split(X2_tree, Y, test_size = 0.3, random_state = 2, stratify = Y)"
   ]
  },
  {
   "cell_type": "markdown",
   "id": "810a0258-eb62-4bf4-a1d2-f6df779fde9d",
   "metadata": {},
   "source": [
    "## Without balancing"
   ]
  },
  {
   "cell_type": "code",
   "execution_count": 90,
   "id": "cf1770ba-51a4-408b-9d9c-1d20ac14e8f2",
   "metadata": {},
   "outputs": [
    {
     "name": "stdout",
     "output_type": "stream",
     "text": [
      "Training target statistics: Counter({0: 5308, 1: 930})\n",
      "Testing target statistics: Counter({0: 2276, 1: 398})\n"
     ]
    }
   ],
   "source": [
    "from collections import Counter\n",
    "print(f\"Training target statistics: {Counter(Y_train)}\")\n",
    "print(f\"Testing target statistics: {Counter(Y_test)}\")"
   ]
  },
  {
   "cell_type": "markdown",
   "id": "d200af8b-20a8-4884-8168-eb1d37a182e2",
   "metadata": {},
   "source": [
    "#### Applying Logistic Regression"
   ]
  },
  {
   "cell_type": "code",
   "execution_count": 91,
   "id": "29d5d013-b249-4edd-aea3-f15ef293ac4f",
   "metadata": {},
   "outputs": [
    {
     "name": "stdout",
     "output_type": "stream",
     "text": [
      "              precision    recall  f1-score   support\n",
      "\n",
      "           0       0.86      0.99      0.92      2276\n",
      "           1       0.43      0.06      0.10       398\n",
      "\n",
      "    accuracy                           0.85      2674\n",
      "   macro avg       0.65      0.52      0.51      2674\n",
      "weighted avg       0.79      0.85      0.80      2674\n",
      "\n"
     ]
    }
   ],
   "source": [
    "# Fitting Logistic Regression to the training set\n",
    "from sklearn.linear_model import LogisticRegression\n",
    "classifier = LogisticRegression(random_state = 0, max_iter=1000)\n",
    "classifier.fit(X_train, Y_train)\n",
    "\n",
    "# Predicting result on test set\n",
    "Y_pred = classifier.predict(X_test)\n",
    "\n",
    "# Report on prediction\n",
    "from sklearn.metrics import classification_report\n",
    "print(classification_report(Y_test, Y_pred))"
   ]
  },
  {
   "cell_type": "code",
   "execution_count": 92,
   "id": "c3cf1dd3-7c14-456b-b58c-87aa4f8ae259",
   "metadata": {},
   "outputs": [
    {
     "data": {
      "text/plain": [
       "<AxesSubplot:>"
      ]
     },
     "execution_count": 92,
     "metadata": {},
     "output_type": "execute_result"
    },
    {
     "data": {
      "image/png": "[encoded data removed]",
      "text/plain": [
       "<Figure size 432x288 with 2 Axes>"
      ]
     },
     "metadata": {
      "needs_background": "light"
     },
     "output_type": "display_data"
    }
   ],
   "source": [
    "# Making the Confusion Matrix\n",
    "from sklearn.metrics import confusion_matrix, classification_report\n",
    "cm = confusion_matrix(Y_test, Y_pred)\n",
    "sns.heatmap(cm, annot=True,fmt='d')"
   ]
  },
  {
   "cell_type": "code",
   "execution_count": 93,
   "id": "9bc3b59a-2093-476d-be38-97801f82ba82",
   "metadata": {},
   "outputs": [
    {
     "name": "stdout",
     "output_type": "stream",
     "text": [
      "              precision    recall  f1-score   support\n",
      "\n",
      "           0       0.88      0.89      0.88      2276\n",
      "           1       0.32      0.29      0.30       398\n",
      "\n",
      "    accuracy                           0.80      2674\n",
      "   macro avg       0.60      0.59      0.59      2674\n",
      "weighted avg       0.79      0.80      0.80      2674\n",
      "\n"
     ]
    }
   ],
   "source": [
    "from sklearn.naive_bayes import GaussianNB\n",
    "\n",
    "classifier = GaussianNB()\n",
    "classifier.fit(X_train, Y_train)\n",
    "# Predicting result\n",
    "Y_pred = classifier.predict(X_test)\n",
    "print(classification_report(Y_test, Y_pred))"
   ]
  },
  {
   "cell_type": "markdown",
   "id": "b4678a72-1cf5-4869-9630-60cd2e9f4f60",
   "metadata": {},
   "source": [
    "### Random Forest"
   ]
  },
  {
   "cell_type": "code",
   "execution_count": 94,
   "id": "5a4372c3-c04b-4b73-811d-a025fbbfc15c",
   "metadata": {},
   "outputs": [
    {
     "name": "stdout",
     "output_type": "stream",
     "text": [
      "              precision    recall  f1-score   support\n",
      "\n",
      "           0       0.85      1.00      0.92      2276\n",
      "           1       0.00      0.00      0.00       398\n",
      "\n",
      "    accuracy                           0.85      2674\n",
      "   macro avg       0.43      0.50      0.46      2674\n",
      "weighted avg       0.72      0.85      0.78      2674\n",
      "\n"
     ]
    },
    {
     "name": "stderr",
     "output_type": "stream",
     "text": [
      "/jupyter/.home/.local/lib/python3.8/site-packages/sklearn/metrics/_classification.py:1334: UndefinedMetricWarning: Precision and F-score are ill-defined and being set to 0.0 in labels with no predicted samples. Use `zero_division` parameter to control this behavior.\n",
      "  _warn_prf(average, modifier, msg_start, len(result))\n",
      "/jupyter/.home/.local/lib/python3.8/site-packages/sklearn/metrics/_classification.py:1334: UndefinedMetricWarning: Precision and F-score are ill-defined and being set to 0.0 in labels with no predicted samples. Use `zero_division` parameter to control this behavior.\n",
      "  _warn_prf(average, modifier, msg_start, len(result))\n",
      "/jupyter/.home/.local/lib/python3.8/site-packages/sklearn/metrics/_classification.py:1334: UndefinedMetricWarning: Precision and F-score are ill-defined and being set to 0.0 in labels with no predicted samples. Use `zero_division` parameter to control this behavior.\n",
      "  _warn_prf(average, modifier, msg_start, len(result))\n"
     ]
    }
   ],
   "source": [
    "from sklearn.ensemble import RandomForestClassifier\n",
    "\n",
    "classifier = RandomForestClassifier(max_depth=2, random_state=0)\n",
    "\n",
    "classifier.fit(X_train, Y_train)\n",
    "# Predicting result\n",
    "Y_pred = classifier.predict(X_test)\n",
    "print(classification_report(Y_test, Y_pred))"
   ]
  },
  {
   "cell_type": "markdown",
   "id": "1ea80cbe-761f-48ff-981b-6147d4c77887",
   "metadata": {},
   "source": [
    "### SVM"
   ]
  },
  {
   "cell_type": "code",
   "execution_count": 95,
   "id": "ad4b6d53-822b-4036-ae9d-43b4c0be1546",
   "metadata": {},
   "outputs": [
    {
     "name": "stdout",
     "output_type": "stream",
     "text": [
      "              precision    recall  f1-score   support\n",
      "\n",
      "           0       0.86      1.00      0.92      2276\n",
      "           1       0.73      0.06      0.10       398\n",
      "\n",
      "    accuracy                           0.86      2674\n",
      "   macro avg       0.80      0.53      0.51      2674\n",
      "weighted avg       0.84      0.86      0.80      2674\n",
      "\n"
     ]
    }
   ],
   "source": [
    "from sklearn.svm import SVC\n",
    "classifier = SVC(kernel = 'rbf',random_state = 0)\n",
    "classifier.fit(X_train, Y_train)\n",
    "# Predicting result\n",
    "Y_pred = classifier.predict(X_test)\n",
    "print(classification_report(Y_test, Y_pred))"
   ]
  },
  {
   "cell_type": "markdown",
   "id": "6a32e96a-d4b8-4b99-aca9-11806011004f",
   "metadata": {},
   "source": [
    "conclusion: since the data is lack of balance, the model is not reliable"
   ]
  },
  {
   "cell_type": "markdown",
   "id": "e46f6239-a7fe-4923-8e4f-0abd3494517d",
   "metadata": {},
   "source": [
    "## With Balancing"
   ]
  },
  {
   "cell_type": "markdown",
   "id": "45b7fb68-ab19-4f04-b599-72304ad0c30c",
   "metadata": {},
   "source": [
    "#### 1. Oversample the smallest class"
   ]
  },
  {
   "cell_type": "code",
   "execution_count": 196,
   "id": "00602433-7eb9-48be-bfc6-e3d612179e09",
   "metadata": {},
   "outputs": [
    {
     "name": "stdout",
     "output_type": "stream",
     "text": [
      "Training target statistics: Counter({0: 5308, 1: 5308})\n",
      "Testing target statistics: Counter({1: 2276, 0: 2276})\n"
     ]
    }
   ],
   "source": [
    "from imblearn.over_sampling import RandomOverSampler\n",
    "over_sampler = RandomOverSampler(random_state=42)\n",
    "X_train_balanced, Y_train_balanced = over_sampler.fit_resample(X_train, Y_train)\n",
    "X_test_balanced, Y_test_balanced = over_sampler.fit_resample(X_test, Y_test)\n",
    "print(f\"Training target statistics: {Counter(Y_train_balanced)}\")\n",
    "print(f\"Testing target statistics: {Counter(Y_test_balanced)}\")"
   ]
  },
  {
   "cell_type": "markdown",
   "id": "1697b0d7-3ec0-4a21-a0a0-b97d62775c63",
   "metadata": {},
   "source": [
    "#### Applying Logistic Regression"
   ]
  },
  {
   "cell_type": "code",
   "execution_count": 197,
   "id": "f4a313d5-82fa-4cbb-9fbf-9b9ca1441904",
   "metadata": {},
   "outputs": [
    {
     "name": "stdout",
     "output_type": "stream",
     "text": [
      "              precision    recall  f1-score   support\n",
      "\n",
      "           0       0.79      0.68      0.73      2276\n",
      "           1       0.72      0.82      0.77      2276\n",
      "\n",
      "    accuracy                           0.75      4552\n",
      "   macro avg       0.76      0.75      0.75      4552\n",
      "weighted avg       0.76      0.75      0.75      4552\n",
      "\n"
     ]
    }
   ],
   "source": [
    "# Fitting Logistic Regression to the training set\n",
    "from sklearn.linear_model import LogisticRegression\n",
    "classifier = LogisticRegression(random_state = 0, max_iter=1000)\n",
    "classifier.fit(X_train_balanced, Y_train_balanced)\n",
    "\n",
    "# Predicting result on test set\n",
    "Y_pred = classifier.predict(X_test_balanced)\n",
    "\n",
    "# Report on prediction\n",
    "from sklearn.metrics import classification_report\n",
    "print(classification_report(Y_test_balanced, Y_pred))"
   ]
  },
  {
   "cell_type": "code",
   "execution_count": 198,
   "id": "8102b98e-9926-43c8-a5ec-9a8589d97d6a",
   "metadata": {},
   "outputs": [
    {
     "data": {
      "text/plain": [
       "<AxesSubplot:>"
      ]
     },
     "execution_count": 198,
     "metadata": {},
     "output_type": "execute_result"
    },
    {
     "data": {
      "image/png": "[encoded data removed]",
      "text/plain": [
       "<Figure size 432x288 with 2 Axes>"
      ]
     },
     "metadata": {
      "needs_background": "light"
     },
     "output_type": "display_data"
    }
   ],
   "source": [
    "# Making the Confusion Matrix\n",
    "from sklearn.metrics import confusion_matrix, classification_report\n",
    "cm = confusion_matrix(Y_test_balanced, Y_pred)\n",
    "sns.heatmap(cm, annot=True,fmt='d')"
   ]
  },
  {
   "cell_type": "markdown",
   "id": "35f9a25f-0e1f-4a69-832f-e8f99f1fcdab",
   "metadata": {},
   "source": [
    "#### Applying RandomForest"
   ]
  },
  {
   "cell_type": "code",
   "execution_count": 199,
   "id": "7fb4225c-d1e6-48b6-8e00-a9da7284f397",
   "metadata": {},
   "outputs": [
    {
     "name": "stdout",
     "output_type": "stream",
     "text": [
      "              precision    recall  f1-score   support\n",
      "\n",
      "           0       0.84      0.65      0.73      2276\n",
      "           1       0.72      0.87      0.79      2276\n",
      "\n",
      "    accuracy                           0.76      4552\n",
      "   macro avg       0.78      0.76      0.76      4552\n",
      "weighted avg       0.78      0.76      0.76      4552\n",
      "\n"
     ]
    }
   ],
   "source": [
    "from sklearn.ensemble import RandomForestClassifier\n",
    "\n",
    "classifier = RandomForestClassifier(max_depth=3, random_state=0)\n",
    "\n",
    "classifier.fit(X_train_balanced, Y_train_balanced)\n",
    "# Predicting result\n",
    "Y_pred = classifier.predict(X_test_balanced)\n",
    "print(classification_report(Y_test_balanced, Y_pred))"
   ]
  },
  {
   "cell_type": "code",
   "execution_count": 200,
   "id": "61671d00-f0aa-45e7-a9b6-904f77a6d82a",
   "metadata": {},
   "outputs": [
    {
     "data": {
      "text/plain": [
       "<AxesSubplot:>"
      ]
     },
     "execution_count": 200,
     "metadata": {},
     "output_type": "execute_result"
    },
    {
     "data": {
      "image/png": "[encoded data removed]",
      "text/plain": [
       "<Figure size 432x288 with 2 Axes>"
      ]
     },
     "metadata": {
      "needs_background": "light"
     },
     "output_type": "display_data"
    }
   ],
   "source": [
    "cm = confusion_matrix(Y_test_balanced, Y_pred)\n",
    "sns.heatmap(cm, annot=True,fmt='d')"
   ]
  },
  {
   "cell_type": "markdown",
   "id": "a1f4e6bf-0887-4dce-973e-7589f723c8bb",
   "metadata": {
    "tags": []
   },
   "source": [
    "#### Applying SVM"
   ]
  },
  {
   "cell_type": "code",
   "execution_count": 202,
   "id": "2db6a736-d636-4e32-8a48-c55751a0bfab",
   "metadata": {},
   "outputs": [
    {
     "name": "stdout",
     "output_type": "stream",
     "text": [
      "              precision    recall  f1-score   support\n",
      "\n",
      "           0       0.84      0.62      0.71      2276\n",
      "           1       0.70      0.88      0.78      2276\n",
      "\n",
      "    accuracy                           0.75      4552\n",
      "   macro avg       0.77      0.75      0.75      4552\n",
      "weighted avg       0.77      0.75      0.75      4552\n",
      "\n"
     ]
    }
   ],
   "source": [
    "from sklearn.svm import SVC\n",
    "classifier = SVC(kernel = 'rbf',random_state = 0)\n",
    "classifier.fit(X_train_balanced, Y_train_balanced)\n",
    "# Predicting result\n",
    "Y_pred = classifier.predict(X_test_balanced)\n",
    "print(classification_report(Y_test_balanced, Y_pred))"
   ]
  },
  {
   "cell_type": "code",
   "execution_count": 203,
   "id": "9b5e625c-baed-44fc-a7ba-8bae284af182",
   "metadata": {},
   "outputs": [
    {
     "data": {
      "image/png": "[encoded data removed]",
      "text/plain": [
       "<Figure size 432x288 with 2 Axes>"
      ]
     },
     "metadata": {
      "needs_background": "light"
     },
     "output_type": "display_data"
    }
   ],
   "source": [
    "cm = confusion_matrix(Y_test_balanced, Y_pred)\n",
    "ax = sns.heatmap(cm, annot=True,fmt='d')\n",
    "#ax.figure.savefig('graph/SVM_confusion.png')"
   ]
  },
  {
   "cell_type": "markdown",
   "id": "e8470c1c-22d6-4d1b-b343-d914ae934af9",
   "metadata": {},
   "source": [
    "#### Applying Naive Bayes"
   ]
  },
  {
   "cell_type": "code",
   "execution_count": 204,
   "id": "46a51674-2699-447c-a589-23e47774257c",
   "metadata": {},
   "outputs": [
    {
     "name": "stdout",
     "output_type": "stream",
     "text": [
      "              precision    recall  f1-score   support\n",
      "\n",
      "           0       0.62      0.82      0.70      2276\n",
      "           1       0.73      0.49      0.58      2276\n",
      "\n",
      "    accuracy                           0.65      4552\n",
      "   macro avg       0.67      0.65      0.64      4552\n",
      "weighted avg       0.67      0.65      0.64      4552\n",
      "\n"
     ]
    }
   ],
   "source": [
    "from sklearn.naive_bayes import GaussianNB\n",
    "\n",
    "classifier = GaussianNB()\n",
    "classifier.fit(X_train_balanced, Y_train_balanced)\n",
    "# Predicting result\n",
    "Y_pred = classifier.predict(X_test_balanced)\n",
    "print(classification_report(Y_test_balanced, Y_pred))"
   ]
  },
  {
   "cell_type": "code",
   "execution_count": 205,
   "id": "124eda9d-0b7d-4302-a3fe-af3dedce4163",
   "metadata": {},
   "outputs": [
    {
     "data": {
      "image/png": "[encoded data removed]",
      "text/plain": [
       "<Figure size 432x288 with 2 Axes>"
      ]
     },
     "metadata": {
      "needs_background": "light"
     },
     "output_type": "display_data"
    }
   ],
   "source": [
    "cm = confusion_matrix(Y_test_balanced, Y_pred)\n",
    "ax = sns.heatmap(cm, annot=True,fmt='d')\n",
    "#ax.figure.savefig('graph/NB_confusion.png')"
   ]
  },
  {
   "cell_type": "markdown",
   "id": "bf05a97d-13c6-45bb-a643-86afbf94d66e",
   "metadata": {},
   "source": [
    "#### 2. Undersample the larger class"
   ]
  },
  {
   "cell_type": "code",
   "execution_count": 206,
   "id": "81c9abe0-6c36-4992-b74c-9071caf7c2c1",
   "metadata": {},
   "outputs": [
    {
     "name": "stdout",
     "output_type": "stream",
     "text": [
      "Training target statistics: Counter({0: 930, 1: 930})\n",
      "Testing target statistics: Counter({0: 398, 1: 398})\n"
     ]
    }
   ],
   "source": [
    "from imblearn.under_sampling import RandomUnderSampler\n",
    "under_sampler = RandomUnderSampler(random_state=42)\n",
    "X2_train_balanced, Y2_train_balanced = under_sampler.fit_resample(X_train, Y_train)\n",
    "X2_test_balanced, Y2_test_balanced = under_sampler.fit_resample(X_test, Y_test)\n",
    "\n",
    "print(f\"Training target statistics: {Counter(Y2_train_balanced)}\")\n",
    "print(f\"Testing target statistics: {Counter(Y2_test_balanced)}\")"
   ]
  },
  {
   "cell_type": "markdown",
   "id": "573a2de1-54da-4911-a695-0d21d747a25b",
   "metadata": {},
   "source": [
    "Logistic"
   ]
  },
  {
   "cell_type": "code",
   "execution_count": 207,
   "id": "1bb8ab88-51b4-47cf-b868-d846d57eecc4",
   "metadata": {},
   "outputs": [
    {
     "name": "stdout",
     "output_type": "stream",
     "text": [
      "              precision    recall  f1-score   support\n",
      "\n",
      "           0       0.75      0.65      0.70       398\n",
      "           1       0.69      0.79      0.74       398\n",
      "\n",
      "    accuracy                           0.72       796\n",
      "   macro avg       0.72      0.72      0.72       796\n",
      "weighted avg       0.72      0.72      0.72       796\n",
      "\n"
     ]
    }
   ],
   "source": [
    "# Fitting Logistic Regression to the training set\n",
    "from sklearn.linear_model import LogisticRegression\n",
    "classifier = LogisticRegression(random_state = 0, max_iter=1000)\n",
    "classifier.fit(X2_train_balanced, Y2_train_balanced)\n",
    "\n",
    "# Predicting result on test set\n",
    "Y_pred = classifier.predict(X2_test_balanced)\n",
    "\n",
    "# Report on prediction\n",
    "from sklearn.metrics import classification_report\n",
    "print(classification_report(Y2_test_balanced, Y_pred))"
   ]
  },
  {
   "cell_type": "markdown",
   "id": "ef75c0db-6157-4c61-8cd3-d9ae81e7375f",
   "metadata": {},
   "source": [
    "tree"
   ]
  },
  {
   "cell_type": "code",
   "execution_count": 208,
   "id": "b621f6a9-1840-462e-ab45-0bc5ab444a9e",
   "metadata": {},
   "outputs": [
    {
     "name": "stdout",
     "output_type": "stream",
     "text": [
      "              precision    recall  f1-score   support\n",
      "\n",
      "           0       0.73      0.70      0.71       398\n",
      "           1       0.71      0.75      0.73       398\n",
      "\n",
      "    accuracy                           0.72       796\n",
      "   macro avg       0.72      0.72      0.72       796\n",
      "weighted avg       0.72      0.72      0.72       796\n",
      "\n"
     ]
    }
   ],
   "source": [
    "classifier = tree.DecisionTreeClassifier()\n",
    "classifier.fit(X2_train_balanced, Y2_train_balanced)\n",
    "# Predicting result\n",
    "Y_pred = classifier.predict(X2_test_balanced)\n",
    "print(classification_report(Y2_test_balanced, Y_pred))"
   ]
  },
  {
   "cell_type": "markdown",
   "id": "5f7e5ec3-2c96-44b3-99e1-e25739e98142",
   "metadata": {},
   "source": [
    "NB"
   ]
  },
  {
   "cell_type": "code",
   "execution_count": 209,
   "id": "128b87bd-fcef-4b4b-8b22-0574d2701c92",
   "metadata": {},
   "outputs": [
    {
     "name": "stdout",
     "output_type": "stream",
     "text": [
      "              precision    recall  f1-score   support\n",
      "\n",
      "           0       0.62      0.81      0.70       398\n",
      "           1       0.73      0.52      0.60       398\n",
      "\n",
      "    accuracy                           0.66       796\n",
      "   macro avg       0.68      0.66      0.65       796\n",
      "weighted avg       0.68      0.66      0.65       796\n",
      "\n"
     ]
    }
   ],
   "source": [
    "classifier = GaussianNB()\n",
    "classifier.fit(X2_train_balanced, Y2_train_balanced)\n",
    "# Predicting result\n",
    "Y_pred = classifier.predict(X2_test_balanced)\n",
    "print(classification_report(Y2_test_balanced, Y_pred))"
   ]
  },
  {
   "cell_type": "markdown",
   "id": "b71b5998-8e4d-4034-b604-7d5b1ffbcf13",
   "metadata": {},
   "source": [
    "RF"
   ]
  },
  {
   "cell_type": "code",
   "execution_count": 210,
   "id": "ed5293a9-295f-41ec-b8a8-30956428c1fc",
   "metadata": {},
   "outputs": [
    {
     "name": "stdout",
     "output_type": "stream",
     "text": [
      "              precision    recall  f1-score   support\n",
      "\n",
      "           0       0.83      0.63      0.72       398\n",
      "           1       0.70      0.87      0.78       398\n",
      "\n",
      "    accuracy                           0.75       796\n",
      "   macro avg       0.77      0.75      0.75       796\n",
      "weighted avg       0.77      0.75      0.75       796\n",
      "\n"
     ]
    }
   ],
   "source": [
    "classifier = RandomForestClassifier(max_depth=3, random_state=0)\n",
    "\n",
    "classifier.fit(X2_train_balanced, Y2_train_balanced)\n",
    "# Predicting result\n",
    "Y_pred = classifier.predict(X2_test_balanced)\n",
    "print(classification_report(Y2_test_balanced, Y_pred))"
   ]
  },
  {
   "cell_type": "markdown",
   "id": "4c62da09-9326-47ba-82a2-1a960898189c",
   "metadata": {},
   "source": [
    "SVM"
   ]
  },
  {
   "cell_type": "code",
   "execution_count": 211,
   "id": "905a38ce-5795-45b9-90b6-c69e057e4c1b",
   "metadata": {},
   "outputs": [
    {
     "name": "stdout",
     "output_type": "stream",
     "text": [
      "              precision    recall  f1-score   support\n",
      "\n",
      "           0       0.81      0.60      0.69       398\n",
      "           1       0.68      0.86      0.76       398\n",
      "\n",
      "    accuracy                           0.73       796\n",
      "   macro avg       0.74      0.73      0.72       796\n",
      "weighted avg       0.74      0.73      0.72       796\n",
      "\n"
     ]
    }
   ],
   "source": [
    "from sklearn.svm import SVC\n",
    "classifier = SVC(kernel = 'rbf',random_state = 0)\n",
    "classifier.fit(X2_train_balanced, Y2_train_balanced)\n",
    "# Predicting result\n",
    "Y_pred = classifier.predict(X2_test_balanced)\n",
    "print(classification_report(Y2_test_balanced, Y_pred))"
   ]
  },
  {
   "cell_type": "code",
   "execution_count": null,
   "id": "c96865a1-af3c-4d0c-b9fe-2f5b335f336f",
   "metadata": {},
   "outputs": [],
   "source": []
  },
  {
   "cell_type": "code",
   "execution_count": null,
   "id": "4d41fca9-d084-48fa-ac65-c1551f7f2e82",
   "metadata": {},
   "outputs": [],
   "source": []
  },
  {
   "cell_type": "code",
   "execution_count": null,
   "id": "561a088d-91b9-4333-8a95-c5915713b9d0",
   "metadata": {},
   "outputs": [],
   "source": []
  },
  {
   "cell_type": "code",
   "execution_count": null,
   "id": "273543b8-47a9-40ab-baa6-6fcd61f05dd5",
   "metadata": {},
   "outputs": [],
   "source": []
  },
  {
   "cell_type": "code",
   "execution_count": null,
   "id": "40ef6e3e-ffce-4ad5-8a89-c777b8513693",
   "metadata": {},
   "outputs": [],
   "source": []
  },
  {
   "cell_type": "markdown",
   "id": "ab9184e9-bc8b-4525-8bee-a797b75d25d7",
   "metadata": {},
   "source": [
    "# X3"
   ]
  },
  {
   "cell_type": "markdown",
   "id": "d5b01170-ea74-4816-9372-7aa589dc98e8",
   "metadata": {},
   "source": [
    "X3_normalized\\\n",
    "X3_corela\\\n",
    "X3_tree\\\n",
    "\n",
    "*combine\\\n",
    "\n",
    "w/o balancing\\\n",
    "over sample\\\n",
    "under sample\\\n",
    "\n",
    "*combine\\\n",
    "\n",
    "LR\\\n",
    "NB\\\n",
    "RF\\\n",
    "SVM\\"
   ]
  },
  {
   "cell_type": "markdown",
   "id": "17959728-4739-4cbf-baaa-47ece5a22bdb",
   "metadata": {},
   "source": [
    "## X3_normalized"
   ]
  },
  {
   "cell_type": "markdown",
   "id": "07e31c58-20e0-452c-9e71-d97d127afc67",
   "metadata": {},
   "source": [
    "### Split the training set and testing set"
   ]
  },
  {
   "cell_type": "code",
   "execution_count": 283,
   "id": "69d0f69d-7539-488d-8425-f600598d6a02",
   "metadata": {},
   "outputs": [],
   "source": [
    "from sklearn.model_selection import train_test_split"
   ]
  },
  {
   "cell_type": "code",
   "execution_count": 96,
   "id": "34927459-efc6-4a63-9ee0-ffc376a9791a",
   "metadata": {},
   "outputs": [],
   "source": [
    "# split the data in 70:30 for train:test dataset\n",
    "X_train, X_test, Y_train, Y_test = train_test_split(X3_normalized, Y, test_size = 0.3, random_state = 2, stratify = Y)"
   ]
  },
  {
   "cell_type": "markdown",
   "id": "58db3a3f-8434-4bf5-8295-47a17d682d8f",
   "metadata": {},
   "source": [
    "## Without balancing"
   ]
  },
  {
   "cell_type": "code",
   "execution_count": 97,
   "id": "cdb21fac-8999-434e-845e-b7f16e855de9",
   "metadata": {},
   "outputs": [
    {
     "name": "stdout",
     "output_type": "stream",
     "text": [
      "Training target statistics: Counter({0: 5308, 1: 930})\n",
      "Testing target statistics: Counter({0: 2276, 1: 398})\n"
     ]
    }
   ],
   "source": [
    "from collections import Counter\n",
    "print(f\"Training target statistics: {Counter(Y_train)}\")\n",
    "print(f\"Testing target statistics: {Counter(Y_test)}\")"
   ]
  },
  {
   "cell_type": "markdown",
   "id": "06fdcbfc-1530-4018-8e46-f5e716dd8fa2",
   "metadata": {},
   "source": [
    "#### Applying Logistic Regression"
   ]
  },
  {
   "cell_type": "code",
   "execution_count": 98,
   "id": "1c521135-2c0a-4fa2-851a-133e5371b164",
   "metadata": {},
   "outputs": [
    {
     "name": "stdout",
     "output_type": "stream",
     "text": [
      "              precision    recall  f1-score   support\n",
      "\n",
      "           0       0.90      0.98      0.93      2276\n",
      "           1       0.72      0.35      0.47       398\n",
      "\n",
      "    accuracy                           0.88      2674\n",
      "   macro avg       0.81      0.66      0.70      2674\n",
      "weighted avg       0.87      0.88      0.86      2674\n",
      "\n"
     ]
    }
   ],
   "source": [
    "# Fitting Logistic Regression to the training set\n",
    "from sklearn.linear_model import LogisticRegression\n",
    "classifier = LogisticRegression(random_state = 0, max_iter=1000)\n",
    "classifier.fit(X_train, Y_train)\n",
    "\n",
    "# Predicting result on test set\n",
    "Y_pred = classifier.predict(X_test)\n",
    "\n",
    "# Report on prediction\n",
    "from sklearn.metrics import classification_report\n",
    "print(classification_report(Y_test, Y_pred))"
   ]
  },
  {
   "cell_type": "code",
   "execution_count": 99,
   "id": "9a089d19-3b9a-43d3-8033-79b59caf7cc3",
   "metadata": {},
   "outputs": [
    {
     "data": {
      "text/plain": [
       "<AxesSubplot:>"
      ]
     },
     "execution_count": 99,
     "metadata": {},
     "output_type": "execute_result"
    },
    {
     "data": {
      "image/png": "[encoded data removed]",
      "text/plain": [
       "<Figure size 432x288 with 2 Axes>"
      ]
     },
     "metadata": {
      "needs_background": "light"
     },
     "output_type": "display_data"
    }
   ],
   "source": [
    "# Making the Confusion Matrix\n",
    "from sklearn.metrics import confusion_matrix, classification_report\n",
    "cm = confusion_matrix(Y_test, Y_pred)\n",
    "sns.heatmap(cm, annot=True,fmt='d')"
   ]
  },
  {
   "cell_type": "code",
   "execution_count": 100,
   "id": "22e8e092-6251-4946-9204-2a34b01149ec",
   "metadata": {},
   "outputs": [
    {
     "name": "stdout",
     "output_type": "stream",
     "text": [
      "              precision    recall  f1-score   support\n",
      "\n",
      "           0       0.99      0.18      0.31      2276\n",
      "           1       0.18      0.99      0.30       398\n",
      "\n",
      "    accuracy                           0.30      2674\n",
      "   macro avg       0.58      0.59      0.30      2674\n",
      "weighted avg       0.87      0.30      0.31      2674\n",
      "\n"
     ]
    }
   ],
   "source": [
    "from sklearn.naive_bayes import GaussianNB\n",
    "\n",
    "classifier = GaussianNB()\n",
    "classifier.fit(X_train, Y_train)\n",
    "# Predicting result\n",
    "Y_pred = classifier.predict(X_test)\n",
    "print(classification_report(Y_test, Y_pred))"
   ]
  },
  {
   "cell_type": "markdown",
   "id": "b78f6c0d-d7cb-4f72-a6c0-d63a9c498cc6",
   "metadata": {},
   "source": [
    "### Random Forest"
   ]
  },
  {
   "cell_type": "code",
   "execution_count": 101,
   "id": "6dd2113c-ab9a-4fc4-a8cf-06dfbd41513e",
   "metadata": {},
   "outputs": [
    {
     "name": "stdout",
     "output_type": "stream",
     "text": [
      "              precision    recall  f1-score   support\n",
      "\n",
      "           0       0.85      1.00      0.92      2276\n",
      "           1       0.00      0.00      0.00       398\n",
      "\n",
      "    accuracy                           0.85      2674\n",
      "   macro avg       0.43      0.50      0.46      2674\n",
      "weighted avg       0.72      0.85      0.78      2674\n",
      "\n"
     ]
    },
    {
     "name": "stderr",
     "output_type": "stream",
     "text": [
      "/jupyter/.home/.local/lib/python3.8/site-packages/sklearn/metrics/_classification.py:1334: UndefinedMetricWarning: Precision and F-score are ill-defined and being set to 0.0 in labels with no predicted samples. Use `zero_division` parameter to control this behavior.\n",
      "  _warn_prf(average, modifier, msg_start, len(result))\n",
      "/jupyter/.home/.local/lib/python3.8/site-packages/sklearn/metrics/_classification.py:1334: UndefinedMetricWarning: Precision and F-score are ill-defined and being set to 0.0 in labels with no predicted samples. Use `zero_division` parameter to control this behavior.\n",
      "  _warn_prf(average, modifier, msg_start, len(result))\n",
      "/jupyter/.home/.local/lib/python3.8/site-packages/sklearn/metrics/_classification.py:1334: UndefinedMetricWarning: Precision and F-score are ill-defined and being set to 0.0 in labels with no predicted samples. Use `zero_division` parameter to control this behavior.\n",
      "  _warn_prf(average, modifier, msg_start, len(result))\n"
     ]
    }
   ],
   "source": [
    "from sklearn.ensemble import RandomForestClassifier\n",
    "\n",
    "classifier = RandomForestClassifier(max_depth=2, random_state=0)\n",
    "\n",
    "classifier.fit(X_train, Y_train)\n",
    "# Predicting result\n",
    "Y_pred = classifier.predict(X_test)\n",
    "print(classification_report(Y_test, Y_pred))"
   ]
  },
  {
   "cell_type": "markdown",
   "id": "6bcaa8fe-5f93-4731-82a4-255d7fbedec7",
   "metadata": {},
   "source": [
    "### SVM"
   ]
  },
  {
   "cell_type": "code",
   "execution_count": 102,
   "id": "379e29dd-f6cd-41e9-bf19-87699f16546b",
   "metadata": {},
   "outputs": [
    {
     "name": "stdout",
     "output_type": "stream",
     "text": [
      "              precision    recall  f1-score   support\n",
      "\n",
      "           0       0.88      0.99      0.93      2276\n",
      "           1       0.76      0.26      0.39       398\n",
      "\n",
      "    accuracy                           0.88      2674\n",
      "   macro avg       0.82      0.62      0.66      2674\n",
      "weighted avg       0.87      0.88      0.85      2674\n",
      "\n"
     ]
    }
   ],
   "source": [
    "from sklearn.svm import SVC\n",
    "classifier = SVC(kernel = 'rbf',random_state = 0)\n",
    "classifier.fit(X_train, Y_train)\n",
    "# Predicting result\n",
    "Y_pred = classifier.predict(X_test)\n",
    "print(classification_report(Y_test, Y_pred))"
   ]
  },
  {
   "cell_type": "markdown",
   "id": "a9bf8b47-686c-41d4-a13c-c1228aeff953",
   "metadata": {},
   "source": [
    "conclusion: since the data is lack of balance, the model is not reliable"
   ]
  },
  {
   "cell_type": "markdown",
   "id": "42109a00-1709-450c-beeb-c11f2080b11b",
   "metadata": {},
   "source": [
    "## With Balancing"
   ]
  },
  {
   "cell_type": "markdown",
   "id": "79faa9ed-7b75-45b2-87c5-3c3273ab0d7c",
   "metadata": {},
   "source": [
    "#### 1. Oversample the smallest class"
   ]
  },
  {
   "cell_type": "code",
   "execution_count": 291,
   "id": "c12c9924-6cf5-44bf-aaee-f0b3fbcdf1ef",
   "metadata": {},
   "outputs": [
    {
     "name": "stdout",
     "output_type": "stream",
     "text": [
      "Training target statistics: Counter({0: 5308, 1: 5308})\n",
      "Testing target statistics: Counter({1: 2276, 0: 2276})\n"
     ]
    }
   ],
   "source": [
    "from imblearn.over_sampling import RandomOverSampler\n",
    "over_sampler = RandomOverSampler(random_state=42)\n",
    "X_train_balanced, Y_train_balanced = over_sampler.fit_resample(X_train, Y_train)\n",
    "X_test_balanced, Y_test_balanced = over_sampler.fit_resample(X_test, Y_test)\n",
    "print(f\"Training target statistics: {Counter(Y_train_balanced)}\")\n",
    "print(f\"Testing target statistics: {Counter(Y_test_balanced)}\")"
   ]
  },
  {
   "cell_type": "markdown",
   "id": "df966a0e-b711-484e-962a-5db12e6738e0",
   "metadata": {},
   "source": [
    "#### Applying Logistic Regression"
   ]
  },
  {
   "cell_type": "code",
   "execution_count": 292,
   "id": "4bf63d57-c92e-4257-b413-7ac06ec271f0",
   "metadata": {},
   "outputs": [
    {
     "name": "stdout",
     "output_type": "stream",
     "text": [
      "              precision    recall  f1-score   support\n",
      "\n",
      "           0       0.85      0.80      0.82      2276\n",
      "           1       0.81      0.86      0.83      2276\n",
      "\n",
      "    accuracy                           0.83      4552\n",
      "   macro avg       0.83      0.83      0.83      4552\n",
      "weighted avg       0.83      0.83      0.83      4552\n",
      "\n"
     ]
    }
   ],
   "source": [
    "# Fitting Logistic Regression to the training set\n",
    "from sklearn.linear_model import LogisticRegression\n",
    "classifier = LogisticRegression(random_state = 0, max_iter=1000)\n",
    "classifier.fit(X_train_balanced, Y_train_balanced)\n",
    "\n",
    "# Predicting result on test set\n",
    "Y_pred = classifier.predict(X_test_balanced)\n",
    "\n",
    "# Report on prediction\n",
    "from sklearn.metrics import classification_report\n",
    "print(classification_report(Y_test_balanced, Y_pred))"
   ]
  },
  {
   "cell_type": "code",
   "execution_count": 293,
   "id": "236cfb27-18d9-495d-beb6-4bf0a79b7dd3",
   "metadata": {},
   "outputs": [
    {
     "data": {
      "text/plain": [
       "<AxesSubplot:>"
      ]
     },
     "execution_count": 293,
     "metadata": {},
     "output_type": "execute_result"
    },
    {
     "data": {
      "image/png": "[encoded data removed]",
      "text/plain": [
       "<Figure size 432x288 with 2 Axes>"
      ]
     },
     "metadata": {
      "needs_background": "light"
     },
     "output_type": "display_data"
    }
   ],
   "source": [
    "# Making the Confusion Matrix\n",
    "from sklearn.metrics import confusion_matrix, classification_report\n",
    "cm = confusion_matrix(Y_test_balanced, Y_pred)\n",
    "sns.heatmap(cm, annot=True,fmt='d')"
   ]
  },
  {
   "cell_type": "markdown",
   "id": "f70cd54d-4b53-4747-8376-fa03bff9454f",
   "metadata": {},
   "source": [
    "#### Applying RandomForest"
   ]
  },
  {
   "cell_type": "code",
   "execution_count": 294,
   "id": "11d4de96-d5bb-4ea5-b5eb-c735cdfa3901",
   "metadata": {},
   "outputs": [
    {
     "name": "stdout",
     "output_type": "stream",
     "text": [
      "              precision    recall  f1-score   support\n",
      "\n",
      "           0       0.75      0.82      0.78      2276\n",
      "           1       0.80      0.72      0.76      2276\n",
      "\n",
      "    accuracy                           0.77      4552\n",
      "   macro avg       0.77      0.77      0.77      4552\n",
      "weighted avg       0.77      0.77      0.77      4552\n",
      "\n"
     ]
    }
   ],
   "source": [
    "from sklearn.ensemble import RandomForestClassifier\n",
    "\n",
    "classifier = RandomForestClassifier(max_depth=3, random_state=0)\n",
    "\n",
    "classifier.fit(X_train_balanced, Y_train_balanced)\n",
    "# Predicting result\n",
    "Y_pred = classifier.predict(X_test_balanced)\n",
    "print(classification_report(Y_test_balanced, Y_pred))"
   ]
  },
  {
   "cell_type": "code",
   "execution_count": 295,
   "id": "bae267b3-764e-43db-b741-d7230f7b52ab",
   "metadata": {},
   "outputs": [
    {
     "data": {
      "text/plain": [
       "<AxesSubplot:>"
      ]
     },
     "execution_count": 295,
     "metadata": {},
     "output_type": "execute_result"
    },
    {
     "data": {
      "image/png": "[encoded data removed]",
      "text/plain": [
       "<Figure size 432x288 with 2 Axes>"
      ]
     },
     "metadata": {
      "needs_background": "light"
     },
     "output_type": "display_data"
    }
   ],
   "source": [
    "cm = confusion_matrix(Y_test_balanced, Y_pred)\n",
    "sns.heatmap(cm, annot=True,fmt='d')"
   ]
  },
  {
   "cell_type": "markdown",
   "id": "d42117c6-5a0b-4e6c-aac6-5cc3644ac478",
   "metadata": {
    "tags": []
   },
   "source": [
    "#### Applying SVM"
   ]
  },
  {
   "cell_type": "code",
   "execution_count": 301,
   "id": "baa0ae57-56e1-4b0f-ab1f-2b803d0cd632",
   "metadata": {},
   "outputs": [
    {
     "name": "stdout",
     "output_type": "stream",
     "text": [
      "              precision    recall  f1-score   support\n",
      "\n",
      "           0       0.84      0.77      0.80      2276\n",
      "           1       0.79      0.85      0.82      2276\n",
      "\n",
      "    accuracy                           0.81      4552\n",
      "   macro avg       0.81      0.81      0.81      4552\n",
      "weighted avg       0.81      0.81      0.81      4552\n",
      "\n"
     ]
    }
   ],
   "source": [
    "from sklearn.svm import SVC\n",
    "classifier = SVC(kernel = 'rbf',random_state = 0)\n",
    "classifier.fit(X_train_balanced, Y_train_balanced)\n",
    "# Predicting result\n",
    "Y_pred = classifier.predict(X_test_balanced)\n",
    "print(classification_report(Y_test_balanced, Y_pred))"
   ]
  },
  {
   "cell_type": "code",
   "execution_count": 302,
   "id": "19f47304-e4f1-4e15-91e8-eb5f66616195",
   "metadata": {},
   "outputs": [
    {
     "data": {
      "image/png": "[encoded data removed]",
      "text/plain": [
       "<Figure size 432x288 with 2 Axes>"
      ]
     },
     "metadata": {
      "needs_background": "light"
     },
     "output_type": "display_data"
    }
   ],
   "source": [
    "cm = confusion_matrix(Y_test_balanced, Y_pred)\n",
    "ax = sns.heatmap(cm, annot=True,fmt='d')\n",
    "#ax.figure.savefig('graph/SVM_confusion.png')"
   ]
  },
  {
   "cell_type": "code",
   "execution_count": 304,
   "id": "be6b80b1-81e3-4d99-b9a8-43ddcfb6b38a",
   "metadata": {},
   "outputs": [],
   "source": [
    "import pickle\n",
    "\n",
    "with open('SVM_X3_nor_classifier.pkl', 'wb') as f:\n",
    "    pickle.dump(classifier, f)"
   ]
  },
  {
   "cell_type": "markdown",
   "id": "acfeb0df-5fc5-445a-a46f-e01377911188",
   "metadata": {},
   "source": [
    "#### Applying Naive Bayes"
   ]
  },
  {
   "cell_type": "code",
   "execution_count": 299,
   "id": "9424260d-0c4c-4c80-894e-32da916c12c0",
   "metadata": {},
   "outputs": [
    {
     "name": "stdout",
     "output_type": "stream",
     "text": [
      "              precision    recall  f1-score   support\n",
      "\n",
      "           0       0.94      0.21      0.34      2276\n",
      "           1       0.55      0.99      0.71      2276\n",
      "\n",
      "    accuracy                           0.60      4552\n",
      "   macro avg       0.74      0.60      0.52      4552\n",
      "weighted avg       0.74      0.60      0.52      4552\n",
      "\n"
     ]
    }
   ],
   "source": [
    "from sklearn.naive_bayes import GaussianNB\n",
    "\n",
    "classifier = GaussianNB()\n",
    "classifier.fit(X_train_balanced, Y_train_balanced)\n",
    "# Predicting result\n",
    "Y_pred = classifier.predict(X_test_balanced)\n",
    "print(classification_report(Y_test_balanced, Y_pred))"
   ]
  },
  {
   "cell_type": "code",
   "execution_count": 300,
   "id": "9a7e5df1-d65c-456e-8d17-adb5efb0a2ab",
   "metadata": {},
   "outputs": [
    {
     "data": {
      "image/png": "[encoded data removed]",
      "text/plain": [
       "<Figure size 432x288 with 2 Axes>"
      ]
     },
     "metadata": {
      "needs_background": "light"
     },
     "output_type": "display_data"
    }
   ],
   "source": [
    "cm = confusion_matrix(Y_test_balanced, Y_pred)\n",
    "ax = sns.heatmap(cm, annot=True,fmt='d')\n",
    "#ax.figure.savefig('graph/NB_confusion.png')"
   ]
  },
  {
   "cell_type": "markdown",
   "id": "96f76b75-cc05-47d0-b8db-65685c8258ff",
   "metadata": {},
   "source": [
    "#### 2. Undersample the larger class"
   ]
  },
  {
   "cell_type": "code",
   "execution_count": 229,
   "id": "a93d0aac-6638-49b8-a9e6-d6bd093bcf71",
   "metadata": {},
   "outputs": [
    {
     "name": "stdout",
     "output_type": "stream",
     "text": [
      "Training target statistics: Counter({0: 930, 1: 930})\n",
      "Testing target statistics: Counter({0: 398, 1: 398})\n"
     ]
    }
   ],
   "source": [
    "from imblearn.under_sampling import RandomUnderSampler\n",
    "under_sampler = RandomUnderSampler(random_state=42)\n",
    "X2_train_balanced, Y2_train_balanced = under_sampler.fit_resample(X_train, Y_train)\n",
    "X2_test_balanced, Y2_test_balanced = under_sampler.fit_resample(X_test, Y_test)\n",
    "\n",
    "print(f\"Training target statistics: {Counter(Y2_train_balanced)}\")\n",
    "print(f\"Testing target statistics: {Counter(Y2_test_balanced)}\")"
   ]
  },
  {
   "cell_type": "markdown",
   "id": "15621991-9a08-40f6-8fc4-c35fdea33a42",
   "metadata": {},
   "source": [
    "Logistic"
   ]
  },
  {
   "cell_type": "code",
   "execution_count": 230,
   "id": "e0c063eb-5e68-41e3-901f-06698cbc5e32",
   "metadata": {},
   "outputs": [
    {
     "name": "stdout",
     "output_type": "stream",
     "text": [
      "              precision    recall  f1-score   support\n",
      "\n",
      "           0       0.82      0.79      0.81       398\n",
      "           1       0.80      0.83      0.81       398\n",
      "\n",
      "    accuracy                           0.81       796\n",
      "   macro avg       0.81      0.81      0.81       796\n",
      "weighted avg       0.81      0.81      0.81       796\n",
      "\n"
     ]
    }
   ],
   "source": [
    "# Fitting Logistic Regression to the training set\n",
    "from sklearn.linear_model import LogisticRegression\n",
    "classifier = LogisticRegression(random_state = 0, max_iter=1000)\n",
    "classifier.fit(X2_train_balanced, Y2_train_balanced)\n",
    "\n",
    "# Predicting result on test set\n",
    "Y_pred = classifier.predict(X2_test_balanced)\n",
    "\n",
    "# Report on prediction\n",
    "from sklearn.metrics import classification_report\n",
    "print(classification_report(Y2_test_balanced, Y_pred))"
   ]
  },
  {
   "cell_type": "markdown",
   "id": "6693ddb2-12e3-4bbc-8af4-2021934ebd90",
   "metadata": {},
   "source": [
    "tree"
   ]
  },
  {
   "cell_type": "code",
   "execution_count": 231,
   "id": "686d18f2-bb00-4c55-8d3b-98ea7f261eb9",
   "metadata": {},
   "outputs": [
    {
     "name": "stdout",
     "output_type": "stream",
     "text": [
      "              precision    recall  f1-score   support\n",
      "\n",
      "           0       0.79      0.81      0.80       398\n",
      "           1       0.81      0.79      0.80       398\n",
      "\n",
      "    accuracy                           0.80       796\n",
      "   macro avg       0.80      0.80      0.80       796\n",
      "weighted avg       0.80      0.80      0.80       796\n",
      "\n"
     ]
    }
   ],
   "source": [
    "classifier = tree.DecisionTreeClassifier()\n",
    "classifier.fit(X2_train_balanced, Y2_train_balanced)\n",
    "# Predicting result\n",
    "Y_pred = classifier.predict(X2_test_balanced)\n",
    "print(classification_report(Y2_test_balanced, Y_pred))"
   ]
  },
  {
   "cell_type": "markdown",
   "id": "baec7179-1995-410e-a10b-bd41fe54c2aa",
   "metadata": {},
   "source": [
    "NB"
   ]
  },
  {
   "cell_type": "code",
   "execution_count": 232,
   "id": "5f840f89-2d1d-4882-b9bb-6cceaf7bf6f3",
   "metadata": {},
   "outputs": [
    {
     "name": "stdout",
     "output_type": "stream",
     "text": [
      "              precision    recall  f1-score   support\n",
      "\n",
      "           0       0.57      0.94      0.71       398\n",
      "           1       0.82      0.28      0.42       398\n",
      "\n",
      "    accuracy                           0.61       796\n",
      "   macro avg       0.69      0.61      0.56       796\n",
      "weighted avg       0.69      0.61      0.56       796\n",
      "\n"
     ]
    }
   ],
   "source": [
    "classifier = GaussianNB()\n",
    "classifier.fit(X2_train_balanced, Y2_train_balanced)\n",
    "# Predicting result\n",
    "Y_pred = classifier.predict(X2_test_balanced)\n",
    "print(classification_report(Y2_test_balanced, Y_pred))"
   ]
  },
  {
   "cell_type": "markdown",
   "id": "93b0f30c-c100-4068-b187-88a0493cb506",
   "metadata": {},
   "source": [
    "RF"
   ]
  },
  {
   "cell_type": "code",
   "execution_count": 233,
   "id": "dea6cee0-8ebc-460d-ad4b-4e06beaa4dec",
   "metadata": {},
   "outputs": [
    {
     "name": "stdout",
     "output_type": "stream",
     "text": [
      "              precision    recall  f1-score   support\n",
      "\n",
      "           0       0.80      0.78      0.79       398\n",
      "           1       0.79      0.80      0.79       398\n",
      "\n",
      "    accuracy                           0.79       796\n",
      "   macro avg       0.79      0.79      0.79       796\n",
      "weighted avg       0.79      0.79      0.79       796\n",
      "\n"
     ]
    }
   ],
   "source": [
    "classifier = RandomForestClassifier(max_depth=3, random_state=0)\n",
    "\n",
    "classifier.fit(X2_train_balanced, Y2_train_balanced)\n",
    "# Predicting result\n",
    "Y_pred = classifier.predict(X2_test_balanced)\n",
    "print(classification_report(Y2_test_balanced, Y_pred))"
   ]
  },
  {
   "cell_type": "markdown",
   "id": "a1e664e1-da3b-49d7-bc1c-7903afdff045",
   "metadata": {},
   "source": [
    "SVM"
   ]
  },
  {
   "cell_type": "code",
   "execution_count": 234,
   "id": "c0d99b33-3567-4cd2-9f10-ddc1494b4056",
   "metadata": {},
   "outputs": [
    {
     "name": "stdout",
     "output_type": "stream",
     "text": [
      "              precision    recall  f1-score   support\n",
      "\n",
      "           0       0.85      0.75      0.79       398\n",
      "           1       0.77      0.86      0.82       398\n",
      "\n",
      "    accuracy                           0.81       796\n",
      "   macro avg       0.81      0.81      0.80       796\n",
      "weighted avg       0.81      0.81      0.80       796\n",
      "\n"
     ]
    }
   ],
   "source": [
    "from sklearn.svm import SVC\n",
    "classifier = SVC(kernel = 'rbf',random_state = 0)\n",
    "classifier.fit(X2_train_balanced, Y2_train_balanced)\n",
    "# Predicting result\n",
    "Y_pred = classifier.predict(X2_test_balanced)\n",
    "print(classification_report(Y2_test_balanced, Y_pred))"
   ]
  },
  {
   "cell_type": "code",
   "execution_count": null,
   "id": "45c83beb-4fba-4b43-8e64-5b7e2e5d91f7",
   "metadata": {},
   "outputs": [],
   "source": []
  },
  {
   "cell_type": "code",
   "execution_count": null,
   "id": "b2b72440-5d5f-487e-9deb-70a136f727ce",
   "metadata": {},
   "outputs": [],
   "source": []
  },
  {
   "cell_type": "code",
   "execution_count": null,
   "id": "cde82431-bf85-4f64-a281-79740736797b",
   "metadata": {},
   "outputs": [],
   "source": []
  },
  {
   "cell_type": "code",
   "execution_count": null,
   "id": "23e8f840-c573-4f87-9f7b-1e0ae525608b",
   "metadata": {},
   "outputs": [],
   "source": []
  },
  {
   "cell_type": "markdown",
   "id": "e96ffd67-c16d-4e47-aa22-5a7a7c2c8db6",
   "metadata": {
    "tags": []
   },
   "source": [
    "## X3_corela"
   ]
  },
  {
   "cell_type": "markdown",
   "id": "74bfdec9-9452-493b-90eb-638a00400baa",
   "metadata": {},
   "source": [
    "### Split the training set and testing set"
   ]
  },
  {
   "cell_type": "code",
   "execution_count": 35,
   "id": "83ee6f07-e90b-4a4b-a3df-061384f603a3",
   "metadata": {},
   "outputs": [],
   "source": [
    "from sklearn.model_selection import train_test_split"
   ]
  },
  {
   "cell_type": "code",
   "execution_count": 36,
   "id": "cd17d5b4-d762-44bc-b9da-9cfb7e32c6e2",
   "metadata": {},
   "outputs": [],
   "source": [
    "# split the data in 70:30 for train:test dataset\n",
    "X_train, X_test, Y_train, Y_test = train_test_split(X3_corela, Y, test_size = 0.3, random_state = 2, stratify = Y)"
   ]
  },
  {
   "cell_type": "markdown",
   "id": "6e9807a4-d810-4f5c-b19b-21fae1933610",
   "metadata": {},
   "source": [
    "## Without balancing"
   ]
  },
  {
   "cell_type": "code",
   "execution_count": 37,
   "id": "709f8213-22ef-43c6-a250-b314352a28f6",
   "metadata": {},
   "outputs": [
    {
     "name": "stdout",
     "output_type": "stream",
     "text": [
      "Training target statistics: Counter({0: 5308, 1: 930})\n",
      "Testing target statistics: Counter({0: 2276, 1: 398})\n"
     ]
    }
   ],
   "source": [
    "from collections import Counter\n",
    "print(f\"Training target statistics: {Counter(Y_train)}\")\n",
    "print(f\"Testing target statistics: {Counter(Y_test)}\")"
   ]
  },
  {
   "cell_type": "markdown",
   "id": "0b87b4d1-ae74-4f7a-98a0-9978be6691a3",
   "metadata": {},
   "source": [
    "#### Applying Logistic Regression"
   ]
  },
  {
   "cell_type": "code",
   "execution_count": 38,
   "id": "82036233-5e30-46ab-bc6c-aabdf5d17d76",
   "metadata": {},
   "outputs": [
    {
     "name": "stdout",
     "output_type": "stream",
     "text": [
      "              precision    recall  f1-score   support\n",
      "\n",
      "           0       0.89      0.97      0.93      2276\n",
      "           1       0.61      0.30      0.41       398\n",
      "\n",
      "    accuracy                           0.87      2674\n",
      "   macro avg       0.75      0.64      0.67      2674\n",
      "weighted avg       0.85      0.87      0.85      2674\n",
      "\n"
     ]
    }
   ],
   "source": [
    "# Fitting Logistic Regression to the training set\n",
    "from sklearn.linear_model import LogisticRegression\n",
    "classifier = LogisticRegression(random_state = 0, max_iter=1000)\n",
    "classifier.fit(X_train, Y_train)\n",
    "\n",
    "# Predicting result on test set\n",
    "Y_pred = classifier.predict(X_test)\n",
    "\n",
    "# Report on prediction\n",
    "from sklearn.metrics import classification_report\n",
    "print(classification_report(Y_test, Y_pred))"
   ]
  },
  {
   "cell_type": "code",
   "execution_count": 39,
   "id": "7051ae08-f7a9-48ee-8bb6-05dc70ef0052",
   "metadata": {},
   "outputs": [
    {
     "data": {
      "text/plain": [
       "<AxesSubplot:>"
      ]
     },
     "execution_count": 39,
     "metadata": {},
     "output_type": "execute_result"
    },
    {
     "data": {
      "image/png": "[encoded data removed]",
      "text/plain": [
       "<Figure size 432x288 with 2 Axes>"
      ]
     },
     "metadata": {
      "needs_background": "light"
     },
     "output_type": "display_data"
    }
   ],
   "source": [
    "# Making the Confusion Matrix\n",
    "from sklearn.metrics import confusion_matrix, classification_report\n",
    "cm = confusion_matrix(Y_test, Y_pred)\n",
    "sns.heatmap(cm, annot=True,fmt='d')"
   ]
  },
  {
   "cell_type": "code",
   "execution_count": 40,
   "id": "bf238c34-e19b-44b9-91ac-12b309f29e41",
   "metadata": {},
   "outputs": [
    {
     "name": "stdout",
     "output_type": "stream",
     "text": [
      "              precision    recall  f1-score   support\n",
      "\n",
      "           0       1.00      0.16      0.28      2276\n",
      "           1       0.17      1.00      0.29       398\n",
      "\n",
      "    accuracy                           0.29      2674\n",
      "   macro avg       0.58      0.58      0.29      2674\n",
      "weighted avg       0.87      0.29      0.28      2674\n",
      "\n"
     ]
    }
   ],
   "source": [
    "from sklearn.naive_bayes import GaussianNB\n",
    "\n",
    "classifier = GaussianNB()\n",
    "classifier.fit(X_train, Y_train)\n",
    "# Predicting result\n",
    "Y_pred = classifier.predict(X_test)\n",
    "print(classification_report(Y_test, Y_pred))"
   ]
  },
  {
   "cell_type": "markdown",
   "id": "ec10e271-f267-46bd-a045-93bf634dbd04",
   "metadata": {},
   "source": [
    "### Random Forest"
   ]
  },
  {
   "cell_type": "code",
   "execution_count": 41,
   "id": "37c625de-f6cb-4567-8439-0e81323fdf1d",
   "metadata": {},
   "outputs": [
    {
     "name": "stdout",
     "output_type": "stream",
     "text": [
      "              precision    recall  f1-score   support\n",
      "\n",
      "           0       0.85      1.00      0.92      2276\n",
      "           1       0.00      0.00      0.00       398\n",
      "\n",
      "    accuracy                           0.85      2674\n",
      "   macro avg       0.43      0.50      0.46      2674\n",
      "weighted avg       0.72      0.85      0.78      2674\n",
      "\n"
     ]
    },
    {
     "name": "stderr",
     "output_type": "stream",
     "text": [
      "D:\\tools\\anaconda3\\lib\\site-packages\\sklearn\\metrics\\_classification.py:1334: UndefinedMetricWarning: Precision and F-score are ill-defined and being set to 0.0 in labels with no predicted samples. Use `zero_division` parameter to control this behavior.\n",
      "  _warn_prf(average, modifier, msg_start, len(result))\n",
      "D:\\tools\\anaconda3\\lib\\site-packages\\sklearn\\metrics\\_classification.py:1334: UndefinedMetricWarning: Precision and F-score are ill-defined and being set to 0.0 in labels with no predicted samples. Use `zero_division` parameter to control this behavior.\n",
      "  _warn_prf(average, modifier, msg_start, len(result))\n",
      "D:\\tools\\anaconda3\\lib\\site-packages\\sklearn\\metrics\\_classification.py:1334: UndefinedMetricWarning: Precision and F-score are ill-defined and being set to 0.0 in labels with no predicted samples. Use `zero_division` parameter to control this behavior.\n",
      "  _warn_prf(average, modifier, msg_start, len(result))\n"
     ]
    }
   ],
   "source": [
    "from sklearn.ensemble import RandomForestClassifier\n",
    "\n",
    "classifier = RandomForestClassifier(max_depth=2, random_state=0)\n",
    "\n",
    "classifier.fit(X_train, Y_train)\n",
    "# Predicting result\n",
    "Y_pred = classifier.predict(X_test)\n",
    "print(classification_report(Y_test, Y_pred))"
   ]
  },
  {
   "cell_type": "markdown",
   "id": "e339ffa0-7929-4343-88b2-8d0eea18cfca",
   "metadata": {},
   "source": [
    "### SVM"
   ]
  },
  {
   "cell_type": "code",
   "execution_count": 42,
   "id": "9c3250ca-b8a4-4603-98e0-77f2f0f71005",
   "metadata": {},
   "outputs": [
    {
     "name": "stdout",
     "output_type": "stream",
     "text": [
      "              precision    recall  f1-score   support\n",
      "\n",
      "           0       0.88      0.99      0.93      2276\n",
      "           1       0.80      0.24      0.36       398\n",
      "\n",
      "    accuracy                           0.88      2674\n",
      "   macro avg       0.84      0.61      0.65      2674\n",
      "weighted avg       0.87      0.88      0.85      2674\n",
      "\n"
     ]
    }
   ],
   "source": [
    "from sklearn.svm import SVC\n",
    "classifier = SVC(kernel = 'rbf',random_state = 0)\n",
    "classifier.fit(X_train, Y_train)\n",
    "# Predicting result\n",
    "Y_pred = classifier.predict(X_test)\n",
    "print(classification_report(Y_test, Y_pred))"
   ]
  },
  {
   "cell_type": "markdown",
   "id": "35caa399-bc80-4f94-a66e-daffed112a9b",
   "metadata": {},
   "source": [
    "conclusion: since the data is lack of balance, the model is not reliable"
   ]
  },
  {
   "cell_type": "markdown",
   "id": "1413d96a-7aa0-40ab-8ace-d71cb5562513",
   "metadata": {},
   "source": [
    "## With Balancing"
   ]
  },
  {
   "cell_type": "markdown",
   "id": "395f1ebd-d340-4d90-ad62-50b17bdf11cf",
   "metadata": {},
   "source": [
    "#### 1. Oversample the smallest class"
   ]
  },
  {
   "cell_type": "code",
   "execution_count": 43,
   "id": "4b6ea900-04f3-41c8-a2d2-b337c09d1929",
   "metadata": {},
   "outputs": [
    {
     "name": "stdout",
     "output_type": "stream",
     "text": [
      "Training target statistics: Counter({0: 5308, 1: 5308})\n",
      "Testing target statistics: Counter({1: 2276, 0: 2276})\n"
     ]
    }
   ],
   "source": [
    "from imblearn.over_sampling import RandomOverSampler\n",
    "over_sampler = RandomOverSampler(random_state=42)\n",
    "X_train_balanced, Y_train_balanced = over_sampler.fit_resample(X_train, Y_train)\n",
    "X_test_balanced, Y_test_balanced = over_sampler.fit_resample(X_test, Y_test)\n",
    "print(f\"Training target statistics: {Counter(Y_train_balanced)}\")\n",
    "print(f\"Testing target statistics: {Counter(Y_test_balanced)}\")"
   ]
  },
  {
   "cell_type": "markdown",
   "id": "a6b4f188-73f8-45f3-8b4e-ce2846a0e1e1",
   "metadata": {},
   "source": [
    "#### Applying Logistic Regression"
   ]
  },
  {
   "cell_type": "code",
   "execution_count": 44,
   "id": "2935e18b-c3b7-46d3-9ef5-3c16400ee942",
   "metadata": {},
   "outputs": [
    {
     "name": "stdout",
     "output_type": "stream",
     "text": [
      "              precision    recall  f1-score   support\n",
      "\n",
      "           0       0.80      0.80      0.80      2276\n",
      "           1       0.80      0.80      0.80      2276\n",
      "\n",
      "    accuracy                           0.80      4552\n",
      "   macro avg       0.80      0.80      0.80      4552\n",
      "weighted avg       0.80      0.80      0.80      4552\n",
      "\n"
     ]
    }
   ],
   "source": [
    "# Fitting Logistic Regression to the training set\n",
    "from sklearn.linear_model import LogisticRegression\n",
    "classifier = LogisticRegression(random_state = 0, max_iter=1000)\n",
    "classifier.fit(X_train_balanced, Y_train_balanced)\n",
    "\n",
    "# Predicting result on test set\n",
    "Y_pred = classifier.predict(X_test_balanced)\n",
    "\n",
    "# Report on prediction\n",
    "from sklearn.metrics import classification_report\n",
    "print(classification_report(Y_test_balanced, Y_pred))"
   ]
  },
  {
   "cell_type": "code",
   "execution_count": 45,
   "id": "28afcbcc-ea8f-4166-8d84-c7da53c970aa",
   "metadata": {},
   "outputs": [
    {
     "data": {
      "text/plain": [
       "<AxesSubplot:>"
      ]
     },
     "execution_count": 45,
     "metadata": {},
     "output_type": "execute_result"
    },
    {
     "data": {
      "image/png": "[encoded data removed]",
      "text/plain": [
       "<Figure size 432x288 with 2 Axes>"
      ]
     },
     "metadata": {
      "needs_background": "light"
     },
     "output_type": "display_data"
    }
   ],
   "source": [
    "# Making the Confusion Matrix\n",
    "from sklearn.metrics import confusion_matrix, classification_report\n",
    "cm = confusion_matrix(Y_test_balanced, Y_pred)\n",
    "sns.heatmap(cm, annot=True,fmt='d')"
   ]
  },
  {
   "cell_type": "markdown",
   "id": "98ffc929-7ec5-4735-a620-9fdc83fa7b73",
   "metadata": {},
   "source": [
    "#### Applying RandomForest"
   ]
  },
  {
   "cell_type": "code",
   "execution_count": null,
   "id": "cf0e8b61-4f3c-43cf-8177-b4ac47d9b064",
   "metadata": {},
   "outputs": [],
   "source": []
  },
  {
   "cell_type": "code",
   "execution_count": 60,
   "id": "8bf52805-f88d-4d1f-bb80-c724f12a2e1a",
   "metadata": {},
   "outputs": [
    {
     "name": "stdout",
     "output_type": "stream",
     "text": [
      "              precision    recall  f1-score   support\n",
      "\n",
      "           0       0.90      0.68      0.77      2276\n",
      "           1       0.74      0.92      0.82      2276\n",
      "\n",
      "    accuracy                           0.80      4552\n",
      "   macro avg       0.82      0.80      0.80      4552\n",
      "weighted avg       0.82      0.80      0.80      4552\n",
      "\n"
     ]
    }
   ],
   "source": [
    "from sklearn.ensemble import RandomForestClassifier\n",
    "\n",
    "classifier = RandomForestClassifier(max_depth=3, random_state=0)\n",
    "\n",
    "classifier.fit(X_train_balanced, Y_train_balanced)\n",
    "# Predicting result\n",
    "Y_pred = classifier.predict(X_test_balanced)\n",
    "print(classification_report(Y_test_balanced, Y_pred))"
   ]
  },
  {
   "cell_type": "code",
   "execution_count": 61,
   "id": "40ecf07a-7d0d-49f5-9e78-c23763b4b06a",
   "metadata": {},
   "outputs": [
    {
     "data": {
      "text/plain": [
       "<AxesSubplot:>"
      ]
     },
     "execution_count": 61,
     "metadata": {},
     "output_type": "execute_result"
    },
    {
     "data": {
      "image/png": "[encoded data removed]",
      "text/plain": [
       "<Figure size 432x288 with 2 Axes>"
      ]
     },
     "metadata": {
      "needs_background": "light"
     },
     "output_type": "display_data"
    }
   ],
   "source": [
    "cm = confusion_matrix(Y_test_balanced, Y_pred)\n",
    "sns.heatmap(cm, annot=True,fmt='d')"
   ]
  },
  {
   "cell_type": "code",
   "execution_count": 62,
   "id": "8faa6a08",
   "metadata": {},
   "outputs": [],
   "source": [
    "import pickle\n",
    "\n",
    "with open('X3_core_RF_classifier.pkl', 'wb') as f:\n",
    "    pickle.dump(classifier, f)"
   ]
  },
  {
   "cell_type": "markdown",
   "id": "13b2c8ce-80e9-4f46-87a9-991093bffccd",
   "metadata": {
    "tags": []
   },
   "source": [
    "#### Applying SVM"
   ]
  },
  {
   "cell_type": "code",
   "execution_count": 49,
   "id": "dde7648e-23ae-4818-84fe-43029749715b",
   "metadata": {},
   "outputs": [
    {
     "name": "stdout",
     "output_type": "stream",
     "text": [
      "              precision    recall  f1-score   support\n",
      "\n",
      "           0       0.86      0.74      0.79      2276\n",
      "           1       0.77      0.88      0.82      2276\n",
      "\n",
      "    accuracy                           0.81      4552\n",
      "   macro avg       0.81      0.81      0.81      4552\n",
      "weighted avg       0.81      0.81      0.81      4552\n",
      "\n"
     ]
    }
   ],
   "source": [
    "from sklearn.svm import SVC\n",
    "classifier = SVC(kernel = 'rbf',random_state = 0)\n",
    "classifier.fit(X_train_balanced, Y_train_balanced)\n",
    "# Predicting result\n",
    "Y_pred = classifier.predict(X_test_balanced)\n",
    "print(classification_report(Y_test_balanced, Y_pred))"
   ]
  },
  {
   "cell_type": "code",
   "execution_count": 50,
   "id": "0c7c14ed-8081-4794-8fd8-a807db29ed29",
   "metadata": {},
   "outputs": [
    {
     "data": {
      "image/png": "[encoded data removed]",
      "text/plain": [
       "<Figure size 432x288 with 2 Axes>"
      ]
     },
     "metadata": {
      "needs_background": "light"
     },
     "output_type": "display_data"
    }
   ],
   "source": [
    "cm = confusion_matrix(Y_test_balanced, Y_pred)\n",
    "ax = sns.heatmap(cm, annot=True,fmt='d')\n",
    "#ax.figure.savefig('graph/SVM_confusion.png')"
   ]
  },
  {
   "cell_type": "markdown",
   "id": "2da49275-0608-427a-8eec-42c403071e80",
   "metadata": {},
   "source": [
    "#### Applying Naive Bayes"
   ]
  },
  {
   "cell_type": "code",
   "execution_count": 51,
   "id": "58d6c6aa-815e-4e22-bd21-714119cfe992",
   "metadata": {},
   "outputs": [
    {
     "name": "stdout",
     "output_type": "stream",
     "text": [
      "              precision    recall  f1-score   support\n",
      "\n",
      "           0       0.97      0.16      0.28      2276\n",
      "           1       0.54      1.00      0.70      2276\n",
      "\n",
      "    accuracy                           0.58      4552\n",
      "   macro avg       0.76      0.58      0.49      4552\n",
      "weighted avg       0.76      0.58      0.49      4552\n",
      "\n"
     ]
    }
   ],
   "source": [
    "from sklearn.naive_bayes import GaussianNB\n",
    "\n",
    "classifier = GaussianNB()\n",
    "classifier.fit(X_train_balanced, Y_train_balanced)\n",
    "# Predicting result\n",
    "Y_pred = classifier.predict(X_test_balanced)\n",
    "print(classification_report(Y_test_balanced, Y_pred))"
   ]
  },
  {
   "cell_type": "code",
   "execution_count": 52,
   "id": "102fd151-2e02-4cbf-8c6c-1c7fdce86251",
   "metadata": {},
   "outputs": [
    {
     "data": {
      "image/png": "[encoded data removed]",
      "text/plain": [
       "<Figure size 432x288 with 2 Axes>"
      ]
     },
     "metadata": {
      "needs_background": "light"
     },
     "output_type": "display_data"
    }
   ],
   "source": [
    "cm = confusion_matrix(Y_test_balanced, Y_pred)\n",
    "ax = sns.heatmap(cm, annot=True,fmt='d')\n",
    "#ax.figure.savefig('graph/NB_confusion.png')"
   ]
  },
  {
   "cell_type": "markdown",
   "id": "d0357f62-a2b2-42e5-a482-e48182ee1871",
   "metadata": {},
   "source": [
    "#### 2. Undersample the larger class"
   ]
  },
  {
   "cell_type": "code",
   "execution_count": 53,
   "id": "f49860a1-f338-489b-9f4f-4e521db827de",
   "metadata": {},
   "outputs": [
    {
     "name": "stdout",
     "output_type": "stream",
     "text": [
      "Training target statistics: Counter({0: 930, 1: 930})\n",
      "Testing target statistics: Counter({0: 398, 1: 398})\n"
     ]
    }
   ],
   "source": [
    "from imblearn.under_sampling import RandomUnderSampler\n",
    "under_sampler = RandomUnderSampler(random_state=42)\n",
    "X2_train_balanced, Y2_train_balanced = under_sampler.fit_resample(X_train, Y_train)\n",
    "X2_test_balanced, Y2_test_balanced = under_sampler.fit_resample(X_test, Y_test)\n",
    "\n",
    "print(f\"Training target statistics: {Counter(Y2_train_balanced)}\")\n",
    "print(f\"Testing target statistics: {Counter(Y2_test_balanced)}\")"
   ]
  },
  {
   "cell_type": "markdown",
   "id": "a89ec156-3738-4ad0-ac22-ac73e917a21e",
   "metadata": {},
   "source": [
    "Logistic"
   ]
  },
  {
   "cell_type": "code",
   "execution_count": 54,
   "id": "57112bf8-8285-42dc-b43b-ef1bbdae192a",
   "metadata": {},
   "outputs": [
    {
     "name": "stdout",
     "output_type": "stream",
     "text": [
      "              precision    recall  f1-score   support\n",
      "\n",
      "           0       0.78      0.80      0.79       398\n",
      "           1       0.80      0.77      0.78       398\n",
      "\n",
      "    accuracy                           0.79       796\n",
      "   macro avg       0.79      0.79      0.79       796\n",
      "weighted avg       0.79      0.79      0.79       796\n",
      "\n"
     ]
    }
   ],
   "source": [
    "# Fitting Logistic Regression to the training set\n",
    "from sklearn.linear_model import LogisticRegression\n",
    "classifier = LogisticRegression(random_state = 0, max_iter=1000)\n",
    "classifier.fit(X2_train_balanced, Y2_train_balanced)\n",
    "\n",
    "# Predicting result on test set\n",
    "Y_pred = classifier.predict(X2_test_balanced)\n",
    "\n",
    "# Report on prediction\n",
    "from sklearn.metrics import classification_report\n",
    "print(classification_report(Y2_test_balanced, Y_pred))"
   ]
  },
  {
   "cell_type": "markdown",
   "id": "4616fe3f-512d-4635-bf40-9bb5a614c543",
   "metadata": {},
   "source": [
    "tree"
   ]
  },
  {
   "cell_type": "markdown",
   "id": "58935afb",
   "metadata": {},
   "source": [
    "classifier = tree.DecisionTreeClassifier()\n",
    "classifier.fit(X2_train_balanced, Y2_train_balanced)\n",
    "#Predicting result\n",
    "Y_pred = classifier.predict(X2_test_balanced)\n",
    "print(classification_report(Y2_test_balanced, Y_pred))"
   ]
  },
  {
   "cell_type": "markdown",
   "id": "e9928248-604c-4c42-885a-a55d95192a91",
   "metadata": {},
   "source": [
    "NB"
   ]
  },
  {
   "cell_type": "code",
   "execution_count": 56,
   "id": "823ba5ae-2bc4-4ccf-b580-c54bfe59d67f",
   "metadata": {},
   "outputs": [
    {
     "name": "stdout",
     "output_type": "stream",
     "text": [
      "              precision    recall  f1-score   support\n",
      "\n",
      "           0       0.98      0.14      0.25       398\n",
      "           1       0.54      1.00      0.70       398\n",
      "\n",
      "    accuracy                           0.57       796\n",
      "   macro avg       0.76      0.57      0.47       796\n",
      "weighted avg       0.76      0.57      0.47       796\n",
      "\n"
     ]
    }
   ],
   "source": [
    "classifier = GaussianNB()\n",
    "classifier.fit(X2_train_balanced, Y2_train_balanced)\n",
    "# Predicting result\n",
    "Y_pred = classifier.predict(X2_test_balanced)\n",
    "print(classification_report(Y2_test_balanced, Y_pred))"
   ]
  },
  {
   "cell_type": "markdown",
   "id": "ee1fbea7-f8d0-4f70-991e-b1e983243336",
   "metadata": {},
   "source": [
    "RF"
   ]
  },
  {
   "cell_type": "code",
   "execution_count": 57,
   "id": "3ae2d653-abf4-4b7d-a28f-8d16b6992a30",
   "metadata": {},
   "outputs": [
    {
     "name": "stdout",
     "output_type": "stream",
     "text": [
      "              precision    recall  f1-score   support\n",
      "\n",
      "           0       0.86      0.68      0.76       398\n",
      "           1       0.73      0.89      0.80       398\n",
      "\n",
      "    accuracy                           0.78       796\n",
      "   macro avg       0.80      0.78      0.78       796\n",
      "weighted avg       0.80      0.78      0.78       796\n",
      "\n"
     ]
    }
   ],
   "source": [
    "classifier = RandomForestClassifier(max_depth=3, random_state=0)\n",
    "\n",
    "classifier.fit(X2_train_balanced, Y2_train_balanced)\n",
    "# Predicting result\n",
    "Y_pred = classifier.predict(X2_test_balanced)\n",
    "print(classification_report(Y2_test_balanced, Y_pred))"
   ]
  },
  {
   "cell_type": "markdown",
   "id": "ce928580-bc9c-4306-9f44-a85e5afe5e08",
   "metadata": {},
   "source": [
    "SVM"
   ]
  },
  {
   "cell_type": "code",
   "execution_count": 58,
   "id": "e3f387ab-090a-4c23-9d27-f91f2fd4abaa",
   "metadata": {},
   "outputs": [
    {
     "name": "stdout",
     "output_type": "stream",
     "text": [
      "              precision    recall  f1-score   support\n",
      "\n",
      "           0       0.84      0.72      0.78       398\n",
      "           1       0.76      0.86      0.81       398\n",
      "\n",
      "    accuracy                           0.79       796\n",
      "   macro avg       0.80      0.79      0.79       796\n",
      "weighted avg       0.80      0.79      0.79       796\n",
      "\n"
     ]
    }
   ],
   "source": [
    "from sklearn.svm import SVC\n",
    "classifier = SVC(kernel = 'rbf',random_state = 0)\n",
    "classifier.fit(X2_train_balanced, Y2_train_balanced)\n",
    "# Predicting result\n",
    "Y_pred = classifier.predict(X2_test_balanced)\n",
    "print(classification_report(Y2_test_balanced, Y_pred))"
   ]
  },
  {
   "cell_type": "code",
   "execution_count": null,
   "id": "0a38d6fa-863b-46dd-90a6-e5cac5be2ce9",
   "metadata": {},
   "outputs": [],
   "source": []
  },
  {
   "cell_type": "code",
   "execution_count": null,
   "id": "50b3eb2f-4a5b-4506-848c-6be96876fb3b",
   "metadata": {},
   "outputs": [],
   "source": []
  },
  {
   "cell_type": "code",
   "execution_count": null,
   "id": "b4ea57be-1dc9-4ead-a52c-5f322fb2ca49",
   "metadata": {},
   "outputs": [],
   "source": []
  },
  {
   "cell_type": "markdown",
   "id": "3f5016c5-56ec-4f62-83fc-b922c911321d",
   "metadata": {},
   "source": [
    "## X3_tree"
   ]
  },
  {
   "cell_type": "markdown",
   "id": "1d98311c-37a8-458a-8ae4-0774776990c3",
   "metadata": {},
   "source": [
    "### Split the training set and testing set"
   ]
  },
  {
   "cell_type": "code",
   "execution_count": 321,
   "id": "93cef338-3d8d-4077-9ea0-42b93e44bab1",
   "metadata": {},
   "outputs": [],
   "source": [
    "from sklearn.model_selection import train_test_split"
   ]
  },
  {
   "cell_type": "code",
   "execution_count": 106,
   "id": "c06c893f-28f7-48ed-8ffc-0897701d0165",
   "metadata": {},
   "outputs": [],
   "source": [
    "# split the data in 70:30 for train:test dataset\n",
    "X_train, X_test, Y_train, Y_test = train_test_split(X3_tree, Y, test_size = 0.3, random_state = 2, stratify = Y)"
   ]
  },
  {
   "cell_type": "markdown",
   "id": "7a4c68bb-18c4-47de-ba07-65d3fade0816",
   "metadata": {},
   "source": [
    "## Without balancing"
   ]
  },
  {
   "cell_type": "code",
   "execution_count": 107,
   "id": "7fa35d8e-a11c-4c25-a35b-3ab509c29981",
   "metadata": {},
   "outputs": [
    {
     "name": "stdout",
     "output_type": "stream",
     "text": [
      "Training target statistics: Counter({0: 5308, 1: 930})\n",
      "Testing target statistics: Counter({0: 2276, 1: 398})\n"
     ]
    }
   ],
   "source": [
    "from collections import Counter\n",
    "print(f\"Training target statistics: {Counter(Y_train)}\")\n",
    "print(f\"Testing target statistics: {Counter(Y_test)}\")"
   ]
  },
  {
   "cell_type": "markdown",
   "id": "1df35a09-94f7-45ca-b04a-9b0237db4440",
   "metadata": {},
   "source": [
    "#### Applying Logistic Regression"
   ]
  },
  {
   "cell_type": "code",
   "execution_count": 324,
   "id": "bf3bb990-5253-46d7-9321-8243ae4a5842",
   "metadata": {},
   "outputs": [
    {
     "name": "stdout",
     "output_type": "stream",
     "text": [
      "              precision    recall  f1-score   support\n",
      "\n",
      "           0       0.88      0.97      0.93      2276\n",
      "           1       0.64      0.26      0.37       398\n",
      "\n",
      "    accuracy                           0.87      2674\n",
      "   macro avg       0.76      0.62      0.65      2674\n",
      "weighted avg       0.85      0.87      0.84      2674\n",
      "\n"
     ]
    }
   ],
   "source": [
    "# Fitting Logistic Regression to the training set\n",
    "from sklearn.linear_model import LogisticRegression\n",
    "classifier = LogisticRegression(random_state = 0, max_iter=1000)\n",
    "classifier.fit(X_train, Y_train)\n",
    "\n",
    "# Predicting result on test set\n",
    "Y_pred = classifier.predict(X_test)\n",
    "\n",
    "# Report on prediction\n",
    "from sklearn.metrics import classification_report\n",
    "print(classification_report(Y_test, Y_pred))"
   ]
  },
  {
   "cell_type": "code",
   "execution_count": 325,
   "id": "b8aa0423-058e-4b5b-8f6f-d78868618425",
   "metadata": {},
   "outputs": [
    {
     "data": {
      "text/plain": [
       "<AxesSubplot:>"
      ]
     },
     "execution_count": 325,
     "metadata": {},
     "output_type": "execute_result"
    },
    {
     "data": {
      "image/png": "[encoded data removed]",
      "text/plain": [
       "<Figure size 432x288 with 2 Axes>"
      ]
     },
     "metadata": {
      "needs_background": "light"
     },
     "output_type": "display_data"
    }
   ],
   "source": [
    "# Making the Confusion Matrix\n",
    "from sklearn.metrics import confusion_matrix, classification_report\n",
    "cm = confusion_matrix(Y_test, Y_pred)\n",
    "sns.heatmap(cm, annot=True,fmt='d')"
   ]
  },
  {
   "cell_type": "code",
   "execution_count": 326,
   "id": "3d3bbf3c-a53e-463f-8da3-37cb66476472",
   "metadata": {},
   "outputs": [
    {
     "name": "stdout",
     "output_type": "stream",
     "text": [
      "              precision    recall  f1-score   support\n",
      "\n",
      "           0       0.89      0.95      0.92      2276\n",
      "           1       0.51      0.32      0.39       398\n",
      "\n",
      "    accuracy                           0.85      2674\n",
      "   macro avg       0.70      0.63      0.65      2674\n",
      "weighted avg       0.83      0.85      0.84      2674\n",
      "\n"
     ]
    }
   ],
   "source": [
    "from sklearn.naive_bayes import GaussianNB\n",
    "\n",
    "classifier = GaussianNB()\n",
    "classifier.fit(X_train, Y_train)\n",
    "# Predicting result\n",
    "Y_pred = classifier.predict(X_test)\n",
    "print(classification_report(Y_test, Y_pred))"
   ]
  },
  {
   "cell_type": "markdown",
   "id": "ca0851b5-6d10-4af5-8fb9-312b3814fb5b",
   "metadata": {},
   "source": [
    "### Random Forest"
   ]
  },
  {
   "cell_type": "code",
   "execution_count": 327,
   "id": "2f001e7f-e7e2-4e02-851c-e42596570b19",
   "metadata": {},
   "outputs": [
    {
     "name": "stdout",
     "output_type": "stream",
     "text": [
      "              precision    recall  f1-score   support\n",
      "\n",
      "           0       0.85      1.00      0.92      2276\n",
      "           1       0.00      0.00      0.00       398\n",
      "\n",
      "    accuracy                           0.85      2674\n",
      "   macro avg       0.43      0.50      0.46      2674\n",
      "weighted avg       0.72      0.85      0.78      2674\n",
      "\n"
     ]
    },
    {
     "name": "stderr",
     "output_type": "stream",
     "text": [
      "/jupyter/.home/.local/lib/python3.8/site-packages/sklearn/metrics/_classification.py:1334: UndefinedMetricWarning: Precision and F-score are ill-defined and being set to 0.0 in labels with no predicted samples. Use `zero_division` parameter to control this behavior.\n",
      "  _warn_prf(average, modifier, msg_start, len(result))\n",
      "/jupyter/.home/.local/lib/python3.8/site-packages/sklearn/metrics/_classification.py:1334: UndefinedMetricWarning: Precision and F-score are ill-defined and being set to 0.0 in labels with no predicted samples. Use `zero_division` parameter to control this behavior.\n",
      "  _warn_prf(average, modifier, msg_start, len(result))\n",
      "/jupyter/.home/.local/lib/python3.8/site-packages/sklearn/metrics/_classification.py:1334: UndefinedMetricWarning: Precision and F-score are ill-defined and being set to 0.0 in labels with no predicted samples. Use `zero_division` parameter to control this behavior.\n",
      "  _warn_prf(average, modifier, msg_start, len(result))\n"
     ]
    }
   ],
   "source": [
    "from sklearn.ensemble import RandomForestClassifier\n",
    "\n",
    "classifier = RandomForestClassifier(max_depth=2, random_state=0)\n",
    "\n",
    "classifier.fit(X_train, Y_train)\n",
    "# Predicting result\n",
    "Y_pred = classifier.predict(X_test)\n",
    "print(classification_report(Y_test, Y_pred))"
   ]
  },
  {
   "cell_type": "markdown",
   "id": "70b81f57-9944-40ba-83ce-24d33ff3d6c1",
   "metadata": {},
   "source": [
    "### SVM"
   ]
  },
  {
   "cell_type": "code",
   "execution_count": 108,
   "id": "174198e8-6136-4bd1-862a-da74d411171e",
   "metadata": {},
   "outputs": [
    {
     "name": "stdout",
     "output_type": "stream",
     "text": [
      "              precision    recall  f1-score   support\n",
      "\n",
      "           0       0.88      0.99      0.93      2276\n",
      "           1       0.78      0.25      0.38       398\n",
      "\n",
      "    accuracy                           0.88      2674\n",
      "   macro avg       0.83      0.62      0.66      2674\n",
      "weighted avg       0.87      0.88      0.85      2674\n",
      "\n"
     ]
    }
   ],
   "source": [
    "from sklearn.svm import SVC\n",
    "classifier = SVC(kernel = 'rbf',random_state = 0)\n",
    "classifier.fit(X_train, Y_train)\n",
    "# Predicting result\n",
    "Y_pred = classifier.predict(X_test)\n",
    "print(classification_report(Y_test, Y_pred))"
   ]
  },
  {
   "cell_type": "markdown",
   "id": "74482a8c-6c8f-4334-be87-a40121cc68b1",
   "metadata": {},
   "source": [
    "conclusion: since the data is lack of balance, the model is not reliable"
   ]
  },
  {
   "cell_type": "markdown",
   "id": "5cab499f-f6e0-4573-942a-9032881cc666",
   "metadata": {},
   "source": [
    "## With Balancing"
   ]
  },
  {
   "cell_type": "markdown",
   "id": "5acab11a-db59-46cb-ac35-27e4822becd7",
   "metadata": {},
   "source": [
    "#### 1. Oversample the smallest class"
   ]
  },
  {
   "cell_type": "code",
   "execution_count": 329,
   "id": "dccc2063-2b8d-4791-b469-2fbb821258de",
   "metadata": {},
   "outputs": [
    {
     "name": "stdout",
     "output_type": "stream",
     "text": [
      "Training target statistics: Counter({0: 5308, 1: 5308})\n",
      "Testing target statistics: Counter({1: 2276, 0: 2276})\n"
     ]
    }
   ],
   "source": [
    "from imblearn.over_sampling import RandomOverSampler\n",
    "over_sampler = RandomOverSampler(random_state=42)\n",
    "X_train_balanced, Y_train_balanced = over_sampler.fit_resample(X_train, Y_train)\n",
    "X_test_balanced, Y_test_balanced = over_sampler.fit_resample(X_test, Y_test)\n",
    "print(f\"Training target statistics: {Counter(Y_train_balanced)}\")\n",
    "print(f\"Testing target statistics: {Counter(Y_test_balanced)}\")"
   ]
  },
  {
   "cell_type": "markdown",
   "id": "e88cd6dd-3d38-4180-ad2e-b1ba19e7573d",
   "metadata": {},
   "source": [
    "#### Applying Logistic Regression"
   ]
  },
  {
   "cell_type": "code",
   "execution_count": 330,
   "id": "e0dfa3da-06d9-41c5-9cf6-bbe67201b283",
   "metadata": {},
   "outputs": [
    {
     "name": "stdout",
     "output_type": "stream",
     "text": [
      "              precision    recall  f1-score   support\n",
      "\n",
      "           0       0.81      0.74      0.78      2276\n",
      "           1       0.76      0.83      0.80      2276\n",
      "\n",
      "    accuracy                           0.79      4552\n",
      "   macro avg       0.79      0.79      0.79      4552\n",
      "weighted avg       0.79      0.79      0.79      4552\n",
      "\n"
     ]
    }
   ],
   "source": [
    "# Fitting Logistic Regression to the training set\n",
    "from sklearn.linear_model import LogisticRegression\n",
    "classifier = LogisticRegression(random_state = 0, max_iter=1000)\n",
    "classifier.fit(X_train_balanced, Y_train_balanced)\n",
    "\n",
    "# Predicting result on test set\n",
    "Y_pred = classifier.predict(X_test_balanced)\n",
    "\n",
    "# Report on prediction\n",
    "from sklearn.metrics import classification_report\n",
    "print(classification_report(Y_test_balanced, Y_pred))"
   ]
  },
  {
   "cell_type": "code",
   "execution_count": 331,
   "id": "ac83545b-bffc-43c2-bfe2-e517fb60ae92",
   "metadata": {},
   "outputs": [
    {
     "data": {
      "text/plain": [
       "<AxesSubplot:>"
      ]
     },
     "execution_count": 331,
     "metadata": {},
     "output_type": "execute_result"
    },
    {
     "data": {
      "image/png": "[encoded data removed]",
      "text/plain": [
       "<Figure size 432x288 with 2 Axes>"
      ]
     },
     "metadata": {
      "needs_background": "light"
     },
     "output_type": "display_data"
    }
   ],
   "source": [
    "# Making the Confusion Matrix\n",
    "from sklearn.metrics import confusion_matrix, classification_report\n",
    "cm = confusion_matrix(Y_test_balanced, Y_pred)\n",
    "sns.heatmap(cm, annot=True,fmt='d')"
   ]
  },
  {
   "cell_type": "markdown",
   "id": "0a5ed6d0-0540-492e-9ff0-f9ba853ff2d4",
   "metadata": {},
   "source": [
    "#### Applying RandomForest"
   ]
  },
  {
   "cell_type": "code",
   "execution_count": 347,
   "id": "c3a3c31f-427d-4996-8a01-2caafec44f0d",
   "metadata": {},
   "outputs": [
    {
     "name": "stdout",
     "output_type": "stream",
     "text": [
      "              precision    recall  f1-score   support\n",
      "\n",
      "           0       0.87      0.70      0.77      2276\n",
      "           1       0.75      0.89      0.81      2276\n",
      "\n",
      "    accuracy                           0.80      4552\n",
      "   macro avg       0.81      0.80      0.79      4552\n",
      "weighted avg       0.81      0.80      0.79      4552\n",
      "\n"
     ]
    }
   ],
   "source": [
    "from sklearn.ensemble import RandomForestClassifier\n",
    "\n",
    "classifier = RandomForestClassifier(max_depth=3, random_state=0)\n",
    "\n",
    "classifier.fit(X_train_balanced, Y_train_balanced)\n",
    "# Predicting result\n",
    "Y_pred = classifier.predict(X_test_balanced)\n",
    "print(classification_report(Y_test_balanced, Y_pred))"
   ]
  },
  {
   "cell_type": "code",
   "execution_count": 333,
   "id": "badeee42-46ce-4583-a6ec-51709444ba6f",
   "metadata": {},
   "outputs": [
    {
     "data": {
      "text/plain": [
       "<AxesSubplot:>"
      ]
     },
     "execution_count": 333,
     "metadata": {},
     "output_type": "execute_result"
    },
    {
     "data": {
      "image/png": "[encoded data removed]",
      "text/plain": [
       "<Figure size 432x288 with 2 Axes>"
      ]
     },
     "metadata": {
      "needs_background": "light"
     },
     "output_type": "display_data"
    }
   ],
   "source": [
    "cm = confusion_matrix(Y_test_balanced, Y_pred)\n",
    "sns.heatmap(cm, annot=True,fmt='d')"
   ]
  },
  {
   "cell_type": "markdown",
   "id": "331d73b8-2c6f-4b15-b323-9318ee761e68",
   "metadata": {
    "tags": []
   },
   "source": [
    "#### Applying SVM"
   ]
  },
  {
   "cell_type": "code",
   "execution_count": 335,
   "id": "3b82ed33-cdef-490c-97ea-eec874498170",
   "metadata": {},
   "outputs": [
    {
     "name": "stdout",
     "output_type": "stream",
     "text": [
      "              precision    recall  f1-score   support\n",
      "\n",
      "           0       0.82      0.74      0.78      2276\n",
      "           1       0.76      0.84      0.80      2276\n",
      "\n",
      "    accuracy                           0.79      4552\n",
      "   macro avg       0.79      0.79      0.79      4552\n",
      "weighted avg       0.79      0.79      0.79      4552\n",
      "\n"
     ]
    }
   ],
   "source": [
    "from sklearn.svm import SVC\n",
    "classifier = SVC(kernel = 'rbf',random_state = 0)\n",
    "classifier.fit(X_train_balanced, Y_train_balanced)\n",
    "# Predicting result\n",
    "Y_pred = classifier.predict(X_test_balanced)\n",
    "print(classification_report(Y_test_balanced, Y_pred))"
   ]
  },
  {
   "cell_type": "code",
   "execution_count": 336,
   "id": "6c513b27-3a5b-4954-b69c-03313b0ad5c9",
   "metadata": {},
   "outputs": [
    {
     "data": {
      "image/png": "[encoded data removed]",
      "text/plain": [
       "<Figure size 432x288 with 2 Axes>"
      ]
     },
     "metadata": {
      "needs_background": "light"
     },
     "output_type": "display_data"
    }
   ],
   "source": [
    "cm = confusion_matrix(Y_test_balanced, Y_pred)\n",
    "ax = sns.heatmap(cm, annot=True,fmt='d')\n",
    "#ax.figure.savefig('graph/SVM_confusion.png')"
   ]
  },
  {
   "cell_type": "markdown",
   "id": "764562ab-a910-4774-adbe-9febe836d02b",
   "metadata": {},
   "source": [
    "#### Applying Naive Bayes"
   ]
  },
  {
   "cell_type": "code",
   "execution_count": 337,
   "id": "9a8775ba-aa87-4a82-a703-9080b3f82905",
   "metadata": {},
   "outputs": [
    {
     "name": "stdout",
     "output_type": "stream",
     "text": [
      "              precision    recall  f1-score   support\n",
      "\n",
      "           0       0.58      0.94      0.72      2276\n",
      "           1       0.85      0.32      0.47      2276\n",
      "\n",
      "    accuracy                           0.63      4552\n",
      "   macro avg       0.72      0.63      0.59      4552\n",
      "weighted avg       0.72      0.63      0.59      4552\n",
      "\n"
     ]
    }
   ],
   "source": [
    "from sklearn.naive_bayes import GaussianNB\n",
    "\n",
    "classifier = GaussianNB()\n",
    "classifier.fit(X_train_balanced, Y_train_balanced)\n",
    "# Predicting result\n",
    "Y_pred = classifier.predict(X_test_balanced)\n",
    "print(classification_report(Y_test_balanced, Y_pred))"
   ]
  },
  {
   "cell_type": "code",
   "execution_count": 338,
   "id": "32f52a2e-30e1-4a01-aac0-e951f8d33781",
   "metadata": {},
   "outputs": [
    {
     "data": {
      "image/png": "[encoded data removed]",
      "text/plain": [
       "<Figure size 432x288 with 2 Axes>"
      ]
     },
     "metadata": {
      "needs_background": "light"
     },
     "output_type": "display_data"
    }
   ],
   "source": [
    "cm = confusion_matrix(Y_test_balanced, Y_pred)\n",
    "ax = sns.heatmap(cm, annot=True,fmt='d')\n",
    "#ax.figure.savefig('graph/NB_confusion.png')"
   ]
  },
  {
   "cell_type": "markdown",
   "id": "78e56fc9-311b-4d17-a420-9e0b74b47fb7",
   "metadata": {},
   "source": [
    "#### 2. Undersample the larger class"
   ]
  },
  {
   "cell_type": "code",
   "execution_count": 339,
   "id": "f9cc0b29-b549-4f3b-ad00-1463ed10c58c",
   "metadata": {},
   "outputs": [
    {
     "name": "stdout",
     "output_type": "stream",
     "text": [
      "Training target statistics: Counter({0: 930, 1: 930})\n",
      "Testing target statistics: Counter({0: 398, 1: 398})\n"
     ]
    }
   ],
   "source": [
    "from imblearn.under_sampling import RandomUnderSampler\n",
    "under_sampler = RandomUnderSampler(random_state=42)\n",
    "X2_train_balanced, Y2_train_balanced = under_sampler.fit_resample(X_train, Y_train)\n",
    "X2_test_balanced, Y2_test_balanced = under_sampler.fit_resample(X_test, Y_test)\n",
    "\n",
    "print(f\"Training target statistics: {Counter(Y2_train_balanced)}\")\n",
    "print(f\"Testing target statistics: {Counter(Y2_test_balanced)}\")"
   ]
  },
  {
   "cell_type": "markdown",
   "id": "25231145-b54e-44ea-b0a1-a7feade72007",
   "metadata": {},
   "source": [
    "Logistic"
   ]
  },
  {
   "cell_type": "code",
   "execution_count": 340,
   "id": "a30405ce-126d-4b5c-afce-d4d90cd2132d",
   "metadata": {},
   "outputs": [
    {
     "name": "stdout",
     "output_type": "stream",
     "text": [
      "              precision    recall  f1-score   support\n",
      "\n",
      "           0       0.78      0.74      0.76       398\n",
      "           1       0.76      0.79      0.77       398\n",
      "\n",
      "    accuracy                           0.77       796\n",
      "   macro avg       0.77      0.77      0.77       796\n",
      "weighted avg       0.77      0.77      0.77       796\n",
      "\n"
     ]
    }
   ],
   "source": [
    "# Fitting Logistic Regression to the training set\n",
    "from sklearn.linear_model import LogisticRegression\n",
    "classifier = LogisticRegression(random_state = 0, max_iter=1000)\n",
    "classifier.fit(X2_train_balanced, Y2_train_balanced)\n",
    "\n",
    "# Predicting result on test set\n",
    "Y_pred = classifier.predict(X2_test_balanced)\n",
    "\n",
    "# Report on prediction\n",
    "from sklearn.metrics import classification_report\n",
    "print(classification_report(Y2_test_balanced, Y_pred))"
   ]
  },
  {
   "cell_type": "markdown",
   "id": "d29a918a-ccf6-4cc7-ba51-8a6a5df821e5",
   "metadata": {},
   "source": [
    "tree"
   ]
  },
  {
   "cell_type": "code",
   "execution_count": 341,
   "id": "663b1ea6-8ae5-45c1-b424-f330d90122af",
   "metadata": {},
   "outputs": [
    {
     "name": "stdout",
     "output_type": "stream",
     "text": [
      "              precision    recall  f1-score   support\n",
      "\n",
      "           0       0.77      0.75      0.76       398\n",
      "           1       0.76      0.78      0.77       398\n",
      "\n",
      "    accuracy                           0.76       796\n",
      "   macro avg       0.76      0.76      0.76       796\n",
      "weighted avg       0.76      0.76      0.76       796\n",
      "\n"
     ]
    }
   ],
   "source": [
    "classifier = tree.DecisionTreeClassifier()\n",
    "classifier.fit(X2_train_balanced, Y2_train_balanced)\n",
    "# Predicting result\n",
    "Y_pred = classifier.predict(X2_test_balanced)\n",
    "print(classification_report(Y2_test_balanced, Y_pred))"
   ]
  },
  {
   "cell_type": "markdown",
   "id": "f03824c4-6518-4752-9316-1caa76305a29",
   "metadata": {},
   "source": [
    "NB"
   ]
  },
  {
   "cell_type": "code",
   "execution_count": 342,
   "id": "83acd2ac-1f70-4515-8e4c-2934e225f513",
   "metadata": {},
   "outputs": [
    {
     "name": "stdout",
     "output_type": "stream",
     "text": [
      "              precision    recall  f1-score   support\n",
      "\n",
      "           0       0.58      0.93      0.71       398\n",
      "           1       0.82      0.32      0.46       398\n",
      "\n",
      "    accuracy                           0.63       796\n",
      "   macro avg       0.70      0.63      0.59       796\n",
      "weighted avg       0.70      0.63      0.59       796\n",
      "\n"
     ]
    }
   ],
   "source": [
    "classifier = GaussianNB()\n",
    "classifier.fit(X2_train_balanced, Y2_train_balanced)\n",
    "# Predicting result\n",
    "Y_pred = classifier.predict(X2_test_balanced)\n",
    "print(classification_report(Y2_test_balanced, Y_pred))"
   ]
  },
  {
   "cell_type": "markdown",
   "id": "5a0c80e6-e7c3-4da4-a100-73d45b69e473",
   "metadata": {},
   "source": [
    "RF"
   ]
  },
  {
   "cell_type": "code",
   "execution_count": 343,
   "id": "52dc378c-9b68-45dd-ba12-a86e39fab452",
   "metadata": {},
   "outputs": [
    {
     "name": "stdout",
     "output_type": "stream",
     "text": [
      "              precision    recall  f1-score   support\n",
      "\n",
      "           0       0.86      0.67      0.75       398\n",
      "           1       0.73      0.89      0.80       398\n",
      "\n",
      "    accuracy                           0.78       796\n",
      "   macro avg       0.79      0.78      0.77       796\n",
      "weighted avg       0.79      0.78      0.77       796\n",
      "\n"
     ]
    }
   ],
   "source": [
    "classifier = RandomForestClassifier(max_depth=3, random_state=0)\n",
    "\n",
    "classifier.fit(X2_train_balanced, Y2_train_balanced)\n",
    "# Predicting result\n",
    "Y_pred = classifier.predict(X2_test_balanced)\n",
    "print(classification_report(Y2_test_balanced, Y_pred))"
   ]
  },
  {
   "cell_type": "markdown",
   "id": "69645fb0-d27f-4118-a18c-ba15e7358fcb",
   "metadata": {},
   "source": [
    "SVM"
   ]
  },
  {
   "cell_type": "code",
   "execution_count": 344,
   "id": "e575ae67-0949-444a-91d4-97ceb25f029e",
   "metadata": {},
   "outputs": [
    {
     "name": "stdout",
     "output_type": "stream",
     "text": [
      "              precision    recall  f1-score   support\n",
      "\n",
      "           0       0.83      0.65      0.73       398\n",
      "           1       0.71      0.87      0.78       398\n",
      "\n",
      "    accuracy                           0.76       796\n",
      "   macro avg       0.77      0.76      0.75       796\n",
      "weighted avg       0.77      0.76      0.75       796\n",
      "\n"
     ]
    }
   ],
   "source": [
    "from sklearn.svm import SVC\n",
    "classifier = SVC(kernel = 'rbf',random_state = 0)\n",
    "classifier.fit(X2_train_balanced, Y2_train_balanced)\n",
    "# Predicting result\n",
    "Y_pred = classifier.predict(X2_test_balanced)\n",
    "print(classification_report(Y2_test_balanced, Y_pred))"
   ]
  },
  {
   "cell_type": "code",
   "execution_count": null,
   "id": "82f8a579-1131-42e7-8636-b5e5154be1bf",
   "metadata": {},
   "outputs": [],
   "source": []
  }
 ],
 "metadata": {
  "kernelspec": {
   "display_name": "Python 3",
   "language": "python",
   "name": "python3"
  },
  "language_info": {
   "codemirror_mode": {
    "name": "ipython",
    "version": 3
   },
   "file_extension": ".py",
   "mimetype": "text/x-python",
   "name": "python",
   "nbconvert_exporter": "python",
   "pygments_lexer": "ipython3",
   "version": "3.8.8"
  }
 },
 "nbformat": 4,
 "nbformat_minor": 5
}
