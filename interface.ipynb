{
 "cells": [
  {
   "cell_type": "code",
   "execution_count": 6,
   "id": "67ac11bf-61cf-4fc2-93fb-3f35e5fab006",
   "metadata": {},
   "outputs": [
    {
     "name": "stdout",
     "output_type": "stream",
     "text": [
      "Requirement already satisfied: pip in d:\\tools\\anaconda3\\lib\\site-packages (22.2.2)\n",
      "Note: you may need to restart the kernel to use updated packages.\n"
     ]
    }
   ],
   "source": [
    "pip install --upgrade pip"
   ]
  },
  {
   "cell_type": "code",
   "execution_count": 7,
   "id": "524f8bfe-27ee-4ac2-8776-ddca74cadff9",
   "metadata": {
    "tags": []
   },
   "outputs": [
    {
     "name": "stdout",
     "output_type": "stream",
     "text": [
      "Requirement already satisfied: gradio in d:\\tools\\anaconda3\\lib\\site-packages (3.3.1)\n",
      "Requirement already satisfied: fastapi in d:\\tools\\anaconda3\\lib\\site-packages (from gradio) (0.85.0)\n",
      "Requirement already satisfied: aiohttp in d:\\tools\\anaconda3\\lib\\site-packages (from gradio) (3.8.1)\n",
      "Requirement already satisfied: markdown-it-py[linkify,plugins] in d:\\tools\\anaconda3\\lib\\site-packages (from gradio) (2.1.0)\n",
      "Requirement already satisfied: websockets in d:\\tools\\anaconda3\\lib\\site-packages (from gradio) (10.3)\n",
      "Requirement already satisfied: requests in d:\\tools\\anaconda3\\lib\\site-packages (from gradio) (2.25.1)\n",
      "Requirement already satisfied: fsspec in d:\\tools\\anaconda3\\lib\\site-packages (from gradio) (0.9.0)\n",
      "Requirement already satisfied: pillow in d:\\tools\\anaconda3\\lib\\site-packages (from gradio) (8.2.0)\n",
      "Requirement already satisfied: jinja2 in d:\\tools\\anaconda3\\lib\\site-packages (from gradio) (2.11.3)\n",
      "Requirement already satisfied: uvicorn in d:\\tools\\anaconda3\\lib\\site-packages (from gradio) (0.18.3)\n",
      "Requirement already satisfied: python-multipart in d:\\tools\\anaconda3\\lib\\site-packages (from gradio) (0.0.5)\n",
      "Requirement already satisfied: orjson in d:\\tools\\anaconda3\\lib\\site-packages (from gradio) (3.8.0)\n",
      "Requirement already satisfied: pyyaml in d:\\tools\\anaconda3\\lib\\site-packages (from gradio) (5.4.1)\n",
      "Requirement already satisfied: h11<0.13,>=0.11 in d:\\tools\\anaconda3\\lib\\site-packages (from gradio) (0.12.0)\n",
      "Requirement already satisfied: httpx in d:\\tools\\anaconda3\\lib\\site-packages (from gradio) (0.23.0)\n",
      "Requirement already satisfied: paramiko in d:\\tools\\anaconda3\\lib\\site-packages (from gradio) (2.7.2)\n",
      "Requirement already satisfied: analytics-python in d:\\tools\\anaconda3\\lib\\site-packages (from gradio) (1.4.0)\n",
      "Requirement already satisfied: pydub in d:\\tools\\anaconda3\\lib\\site-packages (from gradio) (0.25.1)\n",
      "Requirement already satisfied: numpy in d:\\tools\\anaconda3\\lib\\site-packages (from gradio) (1.20.1)\n",
      "Requirement already satisfied: pycryptodome in d:\\tools\\anaconda3\\lib\\site-packages (from gradio) (3.15.0)\n",
      "Requirement already satisfied: ffmpy in d:\\tools\\anaconda3\\lib\\site-packages (from gradio) (0.3.0)\n",
      "Requirement already satisfied: pydantic in d:\\tools\\anaconda3\\lib\\site-packages (from gradio) (1.10.2)\n",
      "Requirement already satisfied: pandas in d:\\tools\\anaconda3\\lib\\site-packages (from gradio) (1.2.4)\n",
      "Requirement already satisfied: matplotlib in d:\\tools\\anaconda3\\lib\\site-packages (from gradio) (3.3.4)\n",
      "Requirement already satisfied: yarl<2.0,>=1.0 in d:\\tools\\anaconda3\\lib\\site-packages (from aiohttp->gradio) (1.8.1)\n",
      "Requirement already satisfied: charset-normalizer<3.0,>=2.0 in d:\\tools\\anaconda3\\lib\\site-packages (from aiohttp->gradio) (2.1.1)\n",
      "Requirement already satisfied: aiosignal>=1.1.2 in d:\\tools\\anaconda3\\lib\\site-packages (from aiohttp->gradio) (1.2.0)\n",
      "Requirement already satisfied: async-timeout<5.0,>=4.0.0a3 in d:\\tools\\anaconda3\\lib\\site-packages (from aiohttp->gradio) (4.0.2)\n",
      "Requirement already satisfied: frozenlist>=1.1.1 in d:\\tools\\anaconda3\\lib\\site-packages (from aiohttp->gradio) (1.3.1)\n",
      "Requirement already satisfied: attrs>=17.3.0 in d:\\tools\\anaconda3\\lib\\site-packages (from aiohttp->gradio) (20.3.0)\n",
      "Requirement already satisfied: multidict<7.0,>=4.5 in d:\\tools\\anaconda3\\lib\\site-packages (from aiohttp->gradio) (6.0.2)\n",
      "Requirement already satisfied: backoff==1.10.0 in d:\\tools\\anaconda3\\lib\\site-packages (from analytics-python->gradio) (1.10.0)\n",
      "Requirement already satisfied: python-dateutil>2.1 in d:\\tools\\anaconda3\\lib\\site-packages (from analytics-python->gradio) (2.8.1)\n",
      "Requirement already satisfied: monotonic>=1.5 in d:\\tools\\anaconda3\\lib\\site-packages (from analytics-python->gradio) (1.6)\n",
      "Requirement already satisfied: six>=1.5 in d:\\tools\\anaconda3\\lib\\site-packages (from analytics-python->gradio) (1.15.0)\n",
      "Requirement already satisfied: idna<3,>=2.5 in d:\\tools\\anaconda3\\lib\\site-packages (from requests->gradio) (2.10)\n",
      "Requirement already satisfied: certifi>=2017.4.17 in d:\\tools\\anaconda3\\lib\\site-packages (from requests->gradio) (2020.12.5)\n",
      "Requirement already satisfied: urllib3<1.27,>=1.21.1 in d:\\tools\\anaconda3\\lib\\site-packages (from requests->gradio) (1.26.4)\n",
      "Requirement already satisfied: chardet<5,>=3.0.2 in d:\\tools\\anaconda3\\lib\\site-packages (from requests->gradio) (4.0.0)\n",
      "Requirement already satisfied: starlette==0.20.4 in d:\\tools\\anaconda3\\lib\\site-packages (from fastapi->gradio) (0.20.4)\n",
      "Requirement already satisfied: anyio<5,>=3.4.0 in d:\\tools\\anaconda3\\lib\\site-packages (from starlette==0.20.4->fastapi->gradio) (3.6.1)\n",
      "Requirement already satisfied: typing-extensions>=3.10.0 in d:\\tools\\anaconda3\\lib\\site-packages (from starlette==0.20.4->fastapi->gradio) (4.3.0)\n",
      "Requirement already satisfied: httpcore<0.16.0,>=0.15.0 in d:\\tools\\anaconda3\\lib\\site-packages (from httpx->gradio) (0.15.0)\n",
      "Requirement already satisfied: rfc3986[idna2008]<2,>=1.3 in d:\\tools\\anaconda3\\lib\\site-packages (from httpx->gradio) (1.5.0)\n",
      "Requirement already satisfied: sniffio in d:\\tools\\anaconda3\\lib\\site-packages (from httpx->gradio) (1.2.0)\n",
      "Requirement already satisfied: MarkupSafe>=0.23 in d:\\tools\\anaconda3\\lib\\site-packages (from jinja2->gradio) (1.1.1)\n",
      "Requirement already satisfied: mdurl~=0.1 in d:\\tools\\anaconda3\\lib\\site-packages (from markdown-it-py[linkify,plugins]->gradio) (0.1.2)\n",
      "Requirement already satisfied: linkify-it-py~=1.0 in d:\\tools\\anaconda3\\lib\\site-packages (from markdown-it-py[linkify,plugins]->gradio) (1.0.3)\n",
      "Requirement already satisfied: mdit-py-plugins in d:\\tools\\anaconda3\\lib\\site-packages (from markdown-it-py[linkify,plugins]->gradio) (0.3.0)\n",
      "Requirement already satisfied: cycler>=0.10 in d:\\tools\\anaconda3\\lib\\site-packages (from matplotlib->gradio) (0.10.0)\n",
      "Requirement already satisfied: kiwisolver>=1.0.1 in d:\\tools\\anaconda3\\lib\\site-packages (from matplotlib->gradio) (1.3.1)\n",
      "Requirement already satisfied: pyparsing!=2.0.4,!=2.1.2,!=2.1.6,>=2.0.3 in d:\\tools\\anaconda3\\lib\\site-packages (from matplotlib->gradio) (2.4.7)\n",
      "Requirement already satisfied: pytz>=2017.3 in d:\\tools\\anaconda3\\lib\\site-packages (from pandas->gradio) (2021.1)\n",
      "Requirement already satisfied: bcrypt>=3.1.3 in d:\\tools\\anaconda3\\lib\\site-packages (from paramiko->gradio) (3.2.0)\n",
      "Requirement already satisfied: cryptography>=2.5 in d:\\tools\\anaconda3\\lib\\site-packages (from paramiko->gradio) (3.4.7)\n",
      "Requirement already satisfied: pynacl>=1.0.1 in d:\\tools\\anaconda3\\lib\\site-packages (from paramiko->gradio) (1.4.0)\n",
      "Requirement already satisfied: click>=7.0 in d:\\tools\\anaconda3\\lib\\site-packages (from uvicorn->gradio) (7.1.2)\n",
      "Requirement already satisfied: cffi>=1.1 in d:\\tools\\anaconda3\\lib\\site-packages (from bcrypt>=3.1.3->paramiko->gradio) (1.14.5)\n",
      "Requirement already satisfied: uc-micro-py in d:\\tools\\anaconda3\\lib\\site-packages (from linkify-it-py~=1.0->markdown-it-py[linkify,plugins]->gradio) (1.0.1)\n",
      "Requirement already satisfied: pycparser in d:\\tools\\anaconda3\\lib\\site-packages (from cffi>=1.1->bcrypt>=3.1.3->paramiko->gradio) (2.20)\n",
      "Note: you may need to restart the kernel to use updated packages.\n"
     ]
    }
   ],
   "source": [
    "pip install gradio"
   ]
  },
  {
   "cell_type": "code",
   "execution_count": 4,
   "id": "57a8ff52-b4cb-4112-8a25-06b773033346",
   "metadata": {},
   "outputs": [],
   "source": [
    "import pandas as pd\n",
    "import numpy as np\n",
    "import datetime\n",
    "import joblib\n",
    "import pickle\n",
    "import gradio as gr\n",
    "pd.set_option('display.max_columns', 300) # allow us read the full picture of dataframe\n",
    "pd.set_option('display.max_rows', 300) # allow us read the full picture of dataframe"
   ]
  },
  {
   "cell_type": "markdown",
   "id": "9dcd44bd",
   "metadata": {},
   "source": [
    "### 1. Prediction function\n",
    "The prediction function loaded a normalization scaler and a classifier that were saved from the last section. \n",
    "The parameters were inputted from the interface and transformed into a test array, and the classifier was applied to the test array and output a prediction."
   ]
  },
  {
   "cell_type": "code",
   "execution_count": 13,
   "id": "6c53fa5e-0aea-47c8-8fef-b2c51c4b9e12",
   "metadata": {
    "tags": []
   },
   "outputs": [],
   "source": [
    "# load the normalization scaler and the model\n",
    "classifier = joblib.load('X3_core_RF_classifier.pkl')\n",
    "scaler = joblib.load('scaler3.gz')\n",
    "\n",
    "def predict(decision, offer_num, eng_type, uob_alum, home_oversea, school, programme, multi_app, Institution_offer_num,\n",
    "            Decision_year, Decision_month, Decision_day,\n",
    "            Response_year, Response_month, Response_day\n",
    "            ):\n",
    "    \n",
    "    Response_since_Sep01 = datetime.date(Response_year, Response_month, Response_day).toordinal() - datetime.date(2020, 9, 1).toordinal()\n",
    "    Response_days = datetime.date(Decision_year, Decision_month, Decision_day).toordinal() - datetime.date(Response_year, Response_month, Response_day).toordinal()\n",
    "    \n",
    "    data = {'Decision_R': 1 if decision =='Reject' else 0, \n",
    "            'Response_since_Sep01': Response_since_Sep01, \n",
    "            'Decision_U': 1 if decision =='Unconditional Offer' else 0,\n",
    "            'Computer Science': 1 if school =='Computer Science' else 0, \n",
    "            'uob_alum': 1 if uob_alum == 'alumni' else 0, \n",
    "            'MSc Adv Eng Man (Constr Man)PT': 1 if programme =='MSc Adv Eng Man (Constr Man)PT' else 0, \n",
    "            'offer_num': offer_num, \n",
    "            'home_oversea': 0 if home_oversea == 'Home' else 1, \n",
    "            'eng_type':eng_type,  \n",
    "            'MSc Rail Sys Eng+Int w Pre FT': 1 if programme =='MSc Rail Sys Eng+Int w Pre FT' else 0,\n",
    "            'MSc Phys + Tech Nuc React FT': 1 if programme =='MSc Phys + Tech Nuc React FT' else 0,\n",
    "            'MSc Structural Engineering (FT)': 1 if programme =='MSc Structural Engineering (FT)' else 0,\n",
    "            'Civil Engineering': 1 if school =='Civil Engineering' else 0, \n",
    "            'MSc Adv Eng Man (Constr Man)FT': 1 if programme =='MSc Adv Eng Man (Constr Man)PT' else 0,\n",
    "            'Response days': Response_days,\n",
    "            'MSc Advanced Chemical Eng with Bioprocessing FT': 1 if programme =='MSc Adv Eng Man (Constr Man)PT' else 0,\n",
    "            'Mechanical Engineering': 1 if school =='Mechanical Engineering' else 0, \n",
    "            'Decision_C': 1 if decision =='Conditional Offer' else 0, \n",
    "            'multi_app': multi_app, \n",
    "            'Institution_offer_num': Institution_offer_num \n",
    "           }      \n",
    "    \n",
    "    X = pd.DataFrame(data, index=[0])\n",
    "    X = scaler.fit_transform(X) \n",
    "    \n",
    "    \n",
    "    Y_pred = classifier.predict(X)\n",
    "    if Y_pred == 0:\n",
    "        return 'The applicant may reject the offer'\n",
    "    else:\n",
    "        return 'The applicant may accept the offer'"
   ]
  },
  {
   "cell_type": "markdown",
   "id": "52e0f233",
   "metadata": {},
   "source": [
    "### 2. Test the model \n",
    "Test with the manual input value before wrap it into the interface"
   ]
  },
  {
   "cell_type": "code",
   "execution_count": 16,
   "id": "c79ad713-6696-41db-8199-fd423e14bf26",
   "metadata": {},
   "outputs": [
    {
     "data": {
      "text/plain": [
       "'The applicant may reject the offer'"
      ]
     },
     "execution_count": 16,
     "metadata": {},
     "output_type": "execute_result"
    }
   ],
   "source": [
    "predict('Unconditional Offer', 5, 1, 'alumni','Home','School_EPS College Hub','MSc Computer Science FT', 2,5,\n",
    "            2021,4,1,\n",
    "           2021,4,30,\n",
    ")"
   ]
  },
  {
   "cell_type": "markdown",
   "id": "83057401",
   "metadata": {},
   "source": [
    "### 3. Make the interface"
   ]
  },
  {
   "cell_type": "code",
   "execution_count": 17,
   "id": "3c2b4e09-1548-4246-be3f-061aa49a636b",
   "metadata": {},
   "outputs": [
    {
     "name": "stdout",
     "output_type": "stream",
     "text": [
      "Running on local URL:  http://127.0.0.1:7862\n",
      "Running on public URL: https://14038.gradio.app\n",
      "\n",
      "This share link expires in 72 hours. For free permanent hosting, check out Spaces: https://huggingface.co/spaces\n"
     ]
    },
    {
     "data": {
      "text/html": [
       "<div><iframe src=\"https://14038.gradio.app\" width=\"900\" height=\"500\" allow=\"autoplay; camera; microphone;\" frameborder=\"0\" allowfullscreen></iframe></div>"
      ],
      "text/plain": [
       "<IPython.core.display.HTML object>"
      ]
     },
     "metadata": {},
     "output_type": "display_data"
    },
    {
     "data": {
      "text/plain": [
       "(<gradio.routes.App at 0x2b43bac38b0>,\n",
       " 'http://127.0.0.1:7862/',\n",
       " 'https://14038.gradio.app')"
      ]
     },
     "execution_count": 17,
     "metadata": {},
     "output_type": "execute_result"
    }
   ],
   "source": [
    "demo = gr.Interface(\n",
    "    fn = predict,\n",
    "    inputs = [gr.Dropdown(label = 'Admission Decision', choices = ['Reject','Unconditional Offer','Conditional Offer']),\n",
    "              gr.Number(label = 'Number of Offer'), \n",
    "              gr.Dropdown(label = 'English Test type, 0 for none, 1 for IELTS, 2 for TOEFL, 3 for PTE', choices = [0,1,2,3]),\n",
    "              gr.Dropdown(label = 'UoB alumni or not', choices = ['alumni','not alumni']),\n",
    "              gr.Dropdown(label = 'Home or Oversea', choices = ['Home','Oversea']),\n",
    "              gr.Dropdown(label = 'School', choices = ['School_Business School' 'School_Chemical Engineering',\n",
    "                                                     'School_Civil Engineering', 'School_Computer Science',\n",
    "                                                     'School_EPS College Hub',\n",
    "                                                     'School_Elec Elec and System Eng;Elec Elec and Sys Engineering',\n",
    "                                                     'School_Mathematics', 'School_Mechanical Engineering',\n",
    "                                                     'School_Metallurgy and Materials', 'School_Physics and Astronomy',\n",
    "                                                     'School_School of Engineering;Elec Elec and Sys Engineering',\n",
    "                                                     'School_Wiley']),\n",
    "              gr.Dropdown(label = 'Programme', choices = ['MSc Computer Science FT', 'MSc Adv Eng Man (Constr Man)FT',\n",
    "                                                       'MSc Elec + Computer Eng FT', 'MSc Artific Int & Mach Lear FT',\n",
    "                                                       'MSc Human-Computer Interact FT', 'MSc Data Science FT',\n",
    "                                                       'MSc Material Sci + Engineer FT', 'MSc Adv Eng Man (Projec Man)FT',\n",
    "                                                       'MSc Structural Engineering (FT)', 'MSc Electric Power Systems FT',\n",
    "                                                       'MSc Rail Sys Eng+Int w Pre FT', 'MSc Adv Eng Man (Generalist)FT',\n",
    "                                                       'MSc Communications Engineer FT', 'MSc Advanced Mech Eng FT',\n",
    "                                                       'MSc Phys + Tech Nuc React FT', 'MSc Civil Engineering PT Dubai',\n",
    "                                                       'MSc Civil Engineering FT', 'MSc Advanced Chemical Eng FT',\n",
    "                                                       'MSc Cyber Security FT', 'MSc Advanced Computer Sc FT',\n",
    "                                                       'MSc Global Energy Technologies and Systems FT',\n",
    "                                                       'MEng Comp Sci Sof En FT (Dub)', 'BSc Computer Sci FT (Dubai)',\n",
    "                                                       'MSc Applied Mathematics FT', 'MSc MORSE FT', 'MSc Robotics FT',\n",
    "                                                       'MSc Art Int + Comp Sc PT (Dub)', 'MSc Nuclear Decom Waste Man FT',\n",
    "                                                       'PGCert Des Lear Env DL PT', 'BIA Engin Phys Sci 4Yr (Dubai)',\n",
    "                                                       'BSc Art Intel and Comp Sci FT Dubai',\n",
    "                                                       'MSc Adv Eng Man (Operat Man)FT',\n",
    "                                                       'MSc Advanced Chemical Engineering with Energy FT',\n",
    "                                                       'MSc Art Int + Comp Sc FT (Dub)',\n",
    "                                                       'BIA Engineering Physical Sciences 43m Jan Dubai',\n",
    "                                                       'MSc Geotechnical Eng FT', 'MSc Civ Eng and Management FT',\n",
    "                                                       'MSc Computer Science PT (Dub)', 'MSc Geotechnical Eng + Mgt FT',\n",
    "                                                       'MSc Industrial Project Man. PT Blended Learning',\n",
    "                                                       'MSc Advanced Chemical Eng with Bioprocessing FT',\n",
    "                                                       'MSc Food Safety; Hyg + Man FT', 'MSc Financial Engineering FT',\n",
    "                                                       'MSc Formulation Engineering FT', 'MSc Elec Pow Syst w Adv Res FT',\n",
    "                                                       'MSc Computer Science FT(Dubai)', 'MSc Road Mgt + Eng FT',\n",
    "                                                       'MSc Fue Cel + Hyd Tec Blend FT', 'MSc Adv Chem Eng w Form FT',\n",
    "                                                       'PGDip Adv Chem Eng with Healthcare Technology FT',\n",
    "                                                       'BEng Mechanical Eng FT (Dubai)', 'MSc Rail Sys Eng + Int PT DA',\n",
    "                                                       'MSc Civ Eng and Management PT', 'MSc Healthcare Technology FT',\n",
    "                                                       'MSc Structural Engineering PT', 'MSc Rail Safe + Control Sys FT',\n",
    "                                                       'MSc Rail Saf+Con Sys (Flex) DL', 'MSc Rail System Engin Integ DL',\n",
    "                                                       'MSc Adv Eng Man (System Man)FT',\n",
    "                                                       'MSc Civil Engineering Dubai (January) PT',\n",
    "                                                       'MSc Advanced Mech Eng PT', 'MSc Civil Engineering PT',\n",
    "                                                       'MSc Mathematical Finance FT', 'MSc Rail Sys Eng Inte DL Fixed',\n",
    "                                                       'MSc Rail Systems Engin Int FT', 'MSc Civil Engineering FT Dubai',\n",
    "                                                       'PGDip Art In + Com Sc FT (Dub)', 'PGDip Computer Scien FT(Dubai)',\n",
    "                                                       'MSc Civil Engineering Part Time Fixed Duration',\n",
    "                                                       'MSc Advanced Chemical Eng PT', 'MSc Adv Eng Man (Projec Man)PT',\n",
    "                                                       'MSc Road Mgt + Eng PT', 'PGDip Rail Safe + Cont Sys FT',\n",
    "                                                       'MSc Rail Saf+Con Sys DL Fixed', 'MSc Geotechnical Eng PT',\n",
    "                                                       'MSc Adv Eng Man (Constr Man)PT', 'MSc Food Safety, Hyg + Man PT',\n",
    "                                                       'MSc Phys + Tech Nuc React PT', 'PGCert Rail Sa+Co Sy (Flex) DL',\n",
    "                                                       'MSc Advanced Chemical Engineering with Form PT',\n",
    "                                                       'MSc Adv Eng Man (Generalist)PT', 'MSc Fue Cel + Hyd Tec Blend PT',\n",
    "                                                       'MSc Adv Chem Eng with Healthcare Technology FT',\n",
    "                                                       'MSc Rail Safe+Cont Sy w Pre FT', 'PGCert Rail Syst Eng Integ DL',\n",
    "                                                       'PGCert Rail Systems Eng Int FT', 'MSc Civil Enginee FT Jan Dubai',\n",
    "                                                       'MSc Adv Eng Man (Operat Man)PT', 'PGDip Civ Eng & Management FT',\n",
    "                                                       'PGDip Road Mgt + Eng FT',\n",
    "                                                       'MSc Geotechnical Engineering (PT; Fixed Duration)',\n",
    "                                                       'PG MC Fuel Cell + Hyd Tech MC', 'MSc Communications Engineer PT',\n",
    "                                                       'MSc Nuclear Decom Waste Man PT', 'PGDip Healthcare Technology FT',\n",
    "                                                       'MSc Electric Power Systems PT', 'PGDip Rail Systems Eng Int FT',\n",
    "                                                       'MSc Elec + Computer Eng PT', 'PGDip Civil Eng  FT (Dubai)',\n",
    "                                                       'PGDip Art In + Com Sc PT (Dub)', 'PGDip Advanced Chemical Eng FT']),\n",
    "              gr.Number(label = 'Multiple application number'),               \n",
    "              gr.Number(label = 'Institution offer number'), \n",
    "              gr.Dropdown(label = 'Decision year', choices = [2020, 2021]),\n",
    "              gr.Dropdown(label = 'Decision month', choices = list(range(1,13))),\n",
    "              gr.Dropdown(label = 'Decision day', choices = list(range(1,32))),           \n",
    "              gr.Dropdown(label = 'Response year', choices = [2020, 2021]),\n",
    "              gr.Dropdown(label = 'Response month', choices = list(range(1,13))),\n",
    "              gr.Dropdown(label = 'Response day', choices = list(range(1,32))) \n",
    "             ],           \n",
    "    outputs = [\"text\"]\n",
    ")\n",
    "demo.launch(share=True)"
   ]
  },
  {
   "cell_type": "code",
   "execution_count": null,
   "id": "77831459-21ef-4eaf-9ae3-588148dcc1cb",
   "metadata": {},
   "outputs": [],
   "source": []
  }
 ],
 "metadata": {
  "kernelspec": {
   "display_name": "Python 3",
   "language": "python",
   "name": "python3"
  },
  "language_info": {
   "codemirror_mode": {
    "name": "ipython",
    "version": 3
   },
   "file_extension": ".py",
   "mimetype": "text/x-python",
   "name": "python",
   "nbconvert_exporter": "python",
   "pygments_lexer": "ipython3",
   "version": "3.8.8"
  }
 },
 "nbformat": 4,
 "nbformat_minor": 5
}
